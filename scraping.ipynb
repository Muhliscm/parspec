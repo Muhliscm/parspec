{
 "cells": [
  {
   "cell_type": "code",
   "execution_count": 7,
   "metadata": {},
   "outputs": [],
   "source": [
    "import pandas as pd"
   ]
  },
  {
   "cell_type": "code",
   "execution_count": 2,
   "metadata": {},
   "outputs": [],
   "source": [
    "import aiohttp\n",
    "import asyncio\n",
    "import pandas as pd\n",
    "\n",
    "async def fetch(session, url):\n",
    "    try:\n",
    "        async with session.get(url) as response:\n",
    "            content_type = response.headers.get('Content-Type', '')\n",
    "            content = await response.read()  # Read content asynchronously\n",
    "            return url, content_type, content\n",
    "    except Exception as e:\n",
    "        print(f'Error fetching {url}: {e}')\n",
    "        return url, None, None\n",
    "\n",
    "async def scrape_urls(df, url_column):\n",
    "    urls = df[url_column].tolist()\n",
    "    async with aiohttp.ClientSession() as session:\n",
    "        tasks = [fetch(session, url) for url in urls]\n",
    "        results = await asyncio.gather(*tasks)\n",
    "\n",
    "        # Prepare results to merge with the DataFrame\n",
    "        results_list = []\n",
    "        for url, content_type, content in results:\n",
    "            if content_type:\n",
    "                result_dict = {\n",
    "                    'URL': url,\n",
    "                    'Content-Type': content_type,\n",
    "                    'Content': content\n",
    "                }\n",
    "                if 'application/pdf' in content_type:\n",
    "                    filename = url.split(\"/\")[-1].split(\"?\")[0]\n",
    "                    with open(filename, 'wb') as f:\n",
    "                        f.write(content)\n",
    "                elif 'text/html' in content_type:\n",
    "                    html_content = content.decode('utf-8')\n",
    "                    result_dict['HTML Content'] = html_content\n",
    "                results_list.append(result_dict)\n",
    "            else:\n",
    "                results_list.append({\n",
    "                    'URL': url,\n",
    "                    'Content-Type': 'Unknown',\n",
    "                    'Content': None\n",
    "                })\n",
    "\n",
    "        # Convert results to DataFrame\n",
    "        results_df = pd.DataFrame(results_list)\n",
    "        return results_df"
   ]
  },
  {
   "cell_type": "code",
   "execution_count": 3,
   "metadata": {},
   "outputs": [],
   "source": [
    "import pandas as pd"
   ]
  },
  {
   "cell_type": "code",
   "execution_count": 4,
   "metadata": {},
   "outputs": [
    {
     "name": "stdout",
     "output_type": "stream",
     "text": [
      "data_cleaning.ipynb  mle-1-assign-dataset.xlsx  test.ipynb\n"
     ]
    }
   ],
   "source": [
    "ls"
   ]
  },
  {
   "cell_type": "code",
   "execution_count": 8,
   "metadata": {},
   "outputs": [],
   "source": [
    "df = pd.read_excel('mle-1-assign-dataset.xlsx',sheet_name='train_data')"
   ]
  },
  {
   "cell_type": "code",
   "execution_count": 9,
   "metadata": {},
   "outputs": [],
   "source": [
    "# data = df.sample(5)"
   ]
  },
  {
   "cell_type": "code",
   "execution_count": 10,
   "metadata": {},
   "outputs": [],
   "source": [
    "# results_df = await asyncio.run(scrape_urls(data, 'datasheet_link'))"
   ]
  },
  {
   "cell_type": "code",
   "execution_count": 11,
   "metadata": {},
   "outputs": [],
   "source": []
  },
  {
   "cell_type": "code",
   "execution_count": 22,
   "metadata": {},
   "outputs": [],
   "source": [
    "import asyncio\n",
    "import logging as logger\n",
    "import time\n",
    "\n",
    "import aiohttp\n",
    "\n",
    "# from common import headers\n",
    "\n",
    "\n",
    "async def get_one(session, url):\n",
    "\n",
    "    \"\"\"getting response from single url\"\"\"\n",
    "\n",
    "    async with session.get(url) as response:\n",
    "        if response.status == 200:\n",
    "            logger.warning(\"response individual url recieved url: %s\", url)\n",
    "            return await response.text()\n",
    "        else:\n",
    "            logger.warning(\n",
    "                \"response individual url recieved url: %s staus code= %d\",\n",
    "                url,\n",
    "                response.status,\n",
    "            )\n",
    "\n",
    "\n",
    "async def get_all(session, urls):\n",
    "\n",
    "    \"\"\"getting response from all task\"\"\"\n",
    "\n",
    "    try:\n",
    "        tasks = []\n",
    "        for url in urls:\n",
    "            task = asyncio.create_task(get_one(session, url))\n",
    "            tasks.append(task)\n",
    "        results = await asyncio.gather(*tasks)\n",
    "        logger.warning(\"response from all urls recieved\")\n",
    "        return results\n",
    "    except Exception as ex:\n",
    "        \n",
    "        logger.warning(f\"error {ex} in getting data from all urls\")\n",
    "\n",
    "\n",
    "async def async_transaction(urls):\n",
    "\n",
    "    \"\"\"sending asynchronous request using aiohttp\"\"\"\n",
    "\n",
    "    start = time.time()\n",
    "    try:\n",
    "        async with aiohttp.ClientSession(headers=headers) as session:\n",
    "            logger.warning(\"request send\")\n",
    "            data = await get_all(session, urls)\n",
    "            logger.warning(\"aiohttp operation executed succesfully\")\n",
    "            end = time.time()\n",
    "            logger.warning(\n",
    "                \"asyncronous request and response completed in : %d sec\", end - start\n",
    "            )\n",
    "            return data\n",
    "    except:\n",
    "        logger.warning(\"error in aynchronous transaction\")"
   ]
  },
  {
   "cell_type": "code",
   "execution_count": 23,
   "metadata": {},
   "outputs": [],
   "source": [
    "urls = df['datasheet_link'].values.tolist()"
   ]
  },
  {
   "cell_type": "code",
   "execution_count": 25,
   "metadata": {},
   "outputs": [
    {
     "data": {
      "text/plain": [
       "['https://lfillumination.com/files/specsheets/EF408B-Light-Unit.pdf',\n",
       " 'https://lfillumination.com/files/specsheets/EF411B.PDF',\n",
       " 'https://lfillumination.com/files/specsheets/EF407B-Light-Unit.pdf',\n",
       " 'https://www.waclighting.com/storage/waclighting-images/specsheet_pdf/5221_SPSHT.pdf',\n",
       " 'https://www.acuitybrands.com/api/products/getasset/healthcare-lighting/1626980/677116f7-4592-4516-9d8c-eae892e07331/hdmc.pdf?abl_version=02%2f23%2f2023+18%3a13%3a41&DOC_Type=SPEC_SHEET',\n",
       " 'https://www.acuitybrands.com/api/products/getasset/holophane/1649332/4408a251-09be-4b61-813f-177b3ebcf10c/holophane-care222-hldmpc-cylinder-pendant-with-cord.pdf?abl_version=01%2f12%2f2023+16%3a54%3a24&DOC_Type=SPEC_SHEET',\n",
       " 'https://lfillumination.com/files/specsheets/KATRPB-Pendant.pdf',\n",
       " 'https://lfillumination.com/files/specsheets/JULRPB-Pendant.pdf',\n",
       " 'https://www.focalpointlights.com/sites/default/files/FLCY3__Q.pdf',\n",
       " 'https://www.signify.com/api/assets/v1/file/Signify/content/cbd5621f152243918593ab840107e6c6/D2L.pdf',\n",
       " 'https://juno.acuitybrands.com/api/products/getasset/juno/927706/f13a0378-46e9-4980-9e9f-3c308e164fa7/ic1jbpf_4jbldt.pdf?abl_version=08%2f14%2f2022+08%3a12%3a45&DOC_Type=SPEC_SHEET',\n",
       " 'https://lithonia.acuitybrands.com/api/products/getasset/lithonia-lighting/933404/0b5845d2-0005-4895-90c2-734a37c509d5/6sl-led-l-spkr.pdf?abl_version=01%2f11%2f2023+19%3a11%3a30&DOC_Type=SPEC_SHEET',\n",
       " 'https://nlight.acuitybrands.com/api/products/getasset/gotham-lighting/1657543/4577a19f-bbd5-4c5d-bc45-4fa763f75037/evo6sqm.pdf?abl_version=12%2f13%2f2022+00%3a24%3a00&DOC_Type=SPEC_SHEET',\n",
       " 'https://lfillumination.com/files/specsheets/MF12BNS-2-Light-Trimless-LED.pdf',\n",
       " 'https://lfillumination.com/files/specsheets/MF31DSRT-1-Light-Remodel-Trimmed-LED.pdf',\n",
       " 'https://lfillumination.com/files/specsheets/MF31CSRS-1-Light-Remodel-Trimless-LED.pdf',\n",
       " 'https://lfillumination.com/files/specsheets/MN31DNS-1-Light-Trimless.pdf',\n",
       " 'https://lfillumination.com/files/specsheets/MN31CNS-1-Light-Trimless.pdf',\n",
       " 'https://lfillumination.com/files/specsheets/MN34BNS-1-Light-Trimless.pdf',\n",
       " 'https://cdn.currentlighting.com/site/specsheet/COL_KHL_spec.pdf',\n",
       " 'https://beghelliusa.com/wp-content/uploads/2022/05/testa_spec.pdf',\n",
       " 'https://media.iuseelite.com/specsheet2/sl2.pdf',\n",
       " 'https://media.iuseelite.com/specsheet2/sl1.pdf',\n",
       " 'https://media.iuseelite.com/specsheet2/rl417.pdf',\n",
       " 'https://media.iuseelite.com/specsheet2/rl617.pdf',\n",
       " 'https://www.acuitybrands.com/api/products/getasset/healthcare-lighting/304895/9d734fa1-ead9-411b-9448-3c6c1b538cae/hnl600.pdf?abl_version=01%2f03%2f2023+14%3a28%3a43&DOC_Type=SPEC_SHEET',\n",
       " 'https://bklighting.com/collaterals/specs/specs-1446.pdf',\n",
       " 'https://bklighting.com/collaterals/specs/specs-759.pdf',\n",
       " 'https://bklighting.com/collaterals/specs/specs-1448.pdf',\n",
       " 'https://bklighting.com/collaterals/specs/specs-1326.pdf',\n",
       " 'https://www.pinnacle-ltg.com/sites/default/files/2023-02/EX1B_LED_SPEC.pdf',\n",
       " 'https://www.focalpointlights.com/sites/default/files/FARL_14__AB.pdf',\n",
       " 'https://www.acuitybrands.com/api/products/getasset/aculux/655780/0f1f94af-cb4e-42fb-a5c0-bcf54a0bb37d/ax2sq-a-2a-3a-g2.pdf?abl_version=01%2f11%2f2023+00%3a10%3a38&DOC_Type=SPEC_SHEET',\n",
       " 'https://www.acuitybrands.com/api/products/getasset/healthcare-lighting/304770/b3483caf-91ba-4cd6-a8c1-f928aa2a1617/hnl7.pdf?abl_version=03%2f09%2f2023+21%3a24%3a57&DOC_Type=SPEC_SHEET',\n",
       " 'https://media.iuseelite.com/specsheet2/ech-hl-1001.pdf',\n",
       " 'https://www.acuitybrands.com/api/products/getasset/healthcare-lighting/1311203/38b21d68-91b8-4ed4-be59-72a0b904381b/hxms.pdf?abl_version=07%2f01%2f2022+18%3a58%3a32&DOC_Type=SPEC_SHEET',\n",
       " 'https://www.waclighting.com/storage/waclighting-images/specsheet_pdf/8000-06BK_SPSHT.PDF',\n",
       " 'https://media.iuseelite.com/specsheet2/lunar-led.pdf',\n",
       " 'https://lithonia.acuitybrands.com/api/products/getasset/lithonia-lighting/1250116/b7274111-9af8-4298-8280-c23960cd45e7/barnguard-contractor-select-spec-sheet.pdf?abl_version=02%2f28%2f2023+18%3a13%3a38&DOC_Type=SPEC_SHEET',\n",
       " 'https://lfillumination.com/files/specsheets/VF100-VFS-2BA-T-LED.pdf',\n",
       " 'https://www.pinnacle-ltg.com/sites/default/files/2023-02/EV2D_LED_SPEC.pdf',\n",
       " 'https://www.pinnacle-ltg.com/sites/default/files/2023-02/EV1_LED_SPEC.pdf',\n",
       " 'https://lfillumination.com/files/specsheets/GlowSTX-Ringer-Suspended-Round.pdf',\n",
       " 'https://lfillumination.com/files/specsheets/1431-Round-Fixed-Wall-Wash-Trim.pdf',\n",
       " 'https://lfillumination.com/files/specsheets/2431_Round_Wall-Wash_Trim.pdf',\n",
       " 'https://nlight.acuitybrands.com/api/products/getasset/lithonia-lighting/1014680/5b5d1100-92c2-4972-836b-66a435af269d/fex-led.pdf?abl_version=03%2f09%2f2023+19%3a30%3a24&DOC_Type=SPEC_SHEET',\n",
       " 'https://media.iuseelite.com/specsheet2/ows-cyl-ud-101-led.pdf',\n",
       " 'https://media.iuseelite.com/specsheet2/ows-fc-202-led-ud.pdf',\n",
       " 'https://media.iuseelite.com/specsheet2/ows-cyl-101.pdf',\n",
       " 'https://media.iuseelite.com/specsheet2/omssl-led-101.pdf',\n",
       " 'https://media.iuseelite.com/specsheet2/omssl-led-102.pdf',\n",
       " 'https://www.signify.com/api/assets/v1/file/Signify/content/6d0a39203d524d0fbe91ace3002c08a4/Commercial_Retrofit_DualSelect_Lightolier_EN_CST.pdf',\n",
       " 'https://media.iuseelite.com/specsheet2/st7bx-13-120v.pdf',\n",
       " 'https://media.iuseelite.com/specsheet2/ows-cyl-ud-103.pdf',\n",
       " 'https://media.iuseelite.com/specsheet2/rl677-850l.pdf',\n",
       " 'https://media.iuseelite.com/specsheet2/rl791.pdf',\n",
       " 'https://media.iuseelite.com/specsheet2/rl791-cct.pdf',\n",
       " 'https://media.iuseelite.com/specsheet2/rl790.pdf',\n",
       " 'https://media.iuseelite.com/specsheet2/rl790-cct.pdf',\n",
       " 'https://media.iuseelite.com/specsheet2/rl795.pdf',\n",
       " 'https://media.iuseelite.com/specsheet2/rl695-cct.pdf',\n",
       " 'https://juno.acuitybrands.com/api/products/getasset/juno/661609/13b63f21-f09c-4393-8a2d-18d35e648546/d3_2_0.pdf?abl_version=12%2f29%2f2022+19%3a28%3a59&DOC_Type=SPEC_SHEET',\n",
       " 'https://media.iuseelite.com/specsheet2/22-oevhp-led-ml-cct.pdf',\n",
       " 'https://sensorswitch.acuitybrands.com/api/products/getasset/holophane/1319860/eef1a96d-8000-419a-a04c-81c7f7b3262b/pxlh_.pdf?abl_version=01%2f27%2f2023+12%3a25%3a45&DOC_Type=SPEC_SHEET',\n",
       " 'https://www.waclighting.com/storage/waclighting-images/specsheet_pdf/3020W-HM1_SPSHT.pdf',\n",
       " 'https://www.acuitybrands.com/api/products/getasset/juno/663241/8d967175-e7b5-4c95-a232-9f0a267da74a/d1_5_7.pdf?abl_version=10%2f14%2f2022+19%3a54%3a36&DOC_Type=SPEC_SHEET',\n",
       " 'https://cdn.currentlighting.com/site/specsheet/COL_CRN_spec.pdf',\n",
       " 'https://beghelliusa.com/wp-content/uploads/2022/06/mpl-spec-15-280w_combined.pdf',\n",
       " 'https://www.waclighting.com/product/jasmine/?download=specs3&1676587273',\n",
       " 'https://bklighting.com/collaterals/specs/specs-1395.pdf',\n",
       " 'https://www.luminii.com/wp-content/uploads/z_special_catalog_products/products/vesta-y/specsheets/VESTA_Y_specsheet.pdf',\n",
       " 'https://media.iuseelite.com/specsheet2/sl3-led-cw-24.pdf',\n",
       " 'https://www.acuitybrands.com/api/products/getasset/gotham-lighting/1657593/0bdd7318-01e7-4adb-a7f9-27ca82738811/myo-1-head-configurable-cylinder.pdf?abl_version=12%2f16%2f2022+20%3a03%3a24&DOC_Type=SPEC_SHEET',\n",
       " 'https://lfillumination.com/files/specsheets/LANRP-B.pdf',\n",
       " 'https://www.focalpointlights.com/sites/default/files/FLCY3_SM__M.pdf',\n",
       " 'https://media.iuseelite.com/specsheet2/aila-led.pdf',\n",
       " 'https://www.cooperlighting.com/api/assets/v1/file/Signify/content/9819ca372737475eb269ad78013dd2b0/metalux-wsla-led-linear-specsheet',\n",
       " 'https://media.iuseelite.com/specsheet2/ech-opl-1000.pdf',\n",
       " 'https://media.iuseelite.com/specsheet2/ech-opl-1001.pdf',\n",
       " 'https://lfillumination.com/files/specsheets/MF31DSRS-1-Light-Remodel-Trimless-LED.pdf',\n",
       " 'https://lfillumination.com/files/specsheets/MF31CSRT-1-Light-Remodel-Trimmed-LED.pdf',\n",
       " 'https://lfillumination.com/files/specsheets/MF31BRS-1-Light-Remodel-Trimless-LED.pdf',\n",
       " 'https://lfillumination.com/files/specsheets/MF31BRT-1-Light-Remodel-Trimmed-LED.pdf',\n",
       " 'https://lithonia.acuitybrands.com/api/products/getasset/lithonia-lighting/47332/28a353c1-2a40-4bec-81c0-2083787604bf/msfl.pdf?abl_version=10%2f04%2f2022+22%3a57%3a52&DOC_Type=SPEC_SHEET',\n",
       " 'https://bklighting.com/collaterals/specs/specs-1244.pdf',\n",
       " 'https://media.iuseelite.com/specsheet2/er-led-120-150.pdf',\n",
       " 'https://media.iuseelite.com/specsheet2/ermf-120-150.pdf',\n",
       " 'https://media.iuseelite.com/specsheet2/ersf-120-150.pdf',\n",
       " 'https://media.iuseelite.com/specsheet2/erif-120-150.pdf',\n",
       " 'https://media.iuseelite.com/specsheet2/eriu-120-150.pdf',\n",
       " 'https://media.iuseelite.com/specsheet2/ermf-12-150.pdf',\n",
       " 'https://media.iuseelite.com/specsheet2/ersf-12-150.pdf',\n",
       " 'https://media.iuseelite.com/specsheet2/erif-12-150.pdf',\n",
       " 'https://media.iuseelite.com/specsheet2/er-led-24-150.pdf',\n",
       " 'https://media.iuseelite.com/specsheet2/ermf-24-150.pdf',\n",
       " 'https://media.iuseelite.com/specsheet2/erif-24-150.pdf',\n",
       " 'https://media.iuseelite.com/specsheet2/omsd2-led-15.pdf',\n",
       " 'https://media.iuseelite.com/specsheet2/ovr-101-led.pdf',\n",
       " 'https://media.iuseelite.com/specsheet2/oss-led.pdf',\n",
       " 'https://www.cooperlighting.com/api/assets/v1/file/CLS/content/a760c37b7c754ffbb022ad4100857ca4/metalux-iled-industrial-specsheet',\n",
       " 'https://www.cooperlighting.com/api/assets/v1/file/CLS/content/ed45b8a5eb554c0886e4ad4100858d63/metalux-lbled-low-bay-asym-specsheet',\n",
       " 'https://beghelliusa.com/wp-content/uploads/2022/06/valore_spec.pdf',\n",
       " 'https://media.iuseelite.com/specsheet2/2-ovl-led-cct.pdf',\n",
       " 'https://media.iuseelite.com/specsheet2/4-oew-led.pdf',\n",
       " 'https://media.iuseelite.com/specsheet2/4-oew-led-ml-cct.pdf',\n",
       " 'https://www.axislighting.com/application/files/1816/6967/0425/Graze_Perfekt-Perimeter-Recessed.SPEC.pdf',\n",
       " 'https://cdn.currentlighting.com/site/specsheet/COL_RLW_spec.pdf',\n",
       " 'https://lithonia.acuitybrands.com/api/products/getasset/lithonia-lighting/1098954/1e9ff0a0-da6a-420d-b0c5-e58d1a03cfcd/contractor-select-fml4w-led-wrap.pdf?abl_version=01%2f05%2f2023+14%3a50%3a59&DOC_Type=SPEC_SHEET',\n",
       " 'https://www.cooperlighting.com/api/assets/v1/file/Signify/content/e907443cf54946838cadad4100859840/metalux-lw-led-wrap-specsheet',\n",
       " 'https://nlight.acuitybrands.com/api/products/getasset/lithonia-lighting/925023/fea22abd-f6b9-472c-b7e9-649ce8a7d3e5/blwp-ntune.pdf?abl_version=01%2f05%2f2023+22%3a05%3a04&DOC_Type=SPEC_SHEET',\n",
       " 'https://sensorswitch.acuitybrands.com/api/products/getasset/lithonia-lighting/825737/9bb2b308-ebb8-4f9d-bbf9-22ed0d2c5a61/blwp.pdf?abl_version=11%2f22%2f2022+20%3a35%3a28&DOC_Type=SPEC_SHEET',\n",
       " 'https://www.acuitybrands.com/api/products/getasset/lithonia-lighting/47229/c6b049cd-9363-4a72-b591-8db219a69984/newu.pdf?abl_version=02%2f10%2f2022+14%3a09%3a21&DOC_Type=SPEC_SHEET',\n",
       " 'http://www.isolite.com/specsheets/VTF-LED-ISOLITE-Specification.pdf',\n",
       " 'https://www.focalpointlights.com/sites/default/files/FLCS33_ST__J.pdf',\n",
       " 'https://media.iuseelite.com/specsheet2/rl275.pdf',\n",
       " 'https://media.iuseelite.com/specsheet2/rl271.pdf',\n",
       " 'https://www.contechlighting.com/en/docs/CLB_0720.pdf',\n",
       " 'https://www.signify.com/api/assets/v1/file/PhilipsLighting/content/70f5a1deaea74fcb8264ab7900e14cc1/Form_10_Square_EH14-EH19_LED_G3_0220.pdf',\n",
       " 'https://media.iuseelite.com/specsheet2/rl485-cct.pdf',\n",
       " 'https://media.iuseelite.com/specsheet2/ech-cl-led-1006.pdf',\n",
       " 'https://media.iuseelite.com/specsheet2/ech-cl-led-1009.pdf',\n",
       " 'https://www.lsicorp.com/wp-content/uploads/2020/05/augustaaud-aupleddatasheet.pdf',\n",
       " 'https://www.lsicorp.com/wp-content/uploads/documents/products/constitution-xcn4-specsheet.pdf',\n",
       " 'https://media.iuseelite.com/specsheet2/circa-led.pdf',\n",
       " 'https://nlight.acuitybrands.com/api/products/getasset/healthcare-lighting/1244647/1fb9d6d2-caad-433d-a1ec-ea7ba05a5927/hpph.pdf?abl_version=12%2f29%2f2022+21%3a29%3a15&DOC_Type=SPEC_SHEET',\n",
       " 'https://insightlighting.com/download/scope-large-pendant-color-changing-specification-sheet/',\n",
       " 'https://lithonia.acuitybrands.com/api/products/getasset/lithonia-lighting/47888/4541f896-7cd2-4c07-921d-b3abc520f258/ksf1-m-s.pdf?abl_version=02%2f22%2f2022+19%3a12%3a18&DOC_Type=SPEC_SHEET',\n",
       " 'https://liton.com//media/files/cutsheets/LULEDBP.pdf',\n",
       " 'https://www.waclighting.com/product/flexrail1-6/?download=specs2&1676589820',\n",
       " 'https://lfillumination.com/files/specsheets/8901-Trimmed.pdf',\n",
       " 'https://lfillumination.com/files/specsheets/Quickship_9701_with_Housing---ValuDIM.pdf',\n",
       " 'https://lfillumination.com/files/specsheets/8701-Trimmed.pdf',\n",
       " 'https://lfillumination.com/files/specsheets/Quickship_9801_with_Housing---LumaTUNE.pdf',\n",
       " 'https://lfillumination.com/files/specsheets/8801-Trimmed.pdf',\n",
       " 'https://lfillumination.com/files/specsheets/9631_with_Housing_LED_ValuDIM.pdf',\n",
       " 'https://lfillumination.com/files/specsheets/8631-Trimmed.pdf',\n",
       " 'https://www.luminii.com/wp-content/uploads/z_special_catalog_products/products/leto-5-canopy/specsheets/LETO_5_Surface_specsheet.pdf',\n",
       " 'https://lfillumination.com/files/specsheets/Quickship_9702_with_Housing---ValuDIM.pdf',\n",
       " 'https://lfillumination.com/files/specsheets/2432_Square_Wall-Wash_Trim.pdf',\n",
       " 'https://lfillumination.com/files/specsheets/3432_Square_Fixed_Wall_Wash.pdf',\n",
       " 'https://lfillumination.com/files/specsheets/Quickship_9802_with_Housing---LumaTUNE.pdf',\n",
       " 'https://lfillumination.com/files/specsheets/8802-Trimmed.pdf',\n",
       " 'https://lfillumination.com/files/specsheets/9632_with_Housing_LED_ValuDIM.pdf',\n",
       " 'https://lfillumination.com/files/specsheets/8632-Trimmed.pdf',\n",
       " 'https://lfillumination.com/files/specsheets/1432_Square_Fixed_Wall-Wash-Trim.pdf',\n",
       " 'https://lfillumination.com/files/specsheets/8432_Square-Wall-Wash-Trim_LED.pdf',\n",
       " 'https://www.afxinc.com/media/documents/specSheets/ST.pdf',\n",
       " 'https://media.iuseelite.com/specsheet2/ov3r.pdf',\n",
       " 'https://www.waclighting.com/product/silo-pendants/?download=specs2&1676622297',\n",
       " 'https://insightlighting.com/download/pex-direct-view-color-changing-specification-sheets/',\n",
       " 'https://lithonia.acuitybrands.com/api/products/getasset/lithonia-lighting/1479376/2e88b7bf-2cbf-481d-be66-accb769b45c6/contractor-select-csvt.pdf?abl_version=12%2f14%2f2022+10%3a00%3a30&DOC_Type=SPEC_SHEET',\n",
       " 'https://www.axislighting.com/application/files/1216/7786/1717/EDGE2-Wall.SPEC.pdf',\n",
       " 'https://www.luminii.com/wp-content/uploads/z_special_catalog_products/products/leto-44-wm-sml/specsheets/LETO_44_WM_SML_specsheet.pdf',\n",
       " 'https://www.waclighting.com/product/cubix/?download=specs3&1676606466',\n",
       " 'https://lithonia.acuitybrands.com/api/products/getasset/lithonia-lighting/47745/82957d68-4473-4e6d-90ca-ceb8048face8/twa-cf.pdf?abl_version=10%2f04%2f2022+23%3a00%3a09&DOC_Type=SPEC_SHEET',\n",
       " 'https://www.cooperlighting.com/api/assets/v1/file/Signify/content/9d3f4c0b9f2e4bef95d4ad410079a6b8/fm-led-round-flushmount-spec',\n",
       " 'https://www.acuitybrands.com/api/products/getasset/luminaire-led/1101773/5c238051-a794-4d2e-80d5-9a4e75b33cdb/luminaire-led-swoop-swp610ho-led-high-output.pdf?abl_version=03%2f09%2f2023+21%3a30%3a53&DOC_Type=SPEC_SHEET',\n",
       " 'https://media.iuseelite.com/specsheet2/ech-ows-1006.pdf',\n",
       " 'https://nlight.acuitybrands.com/api/products/getasset/gotham-lighting/1657505/54f265de-6bd9-41a1-934d-d876ee9f7209/evo2lw.pdf?abl_version=12%2f19%2f2022+14%3a39%3a17&DOC_Type=SPEC_SHEET',\n",
       " 'https://www.contechlighting.com/en/docs/AW_SERIES_2022.pdf',\n",
       " 'https://www.signify.com/api/assets/v1/file/Signify/content/ba6f346a1efd4fdab1d4a87f01238b64/form_10_cp_mp_led.pdf',\n",
       " 'https://lithonia.acuitybrands.com/api/products/getasset/lithonia-lighting/229085/8466612a-47cf-4874-a9d1-ea2b4cafb148/dsxb-led.pdf?abl_version=11%2f22%2f2022+15%3a25%3a06&DOC_Type=SPEC_SHEET',\n",
       " 'https://lithonia.acuitybrands.com/api/products/getasset/lithonia-lighting/47850/dc1661db-8263-4053-ab17-9528ab3714f5/pole-sss-quick-ship.pdf?abl_version=03%2f15%2f2023+19%3a41%3a05&DOC_Type=SPEC_SHEET',\n",
       " 'https://www.waclighting.com/product/stretch/?download=specs2&1676581615',\n",
       " 'https://www.waclighting.com/product/elbo/?download=specs3&1676581590',\n",
       " 'https://www.waclighting.com/product/chelsea/?download=specs3&1676580973',\n",
       " 'https://marklighting.acuitybrands.com/api/products/getasset/mark-architectural-lighting/1244809/2c0816d1-fd24-45f7-99de-948e6a708c7d/mcv502_rgbw.pdf?abl_version=01%2f05%2f2023+15%3a07%3a45&DOC_Type=SPEC_SHEET',\n",
       " 'https://lithonia.acuitybrands.com/api/products/getasset/lithonia-lighting/1275647/ff7df0c4-0553-42d4-a045-dbd62945a1e3/ehl22.pdf?abl_version=06%2f15%2f2022+19%3a29%3a36&DOC_Type=SPEC_SHEET',\n",
       " 'https://nlight.acuitybrands.com/api/products/getasset/holophane/1319864/6b49da0d-7d48-46ed-b15b-d30fddcbd5cc/pxlw_.pdf?abl_version=02%2f13%2f2023+13%3a35%3a00&DOC_Type=SPEC_SHEET',\n",
       " 'https://nlight.acuitybrands.com/api/products/getasset/holophane/1319866/a18d532a-eada-4266-bd05-160f99292a97/pxhw_.pdf?abl_version=02%2f10%2f2023+20%3a30%3a14&DOC_Type=SPEC_SHEET',\n",
       " 'https://sensorswitch.acuitybrands.com/api/products/getasset/holophane/1313273/aca53d64-f7cb-4911-a3d8-b9d6be7e551f/pled2_.pdf?abl_version=03%2f02%2f2023+02%3a26%3a46&DOC_Type=SPEC_SHEET',\n",
       " 'https://www.acuitybrands.com/api/products/getasset/holophane/1832506/1f9900a9-04d0-4e00-a2b8-9415fb1716e0/hexsem.pdf?abl_version=02%2f22%2f2023+15%3a32%3a06&DOC_Type=SPEC_SHEET',\n",
       " 'https://lithonia.acuitybrands.com/api/products/getasset/lithonia-lighting/1307325/af561dc2-1ece-4dd2-b73f-d609ff6308af/contractor-select-esx1-led.pdf?abl_version=02%2f17%2f2023+14%3a21%3a27&DOC_Type=SPEC_SHEET',\n",
       " 'https://marklighting.acuitybrands.com/api/products/getasset/mark-architectural-lighting/1244829/09dab754-aa69-4632-8e34-21f9974d7f6b/mcv504_stwh_stclr.pdf?abl_version=11%2f16%2f2022+19%3a58%3a30&DOC_Type=SPEC_SHEET',\n",
       " 'https://lfillumination.com/files/specsheets/8902-Trimmed.pdf',\n",
       " 'https://lfillumination.com/files/specsheets/9704-Large_Aptr_Rect_Trimless_LED.pdf',\n",
       " 'https://lfillumination.com/files/specsheets/VF300_Square_Plaster_Downlight_LED.pdf',\n",
       " 'https://lfillumination.com/files/specsheets/8605_Dual_Bevel_Rect_Trim_LED.pdf',\n",
       " 'https://lfillumination.com/files/specsheets/VF150-8704-RECT-BEV-CREE---VD-LRG-APP-042220.pdf',\n",
       " 'https://lfillumination.com/files/specsheets/MN41CN-T.pdf',\n",
       " 'https://lfillumination.com/files/specsheets/3921C-Surface-Monopoint-Install.pdf',\n",
       " 'https://insightlighting.com/download/scope-mini-suspension-color-changing-specification-sheet/',\n",
       " 'https://lfillumination.com/files/specsheets/GlowSTX-Suspended-Linear-Luminaire-System.pdf',\n",
       " 'https://noralighting.com/wp-content/uploads/2021/02/NELOCAC_16in_spec.pdf',\n",
       " 'https://lfillumination.com/files/specsheets/PNHD_Suspended_LED.pdf',\n",
       " 'https://www.intenselighting.com/en/docs/IL_MXG2PSD_WD.pdf',\n",
       " 'https://www.intenselighting.com/en/docs/IL_MXG2PSW.pdf',\n",
       " 'https://noralighting.com/wp-content/uploads/2018/11/NRLM_spec.pdf',\n",
       " 'https://insightlighting.com/download/structure-mini-direct-white-light-spec-sheet/',\n",
       " 'https://noralighting.com/wp-content/uploads/2020/08/NPDBL_spec.pdf',\n",
       " 'https://www.intenselighting.com/en/docs/IL_MXG2PSW_WD.pdf',\n",
       " 'https://www.intenselighting.com/en/docs/IL_SC8DRREM.pdf',\n",
       " 'https://noralighting.com/wp-content/uploads/2022/01/NLUD_spec.pdf',\n",
       " 'https://cdn.currentlighting.com/site/specsheet/DL_EVS_SPEC.pdf',\n",
       " 'https://insightlighting.com/download/scope-mini-surface-color-changing-specification-sheet/',\n",
       " 'https://media.satco.com/specsheetsp/pdf/S11635',\n",
       " 'https://www.waclighting.com/product/tube-4/?download=specs2&1676587872',\n",
       " 'https://www.waclighting.com/product/rubix/?download=specs2&1676581506',\n",
       " 'https://www.waclighting.com/storage/waclighting-images/specsheet_pdf/DS-CD05_SPSHT.pdf',\n",
       " 'https://www.waclighting.com/product/tube/?download=specs2&1676593210',\n",
       " 'https://www.waclighting.com/storage/waclighting-images/specsheet_pdf/DS-CD05-CC_SPSHT.PDF',\n",
       " 'https://www.waclighting.com/storage/waclighting-images/specsheet_pdf/DS-CD06_SPSHT.pdf',\n",
       " 'https://www.waclighting.com/storage/waclighting-images/specsheet_pdf/DS-CD08_SPSHT.pdf',\n",
       " 'https://www.waclighting.com/storage/waclighting-images/specsheet_pdf/F-073L_SPSHT.pdf',\n",
       " 'https://www.waclighting.com/product/dot/?download=specs3&1676612918',\n",
       " 'https://www.waclighting.com/product/tube-pendant-downlight/?download=specs2&1676588377',\n",
       " 'https://www.waclighting.com/product/bradbury/?download=specs3&1676622100',\n",
       " 'https://www.waclighting.com/product/hawthorne-2/?download=specs3&1676622100',\n",
       " 'https://www.waclighting.com/product/downtown/?download=specs3&1676585495',\n",
       " 'https://www.waclighting.com/product/flexrail1-11/?download=specs2&1676589071',\n",
       " 'https://www.waclighting.com/product/downtown-2/?download=specs3&1676607052',\n",
       " 'https://cdn.currentlighting.com/site/specsheet/COL_CWW_spec.pdf',\n",
       " 'https://cdn.currentlighting.com/site/specsheet/COL_CFP_spec.pdf',\n",
       " 'https://cdn.currentlighting.com/site/specsheet/COL_CCL-LSCS_Spec.pdf',\n",
       " 'https://cdn.currentlighting.com/site/specsheet/COL_LCL_spec.pdf',\n",
       " 'https://cdn.currentlighting.com/site/specsheet/dl_cru_spec.pdf',\n",
       " 'https://cdn.currentlighting.com/site/specsheet/law.pdf',\n",
       " 'https://cdn.currentlighting.com/site/specsheet/COL_RLB_spec.pdf',\n",
       " 'https://cdn.currentlighting.com/site/specsheet/COL_MPS_spec.pdf',\n",
       " 'https://cdn.currentlighting.com/site/specsheet/COL_ECH_SPEC.pdf',\n",
       " 'https://cdn.currentlighting.com/site/specsheet/dl_semr_specsht.pdf',\n",
       " 'https://cdn.currentlighting.com/site/specsheet/DL_DPL_SPEC.pdf',\n",
       " 'https://cdn.currentlighting.com/site/specsheet/DL_CCEL_SPEC.pdf',\n",
       " 'https://juno.acuitybrands.com/api/products/getasset/juno/1777018/0517f67e-33eb-4973-a114-1b2563aaa4b0/jfx.pdf?abl_version=03%2f14%2f2023+18%3a11%3a50&DOC_Type=SPEC_SHEET',\n",
       " 'https://www.kelvix.com/product/zolo-3/spec-sheet/',\n",
       " 'https://www.kelvix.com/product/signwave-3/spec-sheet/',\n",
       " 'https://www.kelvix.com/product/ch-006/spec-sheet/',\n",
       " 'https://www.kelvix.com/product/ch-014-c/spec-sheet/',\n",
       " 'https://www.kelvix.com/product/ch-218-n/spec-sheet/',\n",
       " 'https://www.kelvix.com/product/ch-211/spec-sheet/',\n",
       " 'https://www.kelvix.com/product/melissa-006/spec-sheet/',\n",
       " 'https://www.kelvix.com/product/ch-502-a/spec-sheet/',\n",
       " 'https://www.kelvix.com/product/brett-502/spec-sheet/',\n",
       " 'https://www.kelvix.com/product/ben-228/spec-sheet/',\n",
       " 'https://www.kelvix.com/product/orex/spec-sheet/',\n",
       " 'https://www.kelvix.com/product/orex-277v/spec-sheet/',\n",
       " 'https://www.kelvix.com/product/fizzix/spec-sheet/',\n",
       " 'https://www.kelvix.com/product/quix/spec-sheet/',\n",
       " 'https://www.kelvix.com/product/fx3d/spec-sheet/',\n",
       " 'https://www.kelvix.com/product/slinx/spec-sheet/',\n",
       " 'https://www.kelvix.com/product/floptix-asymmetric/spec-sheet/',\n",
       " 'https://www.kelvix.com/product/orex-title-24-edition/spec-sheet/',\n",
       " 'https://www.kelvix.com/product/ana-217/spec-sheet/',\n",
       " 'https://lfillumination.com/files/specsheets/5911-Bullet-Large-IP66-Downlight.pdf',\n",
       " 'https://www.q-tran.com/Customer-Content/www/products/Files/ORD_EXT_VERS09.pdf?d=8292022114811',\n",
       " 'https://www.q-tran.com/Customer-Content/www/products/Files/ORD_EXT_VERS08.pdf?d=88202230058',\n",
       " 'https://www.q-tran.com/Customer-Content/www/products/Files/ORD-FXT-WURM-RGBW.pdf?d=34202282606',\n",
       " 'https://www.q-tran.com/Customer-Content/www/products/Files/ORD-FXT-KURV-BK-SC.pdf?d=5202022124454',\n",
       " 'https://www.q-tran.com/Customer-Content/www/products/Files/ORD_FXT_EMBD-FLAT.pdf?d=125202312226',\n",
       " 'https://www.q-tran.com/Customer-Content/www/products/Files/ORD_FXT_ATOM-FLAT.pdf?d=8172021104924',\n",
       " 'https://www.q-tran.com/Customer-Content/www/products/Files/ORD_FXT_ALTA-FLAT.pdf?d=331202211843',\n",
       " 'https://www.q-tran.com/Customer-Content/www/products/Files/ORD_FXT_ARKA-FLAT.pdf?d=524202220601',\n",
       " 'https://www.q-tran.com/Customer-Content/www/products/Files/ORD_FXT_SLIM-FLAT.pdf?d=720202283632',\n",
       " 'https://www.q-tran.com/Customer-Content/www/products/Files/ORD_FXT_THIN.pdf?d=1220202281306',\n",
       " 'https://www.q-tran.com/Customer-Content/www/products/Files/ORD_FXT_TORQ-FLAT.pdf?d=524202221453',\n",
       " 'https://www.q-tran.com/Customer-Content/www/products/Files/ORD-FXT-NEXUS-SW.pdf?d=816202150937',\n",
       " 'https://www.q-tran.com/Customer-Content/www/products/Files/ORD-FXT-LUME-01-SC.pdf?d=1122202192218',\n",
       " 'https://www.q-tran.com/Customer-Content/www/products/Files/ORD-FXT-ANYBEND-RGB.pdf?d=119202211904',\n",
       " 'https://www.q-tran.com/Customer-Content/www/products/Files/ORD-FXT-WALA-SW.pdf?d=816202151258',\n",
       " 'https://www.q-tran.com/Customer-Content/www/products/Files/ORD-FXT-ANYBEND-SW.pdf?d=119202211634',\n",
       " 'https://www.q-tran.com/Customer-Content/www/products/Files/ORD-FXT-ZALA-SC.pdf?d=4222022123202',\n",
       " 'https://www.kelvix.com/product/zolo-5/spec-sheet/',\n",
       " 'https://www.kelvix.com/product/zolo-7/spec-sheet/',\n",
       " 'https://lithonia.acuitybrands.com/api/products/getasset/lithonia-lighting/759087/0a2725a8-f991-43f2-ac79-6feff3897947/pole-rtsudb.pdf?abl_version=07%2f21%2f2022+13%3a23%3a30&DOC_Type=SPEC_SHEET',\n",
       " 'https://www.acuitybrands.com/api/products/getasset/lithonia-lighting/1750503/c1cd6cde-5667-4f98-8537-d4620f363c1a/fmmls.pdf?abl_version=12%2f14%2f2022+20%3a17%3a23&DOC_Type=SPEC_SHEET',\n",
       " 'https://juno.acuitybrands.com/api/products/getasset/juno/660701/02836a2f-721f-4dda-a993-6ca6973f3657/4rls-g2-07lm-g1_8_58.pdf?abl_version=08%2f14%2f2022+17%3a42%3a30&DOC_Type=SPEC_SHEET',\n",
       " 'https://www.waclighting.com/product/vornado/?download=specs3&1676623019',\n",
       " 'https://www.waclighting.com/product/parallax-7/?download=specs3&1676599615',\n",
       " 'https://www.waclighting.com/product/hailey/?download=specs3&1676596838',\n",
       " 'https://www.waclighting.com/product/planets/?download=specs3&1676590342',\n",
       " 'https://lithonia.acuitybrands.com/api/products/getasset/lithonia-lighting/396155/cc06a945-32a2-41c9-9579-65f866375448/fmelml.pdf?abl_version=09%2f30%2f2022+20%3a44%3a31&DOC_Type=SPEC_SHEET',\n",
       " 'https://juno.acuitybrands.com/api/products/getasset/juno/1763718/a91b81fe-e092-48d0-8125-3a22aa8ec65b/jsbt_3cct.pdf?abl_version=02%2f20%2f2023+18%3a54%3a20&DOC_Type=SPEC_SHEET',\n",
       " 'https://beghelliusa.com/wp-content/uploads/2022/06/Planex-Specs.pdf',\n",
       " 'https://www.kelvix.com/product/crossbar-wall-washing/spec-sheet/',\n",
       " 'https://www.signify.com/api/assets/v1/file/Signify/content/4229953a8af94adcb301a9690079dec8/led_bollard_brm830_series.pdf',\n",
       " 'https://www.kelvix.com/product/ac-zolo-7-rgbw-combined/spec-sheet/',\n",
       " 'https://www.acuitybrands.com/api/products/getasset/hydrel/888888/c0eb0620-1838-4f9b-87dc-db65b61fd463/4750l_rgbw.pdf?abl_version=02%2f28%2f2023+23%3a30%3a00&DOC_Type=SPEC_SHEET',\n",
       " 'https://lithonia.acuitybrands.com/api/products/getasset/lithonia-lighting/195053/d18f4318-13b2-4e39-b66b-10f83e67f8a4/olb-led.pdf?abl_version=01%2f17%2f2022+21%3a30%3a04&DOC_Type=SPEC_SHEET',\n",
       " 'https://lithonia.acuitybrands.com/api/products/getasset/lithonia-lighting/303880/f847bcb5-8331-44af-92e4-d2e1f19e3a5a/olwx1-led.pdf?abl_version=08%2f13%2f2022+19%3a22%3a30&DOC_Type=SPEC_SHEET',\n",
       " 'https://nlight.acuitybrands.com/api/products/getasset/american-electric-lighting/1100859/f3d51b98-c736-4000-a1b8-01d6c276baff/75led.pdf?abl_version=01%2f10%2f2023+14%3a07%3a51&DOC_Type=SPEC_SHEET',\n",
       " 'https://lithonia.acuitybrands.com/api/products/getasset/lithonia-lighting/831726/ce827eb7-c8be-4bab-9cd5-04ed53fc99c3/contractor-select-qte-led.pdf?abl_version=08%2f25%2f2022+14%3a53%3a52&DOC_Type=SPEC_SHEET',\n",
       " 'https://www.acuitybrands.com/api/products/getasset/lithonia-lighting/1162156/ce28d157-2dc1-4d22-a572-4bcfcb40134d/rlfhe-led.pdf?abl_version=08%2f14%2f2022+11%3a15%3a45&DOC_Type=SPEC_SHEET',\n",
       " 'https://www.intenselighting.com/en/docs/IL_MXG2ASTL_BEAM-Adjustable.pdf',\n",
       " 'https://www.intenselighting.com/en/docs/IL_MXG2DSTL_BEAM-Downlight.pdf',\n",
       " 'https://www.waclighting.com/storage/waclighting-images/specsheet_pdf/R3ARAT_SPSHT.pdf',\n",
       " 'https://www.waclighting.com/product/ocularc-3-0-3/?download=specs2&1676623168',\n",
       " 'https://www.waclighting.com/product/ocularc-3-0-6/?download=specs2&1676598809',\n",
       " 'https://www.waclighting.com/product/low-voltage-multiple-spots-3/?download=specs2&1676622788',\n",
       " 'https://www.waclighting.com/product/low-voltage-multiple-spots-2/?download=specs2&1676622789',\n",
       " 'https://www.waclighting.com/storage/waclighting-images/specsheet_pdf/MT-21PL_SPSHT.pdf',\n",
       " 'https://www.waclighting.com/storage/waclighting-images/specsheet_pdf/MT-5LD125T_SPSHT.pdf',\n",
       " 'https://www.waclighting.com/storage/waclighting-images/specsheet_pdf/MT-41-Trimmed_SPSHT.pdf',\n",
       " 'https://www.waclighting.com/storage/waclighting-images/specsheet_pdf/1014-MO_SPSHT.pdf',\n",
       " 'https://www.waclighting.com/storage/waclighting-images/specsheet_pdf/1023-MO_SPSHT.pdf',\n",
       " 'https://www.waclighting.com/storage/waclighting-images/specsheet_pdf/1035-MO_SPSHT.pdf',\n",
       " 'https://www.waclighting.com/storage/waclighting-images/specsheet_pdf/1052-MO_SPSHT.pdf',\n",
       " 'https://www.waclighting.com/storage/waclighting-images/specsheet_pdf/2010-MO_SPSHT.PDF',\n",
       " 'https://www.waclighting.com/product/ocularc-2-0-4/?download=specs2&1676593550',\n",
       " 'https://www.waclighting.com/product/ocularc-2-0-8/?download=specs2&1676622839',\n",
       " 'https://www.waclighting.com/storage/waclighting-images/specsheet_pdf/LED810-MO_SPSHT.PDF',\n",
       " 'https://www.waclighting.com/storage/waclighting-images/specsheet_pdf/WP-LED514_SPSHT.pdf',\n",
       " 'https://www.waclighting.com/storage/waclighting-images/specsheet_pdf/LED17-MO_SPSHT.PDF',\n",
       " 'https://www.waclighting.com/storage/waclighting-images/specsheet_pdf/LED-P10-1224-1850_SPSHT.pdf',\n",
       " 'https://www.waclighting.com/storage/waclighting-images/specsheet_pdf/T24-TW3_SPSHT.pdf',\n",
       " 'https://www.waclighting.com/storage/waclighting-images/specsheet_pdf/MT-22DL_SPSHT.pdf',\n",
       " 'https://www.waclighting.com/product/low-voltage-multiple-spots-6/?download=specs2&1676622786',\n",
       " 'https://www.waclighting.com/product/low-voltage-multiple-spots-5/?download=specs2&1676622787',\n",
       " 'https://www.waclighting.com/storage/waclighting-images/specsheet_pdf/MT-22PL_SPSHT.pdf',\n",
       " 'https://www.waclighting.com/storage/waclighting-images/specsheet_pdf/MT-5LD225T_SPSHT.pdf',\n",
       " 'https://www.waclighting.com/storage/waclighting-images/specsheet_pdf/2020-MO_SPSHT.pdf',\n",
       " 'https://www.waclighting.com/product/paloma-led522-2/?download=specs2&1676596682',\n",
       " 'https://www.waclighting.com/storage/waclighting-images/specsheet_pdf/5028W-MO_SPSHT.pdf',\n",
       " 'https://www.waclighting.com/storage/waclighting-images/specsheet_pdf/MT-23DL_SPSHT.pdf',\n",
       " 'https://www.waclighting.com/product/low-voltage-multiple-spots-9/?download=specs2&1676622783',\n",
       " 'https://www.waclighting.com/product/low-voltage-multiple-spots-8/?download=specs2&1676622784',\n",
       " 'https://www.waclighting.com/storage/waclighting-images/specsheet_pdf/MT-23PL_SPSHT.pdf',\n",
       " 'https://www.waclighting.com/storage/waclighting-images/specsheet_pdf/MT-5LD325T_SPSHT.pdf',\n",
       " 'https://www.waclighting.com/storage/waclighting-images/specsheet_pdf/WP-LED529_SPSHT.pdf',\n",
       " 'https://www.waclighting.com/storage/waclighting-images/specsheet_pdf/MT-44-Trimless_SPSHT.PDF',\n",
       " 'https://www.waclighting.com/storage/waclighting-images/specsheet_pdf/2042-MO_SPSHT.pdf',\n",
       " 'https://www.waclighting.com/product/ocularc-1-0-3/?download=specs2&1676622842',\n",
       " 'https://www.waclighting.com/product/ocularc-1-0-4/?download=specs2&1676622841',\n",
       " 'https://www.waclighting.com/product/solo/?download=specs2&1676604928',\n",
       " 'https://www.waclighting.com/product/paloma-led512/?download=specs2&1676583758',\n",
       " 'https://www.waclighting.com/product/ocularc-2-0-2/?download=specs2&1676580055',\n",
       " 'https://www.waclighting.com/product/ocularc-2-0-6/?download=specs2&1676585968',\n",
       " 'https://www.waclighting.com/product/vector/?download=specs2&1676604779',\n",
       " 'https://www.waclighting.com/product/lotos-4-square/?download=specs3&1676613613',\n",
       " 'https://www.waclighting.com/product/lotos-4-6-round/?download=specs2&1676598985',\n",
       " 'https://www.waclighting.com/storage/waclighting-images/specsheet_pdf/R3CRDL_SPSHT.PDF',\n",
       " 'https://www.waclighting.com/storage/waclighting-images/specsheet_pdf/R3CSDL_SPSHT.PDF',\n",
       " 'https://www.waclighting.com/storage/waclighting-images/specsheet_pdf/R3BRA-DW_SPSHT.pdf',\n",
       " 'https://www.waclighting.com/storage/waclighting-images/specsheet_pdf/MT-4LD116N_SPSHT.pdf',\n",
       " 'https://www.waclighting.com/storage/waclighting-images/specsheet_pdf/MT-4LD216N_SPSHT.pdf',\n",
       " 'https://www.waclighting.com/storage/waclighting-images/specsheet_pdf/MT4LD311NE_SPSHT.pdf',\n",
       " 'https://www.waclighting.com/storage/waclighting-images/specsheet_pdf/MT-4LD226N_SPSHT.pdf',\n",
       " 'https://www.waclighting.com/storage/waclighting-images/specsheet_pdf/MT-4LD416N_SPSHT.pdf',\n",
       " 'https://www.waclighting.com/product/4-low-voltage-5/?download=specs2&1676596004',\n",
       " 'https://www.waclighting.com/product/2-5-low-voltage-6/?download=specs2&1676588058',\n",
       " 'https://www.waclighting.com/storage/waclighting-images/specsheet_pdf/R2ARAT_SPSHT.pdf',\n",
       " 'https://www.waclighting.com/storage/waclighting-images/specsheet_pdf/R2SAT_SPSHT.pdf',\n",
       " 'https://www.waclighting.com/storage/waclighting-images/specsheet_pdf/R1GAL02_SPSHT.pdf',\n",
       " 'https://www.waclighting.com/storage/waclighting-images/specsheet_pdf/R3ARAL_SPSHT.pdf',\n",
       " 'https://www.waclighting.com/storage/waclighting-images/specsheet_pdf/R3ARAT-CC_SPSHT.PDF',\n",
       " 'https://www.waclighting.com/storage/waclighting-images/specsheet_pdf/R3ASDT-CC_SPSHT.pdf',\n",
       " 'https://www.waclighting.com/storage/waclighting-images/specsheet_pdf/R3ASDL-CC_SPSHT.pdf',\n",
       " 'https://www.waclighting.com/product/4-low-voltage-11/?download=specs2&1676619669',\n",
       " 'https://www.waclighting.com/product/4-low-voltage-12/?download=specs2&1676619652',\n",
       " 'https://www.waclighting.com/product/4-low-voltage-8/?download=specs2&1676595983',\n",
       " 'https://www.waclighting.com/product/4-low-voltage-7/?download=specs2&1676583980',\n",
       " 'https://www.waclighting.com/product/4-low-voltage-13/?download=specs2&1676623058',\n",
       " 'https://www.waclighting.com/product/4-low-voltage-9/?download=specs2&1676589852',\n",
       " 'https://www.waclighting.com/product/4-low-voltage-6/?download=specs2&1676596014',\n",
       " 'https://www.waclighting.com/product/4-low-voltage-10/?download=specs2&1676587803',\n",
       " 'https://www.waclighting.com/storage/waclighting-images/specsheet_pdf/R1ARDL_SPSHT.pdf',\n",
       " 'https://www.waclighting.com/storage/waclighting-images/specsheet_pdf/R1ASDL_SPSHT.pdf',\n",
       " 'https://www.waclighting.com/product/2-5-low-voltage-5/?download=specs2&1676595949',\n",
       " 'https://www.waclighting.com/storage/waclighting-images/specsheet_pdf/R2ARDT_SPSHT.pdf',\n",
       " 'https://www.waclighting.com/storage/waclighting-images/specsheet_pdf/R2SD2T_SPSHT.pdf',\n",
       " 'https://www.waclighting.com/storage/waclighting-images/specsheet_pdf/R1GDL02_SPSHT.pdf',\n",
       " 'https://www.waclighting.com/product/patriot-3/?download=specs2&1676600364',\n",
       " 'https://www.waclighting.com/storage/waclighting-images/specsheet_pdf/R4FBFT_SPSHT.pdf',\n",
       " 'https://www.waclighting.com/storage/waclighting-images/specsheet_pdf/R2FBFT_SPSHT.pdf',\n",
       " 'https://www.waclighting.com/storage/waclighting-images/specsheet_pdf/MO-2007_SPSHT.pdf',\n",
       " 'https://www.waclighting.com/storage/waclighting-images/specsheet_pdf/R1GNTA02_SPSHT.pdf',\n",
       " 'https://www.waclighting.com/storage/waclighting-images/specsheet_pdf/R2RCL_SPSHT.pdf',\n",
       " 'https://www.waclighting.com/storage/waclighting-images/specsheet_pdf/R2RCT_SPSHT.pdf',\n",
       " 'https://www.waclighting.com/storage/waclighting-images/specsheet_pdf/R4RCL_SPSHT.PDF',\n",
       " 'https://www.waclighting.com/storage/waclighting-images/specsheet_pdf/HR-LED411TL_SPSHT.pdf',\n",
       " 'https://www.waclighting.com/storage/waclighting-images/specsheet_pdf/R2RPT_SPSHT.pdf',\n",
       " 'https://www.waclighting.com/storage/waclighting-images/specsheet_pdf/R3CRPL_SPSHT.PDF',\n",
       " 'https://www.waclighting.com/storage/waclighting-images/specsheet_pdf/R3CSPL_SPSHT.pdf',\n",
       " 'https://www.waclighting.com/storage/waclighting-images/specsheet_pdf/R1ASRL_SPSHT.pdf',\n",
       " 'https://www.waclighting.com/storage/waclighting-images/specsheet_pdf/MR-2007_SPSHT.pdf',\n",
       " 'https://www.waclighting.com/product/1-ledme-4/?download=specs2&1676607621',\n",
       " 'https://www.waclighting.com/product/1-ledme-2/?download=specs2&1676603771',\n",
       " 'https://www.waclighting.com/storage/waclighting-images/specsheet_pdf/R2RD1T_SPSHT.pdf',\n",
       " 'https://www.waclighting.com/storage/waclighting-images/specsheet_pdf/R4RD1L_SPSHT.pdf',\n",
       " 'https://www.waclighting.com/product/1-ledme-8/?download=specs2&1676590324',\n",
       " 'https://www.waclighting.com/product/1-ledme-6/?download=specs2&1676590944',\n",
       " 'https://www.waclighting.com/product/2-5-low-voltage-4/?download=specs2&1676595958',\n",
       " 'https://www.waclighting.com/storage/waclighting-images/specsheet_pdf/R3ARDL_SPSHT.pdf',\n",
       " 'https://lithonia.acuitybrands.com/api/products/getasset/lithonia-lighting/47797/0c312bbe-e178-4984-87bd-e108835636ae/vrt-1x4_f.pdf?abl_version=11%2f18%2f2022+18%3a01%3a40&DOC_Type=SPEC_SHEET',\n",
       " 'https://www.axislighting.com/application/files/3116/7778/0070/Stencil-Flex-TDHDP.SPEC.pdf',\n",
       " 'https://www.axislighting.com/application/files/1016/6491/5004/B2SQD.LED.SPEC.pdf',\n",
       " 'https://www.axislighting.com/application/files/8516/5712/4018/Stencil-Pendant-Forms-Combined.SPEC.pdf',\n",
       " 'https://cdn.currentlighting.com/site/specsheet/COL_CRB_spec.pdf',\n",
       " 'https://gothamlighting.acuitybrands.com/api/products/getasset/gotham-lighting/1657457/c999a869-bb6d-445b-8dd7-2a9472d295f9/evo2cc.pdf?abl_version=02%2f22%2f2023+13%3a17%3a20&DOC_Type=SPEC_SHEET',\n",
       " 'https://www.kelvix.com/product/vine/spec-sheet/',\n",
       " 'https://lithonia.acuitybrands.com/api/products/getasset/lithonia-lighting/47522/c99244b8-068c-45bd-bab6-a387ba5982a7/fgb-t5ho.pdf?abl_version=12%2f01%2f2022+21%3a48%3a45&DOC_Type=SPEC_SHEET',\n",
       " 'https://lithonia.acuitybrands.com/api/products/getasset/lithonia-lighting/147039/84afd34b-4023-4af7-acee-8a6528da4fd6/fem_led.pdf?abl_version=03%2f16%2f2023+20%3a31%3a51&DOC_Type=SPEC_SHEET',\n",
       " 'https://www.pinnacle-ltg.com/sites/default/files/2023-02/F48DI_SUSP_LED_SPEC.pdf',\n",
       " 'https://www.pinnacle-ltg.com/sites/default/files/2023-02/LF14DI_SUSP_LED_SPEC.pdf',\n",
       " 'https://sensorswitch.acuitybrands.com/api/products/getasset/holophane/1313255/c2e31950-57b6-4619-9a6a-536408aa48bc/phg.pdf?abl_version=02%2f10%2f2023+13%3a28%3a51&DOC_Type=SPEC_SHEET',\n",
       " 'https://www.waclighting.com/product/caliber-2/?download=specs3&1676594467',\n",
       " 'https://www.waclighting.com/product/felis-2/?download=specs2&1676608268',\n",
       " 'https://www.waclighting.com/product/chamber-2/?download=specs3&1676591886',\n",
       " 'https://www.waclighting.com/product/archetype-5/?download=specs3&1676591945',\n",
       " 'https://www.waclighting.com/product/omega/?download=specs3&1676593530',\n",
       " 'https://www.waclighting.com/product/solaris/?download=specs3&1676581466',\n",
       " 'https://www.waclighting.com/product/emc2/?download=specs3&1676585363',\n",
       " 'https://www.waclighting.com/product/line/?download=specs3&1676602764',\n",
       " 'https://www.waclighting.com/product/stack/?download=specs3&1676620368',\n",
       " 'https://www.waclighting.com/storage/waclighting-images/specsheet_pdf/DC-PD05-CC_SPSHT.pdf',\n",
       " 'https://www.waclighting.com/storage/waclighting-images/specsheet_pdf/DC-PD05_SPSHT.pdf',\n",
       " 'https://www.waclighting.com/storage/waclighting-images/specsheet_pdf/DS-PD05_SPSHT.pdf',\n",
       " 'https://www.waclighting.com/product/loophole/?download=specs3&1676579637',\n",
       " 'https://www.waclighting.com/storage/waclighting-images/specsheet_pdf/DC-PD06_SPSHT.pdf',\n",
       " 'https://www.waclighting.com/storage/waclighting-images/specsheet_pdf/DS-PD06_SPSHT.pdf',\n",
       " 'https://www.waclighting.com/product/lolli/?download=specs3&1676622254',\n",
       " 'https://www.waclighting.com/product/action/?download=specs3&1676612292',\n",
       " 'https://www.waclighting.com/product/crater/?download=specs3&1676601873',\n",
       " 'https://www.waclighting.com/storage/waclighting-images/specsheet_pdf/DS-PD08_SPSHT.pdf',\n",
       " 'https://www.waclighting.com/product/banded/?download=specs3&1676622892',\n",
       " 'https://www.waclighting.com/product/strut-56/?download=specs2&1676620206',\n",
       " 'https://www.waclighting.com/product/strut-57/?download=specs2&1676620195',\n",
       " 'https://www.waclighting.com/storage/waclighting-images/specsheet_pdf/PD2020-HJL_SPSHT.pdf',\n",
       " 'https://www.waclighting.com/product/pavilion/?download=specs3&1676593379',\n",
       " 'https://www.waclighting.com/product/chrysalis/?download=specs3&1676623034',\n",
       " 'https://www.waclighting.com/storage/waclighting-images/specsheet_pdf/PD-2015_SPSHT.pdf',\n",
       " 'https://www.waclighting.com/product/strut-55/?download=specs2&1676620218',\n",
       " 'https://www.waclighting.com/product/sleek/?download=specs3&1676622093',\n",
       " 'https://www.waclighting.com/product/manhattan-2/?download=specs3&1676596849',\n",
       " 'https://www.waclighting.com/product/effervescent/?download=specs3&1676599246',\n",
       " 'https://www.waclighting.com/product/atlas/?download=specs3&1676607068',\n",
       " 'https://www.waclighting.com/product/bullet/?download=specs2&1676616823',\n",
       " 'https://www.waclighting.com/product/strut-54/?download=specs2&1676620230',\n",
       " 'https://www.waclighting.com/product/strut-58/?download=specs2&1676620183',\n",
       " 'https://www.acuitybrands.com/api/products/getasset/holophane/1822857/dd1fc645-f983-480b-a36b-668f791435a7/hexs.pdf?abl_version=02%2f22%2f2023+15%3a31%3a14&DOC_Type=SPEC_SHEET',\n",
       " 'https://cdn.currentlighting.com/site/specsheet/COL_VTH_spec.pdf',\n",
       " 'https://cdn.currentlighting.com/site/specsheet/COL_HBLHO_spec.pdf',\n",
       " 'https://www.acuitybrands.com/api/products/getasset/mark-architectural-lighting/1777921/41cc37ad-3176-4f31-a501-413d6ece5370/s4ld-pendant.pdf?abl_version=03%2f14%2f2023+15%3a19%3a49&DOC_Type=SPEC_SHEET',\n",
       " 'https://www.signify.com/api/assets/v1/file/Signify/content/ce1ca392d36941f9a791ac8700aed343/G3_LED.pdf',\n",
       " 'https://lithonia.acuitybrands.com/api/products/getasset/lithonia-lighting/1717125/3a80ef03-f7a9-41c1-af15-d8dcec167df2/vcvl-led.pdf?abl_version=03%2f13%2f2023+13%3a32%3a15&DOC_Type=SPEC_SHEET',\n",
       " 'https://marklighting.acuitybrands.com/api/products/getasset/mark-architectural-lighting/1777906/2b0ab725-146b-4129-87c4-9db6fb8c2b4f/s2ld-pendant.pdf?abl_version=03%2f14%2f2023+15%3a17%3a01&DOC_Type=SPEC_SHEET',\n",
       " 'https://nlight.acuitybrands.com/api/products/getasset/lithonia-lighting/661864/b1b66061-08f1-4047-b827-78e7fa819cb3/ldn8cyl.pdf?abl_version=12%2f02%2f2022+22%3a08%3a04&DOC_Type=SPEC_SHEET',\n",
       " 'https://lithonia.acuitybrands.com/api/products/getasset/lithonia-lighting/47208/64c684ba-35ac-4de8-a656-ae44e4157916/uns.pdf?abl_version=01%2f17%2f2022+21%3a24%3a09&DOC_Type=SPEC_SHEET',\n",
       " 'https://lithonia.acuitybrands.com/api/products/getasset/lithonia-lighting/1306953/73d1b568-7c40-45e2-a13b-3096fe22cc30/contractor-select-cphb.pdf?abl_version=03%2f08%2f2023+10%3a06%3a30&DOC_Type=SPEC_SHEET',\n",
       " 'https://nlight.acuitybrands.com/api/products/getasset/holophane/1319879/b8c05568-451c-4521-9636-2e2089e20bf4/phz_.pdf?abl_version=02%2f27%2f2023+16%3a58%3a20&DOC_Type=SPEC_SHEET',\n",
       " 'https://sensorswitch.acuitybrands.com/api/products/getasset/lithonia-lighting/1293627/4ec70ad2-a90e-4a17-b3a5-6323069d79a1/cphb.pdf?abl_version=03%2f15%2f2023+15%3a56%3a36&DOC_Type=SPEC_SHEET',\n",
       " 'https://www.acuitybrands.com/api/products/getasset/lithonia-lighting/914317/d000f1e4-48bd-4e85-bf6a-1bd18dc1002c/vcpgx-led.pdf?abl_version=02%2f22%2f2023+15%3a11%3a00&DOC_Type=SPEC_SHEET',\n",
       " 'https://lithonia.acuitybrands.com/api/products/getasset/lithonia-lighting/846006/de3d6d6e-9e71-4882-8073-b449c4e56212/vcpg-led.pdf?abl_version=02%2f27%2f2023+22%3a53%3a02&DOC_Type=SPEC_SHEET',\n",
       " 'https://sensorswitch.acuitybrands.com/api/products/getasset/holophane/1313253/4f8d7bde-92dc-44c4-b942-4d9a4f500555/pxhh_.pdf?abl_version=01%2f10%2f2023+19%3a40%3a24&DOC_Type=SPEC_SHEET',\n",
       " 'https://www.acuitybrands.com/api/products/getasset/holophane/1649334/bcfca2cf-282b-4dbf-a58a-a8e3e6b993d6/holophane-care222-hldmps-cylinder-pendant-with-stem.pdf?abl_version=01%2f12%2f2023+16%3a53%3a44&DOC_Type=SPEC_SHEET',\n",
       " 'https://www.signify.com/api/assets/v1/file/Signify/content/e05963b2720442ddaa5fae6001689d73/FBZ_LED_high_bay.pdf',\n",
       " 'https://lithonia.acuitybrands.com/api/products/getasset/lithonia-lighting/831421/60266728-9a6d-497f-b546-15c3e22df629/contractor-select-jebl.pdf?abl_version=01%2f18%2f2023+10%3a04%3a45&DOC_Type=SPEC_SHEET',\n",
       " 'https://nlight.acuitybrands.com/api/products/getasset/indy/711292/2183fbfd-0a89-4693-95e4-595772d094c7/e3-g2-led-ac.pdf?abl_version=12%2f14%2f2022+18%3a23%3a18&DOC_Type=SPEC_SHEET',\n",
       " 'https://sensorswitch.acuitybrands.com/api/products/getasset/holophane/1313259/8b73aec1-2a30-4101-a365-4479fc794abe/phzl_.pdf?abl_version=02%2f27%2f2023+22%3a04%3a38&DOC_Type=SPEC_SHEET',\n",
       " 'https://cdn.currentlighting.com/site/specsheet/COL_CLB_spec.pdf',\n",
       " 'https://www.signify.com/api/assets/v1/file/PhilipsLighting/content/dadba0c16cbb4e048169a87f0114a2cc/ce-16200.pdf',\n",
       " 'https://www.pinnacle-ltg.com/sites/default/files/2023-02/LF11D_SUSP_LED_SPEC.pdf',\n",
       " 'https://www.acuitybrands.com/api/products/getasset/lithonia-lighting/979956/58503120-c93b-44f0-a4a2-6d51a1403431/rad1-led-spec-sheet_0819.pdf?abl_version=12%2f19%2f2022+18%3a13%3a07&DOC_Type=SPEC_SHEET',\n",
       " 'https://www.acuitybrands.com/api/products/getasset/lithonia-lighting/980041/8a9571c6-ebac-401e-9f1d-38b07dc21d29/radpt-led.pdf?abl_version=12%2f19%2f2022+18%3a13%3a29&DOC_Type=SPEC_SHEET',\n",
       " 'https://lithonia.acuitybrands.com/api/products/getasset/lithonia-lighting/556518/3ce3d609-a836-4591-ac03-94ab91f19145/kax2-led.pdf?abl_version=06%2f21%2f2022+08%3a01%3a15&DOC_Type=SPEC_SHEET',\n",
       " 'https://nlight.acuitybrands.com/api/products/getasset/lithonia-lighting/778271/bbc953fa-eeb0-4a4d-9fc7-936915253e31/dsx0-led-vc.pdf?abl_version=02%2f08%2f2023+10%3a04%3a16&DOC_Type=SPEC_SHEET',\n",
       " 'https://visionairelighting.com/wp-admin/admin-ajax.php?action=outofthebox-download&OutoftheBoxpath=%2F%28a%29%20spec%20sheets%2Farchitectural-lso-l-pt-ar-06_13_2022.pdf&lastpath=%2F%28A%29%20Spec%20Sheets&account_id=dbid:AAAv4IFt3vNayFsFHo-CtHO5R6_ugyP5md8&listtoken=6f411dd52d40dbe2a89951c6b1f36d96',\n",
       " 'https://visionairelighting.com/wp-admin/admin-ajax.php?action=outofthebox-download&OutoftheBoxpath=%2F%28a%29%20spec%20sheets%2Farchitectural-pre-2-m-sl-03-01-23.pdf&lastpath=%2F%28A%29%20Spec%20Sheets&account_id=dbid:AAAv4IFt3vNayFsFHo-CtHO5R6_ugyP5md8&listtoken=384c466c77af84702b1390f2a48aa8e2',\n",
       " 'https://visionairelighting.com/wp-admin/admin-ajax.php?action=outofthebox-download&OutoftheBoxpath=%2F%28a%29%20spec%20sheets%2Farchitectural-pre-2-l-sl-06_13_2022%20%281%29.pdf&lastpath=%2F%28A%29%20Spec%20Sheets&account_id=dbid:AAAv4IFt3vNayFsFHo-CtHO5R6_ugyP5md8&listtoken=19d870dad535290bcc1c47960a50324d',\n",
       " 'https://visionairelighting.com/wp-admin/admin-ajax.php?action=outofthebox-download&OutoftheBoxpath=%2F%28a%29%20spec%20sheets%2Fwall_ceiling-pga-08_29_2022.pdf&lastpath=%2F%28A%29%20Spec%20Sheets&account_id=dbid:AAAv4IFt3vNayFsFHo-CtHO5R6_ugyP5md8&listtoken=b6f2059b1b3db0b191e47b412e9de134',\n",
       " 'https://www.waclighting.com/product/archetype-4/?download=specs3&1676589330',\n",
       " 'https://www.waclighting.com/product/chamber-3/?download=specs3&1676597666',\n",
       " 'https://www.signify.com/api/assets/v1/file/Signify/content/3d3df15639044b6692b3af4d0109acca/SolarForm_Gen2_Large_CST.pdf',\n",
       " 'https://visionairelighting.com/wp-admin/admin-ajax.php?action=outofthebox-download&OutoftheBoxpath=%2F%28a%29%20spec%20sheets%2Froadway-rlx-3-ar-08_30_2022.pdf&lastpath=%2F%28A%29%20Spec%20Sheets&account_id=dbid:AAAv4IFt3vNayFsFHo-CtHO5R6_ugyP5md8&listtoken=a26871256e1e30c90b4ad84af9bef378',\n",
       " 'https://www.acuitybrands.com/api/products/getasset/lithonia-lighting/998653/e75c2312-c670-4076-a41e-c22e2d2ae71e/lithonia-rsx4-area-led.pdf?abl_version=02%2f13%2f2023+21%3a26%3a20&DOC_Type=SPEC_SHEET',\n",
       " 'https://lithonia.acuitybrands.com/api/products/getasset/lithonia-lighting/885168/a8bae80a-f613-47b0-87cc-c905c7195101/lithonia-rsx1-area-led.pdf?abl_version=02%2f13%2f2023+21%3a36%3a25&DOC_Type=SPEC_SHEET',\n",
       " 'https://www.acuitybrands.com/api/products/getasset/lithonia-lighting/854453/943fbdcf-ab52-4666-a6f9-0651f1a57876/lithonia-rsxf2-flood-led.pdf?abl_version=01%2f12%2f2023+14%3a52%3a41&DOC_Type=SPEC_SHEET',\n",
       " 'https://lithonia.acuitybrands.com/api/products/getasset/lithonia-lighting/998655/2551414e-b0b3-4c68-b616-5fdca577ec9d/lithonia-rsxf4-flood-led.pdf?abl_version=01%2f12%2f2023+14%3a56%3a30&DOC_Type=SPEC_SHEET',\n",
       " 'https://www.axislighting.com/application/files/1016/7811/8258/B6R.ASY.LED-B3.SPEC.pdf',\n",
       " 'https://www.signify.com/api/assets/v1/file/PhilipsLighting/content/94df1befd9a34961af1da87f01148fd6/cc-27800.pdf',\n",
       " 'https://cdn.currentlighting.com/site/specsheet/COL_CTK_spec.pdf',\n",
       " 'https://cdn.currentlighting.com/site/specsheet/DL_CLL_SPEC.pdf',\n",
       " 'https://www.signify.com/api/assets/v1/file/Signify/content/85ed49e179dd47868463a87f0124ce11/SlenderForm_Canopy_SFC_and_SFCR_Gen2.pdf',\n",
       " 'https://gothamlighting.acuitybrands.com/api/products/getasset/gotham-lighting/1657547/3ab334ba-ea2d-4f55-85f9-1bd1294b543c/evo6vr.pdf?abl_version=11%2f17%2f2022+23%3a36%3a26&DOC_Type=SPEC_SHEET',\n",
       " 'https://www.acuitybrands.com/api/products/getasset/lithonia-lighting/651849/8dd9748f-95ba-46f5-8544-12581e8d23fc/ldn3sq.pdf?abl_version=08%2f29%2f2022+17%3a03%3a45&DOC_Type=SPEC_SHEET',\n",
       " 'https://juno.acuitybrands.com/api/products/getasset/juno/660770/d813c517-276c-403b-9b9e-f79802b22d5d/g5_6_1.pdf?abl_version=08%2f14%2f2022+01%3a13%3a30&DOC_Type=SPEC_SHEET',\n",
       " 'https://www.signify.com/api/assets/v1/file/Signify/content/234d60f954ab452ea926ab4901239ac1/TruGroove_Cove_SpecSheet.pdf',\n",
       " 'https://www.signify.com/api/assets/v1/file/Signify/content/ff9ca8fb4b5e40358283aa63007e6b55/TruGroove_Recessed_SpecSheet.pdf',\n",
       " 'https://www.signify.com/api/assets/v1/file/Signify/content/42211e5d3ec346c690baaa63007e3efc/ArcForm_Recessed_SpecSheet.pdf',\n",
       " 'https://www.signify.com/api/assets/v1/file/Signify/content/b961bc121bfc40d7b111ab370184e7e3/Shine_Recessed_SpecSheet.pdf',\n",
       " 'https://lithonia.acuitybrands.com/api/products/getasset/lithonia-lighting/1099680/e3d95175-760d-4579-9a9d-4fbcba2df71c/contractor-select-ldn.pdf?abl_version=11%2f23%2f2022+10%3a28%3a45&DOC_Type=SPEC_SHEET',\n",
       " 'https://marklighting.acuitybrands.com/api/products/getasset/mark-architectural-lighting/47646/c3125937-48e1-4991-a62e-5b32a8e2ab2d/veil.pdf?abl_version=01%2f25%2f2022+22%3a16%3a50&DOC_Type=SPEC_SHEET',\n",
       " 'https://noralighting.com/wp-content/uploads/2022/06/NPDBLSW_spec.pdf',\n",
       " 'https://www.pinnacle-ltg.com/sites/default/files/2023-02/CRD_LED_SPEC.pdf',\n",
       " 'https://www.pinnacle-ltg.com/sites/default/files/2023-02/Cove_LED_SPEC.pdf',\n",
       " 'https://www.pinnacle-ltg.com/sites/default/files/2022-05/EV2D_IC_SPEC.pdf',\n",
       " 'https://www.pinnacle-ltg.com/sites/default/files/2023-02/EV3D_LED_SPEC.pdf',\n",
       " 'https://www.pinnacle-ltg.com/sites/default/files/2022-05/EV3D_IC_SPEC.pdf',\n",
       " 'https://www.pinnacle-ltg.com/sites/default/files/2023-02/EV4D_LED_SPEC.pdf',\n",
       " 'https://www.pinnacle-ltg.com/sites/default/files/2022-05/EV4D_IC_SPEC.pdf',\n",
       " 'https://www.pinnacle-ltg.com/sites/default/files/2023-02/EV6_LED_SPEC.pdf',\n",
       " 'https://www.pinnacle-ltg.com/sites/default/files/2023-02/ET4WW_LED_SPEC.pdf',\n",
       " 'https://www.pinnacle-ltg.com/sites/default/files/2023-02/EV3WG_LED_SPEC.pdf',\n",
       " 'https://www.pinnacle-ltg.com/sites/default/files/2023-02/EV6WET_LED_SPEC.pdf',\n",
       " 'https://www.pinnacle-ltg.com/sites/default/files/2023-02/F14D_REC_SA_SPEC.pdf',\n",
       " 'https://www.pinnacle-ltg.com/sites/default/files/2023-02/LF12D_REC_SA_SPEC.pdf',\n",
       " 'https://www.waclighting.com/storage/waclighting-images/specsheet_pdf/MT-21DL_SPSHT.pdf',\n",
       " 'https://www.waclighting.com/storage/waclighting-images/specsheet_pdf/5031-CC_SPSHT.pdf',\n",
       " 'https://www.waclighting.com/storage/waclighting-images/specsheet_pdf/5031_SPSHT.pdf',\n",
       " 'https://www.waclighting.com/storage/waclighting-images/specsheet_pdf/5032_SPSHT.pdf',\n",
       " 'https://cdn.currentlighting.com/site/specsheet/dl_cl_spec.pdf',\n",
       " 'https://www.belfuse.com/resources/datasheets/circuitprotection/ds-cp-c1f-series.pdf',\n",
       " 'https://www.belfuse.com/resources/datasheets/circuitprotection/ds-cp-c2f-series.pdf',\n",
       " 'https://www.belfuse.com/resources/datasheets/circuitprotection/ds-cp-c2q-series.pdf',\n",
       " 'https://www.vishay.com/docs/28747/mfuserie.pdf',\n",
       " 'https://industrial.panasonic.com/cdbs/www-data/pdf/AFA0000/AFA0000C7.pdf',\n",
       " 'https://industrial.panasonic.com/cdbs/www-data/pdf/AFA0000/AFA0000C7.pdf',\n",
       " 'https://industrial.panasonic.com/cdbs/www-data/pdf/AFA0000/AFA0000C7.pdf',\n",
       " 'https://industrial.panasonic.com/cdbs/www-data/pdf/AFA0000/AFA0000C7.pdf',\n",
       " 'https://www.belfuse.com/resources/datasheets/circuitprotection/ds-cp-0679l-series.pdf',\n",
       " 'https://www.belfuse.com/resources/datasheets/circuitprotection/ds-cp-c1f-series.pdf',\n",
       " 'https://www.belfuse.com/resources/datasheets/circuitprotection/ds-cp-c1f-series.pdf',\n",
       " 'https://www.belfuse.com/resources/datasheets/circuitprotection/ds-cp-c1f-series.pdf',\n",
       " 'https://www.belfuse.com/resources/datasheets/circuitprotection/ds-cp-c1f-series.pdf',\n",
       " 'https://www.belfuse.com/resources/datasheets/circuitprotection/ds-cp-c1f-series.pdf',\n",
       " 'https://www.belfuse.com/resources/datasheets/circuitprotection/ds-cp-c1t-series.pdf',\n",
       " 'https://www.belfuse.com/resources/datasheets/circuitprotection/ds-cp-c1t-series.pdf',\n",
       " 'https://www.belfuse.com/resources/datasheets/circuitprotection/ds-cp-c1t-series.pdf',\n",
       " 'https://www.belfuse.com/resources/datasheets/circuitprotection/ds-cp-c2q-series.pdf',\n",
       " 'https://www.belfuse.com/resources/datasheets/circuitprotection/ds-cp-c2q-series.pdf',\n",
       " 'https://www.belfuse.com/resources/datasheets/circuitprotection/ds-cp-c1t-series.pdf',\n",
       " 'https://www.belfuse.com/resources/datasheets/circuitprotection/ds-cp-c2q-series.pdf',\n",
       " 'https://www.belfuse.com/resources/datasheets/circuitprotection/ds-cp-c1t-series.pdf',\n",
       " 'https://www.belfuse.com/resources/datasheets/circuitprotection/ds-cp-c1t-series.pdf',\n",
       " 'https://www.littelfuse.com/media?resourcetype=datasheets&itemid=42c9dd21-a88e-4328-8e67-2f832444faf1&filename=littelfuse_datasheet_297_mini32v.pdf',\n",
       " 'https://www.belfuse.com/resources/datasheets/circuitprotection/ds-cp-c2q-series.pdf',\n",
       " 'https://www.belfuse.com/resources/datasheets/circuitprotection/ds-cp-c1t-series.pdf',\n",
       " 'https://www.belfuse.com/resources/datasheets/circuitprotection/ds-cp-c1h-series.pdf',\n",
       " 'https://www.belfuse.com/resources/datasheets/circuitprotection/ds-cp-c1t-series.pdf',\n",
       " 'https://www.belfuse.com/resources/datasheets/circuitprotection/ds-cp-c1t-series.pdf',\n",
       " 'https://www.belfuse.com/resources/datasheets/circuitprotection/ds-cp-c1h-series.pdf',\n",
       " 'https://www.belfuse.com/resources/datasheets/circuitprotection/ds-cp-c1h-series.pdf',\n",
       " 'https://www.littelfuse.com/media?resourcetype=datasheets&itemid=42c9dd21-a88e-4328-8e67-2f832444faf1&filename=littelfuse_datasheet_297_mini32v.pdf',\n",
       " 'https://www.belfuse.com/resources/datasheets/circuitprotection/ds-cp-c1h-series.pdf',\n",
       " 'https://www.littelfuse.com/media?resourcetype=datasheets&itemid=42c9dd21-a88e-4328-8e67-2f832444faf1&filename=littelfuse_datasheet_297_mini32v.pdf',\n",
       " 'https://www.belfuse.com/resources/datasheets/circuitprotection/ds-cp-c1q-series.pdf',\n",
       " 'https://www.belfuse.com/resources/datasheets/circuitprotection/ds-cp-rst-series.pdf',\n",
       " 'https://www.belfuse.com/resources/datasheets/circuitprotection/ds-cp-c1q-series.pdf',\n",
       " 'https://www.belfuse.com/resources/datasheets/circuitprotection/ds-cp-c1q-series.pdf',\n",
       " 'https://www.belfuse.com/resources/datasheets/circuitprotection/ds-cp-c1q-series.pdf',\n",
       " 'https://www.belfuse.com/resources/datasheets/circuitprotection/ds-cp-c1q-series.pdf',\n",
       " 'https://www.belfuse.com/resources/datasheets/circuitprotection/ds-cp-c1q-series.pdf',\n",
       " 'https://www.littelfuse.com/media?resourcetype=datasheets&itemid=3d41d6b7-af0b-41bc-bce0-d5b1432b6058&filename=littelfuse-fuse-392-datasheet',\n",
       " 'https://www.belfuse.com/resources/datasheets/circuitprotection/ds-cp-0679l-series.pdf',\n",
       " 'https://www.belfuse.com/resources/datasheets/circuitprotection/ds-cp-0679h-series.pdf',\n",
       " 'https://www.belfuse.com/resources/datasheets/circuitprotection/ds-cp-0679l-series.pdf',\n",
       " 'https://www.belfuse.com/resources/datasheets/circuitprotection/ds-cp-0679h-series.pdf',\n",
       " 'https://www.belfuse.com/resources/datasheets/circuitprotection/ds-cp-0679l-series.pdf',\n",
       " 'https://www.littelfuse.com/media?resourcetype=datasheets&itemid=43dcdce8-8ca2-426f-8998-7e566f048d40&filename=littelfuse_datasheet_287_atof_r2.7.pdf',\n",
       " 'https://www.littelfuse.com/media?resourcetype=datasheets&itemid=43dcdce8-8ca2-426f-8998-7e566f048d40&filename=littelfuse_datasheet_287_atof_r2.7.pdf',\n",
       " 'https://www.littelfuse.com/media?resourcetype=datasheets&itemid=43dcdce8-8ca2-426f-8998-7e566f048d40&filename=littelfuse_datasheet_287_atof_r2.7.pdf',\n",
       " 'https://www.littelfuse.com/media?resourcetype=datasheets&itemid=43dcdce8-8ca2-426f-8998-7e566f048d40&filename=littelfuse_datasheet_287_atof_r2.7.pdf',\n",
       " 'https://www.belfuse.com/resources/datasheets/circuitprotection/ds-cp-0679h-series.pdf',\n",
       " 'https://www.belfuse.com/resources/datasheets/circuitprotection/ds-cp-c1t-series.pdf',\n",
       " 'https://www.littelfuse.com/media?resourcetype=datasheets&itemid=42c9dd21-a88e-4328-8e67-2f832444faf1&filename=littelfuse_datasheet_297_mini32v.pdf',\n",
       " 'https://www.littelfuse.com/media?resourcetype=datasheets&itemid=42c9dd21-a88e-4328-8e67-2f832444faf1&filename=littelfuse_datasheet_297_mini32v.pdf',\n",
       " 'https://www.belfuse.com/resources/datasheets/circuitprotection/ds-cp-c1h-series.pdf',\n",
       " 'https://datasheets.kyocera-avx.com/AccuGuard2.pdf',\n",
       " 'https://www.belfuse.com/resources/datasheets/circuitprotection/ds-cp-0679l-series.pdf',\n",
       " 'https://datasheets.kyocera-avx.com/AccuGuard2.pdf',\n",
       " 'https://www.schurter.com/en/datasheet/typ_FSF_5x20.pdf',\n",
       " 'https://www.bourns.com/docs/product-datasheets/sf-1206s.pdf?sfvrsn=e6b376e3_35',\n",
       " 'https://www.littelfuse.com/media?resourcetype=datasheets&itemid=43dcdce8-8ca2-426f-8998-7e566f048d40&filename=littelfuse_datasheet_287_atof_r2.7.pdf',\n",
       " 'https://datasheets.kyocera-avx.com/AccuGuard2.pdf',\n",
       " 'https://www.littelfuse.com/media?resourcetype=datasheets&itemid=af55be94-c42e-41b1-ad43-e070e09443fe&filename=littelfuse-fuse-217-datasheet',\n",
       " 'https://www.belfuse.com/resources/datasheets/circuitprotection/ds-cp-0680l-series.pdf',\n",
       " 'https://www.belfuse.com/resources/datasheets/circuitprotection/ds-cp-rsta-series.pdf',\n",
       " 'https://www.belfuse.com/resources/datasheets/circuitprotection/ds-cp-5st-5stp-series.pdf',\n",
       " 'https://www.belfuse.com/resources/datasheets/circuitprotection/ds-cp-0680l-series.pdf',\n",
       " 'https://www.schurter.com/en/datasheet/typ_FST_5x20.pdf',\n",
       " 'https://www.schurter.com/en/datasheet/typ_FST_5x20.pdf',\n",
       " 'https://www.belfuse.com/resources/datasheets/circuitprotection/ds-cp-mrt-series.pdf',\n",
       " 'https://www.schurter.com/en/datasheet/typ_FST_5x20.pdf',\n",
       " 'https://www.schurter.com/en/datasheet/typ_FST_5x20.pdf',\n",
       " 'https://www.schurter.com/en/datasheet/typ_FST_5x20.pdf',\n",
       " 'https://www.belfuse.com/resources/datasheets/circuitprotection/ds-cp-0679l-series.pdf',\n",
       " 'https://www.belfuse.com/resources/datasheets/circuitprotection/ds-cp-rst-series.pdf',\n",
       " 'https://www.eaton.com/content/dam/eaton/products/electronic-components/resources/data-sheet/eaton-0603fa-fast-acting-chip-surface-mount-fuse-data-sheet.pdf',\n",
       " 'https://www.belfuse.com/resources/datasheets/circuitprotection/ds-cp-rst-series.pdf',\n",
       " 'https://www.belfuse.com/resources/datasheets/circuitprotection/ds-cp-rst-series.pdf',\n",
       " 'https://www.belfuse.com/resources/datasheets/circuitprotection/ds-cp-0679l-series.pdf',\n",
       " 'https://www.belfuse.com/resources/datasheets/circuitprotection/ds-cp-5et-5etp-series.pdf',\n",
       " 'https://www.belfuse.com/resources/datasheets/circuitprotection/ds-cp-5et-5etp-series.pdf',\n",
       " 'https://us.schurter.com/en/datasheet/typ_MSF_250.pdf',\n",
       " 'https://www.eaton.com/content/dam/eaton/products/electronic-components/resources/data-sheet/eaton-0603fa-fast-acting-chip-surface-mount-fuse-data-sheet.pdf',\n",
       " 'https://www.bourns.com/pdfs/SF1206F.pdf',\n",
       " 'https://datasheets.kyocera-avx.com/AccuGuard2.pdf',\n",
       " 'https://us.schurter.com/en/datasheet/typ_UST_1206.pdf',\n",
       " 'https://us.schurter.com/en/datasheet/typ_UST_1206.pdf',\n",
       " 'https://us.schurter.com/en/datasheet/typ_UST_1206.pdf',\n",
       " 'https://us.schurter.com/en/datasheet/typ_UST_1206.pdf',\n",
       " 'https://www.littelfuse.com/media?resourcetype=datasheets&itemid=79b16c87-8337-4c9c-96d1-6ac09ce4e440&filename=littelfuse_fuse_235_datasheet.pdf',\n",
       " 'https://www.bourns.com/docs/product-datasheets/sf-1206s.pdf?sfvrsn=e6b376e3_35',\n",
       " 'https://www.bourns.com/docs/product-datasheets/sf-1206s.pdf?sfvrsn=e6b376e3_35',\n",
       " 'https://www.bourns.com/docs/product-datasheets/sf-1206s.pdf?sfvrsn=e6b376e3_35',\n",
       " 'https://www.vishay.com/docs/28747/mfuserie.pdf',\n",
       " 'https://www.belfuse.com/resources/datasheets/circuitprotection/ds-cp-rst-series.pdf',\n",
       " 'https://www.bourns.com/docs/product-datasheets/sf0603s.pdf',\n",
       " 'https://www.bourns.com/docs/product-datasheets/sf0603s.pdf',\n",
       " 'https://www.vishay.com/docs/28747/mfuserie.pdf',\n",
       " 'https://www.bourns.com/docs/product-datasheets/sf0603s.pdf',\n",
       " 'https://www.littelfuse.com/~/media/electronics/datasheets/fuses/littelfuse_fuse_369_datasheet.pdf.pdf',\n",
       " 'https://www.littelfuse.com/~/media/electronics/datasheets/fuses/littelfuse_fuse_369_datasheet.pdf.pdf',\n",
       " 'https://us.schurter.com/en/datasheet/typ_USF_1206.pdf',\n",
       " 'https://www.bourns.com/docs/product-datasheets/sf-1206s.pdf?sfvrsn=e6b376e3_35',\n",
       " 'https://us.schurter.com/en/datasheet/typ_USF_1206.pdf',\n",
       " 'https://www.vishay.com/docs/28747/mfuserie.pdf',\n",
       " 'https://www.eaton.com/content/dam/eaton/products/electronic-components/resources/data-sheet/eaton-gma-time-delay-glass-tube-fuses-data-sheet.pdf',\n",
       " 'https://www.belfuse.com/resources/datasheets/circuitprotection/ds-cp-0680l-series.pdf',\n",
       " 'https://www.belfuse.com/resources/datasheets/circuitprotection/ds-cp-5tt-5ttp-series.pdf',\n",
       " 'https://www.belfuse.com/resources/datasheets/circuitprotection/ds-cp-0680l-series.pdf',\n",
       " 'https://us.schurter.com/en/datasheet/typ_SPT_5x20.pdf',\n",
       " 'https://us.schurter.com/en/datasheet/typ_SPT_5x20.pdf',\n",
       " 'https://us.schurter.com/en/datasheet/typ_USF_0603.pdf',\n",
       " 'https://www.belfuse.com/resources/datasheets/circuitprotection/ds-cp-0680l-series.pdf',\n",
       " 'https://www.belfuse.com/resources/datasheets/circuitprotection/ds-cp-5tt-5ttp-series.pdf',\n",
       " 'https://www.belfuse.com/resources/datasheets/circuitprotection/ds-cp-0680l-series.pdf',\n",
       " 'https://www.belfuse.com/resources/datasheets/circuitprotection/ds-cp-5st-5stp-series.pdf',\n",
       " 'https://www.belfuse.com/resources/datasheets/circuitprotection/ds-cp-5st-5stp-series.pdf',\n",
       " 'https://www.belfuse.com/resources/datasheets/circuitprotection/ds-cp-5st-5stp-series.pdf',\n",
       " 'https://www.littelfuse.com/media?resourcetype=datasheets&itemid=dbe9bcd7-6072-4adf-bf5b-d33e52a6b90f&filename=littelfuse-fuse-466-datasheet',\n",
       " 'https://www.littelfuse.com/media?resourcetype=datasheets&itemid=dbe9bcd7-6072-4adf-bf5b-d33e52a6b90f&filename=littelfuse-fuse-466-datasheet',\n",
       " 'https://www.belfuse.com/resources/datasheets/circuitprotection/ds-cp-0680l-series.pdf',\n",
       " 'https://www.bourns.com/docs/product-datasheets/sf-0603fp-f.pdf?sfvrsn=2fb870f6_12',\n",
       " 'https://us.schurter.com/en/datasheet/typ_UST_1206.pdf',\n",
       " 'https://www.bourns.com/docs/product-datasheets/sf-0603fp-f.pdf?sfvrsn=2fb870f6_12',\n",
       " 'https://us.schurter.com/en/datasheet/typ_UST_1206.pdf',\n",
       " 'https://us.schurter.com/en/datasheet/typ_UMT_250.pdf',\n",
       " 'https://us.schurter.com/en/datasheet/typ_UMT_250.pdf',\n",
       " 'https://us.schurter.com/en/datasheet/typ_UMT_250.pdf',\n",
       " 'https://us.schurter.com/en/datasheet/typ_UMT_250.pdf',\n",
       " 'https://us.schurter.com/en/datasheet/typ_UMT_250.pdf',\n",
       " 'https://us.schurter.com/en/datasheet/typ_UMT_250.pdf',\n",
       " 'https://us.schurter.com/en/datasheet/typ_UMT_250.pdf',\n",
       " 'https://us.schurter.com/en/datasheet/typ_UMT_250.pdf',\n",
       " 'https://us.schurter.com/en/datasheet/typ_UMT_250.pdf',\n",
       " 'https://us.schurter.com/en/datasheet/typ_UMT_250.pdf',\n",
       " 'https://www.belfuse.com/resources/datasheets/circuitprotection/ds-cp-5ht-5htp-series.pdf',\n",
       " 'https://us.schurter.com/en/datasheet/typ_USI_1206.pdf',\n",
       " 'https://us.schurter.com/en/datasheet/typ_USI_1206.pdf',\n",
       " 'https://www.belfuse.com/resources/datasheets/circuitprotection/ds-cp-0680l-series.pdf',\n",
       " 'https://www.bourns.com/docs/product-datasheets/sf-0603sp-m.pdf?sfvrsn=4a8676f6_13',\n",
       " 'https://us.schurter.com/en/datasheet/typ_USFF_1206.pdf',\n",
       " 'https://us.schurter.com/en/datasheet/typ_USFF_1206.pdf',\n",
       " 'https://datasheets.kyocera-avx.com/AccuGuard2.pdf',\n",
       " 'https://us.schurter.com/en/datasheet/typ_USFF_1206.pdf',\n",
       " 'https://www.bourns.com/docs/product-datasheets/sf-0603sp-m.pdf?sfvrsn=4a8676f6_13',\n",
       " 'https://us.schurter.com/en/datasheet/typ_OMT_125.pdf',\n",
       " 'https://us.schurter.com/en/datasheet/typ_OMT_125.pdf',\n",
       " 'https://us.schurter.com/en/datasheet/typ_OMT_125.pdf',\n",
       " 'https://www.schurter.com/en/datasheet/typ_FST_5x20.pdf',\n",
       " 'https://www.schurter.com/en/datasheet/typ_FST_5x20.pdf',\n",
       " 'https://us.schurter.com/en/datasheet/typ_UMT_250.pdf',\n",
       " 'https://us.schurter.com/en/datasheet/typ_UMT_250.pdf',\n",
       " 'https://www.schurter.com/en/datasheet/typ_UMF_250.pdf',\n",
       " 'https://www.littelfuse.com/media?resourcetype=datasheets&itemid=b3bb718b-1fde-4cdc-9cb1-a6465c126ec4&filename=littelfuse_fuse_407_datasheet.pdf',\n",
       " 'https://www.littelfuse.com/~/media/electronics/datasheets/fuses/littelfuse_fuse_501_datasheet.pdf.pdf',\n",
       " 'https://www.littelfuse.com/media?resourcetype=datasheets&itemid=940d0796-6fe6-45c7-8a1a-6bc17d56c743&filename=littelfuse_fuse_440_datasheet.pdf',\n",
       " 'https://datasheets.kyocera-avx.com/AccuGuardLC_0402.pdf',\n",
       " 'https://datasheets.kyocera-avx.com/AccuGuard2.pdf',\n",
       " 'https://datasheets.kyocera-avx.com/AccuGuardLC_0402.pdf',\n",
       " 'https://www.littelfuse.com/media?resourcetype=datasheets&itemid=fa879bdf-e528-428e-bf24-ff917a92d7c1&filename=working-littelfuse-fuse-370-datasheet',\n",
       " 'https://www.littelfuse.com/media?resourcetype=datasheets&itemid=fa879bdf-e528-428e-bf24-ff917a92d7c1&filename=working-littelfuse-fuse-370-datasheet',\n",
       " 'https://www.eaton.com/content/dam/eaton/products/electronic-components/resources/data-sheet/eaton-gma-time-delay-glass-tube-fuses-data-sheet.pdf',\n",
       " 'https://www.littelfuse.com/media?resourcetype=datasheets&itemid=fa879bdf-e528-428e-bf24-ff917a92d7c1&filename=working-littelfuse-fuse-370-datasheet',\n",
       " 'https://www.bourns.com/docs/product-datasheets/sf-2410sp-w.pdf?sfvrsn=186e71f6_10',\n",
       " 'https://www.eaton.com/content/dam/eaton/products/electronic-components/resources/data-sheet/eaton-agc-fast-acting-glass-tube-fuses-data-sheet.pdf',\n",
       " 'https://www.littelfuse.com/media?resourcetype=datasheets&itemid=dbe9bcd7-6072-4adf-bf5b-d33e52a6b90f&filename=littelfuse-fuse-466-datasheet',\n",
       " 'https://www.littelfuse.com/media?resourcetype=datasheets&itemid=dbe9bcd7-6072-4adf-bf5b-d33e52a6b90f&filename=littelfuse-fuse-466-datasheet',\n",
       " 'https://www.littelfuse.com/media?resourcetype=datasheets&itemid=dbe9bcd7-6072-4adf-bf5b-d33e52a6b90f&filename=littelfuse-fuse-466-datasheet',\n",
       " 'https://www.littelfuse.com/media?resourcetype=datasheets&itemid=dbe9bcd7-6072-4adf-bf5b-d33e52a6b90f&filename=littelfuse-fuse-466-datasheet',\n",
       " 'https://www.littelfuse.com/media?resourcetype=datasheets&itemid=dbe9bcd7-6072-4adf-bf5b-d33e52a6b90f&filename=littelfuse-fuse-466-datasheet',\n",
       " 'https://www.littelfuse.com/media?resourcetype=datasheets&itemid=dbe9bcd7-6072-4adf-bf5b-d33e52a6b90f&filename=littelfuse-fuse-466-datasheet',\n",
       " 'https://www.littelfuse.com/media?resourcetype=datasheets&itemid=dbe9bcd7-6072-4adf-bf5b-d33e52a6b90f&filename=littelfuse-fuse-466-datasheet',\n",
       " 'https://www.bourns.com/docs/product-datasheets/sf-0402s.pdf?sfvrsn=f0ccac57_31',\n",
       " 'https://www.eaton.com/content/dam/eaton/products/electronic-components/resources/data-sheet/eaton-3216ff-surface-mount-fuse-data-sheet.pdf',\n",
       " 'https://www.bourns.com/docs/product-datasheets/sf-1206s-m.pdf?sfvrsn=cae676f6_16',\n",
       " 'https://www.schurter.com/en/datasheet/typ_OMF_125.pdf',\n",
       " 'https://www.eaton.com/content/dam/eaton/products/electronic-components/resources/data-sheet/eaton-cb61f-surface-mount-brick-fuses-data-sheet.pdf',\n",
       " 'https://us.schurter.com/en/datasheet/typ_SPT_5x20_Pigtail.pdf',\n",
       " 'https://www.eaton.com/content/dam/eaton/products/electronic-components/resources/data-sheet/eaton-3216ff-surface-mount-fuse-data-sheet.pdf',\n",
       " 'https://www.littelfuse.com/media?resourcetype=datasheets&itemid=dbe9bcd7-6072-4adf-bf5b-d33e52a6b90f&filename=littelfuse-fuse-466-datasheet',\n",
       " 'https://www.littelfuse.com/media?resourcetype=datasheets&itemid=dbe9bcd7-6072-4adf-bf5b-d33e52a6b90f&filename=littelfuse-fuse-466-datasheet',\n",
       " 'https://www.littelfuse.com/media?resourcetype=datasheets&itemid=dbe9bcd7-6072-4adf-bf5b-d33e52a6b90f&filename=littelfuse-fuse-466-datasheet',\n",
       " 'https://datasheets.kyocera-avx.com/AccuGuardLC_0402.pdf',\n",
       " 'https://www.littelfuse.com/media?resourcetype=datasheets&itemid=dbe9bcd7-6072-4adf-bf5b-d33e52a6b90f&filename=littelfuse-fuse-466-datasheet',\n",
       " 'https://datasheets.kyocera-avx.com/AccuGuardLC_0402.pdf',\n",
       " 'https://datasheets.kyocera-avx.com/AccuGuardLC_0402.pdf',\n",
       " 'https://www.littelfuse.com/media?resourcetype=datasheets&itemid=4dc83e9a-53ad-466b-a4c5-6d892a1e349b&filename=littelfuse_fuse_229_230_datasheet.pdf',\n",
       " 'https://datasheets.kyocera-avx.com/AccuGuardLC_0402.pdf',\n",
       " 'https://datasheets.kyocera-avx.com/AccuGuardLC_0402.pdf',\n",
       " 'https://datasheets.kyocera-avx.com/AccuGuardLC_0402.pdf',\n",
       " 'https://www.eaton.com/content/dam/eaton/products/electronic-components/resources/data-sheet/eaton-3216ff-surface-mount-fuse-data-sheet.pdf',\n",
       " 'https://www.littelfuse.com/~/media/electronics/datasheets/fuses/littelfuse_fuse_441_datasheet.pdf.pdf',\n",
       " 'https://datasheets.kyocera-avx.com/AccuGuardLC_0402.pdf',\n",
       " 'https://www.littelfuse.com/media?resourcetype=datasheets&itemid=f47a0bb7-8ede-4679-9646-7114c3787688&filename=littelfuse-fuse-251-253-datasheet',\n",
       " 'https://www.belfuse.com/resources/datasheets/circuitprotection/ds-CP-0685P-series.pdf',\n",
       " 'https://www.littelfuse.com/~/media/electronics/datasheets/fuses/littelfuse_fuse_437_datasheet.pdf.pdf',\n",
       " 'https://us.schurter.com/en/datasheet/typ_SHT_6.3x32_Pigtail.pdf',\n",
       " 'https://www.littelfuse.com/media?resourcetype=datasheets&itemid=3a419d96-9ce7-47cd-8c71-4ff91f37569c&filename=littelfuse_fuse_374_datasheet.pdf',\n",
       " 'https://www.belfuse.com/resources/datasheets/circuitprotection/ds-cp-0678l-series.pdf',\n",
       " 'https://www.belfuse.com/resources/datasheets/circuitprotection/ds-cp-0678l-series.pdf',\n",
       " 'https://datasheets.kyocera-avx.com/AccuGuardLC_0402.pdf',\n",
       " 'https://www.belfuse.com/resources/datasheets/circuitprotection/ds-cp-0678h-series.pdf',\n",
       " 'https://www.belfuse.com/resources/datasheets/circuitprotection/ds-cp-0678l-series.pdf',\n",
       " 'https://www.belfuse.com/resources/datasheets/circuitprotection/ds-CP-0685P-series.pdf',\n",
       " 'https://www.littelfuse.com/media?resourcetype=datasheets&itemid=4a59f034-1cca-460e-a5ba-e1e66247c76d&filename=littelfuse_fuse_467_datasheet.pdf',\n",
       " 'https://datasheets.kyocera-avx.com/AccuGuardLC_0402.pdf',\n",
       " 'https://www.littelfuse.com/media?resourcetype=datasheets&itemid=940d0796-6fe6-45c7-8a1a-6bc17d56c743&filename=littelfuse_fuse_440_datasheet.pdf',\n",
       " 'https://www.littelfuse.com/media?resourcetype=datasheets&itemid=f47a0bb7-8ede-4679-9646-7114c3787688&filename=littelfuse_fuse_251_253_datasheet.pdf',\n",
       " 'https://www.littelfuse.com/media?resourcetype=datasheets&itemid=f47a0bb7-8ede-4679-9646-7114c3787688&filename=littelfuse_fuse_251_253_datasheet.pdf',\n",
       " 'https://www.littelfuse.com/media?resourcetype=datasheets&itemid=f47a0bb7-8ede-4679-9646-7114c3787688&filename=littelfuse-fuse-251-253-datasheet',\n",
       " 'https://www.littelfuse.com/media?resourcetype=datasheets&itemid=f47a0bb7-8ede-4679-9646-7114c3787688&filename=littelfuse-fuse-251-253-datasheet',\n",
       " 'https://www.littelfuse.com/media?resourcetype=datasheets&itemid=f47a0bb7-8ede-4679-9646-7114c3787688&filename=littelfuse_fuse_251_253_datasheet.pdf',\n",
       " 'https://www.littelfuse.com/media?resourcetype=datasheets&itemid=f47a0bb7-8ede-4679-9646-7114c3787688&filename=littelfuse_fuse_251_253_datasheet.pdf',\n",
       " 'https://www.littelfuse.com/media?resourcetype=datasheets&itemid=f47a0bb7-8ede-4679-9646-7114c3787688&filename=littelfuse_fuse_251_253_datasheet.pdf',\n",
       " 'https://www.littelfuse.com/media?resourcetype=datasheets&itemid=f47a0bb7-8ede-4679-9646-7114c3787688&filename=littelfuse-fuse-251-253-datasheet',\n",
       " 'https://www.littelfuse.com/media?resourcetype=datasheets&itemid=f47a0bb7-8ede-4679-9646-7114c3787688&filename=littelfuse-fuse-251-253-datasheet',\n",
       " 'https://www.littelfuse.com/~/media/electronics/datasheets/fuses/littelfuse_fuse_501_datasheet.pdf.pdf',\n",
       " 'https://www.littelfuse.com/~/media/electronics/datasheets/fuses/littelfuse_fuse_437_datasheet.pdf.pdf',\n",
       " 'https://www.littelfuse.com/media?resourcetype=brochures&itemid=b04f3712-6b2d-4c40-a36a-e051935607f2&filename=fuse-holder-brochure2022',\n",
       " 'https://www.littelfuse.com/media?resourcetype=datasheets&itemid=24deec6d-9c03-4f0e-b612-8499127355f3&filename=littelfuse_fuse_314_324_datasheet.pdf',\n",
       " 'https://www.littelfuse.com/media?resourcetype=datasheets&itemid=4a59f034-1cca-460e-a5ba-e1e66247c76d&filename=littelfuse_fuse_467_datasheet.pdf',\n",
       " 'https://www.littelfuse.com/media?resourcetype=datasheets&itemid=a96d72b7-5296-4815-88b4-98b2f6738874&filename=littelfuse_fuse_218_datasheet.pdf',\n",
       " 'https://datasheets.kyocera-avx.com/AccuGuardLC_0402.pdf',\n",
       " 'https://www.littelfuse.com/media?resourcetype=datasheets&itemid=a96d72b7-5296-4815-88b4-98b2f6738874&filename=littelfuse_fuse_218_datasheet.pdf',\n",
       " 'https://www.littelfuse.com/media?resourcetype=datasheets&itemid=a96d72b7-5296-4815-88b4-98b2f6738874&filename=littelfuse_fuse_218_datasheet.pdf',\n",
       " 'https://www.littelfuse.com/~/media/electronics/datasheets/fuses/littelfuse_fuse_459_datasheet.pdf.pdf',\n",
       " 'https://www.eaton.com/content/dam/eaton/products/electronic-components/resources/data-sheet/eaton-3216ff-surface-mount-fuse-data-sheet.pdf',\n",
       " 'https://us.schurter.com/en/datasheet/typ_UMZ_250.pdf',\n",
       " 'https://www.littelfuse.com/media?resourcetype=datasheets&itemid=a96d72b7-5296-4815-88b4-98b2f6738874&filename=littelfuse_fuse_218_datasheet.pdf',\n",
       " 'https://www.littelfuse.com/media?resourcetype=datasheets&itemid=3baa8060-00d2-4ce6-8f59-8ee52bea992a&filename=littelfuse_fuse_239_datasheet.pdf',\n",
       " 'https://us.schurter.com/en/datasheet/typ_UMZ_250.pdf',\n",
       " 'https://www.littelfuse.com/media?resourcetype=datasheets&itemid=eca83f55-0201-4b68-9d42-dbdda8349159&filename=littelfuse_fuse_234_datasheet.pdf',\n",
       " 'https://us.schurter.com/en/datasheet/typ_UMZ_250.pdf',\n",
       " 'https://www.littelfuse.com/media?resourcetype=datasheets&itemid=a96d72b7-5296-4815-88b4-98b2f6738874&filename=littelfuse_fuse_218_datasheet.pdf',\n",
       " 'https://www.littelfuse.com/media?resourcetype=datasheets&itemid=a96d72b7-5296-4815-88b4-98b2f6738874&filename=littelfuse_fuse_218_datasheet.pdf',\n",
       " 'https://www.eaton.com/content/dam/eaton/products/electronic-components/resources/data-sheet/eaton-3216ff-surface-mount-fuse-data-sheet.pdf',\n",
       " 'https://www.littelfuse.com/~/media/electronics/datasheets/fuses/littelfuse_fuse_468_datasheet.pdf.pdf',\n",
       " 'https://www.littelfuse.com/~/media/electronics/datasheets/fuses/littelfuse_fuse_468_datasheet.pdf.pdf',\n",
       " 'https://www.littelfuse.com/media?resourcetype=datasheets&itemid=4a59f034-1cca-460e-a5ba-e1e66247c76d&filename=littelfuse_fuse_467_datasheet.pdf',\n",
       " 'https://www.littelfuse.com/media?resourcetype=datasheets&itemid=ba93a49a-a7f2-4cd2-b159-afff91cc8ffd&filename=littelfuse_fuse_435_datasheet.pdf',\n",
       " 'https://www.littelfuse.com/media?resourcetype=datasheets&itemid=7a1adbe4-def3-405c-b2d8-c4df81105dc1&filename=littelfuse_fuse_438_datasheet.pdf',\n",
       " 'https://www.littelfuse.com/media?resourcetype=datasheets&itemid=7a1adbe4-def3-405c-b2d8-c4df81105dc1&filename=littelfuse_fuse_438_datasheet.pdf',\n",
       " 'https://www.littelfuse.com/media?resourcetype=datasheets&itemid=ba93a49a-a7f2-4cd2-b159-afff91cc8ffd&filename=littelfuse_fuse_435_datasheet.pdf',\n",
       " 'https://www.littelfuse.com/media?resourcetype=datasheets&itemid=ba93a49a-a7f2-4cd2-b159-afff91cc8ffd&filename=littelfuse_fuse_435_datasheet.pdf',\n",
       " 'https://www.littelfuse.com/media?resourcetype=datasheets&itemid=4a59f034-1cca-460e-a5ba-e1e66247c76d&filename=littelfuse_fuse_467_datasheet.pdf',\n",
       " 'https://www.littelfuse.com/~/media/electronics/datasheets/fuses/littelfuse_fuse_470_datasheet.pdf.pdf',\n",
       " 'https://www.belfuse.com/resources/datasheets/circuitprotection/ds-cp-gsa-gsap-series.pdf',\n",
       " 'https://www.littelfuse.com/media?resourcetype=datasheets&itemid=a96d72b7-5296-4815-88b4-98b2f6738874&filename=littelfuse_fuse_218_datasheet.pdf',\n",
       " 'https://www.littelfuse.com/media?resourcetype=datasheets&itemid=a96d72b7-5296-4815-88b4-98b2f6738874&filename=littelfuse_fuse_218_datasheet.pdf',\n",
       " 'https://www.littelfuse.com/media?resourcetype=datasheets&itemid=a96d72b7-5296-4815-88b4-98b2f6738874&filename=littelfuse_fuse_218_datasheet.pdf',\n",
       " 'https://www.littelfuse.com/media?resourcetype=datasheets&itemid=a96d72b7-5296-4815-88b4-98b2f6738874&filename=littelfuse_fuse_218_datasheet.pdf',\n",
       " 'https://www.schurter.com/en/datasheet/typ_UMT-H.pdf',\n",
       " 'https://www.schurter.com/en/datasheet/typ_UMT-H.pdf',\n",
       " 'https://www.eaton.com/content/dam/eaton/products/electronic-components/resources/data-sheet/eaton-3216ff-surface-mount-fuse-data-sheet.pdf',\n",
       " 'https://www.schurter.com/en/datasheet/typ_UMT-H.pdf',\n",
       " 'https://www.schurter.com/en/datasheet/typ_UMT-H.pdf',\n",
       " 'https://www.schurter.com/en/datasheet/typ_UMT-H.pdf',\n",
       " 'https://www.schurter.com/en/datasheet/typ_UMT-H.pdf',\n",
       " 'https://www.littelfuse.com/media?resourcetype=datasheets&itemid=1a83e408-fdbe-48de-8389-c4f8ebb8232e&filename=littelfuse-fuse-372-datasheet',\n",
       " 'https://www.littelfuse.com/media?resourcetype=datasheets&itemid=533cd5cc-956c-4243-867f-6ab5a62f6ba1&filename=littelfuse_fuse_451_453_datasheet.pdf',\n",
       " 'https://www.littelfuse.com/media?resourcetype=datasheets&itemid=28004c2f-992c-4d86-8a35-f495c62803a6&filename=littelfuse_fuse_396_datasheet.pdf',\n",
       " 'https://www.littelfuse.com/~/media/electronics/datasheets/fuses/littelfuse_fuse_437_datasheet.pdf.pdf',\n",
       " 'https://www.littelfuse.com/media?resourcetype=datasheets&itemid=82476e74-6b5c-4262-88c8-0e436eab1447&filename=littelfuse_fuse_313_315_datasheet.pdf',\n",
       " 'https://www.littelfuse.com/media?resourcetype=datasheets&itemid=624ac410-146d-47dc-9971-cdaaa78f2c78&filename=littelfuse_fuse_477_datasheet.pdf',\n",
       " 'https://www.belfuse.com/resources/datasheets/circuitprotection/ds-cp-0678h-series.pdf',\n",
       " 'https://www.eaton.com/content/dam/eaton/products/electronic-components/resources/data-sheet/eaton-cb61f-surface-mount-brick-fuses-data-sheet.pdf',\n",
       " 'https://www.littelfuse.com/media?resourcetype=datasheets&itemid=ba93a49a-a7f2-4cd2-b159-afff91cc8ffd&filename=littelfuse_fuse_435_datasheet.pdf',\n",
       " 'https://www.littelfuse.com/media?resourcetype=datasheets&itemid=4a59f034-1cca-460e-a5ba-e1e66247c76d&filename=littelfuse_fuse_467_datasheet.pdf',\n",
       " 'https://www.littelfuse.com/~/media/electronics/datasheets/fuses/littelfuse_fuse_437_datasheet.pdf.pdf',\n",
       " 'https://www.littelfuse.com/media?resourcetype=datasheets&itemid=4a59f034-1cca-460e-a5ba-e1e66247c76d&filename=littelfuse_fuse_467_datasheet.pdf',\n",
       " 'https://www.littelfuse.com/~/media/electronics/datasheets/fuses/littelfuse_fuse_468_datasheet.pdf.pdf',\n",
       " 'https://www.littelfuse.com/media?resourcetype=datasheets&itemid=4a59f034-1cca-460e-a5ba-e1e66247c76d&filename=littelfuse_fuse_467_datasheet.pdf',\n",
       " 'https://www.littelfuse.com/~/media/electronics/datasheets/fuses/littelfuse_fuse_468_datasheet.pdf.pdf',\n",
       " 'https://www.littelfuse.com/~/media/electronics/datasheets/fuses/littelfuse_fuse_468_datasheet.pdf.pdf',\n",
       " 'https://www.littelfuse.com/~/media/electronics/datasheets/fuses/littelfuse_fuse_437_datasheet.pdf.pdf',\n",
       " 'https://www.littelfuse.com/~/media/electronics/datasheets/fuses/littelfuse_fuse_437_datasheet.pdf.pdf',\n",
       " 'https://www.littelfuse.com/~/media/electronics/datasheets/fuses/littelfuse_fuse_468_datasheet.pdf.pdf',\n",
       " 'https://www.littelfuse.com/~/media/electronics/datasheets/fuses/littelfuse_fuse_468_datasheet.pdf.pdf',\n",
       " 'https://www.littelfuse.com/media?resourcetype=datasheets&itemid=7a1adbe4-def3-405c-b2d8-c4df81105dc1&filename=littelfuse_fuse_438_datasheet.pdf',\n",
       " 'https://www.littelfuse.com/~/media/electronics/datasheets/fuses/littelfuse_fuse_437_datasheet.pdf.pdf',\n",
       " 'https://www.littelfuse.com/~/media/electronics/datasheets/fuses/littelfuse_fuse_468_datasheet.pdf.pdf',\n",
       " 'https://www.littelfuse.com/media?resourcetype=datasheets&itemid=4a59f034-1cca-460e-a5ba-e1e66247c76d&filename=littelfuse_fuse_467_datasheet.pdf',\n",
       " 'https://www.littelfuse.com/~/media/electronics/datasheets/fuses/littelfuse_fuse_437_datasheet.pdf.pdf',\n",
       " 'https://www.littelfuse.com/media?resourcetype=datasheets&itemid=990f7193-d9a2-48e4-b760-2b43514249cf&filename=littelfuse_fuse_215_datasheet.pdf',\n",
       " 'https://www.eaton.com/content/dam/eaton/products/electrical-circuit-protection/fuses/bussmann-series-supplemental-fuses/automotive-blade-type/bus-ele-ds-2009-atc.pdf',\n",
       " 'https://www.littelfuse.com/media?resourcetype=datasheets&itemid=f47a0bb7-8ede-4679-9646-7114c3787688&filename=littelfuse-fuse-251-253-datasheet',\n",
       " 'https://www.littelfuse.com/media?resourcetype=datasheets&itemid=533cd5cc-956c-4243-867f-6ab5a62f6ba1&filename=littelfuse_fuse_451_453_datasheet.pdf',\n",
       " 'https://www.littelfuse.com/media?resourcetype=datasheets&itemid=533cd5cc-956c-4243-867f-6ab5a62f6ba1&filename=littelfuse_fuse_451_453_datasheet.pdf',\n",
       " 'https://www.littelfuse.com/media?resourcetype=datasheets&itemid=533cd5cc-956c-4243-867f-6ab5a62f6ba1&filename=littelfuse_fuse_451_453_datasheet.pdf',\n",
       " 'https://www.littelfuse.com/media?resourcetype=datasheets&itemid=533cd5cc-956c-4243-867f-6ab5a62f6ba1&filename=littelfuse_fuse_451_453_datasheet.pdf',\n",
       " 'https://www.littelfuse.com/media?resourcetype=datasheets&itemid=533cd5cc-956c-4243-867f-6ab5a62f6ba1&filename=littelfuse_fuse_451_453_datasheet.pdf',\n",
       " 'https://www.littelfuse.com/media?resourcetype=datasheets&itemid=533cd5cc-956c-4243-867f-6ab5a62f6ba1&filename=littelfuse_fuse_451_453_datasheet.pdf',\n",
       " 'https://www.littelfuse.com/media?resourcetype=datasheets&itemid=533cd5cc-956c-4243-867f-6ab5a62f6ba1&filename=littelfuse_fuse_451_453_datasheet.pdf',\n",
       " 'https://www.littelfuse.com/media?resourcetype=datasheets&itemid=533cd5cc-956c-4243-867f-6ab5a62f6ba1&filename=littelfuse_fuse_451_453_datasheet.pdf',\n",
       " 'https://www.littelfuse.com/media?resourcetype=datasheets&itemid=533cd5cc-956c-4243-867f-6ab5a62f6ba1&filename=littelfuse_fuse_451_453_datasheet.pdf',\n",
       " 'https://www.littelfuse.com/media?resourcetype=datasheets&itemid=1a080a7b-ecc7-4444-828d-ed670b012fa7&filename=littelfuse-fuse-395-datasheet',\n",
       " 'https://www.eaton.com/content/dam/eaton/products/electrical-circuit-protection/fuses/bussmann-series-supplemental-fuses/automotive-blade-type/bus-ele-ds-2009-atc.pdf',\n",
       " '//mm.digikey.com/Volume0/opasdata/d220001/medias/docus/2292/438A_Series.pdf',\n",
       " 'https://www.littelfuse.com/media?resourcetype=datasheets&itemid=f47a0bb7-8ede-4679-9646-7114c3787688&filename=littelfuse-fuse-251-253-datasheet',\n",
       " 'https://www.littelfuse.com/~/media/electronics/datasheets/fuses/littelfuse_fuse_437a_datasheet.pdf.pdf',\n",
       " 'https://www.littelfuse.com/~/media/electronics/datasheets/fuses/littelfuse_fuse_437a_datasheet.pdf.pdf',\n",
       " 'https://www.littelfuse.com/media?resourcetype=datasheets&itemid=12c1a28d-212b-4f45-9d77-c982b871378a&filename=littelfuse_fuse_448_datasheet.pdf',\n",
       " 'https://www.littelfuse.com/media?resourcetype=datasheets&itemid=12c1a28d-212b-4f45-9d77-c982b871378a&filename=littelfuse_fuse_448_datasheet.pdf',\n",
       " 'https://www.schurter.com/en/datasheet/typ_UMT-H.pdf',\n",
       " 'https://www.littelfuse.com/media?resourcetype=datasheets&itemid=9f72cae5-caa0-45a2-861c-f65394f23941&filename=littelfuse_fuse_464_datasheet.pdf',\n",
       " 'https://www.littelfuse.com/media?resourcetype=datasheets&itemid=e75082fe-468e-42e0-8972-9c4134688076&filename=littelfuse-fuse-443-datasheet',\n",
       " 'https://www.littelfuse.com/media?resourcetype=datasheets&itemid=8c87aa93-80a7-4ea8-8749-a19ba03901c2&filename=littelfuse-fuse-452-454-datasheet',\n",
       " 'https://www.littelfuse.com/media?resourcetype=datasheets&itemid=8c87aa93-80a7-4ea8-8749-a19ba03901c2&filename=littelfuse-fuse-452-454-datasheet',\n",
       " 'https://www.littelfuse.com/media?resourcetype=datasheets&itemid=6d192b67-f97d-4680-8f7f-25afc4412752&filename=littelfuse_fuse_440a_datasheet.pdf',\n",
       " 'https://www.littelfuse.com/~/media/electronics/datasheets/fuses/littelfuse_fuse_459_datasheet.pdf.pdf',\n",
       " 'https://www.littelfuse.com/media?resourcetype=datasheets&itemid=e75082fe-468e-42e0-8972-9c4134688076&filename=littelfuse-fuse-443-datasheet',\n",
       " 'https://www.littelfuse.com/~/media/electronics/datasheets/fuses/littelfuse_fuse_458_datasheet.pdf.pdf',\n",
       " 'https://www.littelfuse.com/~/media/electronics/datasheets/fuses/littelfuse_fuse_458_datasheet.pdf.pdf',\n",
       " 'https://www.littelfuse.com/~/media/electronics/datasheets/fuses/littelfuse_fuse_458_datasheet.pdf.pdf',\n",
       " 'https://www.littelfuse.com/~/media/electronics/datasheets/fuses/littelfuse_fuse_458_datasheet.pdf.pdf',\n",
       " 'https://www.littelfuse.com/~/media/electronics/datasheets/fuses/littelfuse_fuse_458_datasheet.pdf.pdf',\n",
       " 'https://www.belfuse.com/resources/datasheets/circuitprotection/ds-cp-0adkx-series.pdf',\n",
       " 'https://www.belfuse.com/resources/datasheets/circuitprotection/ds-cp-0adkx-series.pdf',\n",
       " 'https://www.littelfuse.com/media?resourcetype=datasheets&itemid=624ac410-146d-47dc-9971-cdaaa78f2c78&filename=littelfuse_fuse_477_datasheet.pdf',\n",
       " 'https://www.littelfuse.com/media?resourcetype=datasheets&itemid=624ac410-146d-47dc-9971-cdaaa78f2c78&filename=littelfuse_fuse_477_datasheet.pdf',\n",
       " 'https://www.littelfuse.com/media?resourcetype=datasheets&itemid=8c87aa93-80a7-4ea8-8749-a19ba03901c2&filename=littelfuse-fuse-452-454-datasheet',\n",
       " 'https://www.schurter.com/en/datasheet/typ_FST_5x20.pdf',\n",
       " 'https://www.littelfuse.com/media?resourcetype=datasheets&itemid=a96d72b7-5296-4815-88b4-98b2f6738874&filename=littelfuse_fuse_218_datasheet.pdf',\n",
       " 'https://www.littelfuse.com/media?resourcetype=datasheets&itemid=8c87aa93-80a7-4ea8-8749-a19ba03901c2&filename=littelfuse-fuse-452-454-datasheet',\n",
       " 'https://www.littelfuse.com/media?resourcetype=datasheets&itemid=624ac410-146d-47dc-9971-cdaaa78f2c78&filename=littelfuse_fuse_477_datasheet.pdf',\n",
       " 'https://www.littelfuse.com/media?resourcetype=datasheets&itemid=624ac410-146d-47dc-9971-cdaaa78f2c78&filename=littelfuse_fuse_477_datasheet.pdf',\n",
       " 'https://www.littelfuse.com/media?resourcetype=datasheets&itemid=8c87aa93-80a7-4ea8-8749-a19ba03901c2&filename=littelfuse-fuse-452-454-datasheet',\n",
       " 'https://www.littelfuse.com/media?resourcetype=datasheets&itemid=8c87aa93-80a7-4ea8-8749-a19ba03901c2&filename=littelfuse-fuse-452-454-datasheet',\n",
       " 'https://www.littelfuse.com/media?resourcetype=datasheets&itemid=a96d72b7-5296-4815-88b4-98b2f6738874&filename=littelfuse_fuse_218_datasheet.pdf',\n",
       " 'https://www.littelfuse.com/media?resourcetype=datasheets&itemid=8c87aa93-80a7-4ea8-8749-a19ba03901c2&filename=littelfuse-fuse-452-454-datasheet',\n",
       " 'https://www.littelfuse.com/media?resourcetype=datasheets&itemid=8c87aa93-80a7-4ea8-8749-a19ba03901c2&filename=littelfuse-fuse-452-454-datasheet',\n",
       " 'https://www.littelfuse.com/media?resourcetype=datasheets&itemid=990f7193-d9a2-48e4-b760-2b43514249cf&filename=littelfuse_fuse_215_datasheet.pdf',\n",
       " 'https://www.littelfuse.com/media?resourcetype=datasheets&itemid=e75082fe-468e-42e0-8972-9c4134688076&filename=littelfuse-fuse-443-datasheet',\n",
       " 'https://www.littelfuse.com/media?resourcetype=datasheets&itemid=e75082fe-468e-42e0-8972-9c4134688076&filename=littelfuse-fuse-443-datasheet',\n",
       " 'https://www.littelfuse.com/media?resourcetype=datasheets&itemid=e75082fe-468e-42e0-8972-9c4134688076&filename=littelfuse-fuse-443-datasheet',\n",
       " 'https://www.littelfuse.com/media?resourcetype=datasheets&itemid=e75082fe-468e-42e0-8972-9c4134688076&filename=littelfuse-fuse-443-datasheet',\n",
       " 'https://www.belfuse.com/resources/datasheets/circuitprotection/ds-cp-0adkx-series.pdf',\n",
       " 'https://www.eaton.com/content/dam/eaton/products/electronic-components/resources/data-sheet/eaton-s505h-vac-time-delay-fuses-data-sheet.pdf',\n",
       " 'https://us.schurter.com/en/datasheet/typ_USFF_1206.pdf',\n",
       " 'https://www.littelfuse.com/media?resourcetype=datasheets&itemid=b38bf132-c6df-46e5-9769-76360fd8d2cf&filename=littelfuse_fuse_465_datasheet.pdf',\n",
       " 'https://www.littelfuse.com/media?resourcetype=datasheets&itemid=8c87aa93-80a7-4ea8-8749-a19ba03901c2&filename=littelfuse-fuse-452-454-datasheet',\n",
       " 'https://www.littelfuse.com/media?resourcetype=datasheets&itemid=990f7193-d9a2-48e4-b760-2b43514249cf&filename=littelfuse_fuse_215_datasheet.pdf',\n",
       " 'https://www.littelfuse.com/media?resourcetype=datasheets&itemid=990f7193-d9a2-48e4-b760-2b43514249cf&filename=littelfuse_fuse_215_datasheet.pdf',\n",
       " 'https://www.littelfuse.com/media?resourcetype=datasheets&itemid=990f7193-d9a2-48e4-b760-2b43514249cf&filename=littelfuse_fuse_215_datasheet.pdf',\n",
       " 'https://www.eaton.com/content/dam/eaton/products/electronic-components/resources/data-sheet/eaton-mda-time-delay-ceramic-tube-fuses-data-sheet.pdf',\n",
       " 'https://www.littelfuse.com/media?resourcetype=datasheets&itemid=624ac410-146d-47dc-9971-cdaaa78f2c78&filename=littelfuse_fuse_477_datasheet.pdf',\n",
       " 'https://www.eaton.com/content/dam/eaton/products/electronic-components/resources/data-sheet/eaton-s505h-vac-time-delay-fuses-data-sheet.pdf',\n",
       " 'https://www.belfuse.com/resources/datasheets/circuitprotection/ds-cp-0adkx-series.pdf',\n",
       " 'https://www.eaton.com/content/dam/eaton/products/electronic-components/resources/data-sheet/eaton-3216td-time-delay-chip-surface-mount-fuse-data-sheet.pdf',\n",
       " 'https://www.littelfuse.com/media?resourcetype=datasheets&itemid=ae3ab906-06ef-423d-ac90-3af4e021e2e1&filename=littelfuse-fuse-325-326-datasheet',\n",
       " 'https://www.littelfuse.com/media?resourcetype=datasheets&itemid=8c87aa93-80a7-4ea8-8749-a19ba03901c2&filename=littelfuse-fuse-452-454-datasheet',\n",
       " 'https://www.littelfuse.com/media?resourcetype=datasheets&itemid=8c87aa93-80a7-4ea8-8749-a19ba03901c2&filename=littelfuse-fuse-452-454-datasheet',\n",
       " 'https://www.littelfuse.com/media?resourcetype=datasheets&itemid=8c87aa93-80a7-4ea8-8749-a19ba03901c2&filename=littelfuse-fuse-452-454-datasheet',\n",
       " 'https://www.littelfuse.com/media?resourcetype=datasheets&itemid=8c87aa93-80a7-4ea8-8749-a19ba03901c2&filename=littelfuse-fuse-452-454-datasheet',\n",
       " 'https://www.littelfuse.com/media?resourcetype=datasheets&itemid=8c87aa93-80a7-4ea8-8749-a19ba03901c2&filename=littelfuse-fuse-452-454-datasheet',\n",
       " 'https://www.littelfuse.com/media?resourcetype=datasheets&itemid=8c87aa93-80a7-4ea8-8749-a19ba03901c2&filename=littelfuse-fuse-452-454-datasheet',\n",
       " 'https://www.littelfuse.com/media?resourcetype=datasheets&itemid=8c87aa93-80a7-4ea8-8749-a19ba03901c2&filename=littelfuse-fuse-452-454-datasheet',\n",
       " 'https://www.littelfuse.com/media?resourcetype=datasheets&itemid=a96d72b7-5296-4815-88b4-98b2f6738874&filename=littelfuse_fuse_218_datasheet.pdf',\n",
       " 'https://www.eaton.com/content/dam/eaton/products/electronic-components/resources/data-sheet/eaton-3216td-time-delay-chip-surface-mount-fuse-data-sheet.pdf',\n",
       " 'https://www.littelfuse.com/media?resourcetype=datasheets&itemid=624ac410-146d-47dc-9971-cdaaa78f2c78&filename=littelfuse_fuse_477_datasheet.pdf',\n",
       " 'https://www.littelfuse.com/media?resourcetype=datasheets&itemid=624ac410-146d-47dc-9971-cdaaa78f2c78&filename=littelfuse_fuse_477_datasheet.pdf',\n",
       " 'https://www.eaton.com/content/dam/eaton/products/electronic-components/resources/data-sheet/eaton-mda-time-delay-ceramic-tube-fuses-data-sheet.pdf',\n",
       " 'https://www.littelfuse.com/media?resourcetype=datasheets&itemid=990f7193-d9a2-48e4-b760-2b43514249cf&filename=littelfuse_fuse_215_datasheet.pdf',\n",
       " '//mm.digikey.com/Volume0/opasdata/d220001/medias/docus/1147/356_Series.pdf',\n",
       " 'https://www.bourns.com/docs/product-datasheets/sf-3812tm-t.pdf',\n",
       " 'https://www.littelfuse.com/media?resourcetype=datasheets&itemid=533cd5cc-956c-4243-867f-6ab5a62f6ba1&filename=littelfuse_fuse_451_453_datasheet.pdf',\n",
       " 'https://www.littelfuse.com/media?resourcetype=datasheets&itemid=bb65f47b-66ae-4417-a915-a0cd217f2973&filename=littelfuse-fuse-473-datasheet',\n",
       " 'https://www.littelfuse.com/media?resourcetype=datasheets&itemid=bb65f47b-66ae-4417-a915-a0cd217f2973&filename=littelfuse-fuse-473-datasheet',\n",
       " 'https://www.littelfuse.com/media?resourcetype=datasheets&itemid=bb65f47b-66ae-4417-a915-a0cd217f2973&filename=littelfuse-fuse-473-datasheet',\n",
       " 'https://www.littelfuse.com/media?resourcetype=datasheets&itemid=af55be94-c42e-41b1-ad43-e070e09443fe&filename=littelfuse-fuse-217-datasheet',\n",
       " 'https://www.littelfuse.com/media?resourcetype=datasheets&itemid=ae3ab906-06ef-423d-ac90-3af4e021e2e1&filename=littelfuse-fuse-325-326-datasheet',\n",
       " 'https://www.littelfuse.com/media?resourcetype=datasheets&itemid=533cd5cc-956c-4243-867f-6ab5a62f6ba1&filename=littelfuse_fuse_451_453_datasheet.pdf',\n",
       " 'https://www.littelfuse.com/media?resourcetype=datasheets&itemid=533cd5cc-956c-4243-867f-6ab5a62f6ba1&filename=littelfuse_fuse_451_453_datasheet.pdf',\n",
       " 'https://www.littelfuse.com/media?resourcetype=datasheets&itemid=533cd5cc-956c-4243-867f-6ab5a62f6ba1&filename=littelfuse_fuse_451_453_datasheet.pdf',\n",
       " 'https://www.littelfuse.com/~/media/electronics/datasheets/fuses/littelfuse_fuse_459_datasheet.pdf.pdf',\n",
       " 'https://www.littelfuse.com/media?resourcetype=datasheets&itemid=af55be94-c42e-41b1-ad43-e070e09443fe&filename=littelfuse-fuse-217-datasheet',\n",
       " 'https://www.littelfuse.com/~/media/electronics/datasheets/fuses/littelfuse_fuse_458_datasheet.pdf.pdf',\n",
       " 'https://www.littelfuse.com/media?resourcetype=datasheets&itemid=624ac410-146d-47dc-9971-cdaaa78f2c78&filename=littelfuse_fuse_477_datasheet.pdf',\n",
       " 'https://www.littelfuse.com/media?resourcetype=datasheets&itemid=624ac410-146d-47dc-9971-cdaaa78f2c78&filename=littelfuse_fuse_477_datasheet.pdf',\n",
       " 'https://www.belfuse.com/resources/datasheets/circuitprotection/ds-CP-0683G-series.pdf',\n",
       " 'https://www.littelfuse.com/media?resourcetype=datasheets&itemid=9862ea73-9130-481f-996c-12625fcc7ed2&filename=littelfuse_fuse_476_datasheet.pdf',\n",
       " 'https://www.littelfuse.com/media?resourcetype=datasheets&itemid=69cb9c39-1497-4ecc-b09a-c0168520688e&filename=littelfuse_fuse_216_datasheet.pdf',\n",
       " 'https://www.littelfuse.com/media?resourcetype=datasheets&itemid=68b8bbe8-3e51-4c7b-bbda-3c71667f75f3&filename=littelfuse_maxi32v_datasheet.pdf',\n",
       " 'https://www.littelfuse.com/media?resourcetype=datasheets&itemid=624ac410-146d-47dc-9971-cdaaa78f2c78&filename=littelfuse_fuse_477_datasheet.pdf',\n",
       " 'https://www.littelfuse.com/~/media/automotive/datasheets/fuses/passenger-car-and-commercial-vehicle/bolt-down-fuses/littelfuse_midi_datasheet.pdf',\n",
       " 'https://www.littelfuse.com/~/media/electronics/datasheets/fuses/littelfuse_fuse_157t_datasheet.pdf.pdf',\n",
       " 'https://www.littelfuse.com/media?resourcetype=datasheets&itemid=8c87aa93-80a7-4ea8-8749-a19ba03901c2&filename=littelfuse-fuse-452-454-datasheet',\n",
       " 'https://www.littelfuse.com/media?resourcetype=datasheets&itemid=8c87aa93-80a7-4ea8-8749-a19ba03901c2&filename=littelfuse-fuse-452-454-datasheet',\n",
       " 'https://www.littelfuse.com/media?resourcetype=datasheets&itemid=63f61b85-5fc5-4f00-9ca9-8d59a6252d71&filename=littelfuse_fuse_154_154t_154l_154tl_datasheet.pdf',\n",
       " 'https://www.littelfuse.com/media?resourcetype=datasheets&itemid=63f61b85-5fc5-4f00-9ca9-8d59a6252d71&filename=littelfuse_fuse_154_154t_154l_154tl_datasheet.pdf',\n",
       " 'https://www.littelfuse.com/media?resourcetype=datasheets&itemid=63f61b85-5fc5-4f00-9ca9-8d59a6252d71&filename=littelfuse_fuse_154_154t_154l_154tl_datasheet.pdf',\n",
       " 'https://www.littelfuse.com/media?resourcetype=datasheets&itemid=63f61b85-5fc5-4f00-9ca9-8d59a6252d71&filename=littelfuse_fuse_154_154t_154l_154tl_datasheet.pdf',\n",
       " 'https://www.littelfuse.com/media?resourcetype=datasheets&itemid=63f61b85-5fc5-4f00-9ca9-8d59a6252d71&filename=littelfuse_fuse_154_154t_154l_154tl_datasheet.pdf',\n",
       " 'https://www.littelfuse.com/media?resourcetype=datasheets&itemid=63f61b85-5fc5-4f00-9ca9-8d59a6252d71&filename=littelfuse_fuse_154_154t_154l_154tl_datasheet.pdf',\n",
       " 'https://www.littelfuse.com/media?resourcetype=datasheets&itemid=0da7cbeb-7930-4e88-8811-a4d412083c1d&filename=littelfuse_fuse_157_datasheet.pdf',\n",
       " 'https://www.littelfuse.com/media?resourcetype=datasheets&itemid=1de5ad6e-a60b-42fb-aa87-0dfc3dab1309&filename=littelfuse_fuse_462_datasheet.pdf',\n",
       " 'https://www.littelfuse.com/media?resourcetype=datasheets&itemid=533cd5cc-956c-4243-867f-6ab5a62f6ba1&filename=littelfuse_fuse_451_453_datasheet.pdf',\n",
       " 'https://www.littelfuse.com/~/media/electronics/datasheets/fuses/littelfuse_fuse_460_datasheet.pdf.pdf',\n",
       " 'https://www.littelfuse.com/~/media/electronics/datasheets/fuses/littelfuse_fuse_460_datasheet.pdf.pdf',\n",
       " 'https://www.littelfuse.com/~/media/electronics/datasheets/fuses/littelfuse_fuse_460_datasheet.pdf.pdf',\n",
       " 'https://www.littelfuse.com/media?resourcetype=datasheets&itemid=533cd5cc-956c-4243-867f-6ab5a62f6ba1&filename=littelfuse_fuse_451_453_datasheet.pdf',\n",
       " 'https://www.littelfuse.com/media?resourcetype=datasheets&itemid=0da7cbeb-7930-4e88-8811-a4d412083c1d&filename=littelfuse_fuse_157_datasheet.pdf',\n",
       " 'https://us.schurter.com/en/datasheet/typ_MGA.pdf',\n",
       " 'https://www.littelfuse.com/media?resourcetype=datasheets&itemid=533cd5cc-956c-4243-867f-6ab5a62f6ba1&filename=littelfuse_fuse_451_453_datasheet.pdf',\n",
       " 'https://www.littelfuse.com/~/media/electronics/datasheets/fuses/littelfuse_fuse_154_154t_154l_154tl_datasheet.pdf.pdf',\n",
       " 'https://www.littelfuse.com/media?resourcetype=datasheets&itemid=63f61b85-5fc5-4f00-9ca9-8d59a6252d71&filename=littelfuse_fuse_154_154t_154l_154tl_datasheet.pdf',\n",
       " 'https://www.littelfuse.com/media?resourcetype=datasheets&itemid=0da7cbeb-7930-4e88-8811-a4d412083c1d&filename=littelfuse_fuse_157_datasheet.pdf',\n",
       " 'https://www.littelfuse.com/media?resourcetype=datasheets&itemid=63f61b85-5fc5-4f00-9ca9-8d59a6252d71&filename=littelfuse_fuse_154_154t_154l_154tl_datasheet.pdf',\n",
       " 'https://www.littelfuse.com/media?resourcetype=datasheets&itemid=0da7cbeb-7930-4e88-8811-a4d412083c1d&filename=littelfuse_fuse_157_datasheet.pdf',\n",
       " 'https://www.littelfuse.com/media?resourcetype=datasheets&itemid=63f61b85-5fc5-4f00-9ca9-8d59a6252d71&filename=littelfuse_fuse_154_154t_154l_154tl_datasheet.pdf',\n",
       " 'https://www.littelfuse.com/media?resourcetype=datasheets&itemid=0da7cbeb-7930-4e88-8811-a4d412083c1d&filename=littelfuse_fuse_157_datasheet.pdf',\n",
       " 'https://www.littelfuse.com/media?resourcetype=datasheets&itemid=0da7cbeb-7930-4e88-8811-a4d412083c1d&filename=littelfuse_fuse_157_datasheet.pdf',\n",
       " 'https://www.littelfuse.com/media?resourcetype=datasheets&itemid=0da7cbeb-7930-4e88-8811-a4d412083c1d&filename=littelfuse_fuse_157_datasheet.pdf',\n",
       " 'https://www.littelfuse.com/media?resourcetype=datasheets&itemid=1de5ad6e-a60b-42fb-aa87-0dfc3dab1309&filename=littelfuse_fuse_462_datasheet.pdf',\n",
       " 'https://www.littelfuse.com/media?resourcetype=datasheets&itemid=63f61b85-5fc5-4f00-9ca9-8d59a6252d71&filename=littelfuse_fuse_154_154t_154l_154tl_datasheet.pdf',\n",
       " 'https://www.littelfuse.com/media?resourcetype=datasheets&itemid=12c1a28d-212b-4f45-9d77-c982b871378a&filename=littelfuse_fuse_448_datasheet.pdf',\n",
       " 'https://www.littelfuse.com/media?resourcetype=datasheets&itemid=69cb9c39-1497-4ecc-b09a-c0168520688e&filename=littelfuse_fuse_216_datasheet.pdf',\n",
       " 'https://www.littelfuse.com/~/media/electronics/datasheets/fuses/littelfuse_fuse_460_datasheet.pdf.pdf',\n",
       " 'https://www.littelfuse.com/~/media/electronics/datasheets/fuses/littelfuse_fuse_460_datasheet.pdf.pdf',\n",
       " 'https://www.littelfuse.com/media?resourcetype=datasheets&itemid=533cd5cc-956c-4243-867f-6ab5a62f6ba1&filename=littelfuse_fuse_451_453_datasheet.pdf',\n",
       " 'https://www.bourns.com/docs/Product-Datasheets/SF-3812F-T.pdf',\n",
       " 'https://www.littelfuse.com/media?resourcetype=datasheets&itemid=63f61b85-5fc5-4f00-9ca9-8d59a6252d71&filename=littelfuse_fuse_154_154t_154l_154tl_datasheet.pdf',\n",
       " 'https://www.eaton.com/content/dam/eaton/products/electronic-components/resources/data-sheet/eaton-pc-tron-subminiature-radial-leaded-fuses-data-sheet.pdf',\n",
       " 'https://www.littelfuse.com/media?resourcetype=datasheets&itemid=12c1a28d-212b-4f45-9d77-c982b871378a&filename=littelfuse_fuse_448_datasheet.pdf',\n",
       " 'https://www.littelfuse.com/media?resourcetype=datasheets&itemid=12c1a28d-212b-4f45-9d77-c982b871378a&filename=littelfuse_fuse_448_datasheet.pdf',\n",
       " 'https://www.eaton.com/content/dam/eaton/products/electronic-components/resources/data-sheet/eaton-pc-tron-subminiature-radial-leaded-fuses-data-sheet.pdf',\n",
       " 'http://www.bourns.com/docs/Product-Datasheets/SF-3812FG-T.pdf',\n",
       " 'https://www.littelfuse.com/~/media/electronics/datasheets/fuses/littelfuse_fuse_157t_datasheet.pdf.pdf',\n",
       " 'https://www.littelfuse.com/media?resourcetype=datasheets&itemid=63f61b85-5fc5-4f00-9ca9-8d59a6252d71&filename=littelfuse_fuse_154_154t_154l_154tl_datasheet.pdf',\n",
       " 'https://www.littelfuse.com/~/media/electronics/datasheets/fuses/littelfuse_fuse_157t_datasheet.pdf.pdf',\n",
       " 'https://www.littelfuse.com/media?resourcetype=datasheets&itemid=63f61b85-5fc5-4f00-9ca9-8d59a6252d71&filename=littelfuse_fuse_154_154t_154l_154tl_datasheet.pdf',\n",
       " 'https://www.littelfuse.com/media?resourcetype=datasheets&itemid=63f61b85-5fc5-4f00-9ca9-8d59a6252d71&filename=littelfuse_fuse_154_154t_154l_154tl_datasheet.pdf',\n",
       " 'https://www.littelfuse.com/media?resourcetype=datasheets&itemid=63f61b85-5fc5-4f00-9ca9-8d59a6252d71&filename=littelfuse_fuse_154_154t_154l_154tl_datasheet.pdf',\n",
       " 'https://www.littelfuse.com/media?resourcetype=datasheets&itemid=0da7cbeb-7930-4e88-8811-a4d412083c1d&filename=littelfuse_fuse_157_datasheet.pdf',\n",
       " 'https://www.eaton.com/content/dam/eaton/products/electronic-components/resources/data-sheet/eaton-gma-time-delay-glass-tube-fuses-data-sheet.pdf',\n",
       " 'https://www.littelfuse.com/media?resourcetype=datasheets&itemid=bc110884-dddd-4484-99b4-3f33344a7afa&filename=littelfuse-fuse-263-datasheet',\n",
       " 'https://www.littelfuse.com/media?resourcetype=datasheets&itemid=63f61b85-5fc5-4f00-9ca9-8d59a6252d71&filename=littelfuse_fuse_154_154t_154l_154tl_datasheet.pdf',\n",
       " 'https://www.littelfuse.com/media?resourcetype=datasheets&itemid=63f61b85-5fc5-4f00-9ca9-8d59a6252d71&filename=littelfuse_fuse_154_154t_154l_154tl_datasheet.pdf',\n",
       " 'https://www.eaton.com/content/dam/eaton/products/electronic-components/resources/data-sheet/eaton-mda-time-delay-ceramic-tube-fuses-data-sheet.pdf',\n",
       " 'https://www.littelfuse.com/~/media/electronics/datasheets/fuses/littelfuse_fuse_160_datasheet.pdf.pdf',\n",
       " 'https://www.belfuse.com/resources/datasheets/circuitprotection/ds-CP-0ACG-series.pdf',\n",
       " 'https://www.littelfuse.com/media?resourcetype=datasheets&itemid=63f61b85-5fc5-4f00-9ca9-8d59a6252d71&filename=littelfuse_fuse_154_154t_154l_154tl_datasheet.pdf',\n",
       " 'https://www.littelfuse.com/media?resourcetype=datasheets&itemid=63f61b85-5fc5-4f00-9ca9-8d59a6252d71&filename=littelfuse_fuse_154_154t_154l_154tl_datasheet.pdf',\n",
       " 'https://www.littelfuse.com/media?resourcetype=datasheets&itemid=63f61b85-5fc5-4f00-9ca9-8d59a6252d71&filename=littelfuse_fuse_154_154t_154l_154tl_datasheet.pdf',\n",
       " 'https://www.littelfuse.com/media?resourcetype=datasheets&itemid=63f61b85-5fc5-4f00-9ca9-8d59a6252d71&filename=littelfuse_fuse_154_154t_154l_154tl_datasheet.pdf',\n",
       " 'https://www.littelfuse.com/media?resourcetype=datasheets&itemid=63f61b85-5fc5-4f00-9ca9-8d59a6252d71&filename=littelfuse_fuse_154_154t_154l_154tl_datasheet.pdf',\n",
       " 'https://www.littelfuse.com/media?resourcetype=datasheets&itemid=63f61b85-5fc5-4f00-9ca9-8d59a6252d71&filename=littelfuse_fuse_154_154t_154l_154tl_datasheet.pdf',\n",
       " 'https://www.littelfuse.com/media?resourcetype=datasheets&itemid=63f61b85-5fc5-4f00-9ca9-8d59a6252d71&filename=littelfuse_fuse_154_154t_154l_154tl_datasheet.pdf',\n",
       " 'https://www.littelfuse.com/media?resourcetype=datasheets&itemid=63f61b85-5fc5-4f00-9ca9-8d59a6252d71&filename=littelfuse_fuse_154_154t_154l_154tl_datasheet.pdf',\n",
       " 'https://www.littelfuse.com/media?resourcetype=datasheets&itemid=63f61b85-5fc5-4f00-9ca9-8d59a6252d71&filename=littelfuse_fuse_154_154t_154l_154tl_datasheet.pdf',\n",
       " 'https://www.littelfuse.com/~/media/electronics/datasheets/fuses/littelfuse_fuse_157t_datasheet.pdf.pdf',\n",
       " 'https://www.littelfuse.com/media?resourcetype=datasheets&itemid=bc110884-dddd-4484-99b4-3f33344a7afa&filename=littelfuse-fuse-263-datasheet',\n",
       " 'https://www.littelfuse.com/media?resourcetype=datasheets&itemid=bc110884-dddd-4484-99b4-3f33344a7afa&filename=littelfuse-fuse-263-datasheet',\n",
       " 'https://www.littelfuse.com/~/media/electronics/datasheets/fuses/littelfuse_fuse_160_datasheet.pdf.pdf',\n",
       " 'https://www.littelfuse.com/~/media/automotive/datasheets/fuses/passenger-car-and-commercial-vehicle/bolt-down-fuses/littelfuse_bf1_58v_datasheet.pdf',\n",
       " 'https://www.littelfuse.com/~/media/automotive/datasheets/fuses/passenger-car-and-commercial-vehicle/bolt-down-fuses/littelfuse_bf1_58v_datasheet.pdf',\n",
       " 'https://www.littelfuse.com/media?resourcetype=datasheets&itemid=533cd5cc-956c-4243-867f-6ab5a62f6ba1&filename=littelfuse_fuse_451_453_datasheet.pdf',\n",
       " 'https://www.littelfuse.com/media?resourcetype=datasheets&itemid=63f61b85-5fc5-4f00-9ca9-8d59a6252d71&filename=littelfuse_fuse_154_154t_154l_154tl_datasheet.pdf',\n",
       " 'https://www.littelfuse.com/media?resourcetype=datasheets&itemid=63f61b85-5fc5-4f00-9ca9-8d59a6252d71&filename=littelfuse_fuse_154_154t_154l_154tl_datasheet.pdf',\n",
       " 'https://www.eaton.com/content/dam/eaton/products/electronic-components/resources/product-aid/eaton-1025hc-fuse-product-aid.pdf',\n",
       " 'https://www.eaton.com/content/dam/eaton/products/electronic-components/resources/product-aid/eaton-1025hc-fuse-product-aid.pdf',\n",
       " '//mm.digikey.com/Volume0/opasdata/d220001/medias/docus/1086/463_Series.pdf',\n",
       " 'https://www.littelfuse.com/media?resourcetype=datasheets&itemid=5688ddaa-f0db-4dd2-936d-4e678e1f8f31&filename=littelfuse_fuse_505_datasheet.pdf',\n",
       " 'https://www.littelfuse.com/media?resourcetype=datasheets&itemid=5688ddaa-f0db-4dd2-936d-4e678e1f8f31&filename=littelfuse_fuse_505_datasheet.pdf',\n",
       " '//mm.digikey.com/Volume0/opasdata/d220001/medias/docus/45/885_Series_Fuse.pdf',\n",
       " 'https://www.littelfuse.com/media?resourcetype=datasheets&itemid=5688ddaa-f0db-4dd2-936d-4e678e1f8f31&filename=littelfuse_fuse_505_datasheet.pdf',\n",
       " 'https://www.littelfuse.com/media?resourcetype=datasheets&itemid=533cd5cc-956c-4243-867f-6ab5a62f6ba1&filename=littelfuse_fuse_451_453_datasheet.pdf',\n",
       " 'https://www.littelfuse.com/media?resourcetype=datasheets&itemid=f47a0bb7-8ede-4679-9646-7114c3787688&filename=littelfuse_fuse_251_253_datasheet.pdf',\n",
       " 'https://www.littelfuse.com/media?resourcetype=datasheets&itemid=f47a0bb7-8ede-4679-9646-7114c3787688&filename=littelfuse-fuse-251-253-datasheet',\n",
       " 'https://www.littelfuse.com/media?resourcetype=datasheets&itemid=f47a0bb7-8ede-4679-9646-7114c3787688&filename=littelfuse_fuse_251_253_datasheet.pdf',\n",
       " 'https://www.belfuse.com/resources/datasheets/circuitprotection/ds-cp-0adex-series.pdf',\n",
       " '//mm.digikey.com/Volume0/opasdata/d220001/medias/docus/45/885_Series_Fuse.pdf',\n",
       " '//mm.digikey.com/Volume0/opasdata/d220001/medias/docus/45/885_Series_Fuse.pdf',\n",
       " 'https://www.littelfuse.com/media?resourcetype=datasheets&itemid=d86b18f9-14fa-4764-87ff-8aec12e9a89d&filename=littelfuse_fuse_456_datasheet.pdf',\n",
       " '//mm.digikey.com/Volume0/opasdata/d220001/medias/docus/1086/463_Series.pdf',\n",
       " 'https://www.littelfuse.com/media?resourcetype=datasheets&itemid=5688ddaa-f0db-4dd2-936d-4e678e1f8f31&filename=littelfuse_fuse_505_datasheet.pdf',\n",
       " 'https://www.littelfuse.com/media?resourcetype=datasheets&itemid=5688ddaa-f0db-4dd2-936d-4e678e1f8f31&filename=littelfuse_fuse_505_datasheet.pdf',\n",
       " 'https://www.littelfuse.com/media?resourcetype=datasheets&itemid=d86b18f9-14fa-4764-87ff-8aec12e9a89d&filename=littelfuse_fuse_456_datasheet.pdf',\n",
       " 'https://us.schurter.com/en/datasheet/typ_MGA.pdf',\n",
       " 'https://www.littelfuse.com/media?resourcetype=datasheets&itemid=5688ddaa-f0db-4dd2-936d-4e678e1f8f31&filename=littelfuse_fuse_505_datasheet.pdf',\n",
       " 'https://www.littelfuse.com/~/media/electronics/datasheets/fuses/littelfuse_fuse_487_datasheet.pdf.pdf',\n",
       " 'https://www.littelfuse.com/~/media/electronics/datasheets/fuses/littelfuse_fuse_487_datasheet.pdf.pdf',\n",
       " 'https://www.littelfuse.com/~/media/electronics/datasheets/fuses/littelfuse_fuse_456sde_datasheet.pdf.pdf',\n",
       " 'https://www.littelfuse.com/media?resourcetype=datasheets&itemid=d86b18f9-14fa-4764-87ff-8aec12e9a89d&filename=littelfuse_fuse_456_datasheet.pdf',\n",
       " 'https://www.littelfuse.com/media?resourcetype=datasheets&itemid=63f61b85-5fc5-4f00-9ca9-8d59a6252d71&filename=littelfuse_fuse_154_154t_154l_154tl_datasheet.pdf',\n",
       " 'https://www.belfuse.com/resources/datasheets/circuitprotection/ds-cp-0adbx-series.pdf',\n",
       " '//mm.digikey.com/Volume0/opasdata/d220001/medias/docus/1086/463_Series.pdf',\n",
       " 'https://www.littelfuse.com/media?resourcetype=datasheets&itemid=d86b18f9-14fa-4764-87ff-8aec12e9a89d&filename=littelfuse_fuse_456_datasheet.pdf',\n",
       " 'https://www.littelfuse.com/media?resourcetype=datasheets&itemid=27d3d9c7-3ab9-468c-b61e-c74ef596ac7a&filename=littelfuse_fuse_456sd_datasheet.pdf',\n",
       " 'https://www.littelfuse.com/~/media/automotive/datasheets/fuses/passenger-car-and-commercial-vehicle/bolt-down-fuses/littelfuse_mega_datasheet.pdf',\n",
       " 'https://www.littelfuse.com/~/media/electronics/datasheets/fuses/littelfuse_fuse_456sde_datasheet.pdf.pdf',\n",
       " 'https://www.littelfuse.com/~/media/electronics/datasheets/fuses/littelfuse_fuse_275_datasheet.pdf.pdf',\n",
       " 'https://www.littelfuse.com/media?resourcetype=datasheets&itemid=06e35cc6-24d4-4aa6-a45e-ceb2642de017&filename=littelfuse_fuse_272_273_274_278_279_datasheet.pdf',\n",
       " 'https://www.littelfuse.com/~/media/automotive/datasheets/fuses/passenger-car-and-commercial-vehicle/blade-fuses/littelfuse_fks_ato_80v_blade_fuses.pdf',\n",
       " 'https://www.littelfuse.com/~/media/automotive/datasheets/fuses/passenger-car-and-commercial-vehicle/blade-fuses/littelfuse_fks_ato_80v_blade_fuses.pdf',\n",
       " 'https://www.littelfuse.com/~/media/automotive/datasheets/fuses/passenger-car-and-commercial-vehicle/blade-fuses/littelfuse_fks_ato_80v_blade_fuses.pdf',\n",
       " 'https://www.littelfuse.com/~/media/automotive/datasheets/fuses/passenger-car-and-commercial-vehicle/blade-fuses/littelfuse_fks_ato_80v_blade_fuses.pdf',\n",
       " 'https://www.littelfuse.com/~/media/automotive/datasheets/fuses/passenger-car-and-commercial-vehicle/blade-fuses/littelfuse_fks_ato_80v_blade_fuses.pdf',\n",
       " 'https://www.littelfuse.com/~/media/automotive/datasheets/fuses/passenger-car-and-commercial-vehicle/blade-fuses/littelfuse_fks_ato_80v_blade_fuses.pdf',\n",
       " ...]"
      ]
     },
     "execution_count": 25,
     "metadata": {},
     "output_type": "execute_result"
    }
   ],
   "source": [
    "urls"
   ]
  },
  {
   "cell_type": "code",
   "execution_count": 24,
   "metadata": {},
   "outputs": [
    {
     "name": "stderr",
     "output_type": "stream",
     "text": [
      "WARNING:root:request send\n",
      "WARNING:root:error - in getting data from all urls\n",
      "WARNING:root:aiohttp operation executed succesfully\n",
      "WARNING:root:asyncronous request and response completed in : 0 sec\n"
     ]
    },
    {
     "name": "stdout",
     "output_type": "stream",
     "text": [
      "None\n"
     ]
    }
   ],
   "source": [
    "res = await async_transaction(urls)\n",
    "print(res)"
   ]
  },
  {
   "cell_type": "code",
   "execution_count": 13,
   "metadata": {},
   "outputs": [],
   "source": []
  },
  {
   "cell_type": "code",
   "execution_count": 113,
   "metadata": {},
   "outputs": [],
   "source": [
    "# results = asyncio.run(async_transaction(urls))\n",
    "headers = {\n",
    "    'authority': 'www.mcgillmicrowave.com',\n",
    "    'accept': 'text/html,application/xhtml+xml,application/xml;q=0.9,image/avif,image/webp,image/apng,*/*;q=0.8,application/signed-exchange;v=b3;q=0.7',\n",
    "    'accept-language': 'en-GB,en-US;q=0.9,en;q=0.8',\n",
    "    'cache-control': 'no-cache',\n",
    "    'pragma': 'no-cache',\n",
    "    'sec-ch-ua': '\"Google Chrome\";v=\"119\", \"Chromium\";v=\"119\", \"Not?A_Brand\";v=\"24\"',\n",
    "    'sec-ch-ua-mobile': '?0',\n",
    "    'sec-ch-ua-platform': '\"Linux\"',\n",
    "    'sec-fetch-dest': 'document',\n",
    "    'sec-fetch-mode': 'navigate',\n",
    "    'sec-fetch-site': 'same-origin',\n",
    "    'sec-fetch-user': '?1',\n",
    "    'upgrade-insecure-requests': '1',\n",
    "    'user-agent': 'Mozilla/5.0 (X11; Linux x86_64) AppleWebKit/537.36 (KHTML, like Gecko) Chrome/119.0.0.0 Safari/537.36',\n",
    "}"
   ]
  },
  {
   "cell_type": "code",
   "execution_count": 114,
   "metadata": {},
   "outputs": [],
   "source": [
    "def check_content_type(response,content):\n",
    "    content_type = response.headers.get('Content-Type', '')\n",
    "    # # Check the Content-Type\n",
    "    start_bytes = content[:5]\n",
    "    if 'application/pdf' in content_type or start_bytes.startswith(b'%PDF-'):\n",
    "        print(f\"The content is a PDF. for url{response.url}\")\n",
    "        return 'PDF'\n",
    "    elif 'text/html' in content_type :\n",
    "        print(f\"The content is HTML. for url{response.url}\")\n",
    "        return 'HTML'\n",
    "    else:\n",
    "        print(f\"Unknown content type : {content_type} for url: {response.url}\")\n",
    "        return content_type"
   ]
  },
  {
   "cell_type": "code",
   "execution_count": 115,
   "metadata": {},
   "outputs": [],
   "source": [
    "def check_status(response):\n",
    "    status = response.status\n",
    "    if status == 200:\n",
    "        return True\n",
    "    elif status == 404:\n",
    "        print(\">>>>>>> page not found for url\",response.url)\n",
    "        return False\n",
    "    else:\n",
    "        print(f\">>>>>>>>>>>> invalid status found:{status} for url:{response.url}\")\n",
    "        return False"
   ]
  },
  {
   "cell_type": "code",
   "execution_count": 116,
   "metadata": {},
   "outputs": [],
   "source": [
    "import requests\n",
    "import fitz  # PyMuPDF\n",
    "from PIL import Image\n",
    "import pytesseract\n",
    "from io import BytesIO\n",
    "import unicodedata\n",
    "\n",
    "class PdfPipeline:\n",
    "    def __init__(self,content) -> None:\n",
    "        self.content = content\n",
    "\n",
    "    def extract_text_from_pdf(self):\n",
    "        pdf_stream = BytesIO(self.content)\n",
    "        pdf_document = fitz.open(stream=pdf_stream, filetype=\"pdf\")\n",
    "        text = \"\"\n",
    "\n",
    "        for page_num in range(len(pdf_document)):\n",
    "            page = pdf_document.load_page(page_num)\n",
    "            pix = page.get_pixmap()\n",
    "            image = Image.open(BytesIO(pix.tobytes()))\n",
    "            text += PdfPipeline.extract_text_from_image(image) + \"\\n\"\n",
    "\n",
    "        text = text.replace(\"\\t\",\" \").replace(\"\\n\",\" \")\n",
    "        text = PdfPipeline.unicode_converter(text)\n",
    "        text = text.replace(\"  \",\" \")\n",
    "        return text\n",
    "\n",
    "    @staticmethod\n",
    "    def extract_text_from_image(image):\n",
    "        return pytesseract.image_to_string(image)\n",
    "\n",
    "    @staticmethod\n",
    "    def unicode_converter(_str):\n",
    "        return unicodedata.normalize('NFKD', _str).encode('ascii', errors='replace').decode().replace('?', \" \")"
   ]
  },
  {
   "cell_type": "code",
   "execution_count": 117,
   "metadata": {},
   "outputs": [],
   "source": [
    "from lxml import html\n",
    "import unicodedata\n",
    "\n",
    "class HtmlPipeline:\n",
    "    def __init__(self,content,url) -> None:\n",
    "        self.content= content\n",
    "        self.url = url\n",
    "\n",
    "    def parser(self):\n",
    "        try:\n",
    "            tree = html.fromstring(self.content)\n",
    "        except Exception as ex:\n",
    "            print(f\"Exception: {ex} occurred for url:{self.url}\")\n",
    "            tree = \"\"\n",
    "\n",
    "        text = \"\"\n",
    "        if tree:\n",
    "            for unwanted_element in tree.xpath('//script | //style'):\n",
    "                unwanted_element.getparent().remove(unwanted_element)\n",
    "                \n",
    "            text = \" \".join([str_.strip() for str_ in tree.xpath('//body//text()') if str_.strip()])\n",
    "            text = text.replace(\"\\t\",\" \").replace('\\n',\" \")\n",
    "            text = HtmlPipeline.unicode_converter(text)\n",
    "            text = text.replace('  ',\" \")\n",
    "        return text\n",
    "\n",
    "    @staticmethod\n",
    "    def unicode_converter(_str):\n",
    "        return unicodedata.normalize('NFKD', _str).encode('ascii', errors='replace').decode().replace('?', \" \")\n",
    "\n",
    "\n",
    "    def get_text(self):\n",
    "        return self.parser()\n",
    "            "
   ]
  },
  {
   "cell_type": "code",
   "execution_count": 148,
   "metadata": {},
   "outputs": [],
   "source": [
    "import pandas as pd\n",
    "import aiohttp\n",
    "import asyncio\n",
    "import nest_asyncio\n",
    "import logging\n",
    "from tqdm.asyncio import tqdm  \n",
    "\n",
    "# Apply nest_asyncio to handle nested event loops in Jupyter notebooks\n",
    "nest_asyncio.apply()\n",
    "\n",
    "# Set up logger\n",
    "logging.basicConfig(level=logging.WARNING)\n",
    "logger = logging.getLogger(__name__)\n",
    "\n",
    "# Headers for HTTP requests\n",
    "# headers = {\"User-Agent\": \"Mozilla/5.0\"}\n",
    "\n",
    "async def fetch(session, url, headers):\n",
    "    \"\"\"Fetch content from a single URL with custom headers.\"\"\"\n",
    "    try:\n",
    "        async with session.get(url, headers=headers) as response:\n",
    "            if check_status(response):\n",
    "                logger.warning(\"Fetched URL: %s\", url)\n",
    "                content  = await response.read()\n",
    "                content_type = check_content_type(response,content)\n",
    "\n",
    "                if content_type == 'PDF':\n",
    "                    pipeline = PdfPipeline(content)\n",
    "                    text = pipeline.extract_text_from_pdf()\n",
    "                    return url,text\n",
    "                elif content_type == \"HTML\":\n",
    "                    pipeline = HtmlPipeline(content,url)\n",
    "                    text = pipeline.get_text()\n",
    "                    return url,text\n",
    "                else:\n",
    "                    return url, content\n",
    "                \n",
    "            else:\n",
    "                return url, \"\"\n",
    "    except Exception as e:\n",
    "        logger.warning(\"Error fetching URL: %s Exception: %s\", url, e)\n",
    "        return url, None\n",
    "\n",
    "async def fetch_all(urls):\n",
    "    \"\"\"Fetch content from all URLs concurrently with custom headers.\"\"\"\n",
    "    tasks = []\n",
    "    async with aiohttp.ClientSession() as session:\n",
    "        for url in urls:\n",
    "            headers['authority'] = url\n",
    "            # print(headers)\n",
    "            tasks.append(fetch(session, url, headers))\n",
    "        results = []\n",
    "        results = await asyncio.gather(*tasks)\n",
    "        return results\n",
    "        # for result in tqdm(asyncio.as_completed(tasks), total=len(tasks), desc='Fetching URLs'):\n",
    "        #     results.append(await result)\n",
    "        # return results\n",
    "\n",
    "def scrape_urls_from_dataframe(df, url_column):\n",
    "    \"\"\"Scrape URLs listed in a DataFrame column.\"\"\"\n",
    "    urls = df[url_column].tolist()\n",
    "    # urls = ['https://mm.digikey.com/Volume0/opasdata/d220001/medias/docus/13/50CX-42.pdf'\n",
    "    # ,'https://mm.digikey.com/Volume0/opasdata/d220001/medias/docus/5731/tmp_190554.tmp.pdf']\n",
    "    # Run the async tasks using the existing event loop\n",
    "    results = asyncio.run(fetch_all(urls))\n",
    "    return results\n",
    "\n"
   ]
  },
  {
   "cell_type": "code",
   "execution_count": 150,
   "metadata": {},
   "outputs": [],
   "source": [
    "# import pandas as pd\n",
    "df = pd.read_csv('train_df.csv')"
   ]
  },
  {
   "cell_type": "code",
   "execution_count": 111,
   "metadata": {},
   "outputs": [],
   "source": [
    "# df['datasheet_link']\n",
    "# df = df.head()"
   ]
  },
  {
   "cell_type": "code",
   "execution_count": 149,
   "metadata": {},
   "outputs": [],
   "source": [
    "# Sample DataFrame with URLs\n",
    "# data = {'urls': ['http://example.com', 'http://example.org']}\n",
    "# df = pd.DataFrame(data)\n",
    "\n",
    "# Scrape URLs and store results\n",
    "results = scrape_urls_from_dataframe(df, 'datasheet_link')\n",
    "\n",
    "# Convert results to DataFrame\n",
    "train_results_df = pd.DataFrame(results, columns=['url', 'content'])\n",
    "\n",
    "# Display the results DataFrame\n",
    "train_results_df .head()\n",
    "train_results_df.to_csv('train_results_df.csv')"
   ]
  },
  {
   "cell_type": "code",
   "execution_count": 123,
   "metadata": {},
   "outputs": [],
   "source": [
    "# train_results_df = pd.read_csv('train_results_df.csv')"
   ]
  },
  {
   "cell_type": "code",
   "execution_count": 125,
   "metadata": {},
   "outputs": [],
   "source": [
    "# train_df = pd.read_csv('train_df.csv')"
   ]
  },
  {
   "cell_type": "code",
   "execution_count": 126,
   "metadata": {},
   "outputs": [
    {
     "data": {
      "text/plain": [
       "(1856, 3)"
      ]
     },
     "execution_count": 126,
     "metadata": {},
     "output_type": "execute_result"
    }
   ],
   "source": [
    "# train_results_df.shape"
   ]
  },
  {
   "cell_type": "code",
   "execution_count": 127,
   "metadata": {},
   "outputs": [
    {
     "data": {
      "text/html": [
       "<div>\n",
       "<style scoped>\n",
       "    .dataframe tbody tr th:only-of-type {\n",
       "        vertical-align: middle;\n",
       "    }\n",
       "\n",
       "    .dataframe tbody tr th {\n",
       "        vertical-align: top;\n",
       "    }\n",
       "\n",
       "    .dataframe thead th {\n",
       "        text-align: right;\n",
       "    }\n",
       "</style>\n",
       "<table border=\"1\" class=\"dataframe\">\n",
       "  <thead>\n",
       "    <tr style=\"text-align: right;\">\n",
       "      <th></th>\n",
       "      <th>Unnamed: 0</th>\n",
       "      <th>url</th>\n",
       "      <th>content</th>\n",
       "    </tr>\n",
       "  </thead>\n",
       "  <tbody>\n",
       "    <tr>\n",
       "      <th>0</th>\n",
       "      <td>0</td>\n",
       "      <td>https://mm.digikey.com/Volume0/opasdata/d22000...</td>\n",
       "      <td>NaN</td>\n",
       "    </tr>\n",
       "    <tr>\n",
       "      <th>1</th>\n",
       "      <td>1</td>\n",
       "      <td>https://mm.digikey.com/Volume0/opasdata/d22000...</td>\n",
       "      <td>NaN</td>\n",
       "    </tr>\n",
       "    <tr>\n",
       "      <th>2</th>\n",
       "      <td>2</td>\n",
       "      <td>https://mm.digikey.com/Volume0/opasdata/d22000...</td>\n",
       "      <td>NaN</td>\n",
       "    </tr>\n",
       "    <tr>\n",
       "      <th>3</th>\n",
       "      <td>3</td>\n",
       "      <td>https://mm.digikey.com/Volume0/opasdata/d22000...</td>\n",
       "      <td>NaN</td>\n",
       "    </tr>\n",
       "    <tr>\n",
       "      <th>4</th>\n",
       "      <td>4</td>\n",
       "      <td>https://mm.digikey.com/Volume0/opasdata/d22000...</td>\n",
       "      <td>NaN</td>\n",
       "    </tr>\n",
       "  </tbody>\n",
       "</table>\n",
       "</div>"
      ],
      "text/plain": [
       "   Unnamed: 0                                                url content\n",
       "0           0  https://mm.digikey.com/Volume0/opasdata/d22000...     NaN\n",
       "1           1  https://mm.digikey.com/Volume0/opasdata/d22000...     NaN\n",
       "2           2  https://mm.digikey.com/Volume0/opasdata/d22000...     NaN\n",
       "3           3  https://mm.digikey.com/Volume0/opasdata/d22000...     NaN\n",
       "4           4  https://mm.digikey.com/Volume0/opasdata/d22000...     NaN"
      ]
     },
     "execution_count": 127,
     "metadata": {},
     "output_type": "execute_result"
    }
   ],
   "source": [
    "# train_results_df.head()"
   ]
  },
  {
   "cell_type": "code",
   "execution_count": 151,
   "metadata": {},
   "outputs": [
    {
     "data": {
      "text/plain": [
       "(7022, 3)"
      ]
     },
     "execution_count": 151,
     "metadata": {},
     "output_type": "execute_result"
    }
   ],
   "source": [
    "train_df.shape"
   ]
  },
  {
   "cell_type": "code",
   "execution_count": 153,
   "metadata": {},
   "outputs": [
    {
     "data": {
      "text/html": [
       "<div>\n",
       "<style scoped>\n",
       "    .dataframe tbody tr th:only-of-type {\n",
       "        vertical-align: middle;\n",
       "    }\n",
       "\n",
       "    .dataframe tbody tr th {\n",
       "        vertical-align: top;\n",
       "    }\n",
       "\n",
       "    .dataframe thead th {\n",
       "        text-align: right;\n",
       "    }\n",
       "</style>\n",
       "<table border=\"1\" class=\"dataframe\">\n",
       "  <thead>\n",
       "    <tr style=\"text-align: right;\">\n",
       "      <th></th>\n",
       "      <th>datasheet_link</th>\n",
       "      <th>target_col</th>\n",
       "      <th>content</th>\n",
       "    </tr>\n",
       "  </thead>\n",
       "  <tbody>\n",
       "    <tr>\n",
       "      <th>501</th>\n",
       "      <td>https://www.belfuse.com/resources/datasheets/c...</td>\n",
       "      <td>fuses</td>\n",
       "      <td>NaN</td>\n",
       "    </tr>\n",
       "    <tr>\n",
       "      <th>502</th>\n",
       "      <td>https://www.belfuse.com/resources/datasheets/c...</td>\n",
       "      <td>fuses</td>\n",
       "      <td>NaN</td>\n",
       "    </tr>\n",
       "    <tr>\n",
       "      <th>503</th>\n",
       "      <td>https://www.belfuse.com/resources/datasheets/c...</td>\n",
       "      <td>fuses</td>\n",
       "      <td>NaN</td>\n",
       "    </tr>\n",
       "    <tr>\n",
       "      <th>504</th>\n",
       "      <td>https://www.belfuse.com/resources/datasheets/c...</td>\n",
       "      <td>fuses</td>\n",
       "      <td>NaN</td>\n",
       "    </tr>\n",
       "    <tr>\n",
       "      <th>505</th>\n",
       "      <td>https://www.belfuse.com/resources/datasheets/c...</td>\n",
       "      <td>fuses</td>\n",
       "      <td>NaN</td>\n",
       "    </tr>\n",
       "    <tr>\n",
       "      <th>...</th>\n",
       "      <td>...</td>\n",
       "      <td>...</td>\n",
       "      <td>...</td>\n",
       "    </tr>\n",
       "    <tr>\n",
       "      <th>6994</th>\n",
       "      <td>https://www.microsemi.com/document-portal/doc_...</td>\n",
       "      <td>others</td>\n",
       "      <td>NaN</td>\n",
       "    </tr>\n",
       "    <tr>\n",
       "      <th>6998</th>\n",
       "      <td>https://www.microsemi.com/document-portal/doc_...</td>\n",
       "      <td>others</td>\n",
       "      <td>NaN</td>\n",
       "    </tr>\n",
       "    <tr>\n",
       "      <th>6999</th>\n",
       "      <td>https://www.microsemi.com/document-portal/doc_...</td>\n",
       "      <td>others</td>\n",
       "      <td>NaN</td>\n",
       "    </tr>\n",
       "    <tr>\n",
       "      <th>7019</th>\n",
       "      <td>https://www.microsemi.com/document-portal/doc_...</td>\n",
       "      <td>others</td>\n",
       "      <td>Microsemi Quality Investors Sales Contacts Par...</td>\n",
       "    </tr>\n",
       "    <tr>\n",
       "      <th>7020</th>\n",
       "      <td>https://www.microsemi.com/document-portal/doc_...</td>\n",
       "      <td>others</td>\n",
       "      <td>NaN</td>\n",
       "    </tr>\n",
       "  </tbody>\n",
       "</table>\n",
       "<p>5792 rows × 3 columns</p>\n",
       "</div>"
      ],
      "text/plain": [
       "                                         datasheet_link target_col  \\\n",
       "501   https://www.belfuse.com/resources/datasheets/c...      fuses   \n",
       "502   https://www.belfuse.com/resources/datasheets/c...      fuses   \n",
       "503   https://www.belfuse.com/resources/datasheets/c...      fuses   \n",
       "504   https://www.belfuse.com/resources/datasheets/c...      fuses   \n",
       "505   https://www.belfuse.com/resources/datasheets/c...      fuses   \n",
       "...                                                 ...        ...   \n",
       "6994  https://www.microsemi.com/document-portal/doc_...     others   \n",
       "6998  https://www.microsemi.com/document-portal/doc_...     others   \n",
       "6999  https://www.microsemi.com/document-portal/doc_...     others   \n",
       "7019  https://www.microsemi.com/document-portal/doc_...     others   \n",
       "7020  https://www.microsemi.com/document-portal/doc_...     others   \n",
       "\n",
       "                                                content  \n",
       "501                                                 NaN  \n",
       "502                                                 NaN  \n",
       "503                                                 NaN  \n",
       "504                                                 NaN  \n",
       "505                                                 NaN  \n",
       "...                                                 ...  \n",
       "6994                                                NaN  \n",
       "6998                                                NaN  \n",
       "6999                                                NaN  \n",
       "7019  Microsemi Quality Investors Sales Contacts Par...  \n",
       "7020                                                NaN  \n",
       "\n",
       "[5792 rows x 3 columns]"
      ]
     },
     "execution_count": 153,
     "metadata": {},
     "output_type": "execute_result"
    }
   ],
   "source": [
    "train_df[train_df.duplicated()]"
   ]
  },
  {
   "cell_type": "code",
   "execution_count": 157,
   "metadata": {},
   "outputs": [],
   "source": [
    "train_df.drop_duplicates(subset=['datasheet_link'],inplace=True)\n",
    "train_df.to_csv('train_df.csv')\n"
   ]
  },
  {
   "cell_type": "code",
   "execution_count": 158,
   "metadata": {},
   "outputs": [
    {
     "data": {
      "text/plain": [
       "(1197, 3)"
      ]
     },
     "execution_count": 158,
     "metadata": {},
     "output_type": "execute_result"
    }
   ],
   "source": [
    "train_df.shape"
   ]
  },
  {
   "cell_type": "code",
   "execution_count": 131,
   "metadata": {},
   "outputs": [],
   "source": [
    "train_df.drop('Unnamed: 0',inplace=True,axis=1)"
   ]
  },
  {
   "cell_type": "code",
   "execution_count": 132,
   "metadata": {},
   "outputs": [],
   "source": [
    "train_results_df.drop('Unnamed: 0',inplace=True,axis=1)"
   ]
  },
  {
   "cell_type": "code",
   "execution_count": 135,
   "metadata": {},
   "outputs": [],
   "source": [
    "train_df = pd.merge(train_df, train_results_df, left_on='datasheet_link', right_on='url', how='left')\n"
   ]
  },
  {
   "cell_type": "code",
   "execution_count": 139,
   "metadata": {},
   "outputs": [],
   "source": [
    "train_df.drop('url',axis=1,inplace=True)"
   ]
  },
  {
   "cell_type": "code",
   "execution_count": 140,
   "metadata": {},
   "outputs": [],
   "source": [
    "train_df.to_csv('train_df.csv',index=False)"
   ]
  },
  {
   "cell_type": "code",
   "execution_count": 141,
   "metadata": {},
   "outputs": [],
   "source": [
    "test_df = pd.read_excel('mle-1-assign-dataset.xlsx',sheet_name='test_data')"
   ]
  },
  {
   "cell_type": "code",
   "execution_count": 145,
   "metadata": {},
   "outputs": [
    {
     "name": "stderr",
     "output_type": "stream",
     "text": [
      "WARNING:__main__:Fetched URL: https://cdn.currentlighting.com/site/specsheet/dl_evo_spec.pdf\n",
      "WARNING:__main__:Fetched URL: https://cdn.currentlighting.com/site/specsheet/TS_Airo_spec_sheet.pdf\n",
      "WARNING:__main__:Fetched URL: https://cdn.currentlighting.com/site/specsheet/dl_pgf1_specsht.pdf\n",
      "WARNING:__main__:Fetched URL: https://bartco.wpenginepowered.com/wp-content/uploads/2021/10/BSS745_cs_0123.pdf\n"
     ]
    },
    {
     "name": "stdout",
     "output_type": "stream",
     "text": [
      "The content is a PDF. for urlhttps://cdn.currentlighting.com/site/specsheet/dl_pgf1_specsht.pdf\n",
      "The content is a PDF. for urlhttps://bartco.wpenginepowered.com/wp-content/uploads/2021/10/BSS745_cs_0123.pdf\n",
      "The content is a PDF. for urlhttps://cdn.currentlighting.com/site/specsheet/dl_evo_spec.pdf\n"
     ]
    },
    {
     "name": "stderr",
     "output_type": "stream",
     "text": [
      "WARNING:__main__:Fetched URL: https://static1.squarespace.com/static/61df533c57361a366db19973/t/64417efb635c94198dbd7a7c/1682013947658/SABIN_CUTSHEET_L60_LIT.pdf\n",
      "WARNING:__main__:Fetched URL: https://cdn.currentlighting.com/site/specsheet/lnc2%20spec%20sheet%20prismatic.pdf\n",
      "WARNING:__main__:Fetched URL: https://www.signify.com/api/assets/v1/file/Signify/content/664c23c256444e43aea1ad9e018a6f50/TruGroove_Suspended_Micro_Lens_SpecSheet.pdf\n",
      "WARNING:__main__:Fetched URL: https://www.luminii.com/wp-content/uploads/z_special_catalog_products/products/stenos-suspended-track/specsheets/Stenos-Suspended-Track-specification.pdf\n",
      "WARNING:__main__:Fetched URL: https://www.signify.com/api/assets/v1/file/Signify/content/17436b495a124af6bd51aa3e00d56a48/LPW7_LytePro_sconce_G3.pdf\n",
      "WARNING:__main__:Fetched URL: https://www.assets.signify.com/is/content/Signify/e17027083e954ecd850fad4100713747\n",
      "WARNING:__main__:Fetched URL: https://www.signify.com/api/assets/v1/file/Signify/content/92e2537765254d99bc80ac4e01338399/U2C_2x2_grid_ceiling_mount.pdf\n",
      "WARNING:__main__:Fetched URL: https://www.signify.com/api/assets/v1/file/Signify/content/10ceff00c2bb48c4856daccf00bb0614/Stonco_SL_G2_SpecSheet.pdf\n",
      "WARNING:__main__:Fetched URL: https://www.cooperlighting.com/api/assets/v1/file/CLS/content/e44d68c0841f464295ecae8b01078391/corelite-continua-sq4-surface-specsheet\n",
      "WARNING:__main__:Fetched URL: https://www.signify.com/api/assets/v1/file/PhilipsLighting/content/08cfb82240344139b417a87f0114e2a1/cn-26200.pdf\n",
      "WARNING:__main__:Fetched URL: https://www.signify.com/api/assets/v1/file/Signify/content/ec883b13a3904ee19257aa56008132ca/Stonco_AreaLight_SpecSheet_0221.pdf\n",
      "WARNING:__main__:Fetched URL: https://www.signify.com/api/assets/v1/file/Signify/content/782fe872bb8e45a7b0f4ac4e0133b42d/UHB_high_bay.pdf\n",
      "WARNING:__main__:Fetched URL: https://www.cooperlighting.com/api/assets/v1/file/CLS/content/bf8b89f5cfe44c26913dad41008343d5/lumark-axcent-family-spec\n",
      "WARNING:__main__:Fetched URL: https://www.cooperlighting.com/api/assets/v1/file/CLS/content/43e1757e7af041efbdf8ad41006fd7f8/corelite-continua-cta-susp-led-specsheet\n",
      "WARNING:__main__:Fetched URL: https://www.signify.com/api/assets/v1/file/Signify/content/8edf6943506040c09834ac4e013388b6/UIW_indirect_wall.pdf\n",
      "WARNING:__main__:Fetched URL: https://www.cooperlighting.com/api/assets/v1/file/CLS/content/af50ab4add304d5a8886ad4100709159/corelite-hugo-hgl-surf-led-specsheet\n",
      "WARNING:__main__:Fetched URL: https://www.cooperlighting.com/api/assets/v1/file/CLS/content/6839fc74b228456a880dae70010d95bd/corelite-Indepth-led-4x4-specsheet\n",
      "WARNING:__main__:Fetched URL: https://www.signify.com/api/assets/v1/file/Signify/content/51758d0d97da49b99323ac4e01338c72/UST_strip.pdf\n",
      "WARNING:__main__:Fetched URL: https://www.signify.com/api/assets/v1/file/PhilipsLighting/content/6ca1e3b42ddf4edbb225aa4c00cda78f/Stonco_SlimFlood_TF.pdf\n",
      "WARNING:__main__:Fetched URL: https://www.cooperlighting.com/api/assets/v1/file/CLS/content/ad9e025564034a3e850dad41008b7cd6/PS519075EN-312EN-300x1200-LED-Metric-SSS\n"
     ]
    },
    {
     "name": "stdout",
     "output_type": "stream",
     "text": [
      "The content is a PDF. for urlhttps://cdn.currentlighting.com/site/specsheet/TS_Airo_spec_sheet.pdf\n",
      "The content is a PDF. for urlhttps://www.signify.com/api/assets/v1/file/Signify/content/92e2537765254d99bc80ac4e01338399/U2C_2x2_grid_ceiling_mount.pdf\n",
      "The content is a PDF. for urlhttps://www.assets.signify.com/is/content/Signify/e17027083e954ecd850fad4100713747\n",
      "The content is a PDF. for urlhttps://www.signify.com/api/assets/v1/file/Signify/content/8edf6943506040c09834ac4e013388b6/UIW_indirect_wall.pdf\n"
     ]
    },
    {
     "name": "stderr",
     "output_type": "stream",
     "text": [
      "WARNING:__main__:Fetched URL: https://cdn.currentlighting.com/site/specsheet/LBUL_Colt_Spec_Sheet.pdf\n",
      "WARNING:__main__:Fetched URL: https://www.luminii.com/wp-content/uploads/z_special_catalog_products/products/runda-closet-rod-static-white/specsheets/Runda-Closet-Rod-Static-White-Spec.pdf\n",
      "WARNING:__main__:Fetched URL: https://lumenart.com/images/fabric/cyp/cyp_specs.pdf\n",
      "WARNING:__main__:Fetched URL: https://lumenart.com/images/designer/wlp_specs.pdf\n"
     ]
    },
    {
     "name": "stdout",
     "output_type": "stream",
     "text": [
      "The content is a PDF. for urlhttps://lumenart.com/images/designer/wlp_specs.pdf\n"
     ]
    },
    {
     "name": "stderr",
     "output_type": "stream",
     "text": [
      "WARNING:__main__:Fetched URL: https://www.cooledgelighting.com/storage/resources/Cooledge%20FABRICated%20Luminaires%20-%20Suspended%20Circles%20Spec(Ltr).pdf\n",
      "WARNING:__main__:Fetched URL: https://www.cooledgelighting.com/storage/resources/TILE%20Interior%20Specifications%20(Imperial-Ltr)%20R07.pdf\n",
      "WARNING:__main__:Fetched URL: https://www.cooledgelighting.com/storage/resources/TILE%20Interior%20Acoustic%20-%20Specifications%20(Imperial-Ltr).pdf\n",
      "WARNING:__main__:Fetched URL: https://www.cooledgelighting.com/storage/resources/Cooledge%20TILE%20Exterior%20R2%20-%20Tunable%20White%20Specifications%20(Imperial-Ltr)R02.pdf\n",
      "WARNING:__main__:Fetched URL: https://www.cooledgelighting.com/storage/resources/Cooledge%20TILE%20Tunable%20White%20Specifications%20(Imperial-Ltr)%20R08.pdf\n"
     ]
    },
    {
     "name": "stdout",
     "output_type": "stream",
     "text": [
      "The content is a PDF. for urlhttps://lumenart.com/images/fabric/cyp/cyp_specs.pdf\n",
      "The content is a PDF. for urlhttps://cdn.currentlighting.com/site/specsheet/lnc2%20spec%20sheet%20prismatic.pdf\n",
      ">>>>>>>>>>>> invalid status found:403 for url:https://axislighting-balancedcare-production.s3.ca-central-1.amazonaws.com/wp-content/uploads/2022/04/06114330/BCTQG_44.SPEC_.pdf\n",
      ">>>>>>>>>>>> invalid status found:403 for url:https://axislighting-balancedcare-production.s3.ca-central-1.amazonaws.com/wp-content/uploads/2022/04/05102136/BCTQD.SPEC_.pdf\n",
      ">>>>>>>>>>>> invalid status found:403 for url:https://axislighting-balancedcare-production.s3.ca-central-1.amazonaws.com/wp-content/uploads/2022/04/06114303/BCTQG_22.SPEC_.pdf\n",
      "The content is a PDF. for urlhttps://www.cooperlighting.com/api/assets/v1/file/CLS/content/ad9e025564034a3e850dad41008b7cd6/PS519075EN-312EN-300x1200-LED-Metric-SSS\n",
      "The content is a PDF. for urlhttps://www.signify.com/api/assets/v1/file/Signify/content/51758d0d97da49b99323ac4e01338c72/UST_strip.pdf\n",
      "The content is a PDF. for urlhttps://www.signify.com/api/assets/v1/file/Signify/content/782fe872bb8e45a7b0f4ac4e0133b42d/UHB_high_bay.pdf\n",
      "The content is a PDF. for urlhttps://cdn.currentlighting.com/site/specsheet/LBUL_Colt_Spec_Sheet.pdf\n"
     ]
    },
    {
     "name": "stderr",
     "output_type": "stream",
     "text": [
      "WARNING:__main__:Fetched URL: https://www.inter-lux.com/wp-content/uploads/2022/10/ZTA.70.Bay_.pdf\n",
      "WARNING:__main__:Fetched URL: https://www.louispoulsen.com/api/downloadcenter/download?type=cutsheetpdf&id=VL%20Studio%20Wall-91837%20Cut%20Sheet.pdf&overridelanguage=en-US\n",
      "WARNING:__main__:Fetched URL: https://www.inter-lux.com/wp-content/uploads/2022/10/ZTA.50.Mains-Track.pdf\n",
      "WARNING:__main__:Fetched URL: https://www.louispoulsen.com/api/downloadcenter/download?type=cutsheetpdf&id=Bysted%20Garden-91823%20Cut%20Sheet.pdf&overridelanguage=en-US\n",
      "WARNING:__main__:Fetched URL: https://www.diffusionlighting.com/wp-content/uploads/2021/03/SL4-Outdoor-spec.pdf\n",
      "WARNING:__main__:Fetched URL: https://lumenart.com/images/fabric/rdc/rdc_specs.pdf\n",
      "WARNING:__main__:Fetched URL: https://lumenart.com/images/alume/awl-01_specs.pdf\n",
      "WARNING:__main__:Fetched URL: https://lumenart.com/images/designer/wcp/wcp-s_specs.pdf\n",
      "WARNING:__main__:Fetched URL: https://www.diffusionlighting.com/wp-content/uploads/2021/03/SL3-Outdoor-spec.pdf\n",
      "WARNING:__main__:Fetched URL: https://www.diffusionlighting.com/wp-content/uploads/2021/05/SL1-Outdoor-spec.pdf\n",
      "WARNING:__main__:Fetched URL: https://www.speclight.com/downloads/m-442/ac03cda551e84ea4a0b5d19292f02a60/cw06-pc-w-rb.pdf\n",
      "WARNING:__main__:Fetched URL: https://www.speclight.com/downloads/m-442/17af97d0b2f74dd6861d52a6e171d220/cf06-pc-w-rb.pdf\n",
      "WARNING:__main__:Fetched URL: https://www.speclight.com/downloads/m-442/46ab7d1122294f97905f32a29655cc68/cw04-pc-w-ra.pdf\n",
      "WARNING:__main__:Fetched URL: https://www.speclight.com/downloads/m-442/13e6b89c18ef48e6ac985c0c952e8601/cf04-udpc-w-ra.pdf\n"
     ]
    },
    {
     "name": "stdout",
     "output_type": "stream",
     "text": [
      ">>>>>>> page not found for url https://www.louispoulsen.com/api/downloadcenter/download?type=cutsheetpdf&id=Albertslund%20Maxi%20LED%20Upgrade%20Kit-91747%20Cut%20Sheet.pdf&overridelanguage=en-US\n",
      ">>>>>>> page not found for url https://www.edisonlighting.ca/products/pdf/ed_mila_plus.pdf\n",
      "The content is a PDF. for urlhttps://static1.squarespace.com/static/61df533c57361a366db19973/t/64417efb635c94198dbd7a7c/1682013947658/SABIN_CUTSHEET_L60_LIT.pdf\n",
      "The content is a PDF. for urlhttps://www.signify.com/api/assets/v1/file/Signify/content/17436b495a124af6bd51aa3e00d56a48/LPW7_LytePro_sconce_G3.pdf\n",
      "The content is a PDF. for urlhttps://www.luminii.com/wp-content/uploads/z_special_catalog_products/products/stenos-suspended-track/specsheets/Stenos-Suspended-Track-specification.pdf\n",
      "The content is a PDF. for urlhttps://www.cooperlighting.com/api/assets/v1/file/CLS/content/43e1757e7af041efbdf8ad41006fd7f8/corelite-continua-cta-susp-led-specsheet\n",
      "The content is a PDF. for urlhttps://www.signify.com/api/assets/v1/file/PhilipsLighting/content/08cfb82240344139b417a87f0114e2a1/cn-26200.pdf\n"
     ]
    },
    {
     "name": "stderr",
     "output_type": "stream",
     "text": [
      "WARNING:__main__:Fetched URL: https://www.cooperlighting.com/api/assets/v1/file/CLS/content/3944be4a9f3a47eab70cad4100713524/corelite-jaylum-j3-led-specsheet\n",
      "WARNING:__main__:Fetched URL: https://www.cooperlighting.com/api/assets/v1/file/CLS/content/004b54f0e8c946bb9ffead41007130f8/corelite-jaylum-j2-susp-led-specsheet\n",
      "WARNING:__main__:Fetched URL: https://www.vishay.com/docs/28747/mfuserie.pdf\n",
      "WARNING:__main__:Fetched URL: https://www.cooperlighting.com/api/assets/v1/file/CLS/content/367be0ed12484630af6cadd501729aa4/corelite-discreet-surf-specsheet\n",
      "WARNING:__main__:Fetched URL: https://www.cooperlighting.com/api/assets/v1/file/CLS/content/470d50496abf4789af06add501729470/corelite-discreet-susp-specsheet\n"
     ]
    },
    {
     "name": "stdout",
     "output_type": "stream",
     "text": [
      "The content is a PDF. for urlhttps://www.louispoulsen.com/api/downloadcenter/download?type=cutsheetpdf&id=Bysted%20Garden-91823%20Cut%20Sheet.pdf&overridelanguage=en-US\n"
     ]
    },
    {
     "name": "stderr",
     "output_type": "stream",
     "text": [
      "WARNING:__main__:Fetched URL: https://www.prulite.com/wp-content/uploads/2021/11/C-LED-Spec.pdf\n"
     ]
    },
    {
     "name": "stdout",
     "output_type": "stream",
     "text": [
      "The content is a PDF. for urlhttps://lumenart.com/images/fabric/rdc/rdc_specs.pdf\n",
      "The content is a PDF. for urlhttps://lumenart.com/images/designer/wcp/wcp-s_specs.pdf\n",
      "The content is a PDF. for urlhttps://lumenart.com/images/alume/awl-01_specs.pdf\n",
      "The content is a PDF. for urlhttps://www.diffusionlighting.com/wp-content/uploads/2021/05/SL1-Outdoor-spec.pdf\n",
      "The content is a PDF. for urlhttps://www.signify.com/api/assets/v1/file/Signify/content/ec883b13a3904ee19257aa56008132ca/Stonco_AreaLight_SpecSheet_0221.pdf\n",
      "The content is a PDF. for urlhttps://www.cooledgelighting.com/storage/resources/Cooledge%20FABRICated%20Luminaires%20-%20Suspended%20Circles%20Spec(Ltr).pdf\n",
      "The content is a PDF. for urlhttps://www.cooperlighting.com/api/assets/v1/file/CLS/content/af50ab4add304d5a8886ad4100709159/corelite-hugo-hgl-surf-led-specsheet\n"
     ]
    },
    {
     "name": "stderr",
     "output_type": "stream",
     "text": [
      "WARNING:__main__:Error fetching URL: https://img.acuitybrands.com/public-assets/catalog/1312780/hxpl_.pdf Exception: Cannot connect to host img.acuitybrands.com:443 ssl:default [None]\n",
      "WARNING:__main__:Error fetching URL: https://img.acuitybrands.com/public-assets/catalog/1313271/vl_.pdf Exception: Cannot connect to host img.acuitybrands.com:443 ssl:default [None]\n",
      "WARNING:__main__:Error fetching URL: https://img.acuitybrands.com/public-assets/catalog/1312836/mdle2.pdf Exception: Cannot connect to host img.acuitybrands.com:443 ssl:default [None]\n",
      "WARNING:__main__:Error fetching URL: https://img.acuitybrands.com/public-assets/catalog/1312479/ldv15.pdf Exception: Cannot connect to host img.acuitybrands.com:443 ssl:default [None]\n",
      "WARNING:__main__:Error fetching URL: https://img.acuitybrands.com/public-assets/catalog/1313494/plled.pdf Exception: Cannot connect to host img.acuitybrands.com:443 ssl:default [None]\n",
      "WARNING:__main__:Error fetching URL: https://img.acuitybrands.com/public-assets/catalog/1313192/ppsql2.pdf Exception: Cannot connect to host img.acuitybrands.com:443 ssl:default [Connect call failed ('2620:1ec:bdf::58', 443, 0, 0)]\n",
      "WARNING:__main__:Error fetching URL: https://img.acuitybrands.com/public-assets/catalog/117068/ibl.pdf Exception: Cannot connect to host img.acuitybrands.com:443 ssl:default [Connect call failed ('2620:1ec:bdf::58', 443, 0, 0)]\n",
      "WARNING:__main__:Error fetching URL: https://img.acuitybrands.com/public-assets/catalog/1312479/ldv05.pdf Exception: Cannot connect to host img.acuitybrands.com:443 ssl:default [Connect call failed ('2620:1ec:bdf::58', 443, 0, 0)]\n",
      "WARNING:__main__:Error fetching URL: https://img.acuitybrands.com/public-assets/catalog/1330426/emw-led_.pdf Exception: Cannot connect to host img.acuitybrands.com:443 ssl:default [Connect call failed ('2620:1ec:bdf::58', 443, 0, 0)]\n",
      "WARNING:__main__:Error fetching URL: https://img.acuitybrands.com/public-assets/catalog/1319868/baled-barfk.pdf Exception: Cannot connect to host img.acuitybrands.com:443 ssl:default [Connect call failed ('2620:1ec:bdf::58', 443, 0, 0)]\n",
      "WARNING:__main__:Fetched URL: https://www.luminis.com/assets/Uploads/SPECS-MAYA-MA50-JULY2022-REV4.pdf\n",
      "WARNING:__main__:Fetched URL: https://www.luminis.com/assets/Uploads/SPECS-PRISMA-PR1280-PR1285-SEPT2022-REV4.pdf\n"
     ]
    },
    {
     "name": "stdout",
     "output_type": "stream",
     "text": [
      ">>>>>>> page not found for url https://www.landscapeforms.com/en-US/Specification%20Sheets/LF_Motive_PendantLight_SpecSheet.pdf\n",
      ">>>>>>> page not found for url https://www.landscapeforms.com/en-US/Specification%20Sheets/LF_Motive_AreaLight_SpecSheet.pdf\n",
      ">>>>>>> page not found for url https://www.luminis.com/assets/Uploads/SPECS-SYRIOS-SQUARE-SQ510-JUL2022-REV6.pdf\n",
      ">>>>>>> page not found for url https://www.luminis.com/assets/Uploads/SPECS-LUMISTIK-CL312-CL322-CL342-JUL2022-REV4.pdf\n",
      ">>>>>>> page not found for url https://www.luminis.com/assets/Uploads/SPECS-SYRIOS-SQUARE-SQ405-JUL2022-REV6.pdf\n",
      ">>>>>>> page not found for url https://www.luminis.com/assets/Uploads/SPECS-SYRIOS-SY305-JUL2022-REV6.pdf\n",
      "The content is a PDF. for urlhttps://www.louispoulsen.com/api/downloadcenter/download?type=cutsheetpdf&id=VL%20Studio%20Wall-91837%20Cut%20Sheet.pdf&overridelanguage=en-US\n",
      "The content is a PDF. for urlhttps://www.cooperlighting.com/api/assets/v1/file/CLS/content/6839fc74b228456a880dae70010d95bd/corelite-Indepth-led-4x4-specsheet\n",
      "The content is a PDF. for urlhttps://www.inter-lux.com/wp-content/uploads/2022/10/ZTA.70.Bay_.pdf\n",
      "The content is a PDF. for urlhttps://www.inter-lux.com/wp-content/uploads/2022/10/ZTA.50.Mains-Track.pdf\n"
     ]
    },
    {
     "name": "stderr",
     "output_type": "stream",
     "text": [
      "WARNING:__main__:Fetched URL: https://kenall.com/Kenall-Files/Product-Files/SpecificationSheets/MPH.pdf\n",
      "WARNING:__main__:Fetched URL: https://kenall.com/Kenall-Files/Product-Files/SpecificationSheets/TD17.pdf\n",
      "WARNING:__main__:Fetched URL: https://kenall.com/Kenall-Files/Product-Files/SpecificationSheets/CSEFL_14_22_24.pdf\n",
      "WARNING:__main__:Fetched URL: https://kenall.com/Kenall-Files/Product-Files/SpecificationSheets/EPLB.pdf\n",
      "WARNING:__main__:Fetched URL: https://kenall.com/Kenall-Files/Product-Files/SpecificationSheets/MPH-ICT.pdf\n",
      "WARNING:__main__:Fetched URL: https://kenall.com/Kenall-Files/Product-Files/SpecificationSheets/CSEDO_14_22_24.pdf\n"
     ]
    },
    {
     "name": "stdout",
     "output_type": "stream",
     "text": [
      "The content is a PDF. for urlhttps://www.signify.com/api/assets/v1/file/Signify/content/10ceff00c2bb48c4856daccf00bb0614/Stonco_SL_G2_SpecSheet.pdf\n"
     ]
    },
    {
     "name": "stderr",
     "output_type": "stream",
     "text": [
      "WARNING:__main__:Error fetching URL: https://www.luminis.com/assets/Uploads/SPECS-SCOPO-SC350-JUL2022-REV4.pdf Exception: Server disconnected\n"
     ]
    },
    {
     "name": "stdout",
     "output_type": "stream",
     "text": [
      "The content is a PDF. for urlhttps://www.vishay.com/docs/28747/mfuserie.pdf\n",
      ">>>>>>>>>>>> invalid status found:403 for url:https://mm.digikey.com/Volume0/opasdata/d220001/medias/docus/559/CS-1_Dwg.pdf\n",
      "The content is a PDF. for urlhttps://www.diffusionlighting.com/wp-content/uploads/2021/03/SL4-Outdoor-spec.pdf\n"
     ]
    },
    {
     "name": "stderr",
     "output_type": "stream",
     "text": [
      "WARNING:__main__:Fetched URL: https://cdn.currentlighting.com/site/specsheet/nrg4000led.pdf\n",
      "WARNING:__main__:Fetched URL: https://cdn.currentlighting.com/site/specsheet/DL_PGR_SPEC.pdf\n",
      "WARNING:__main__:Fetched URL: https://cdn.currentlighting.com/site/specsheet/HOL_LNC2LED_spec.pdf\n",
      "WARNING:__main__:Fetched URL: https://publish.sanyodenki.com/San_Ace_PWM_Controller_E/book/\n",
      "/tmp/ipykernel_137286/599240133.py:17: FutureWarning: The behavior of this method will change in future versions. Use specific 'len(elem)' or 'elem is not None' test instead.\n",
      "  if tree:\n"
     ]
    },
    {
     "name": "stdout",
     "output_type": "stream",
     "text": [
      "The content is HTML. for urlhttps://publish.sanyodenki.com/San_Ace_PWM_Controller_E/book/\n",
      "The content is a PDF. for urlhttps://www.diffusionlighting.com/wp-content/uploads/2021/03/SL3-Outdoor-spec.pdf\n"
     ]
    },
    {
     "name": "stderr",
     "output_type": "stream",
     "text": [
      "WARNING:__main__:Error fetching URL: https://fluxwerx.com/app/uploads/2023/02/HY1-RS.pdf Exception: Server disconnected\n",
      "WARNING:__main__:Error fetching URL: https://fluxwerx.com/app/uploads/2020/01/LS1xB.pdf Exception: Server disconnected\n",
      "WARNING:__main__:Fetched URL: https://cdn.currentlighting.com/site/specsheet/dl_0603621_evhc_specsht.pdf\n"
     ]
    },
    {
     "name": "stdout",
     "output_type": "stream",
     "text": [
      ">>>>>>> page not found for url https://viscor.com/en/docs/LRKU_Spec_Sheet_1x4.pdf\n",
      "The content is a PDF. for urlhttps://kenall.com/Kenall-Files/Product-Files/SpecificationSheets/CSEFL_14_22_24.pdf\n",
      "The content is a PDF. for urlhttps://kenall.com/Kenall-Files/Product-Files/SpecificationSheets/MPH.pdf\n",
      "The content is a PDF. for urlhttps://kenall.com/Kenall-Files/Product-Files/SpecificationSheets/MPH-ICT.pdf\n",
      ">>>>>>> page not found for url https://viscor.com/en/docs/LRKU_2x2_and_2x4_Spec_Sheet.pdf\n",
      "The content is a PDF. for urlhttps://www.signify.com/api/assets/v1/file/Signify/content/664c23c256444e43aea1ad9e018a6f50/TruGroove_Suspended_Micro_Lens_SpecSheet.pdf\n",
      "The content is a PDF. for urlhttps://www.signify.com/api/assets/v1/file/PhilipsLighting/content/6ca1e3b42ddf4edbb225aa4c00cda78f/Stonco_SlimFlood_TF.pdf\n",
      "The content is a PDF. for urlhttps://www.cooledgelighting.com/storage/resources/TILE%20Interior%20Specifications%20(Imperial-Ltr)%20R07.pdf\n"
     ]
    },
    {
     "name": "stderr",
     "output_type": "stream",
     "text": [
      "WARNING:__main__:Fetched URL: https://boltontechnical.com/content/geek-sheets/BT974754-500-ft-Bolton-240-Black-Cable-Spool-Geek-Sheet.pdf\n"
     ]
    },
    {
     "name": "stdout",
     "output_type": "stream",
     "text": [
      "The content is a PDF. for urlhttps://www.cooperlighting.com/api/assets/v1/file/CLS/content/3944be4a9f3a47eab70cad4100713524/corelite-jaylum-j3-led-specsheet\n",
      "The content is a PDF. for urlhttps://www.cooperlighting.com/api/assets/v1/file/CLS/content/004b54f0e8c946bb9ffead41007130f8/corelite-jaylum-j2-susp-led-specsheet\n",
      "The content is a PDF. for urlhttps://kenall.com/Kenall-Files/Product-Files/SpecificationSheets/TD17.pdf\n",
      "The content is a PDF. for urlhttps://cdn.currentlighting.com/site/specsheet/nrg4000led.pdf\n"
     ]
    },
    {
     "name": "stderr",
     "output_type": "stream",
     "text": [
      "WARNING:__main__:Fetched URL: https://publish.sanyodenki.com/San_Ace_E/book/#target/page_no=603\n",
      "/tmp/ipykernel_137286/599240133.py:17: FutureWarning: The behavior of this method will change in future versions. Use specific 'len(elem)' or 'elem is not None' test instead.\n",
      "  if tree:\n",
      "WARNING:__main__:Fetched URL: https://www.nerinorthamerica.com/supporto/DownloadNeri.ashx?f=PU313LUS.pdf&LN=en-US\n",
      "WARNING:__main__:Fetched URL: https://www.ebmpapst.pt/media/content/products/downloads_1/centrifugal_fans/Centrifugal_fans_DC.pdf\n"
     ]
    },
    {
     "name": "stdout",
     "output_type": "stream",
     "text": [
      ">>>>>>> page not found for url https://www.essentracomponents.com/en-gb/component/skuAsset?mediaId=109259\n",
      "The content is HTML. for urlhttps://publish.sanyodenki.com/San_Ace_E/book/\n",
      "The content is HTML. for urlhttps://www.neri.biz/us/?f=PU313LUS.pdf&LN=en-US\n",
      "The content is a PDF. for urlhttps://kenall.com/Kenall-Files/Product-Files/SpecificationSheets/CSEDO_14_22_24.pdf\n",
      "The content is a PDF. for urlhttps://kenall.com/Kenall-Files/Product-Files/SpecificationSheets/EPLB.pdf\n",
      "The content is a PDF. for urlhttps://www.speclight.com/downloads/m-442/ac03cda551e84ea4a0b5d19292f02a60/cw06-pc-w-rb.pdf\n",
      "The content is a PDF. for urlhttps://www.speclight.com/downloads/m-442/17af97d0b2f74dd6861d52a6e171d220/cf06-pc-w-rb.pdf\n",
      "The content is a PDF. for urlhttps://www.speclight.com/downloads/m-442/13e6b89c18ef48e6ac985c0c952e8601/cf04-udpc-w-ra.pdf\n",
      "The content is a PDF. for urlhttps://www.speclight.com/downloads/m-442/46ab7d1122294f97905f32a29655cc68/cw04-pc-w-ra.pdf\n",
      "The content is a PDF. for urlhttps://www.prulite.com/wp-content/uploads/2021/11/C-LED-Spec.pdf\n",
      "The content is a PDF. for urlhttps://www.cooledgelighting.com/storage/resources/TILE%20Interior%20Acoustic%20-%20Specifications%20(Imperial-Ltr).pdf\n"
     ]
    },
    {
     "name": "stderr",
     "output_type": "stream",
     "text": [
      "WARNING:__main__:Error fetching URL: https://www.kirlinlighting.com/wp-content/uploads/2022/07/LSR-12482.pdf Exception: Cannot connect to host www.kirlinlighting.com:443 ssl:default [None]\n",
      "WARNING:__main__:Error fetching URL: https://publish.sanyodenki.com/San_Ace_E/book/#target/page_no=603 Exception: Server disconnected\n",
      "WARNING:__main__:Fetched URL: https://source.z2data.com/2023/9/4/2/45/59/497548/6177000/HUBERSUHNERG02232DDataSheet.pdf\n"
     ]
    },
    {
     "name": "stdout",
     "output_type": "stream",
     "text": [
      "The content is a PDF. for urlhttps://cdn.currentlighting.com/site/specsheet/DL_PGR_SPEC.pdf\n",
      "The content is a PDF. for urlhttps://www.luminis.com/assets/Uploads/SPECS-PRISMA-PR1280-PR1285-SEPT2022-REV4.pdf\n"
     ]
    },
    {
     "name": "stderr",
     "output_type": "stream",
     "text": [
      "WARNING:__main__:Error fetching URL: https://www.qualtekusa.com/images/Fan%20Accessories/PDFDrawings/qln.pdf Exception: [Errno 32] Broken pipe\n",
      "WARNING:__main__:Error fetching URL: https://www.kirlinlighting.com/wp-content/uploads/2022/07/MRR-07505.pdf Exception: Cannot connect to host www.kirlinlighting.com:443 ssl:default [None]\n",
      "WARNING:__main__:Error fetching URL: https://www.kirlinlighting.com/wp-content/uploads/2022/07/SRR-04105.pdf Exception: Cannot connect to host www.kirlinlighting.com:443 ssl:default [None]\n",
      "WARNING:__main__:Error fetching URL: https://www.kirlinlighting.com/wp-content/uploads/2022/07/MRV-08545.pdf Exception: Cannot connect to host www.kirlinlighting.com:443 ssl:default [None]\n",
      "WARNING:__main__:Error fetching URL: https://www.kirlinlighting.com/wp-content/uploads/2022/07/MRR-04220.pdf Exception: Cannot connect to host www.kirlinlighting.com:443 ssl:default [None]\n",
      "WARNING:__main__:Error fetching URL: https://www.kirlinlighting.com/wp-content/uploads/2022/07/MRR-06222.pdf Exception: Cannot connect to host www.kirlinlighting.com:443 ssl:default [None]\n",
      "WARNING:__main__:Error fetching URL: https://www.kirlinlighting.com/wp-content/uploads/2022/07/MRR-04416.pdf Exception: Cannot connect to host www.kirlinlighting.com:443 ssl:default [None]\n",
      "WARNING:__main__:Error fetching URL: https://www.kirlinlighting.com/wp-content/uploads/2022/07/MRR-08535.pdf Exception: Cannot connect to host www.kirlinlighting.com:443 ssl:default [None]\n",
      "WARNING:__main__:Error fetching URL: https://mm.digikey.com/Volume0/opasdata/d220001/medias/docus/6099/FGA-60.pdf Exception: Server disconnected\n",
      "WARNING:__main__:Error fetching URL: https://mm.digikey.com/Volume0/opasdata/d220001/medias/docus/209/EDG_vs_%28003%29_2009.pdf Exception: Server disconnected\n",
      "WARNING:__main__:Error fetching URL: https://multimedia.3m.com/mws/media/1255423O/e-a-r-isodamp-versadamp-material-summary-sheet.pdf Exception: Server disconnected\n",
      "WARNING:__main__:Error fetching URL: https://www.essentracomponents.com/en-us/component/skuAsset?mediaId=117459 Exception: Server disconnected\n",
      "WARNING:__main__:Error fetching URL: https://orionfans.com/productFiles/datasheet/OAM.pdf Exception: Server disconnected\n",
      "WARNING:__main__:Error fetching URL: https://orionfans.com/productFiles/datasheet/DR225A.pdf Exception: Server disconnected\n",
      "WARNING:__main__:Error fetching URL: https://orionfans.com/productFiles/datasheet/OAM.pdf Exception: Server disconnected\n",
      "WARNING:__main__:Error fetching URL: https://orionfans.com/productFiles/datasheet/AFM.pdf Exception: Server disconnected\n"
     ]
    },
    {
     "name": "stdout",
     "output_type": "stream",
     "text": [
      "The content is a PDF. for urlhttps://cdn.currentlighting.com/site/specsheet/HOL_LNC2LED_spec.pdf\n"
     ]
    },
    {
     "name": "stderr",
     "output_type": "stream",
     "text": [
      "WARNING:__main__:Fetched URL: https://www.ebmpapst.com/content/dam/ebm-papst/loc/americas/accessories/Capacitors.pdf\n",
      "WARNING:__main__:Fetched URL: https://www.ebmpapst.com/content/dam/ebm-papst/loc/americas/accessories/Capacitors.pdf\n"
     ]
    },
    {
     "name": "stdout",
     "output_type": "stream",
     "text": [
      "The content is a PDF. for urlhttps://boltontechnical.com/content/geek-sheets/BT974754-500-ft-Bolton-240-Black-Cable-Spool-Geek-Sheet.pdf\n",
      "The content is a PDF. for urlhttps://www.luminis.com/assets/Uploads/SPECS-MAYA-MA50-JULY2022-REV4.pdf\n",
      "The content is a PDF. for urlhttps://www.cooperlighting.com/api/assets/v1/file/CLS/content/e44d68c0841f464295ecae8b01078391/corelite-continua-sq4-surface-specsheet\n",
      "The content is a PDF. for urlhttps://www.cooperlighting.com/api/assets/v1/file/CLS/content/bf8b89f5cfe44c26913dad41008343d5/lumark-axcent-family-spec\n"
     ]
    },
    {
     "name": "stderr",
     "output_type": "stream",
     "text": [
      "WARNING:__main__:Error fetching URL: https://alwusa.com/wp-content/uploads/2021/01/HB2-SpecSheet-1-28-21.pdf Exception: Cannot connect to host alwusa.com:443 ssl:default [Connect call failed ('2606:4700:3036::ac43:ce30', 443, 0, 0)]\n"
     ]
    },
    {
     "name": "stdout",
     "output_type": "stream",
     "text": [
      "The content is a PDF. for urlhttps://www.cooperlighting.com/api/assets/v1/file/CLS/content/367be0ed12484630af6cadd501729aa4/corelite-discreet-surf-specsheet\n"
     ]
    },
    {
     "name": "stderr",
     "output_type": "stream",
     "text": [
      "WARNING:__main__:Fetched URL: https://publish.sanyodenki.com/San_Ace_PWM_Controller_E/book/\n",
      "/tmp/ipykernel_137286/599240133.py:17: FutureWarning: The behavior of this method will change in future versions. Use specific 'len(elem)' or 'elem is not None' test instead.\n",
      "  if tree:\n",
      "WARNING:__main__:Fetched URL: https://brand.hubersuhner.com/api/asset/eyJjbGllbnRJZCI6bnVsbCwiaWQiOjc2NTU1LCJ0aW1lc3RhbXAiOjE2OTg1OTk4MTMsInZlcnNpb24iOjE2OTg1MDkyMjh9:huber-suhnerag:badcyVPknkquFohlZpyAvoeeZ4kNEXoqKnHl3y_gQmk/download\n",
      "WARNING:__main__:Fetched URL: https://brand.hubersuhner.com/api/asset/eyJjbGllbnRJZCI6bnVsbCwiaWQiOjExNjQ2OSwidGltZXN0YW1wIjoxNjk4NTk5ODA4LCJ2ZXJzaW9uIjoxNjk4NTA5NjU4fQ:huber-suhnerag:zALYZ2Nbeq5Lrioa2m7UOjyQksKmtn4W208nIRxPDws/download\n",
      "WARNING:__main__:Fetched URL: https://www.ebmpapst.com/content/dam/ebm-papst/loc/americas/accessories/Capacitors.pdf\n",
      "WARNING:__main__:Fetched URL: https://www.ebmpapst.com/content/dam/ebm-papst/loc/americas/accessories/Capacitors.pdf\n",
      "WARNING:__main__:Fetched URL: https://www.ebmpapst.com/content/dam/ebm-papst/loc/americas/accessories/Capacitors.pdf\n",
      "WARNING:__main__:Fetched URL: https://orionfans.com/productFiles/datasheet/AFM.pdf\n"
     ]
    },
    {
     "name": "stdout",
     "output_type": "stream",
     "text": [
      "The content is HTML. for urlhttps://publish.sanyodenki.com/San_Ace_PWM_Controller_E/book/\n",
      "The content is a PDF. for urlhttps://www.cooperlighting.com/api/assets/v1/file/CLS/content/470d50496abf4789af06add501729470/corelite-discreet-susp-specsheet\n"
     ]
    },
    {
     "name": "stderr",
     "output_type": "stream",
     "text": [
      "WARNING:__main__:Error fetching URL: https://multimedia.3m.com/mws/media/1252182O/e-a-r-f-345-fan-mount-print.pdf Exception: [Errno 32] Broken pipe\n",
      "WARNING:__main__:Error fetching URL: https://www.eaton.com/content/dam/eaton/products/electrical-circuit-protection/fuses/bussmann-series-supplemental-fuses/automotive-blade-type/bus-ele-ds-2009-atc.pdf Exception: [Errno 32] Broken pipe\n",
      "WARNING:__main__:Error fetching URL: https://catalog.belden.com/techdata/EN/89207_techdata.pdf Exception: Cannot connect to host catalog.belden.com:443 ssl:default [Connection reset by peer]\n",
      "WARNING:__main__:Error fetching URL: https://www.hammfg.com/electronics/small-case/plastic/rp-rit Exception: Cannot connect to host www.hammfg.com:443 ssl:default [Connect call failed ('2606:4700:3034::6815:11b', 443, 0, 0)]\n",
      "WARNING:__main__:Error fetching URL: https://media.distributordatasolutions.com/synd_belden/2023q2/documents/5f0c6b432af3b0b140ff34944263e5d45e841124.pdf Exception: Server disconnected\n"
     ]
    },
    {
     "name": "stdout",
     "output_type": "stream",
     "text": [
      "The content is a PDF. for urlhttps://cdn.currentlighting.com/site/specsheet/dl_0603621_evhc_specsht.pdf\n"
     ]
    },
    {
     "name": "stderr",
     "output_type": "stream",
     "text": [
      "WARNING:__main__:Fetched URL: https://www.te.com/commerce/DocumentDelivery/DDEController?Action=srchrtrv&DocNm=10613&DocType=Customer+Drawing&DocLang=English\n",
      "WARNING:__main__:Fetched URL: https://publish.sanyodenki.com/San_Ace_E/book/#target/page_no=603\n",
      "/tmp/ipykernel_137286/599240133.py:17: FutureWarning: The behavior of this method will change in future versions. Use specific 'len(elem)' or 'elem is not None' test instead.\n",
      "  if tree:\n",
      "WARNING:__main__:Fetched URL: https://publish.sanyodenki.com/San_Ace_E/book/#target/page_no=603\n",
      "WARNING:__main__:Fetched URL: https://www.ebmpapst.com/content/dam/ebm-papst/loc/americas/accessories/Capacitors.pdf\n",
      "WARNING:__main__:Fetched URL: https://www.ebmpapst.com/content/dam/ebm-papst/loc/americas/accessories/Capacitors.pdf\n",
      "WARNING:__main__:Fetched URL: https://ebmpapst.se/sv/dat/media_manager/news/145/news-files/Compactfans2011.pdf\n",
      "WARNING:__main__:Fetched URL: https://www.ebmpapst.com/content/dam/ebm-papst/loc/americas/accessories/Capacitors.pdf\n",
      "WARNING:__main__:Fetched URL: https://orionfans.com/productFiles/datasheet/AFM.pdf\n"
     ]
    },
    {
     "name": "stdout",
     "output_type": "stream",
     "text": [
      "The content is HTML. for urlhttps://publish.sanyodenki.com/San_Ace_E/book/\n",
      "The content is HTML. for urlhttps://publish.sanyodenki.com/San_Ace_E/book/\n",
      "The content is a PDF. for urlhttps://www.cooledgelighting.com/storage/resources/Cooledge%20TILE%20Tunable%20White%20Specifications%20(Imperial-Ltr)%20R08.pdf\n"
     ]
    },
    {
     "name": "stderr",
     "output_type": "stream",
     "text": [
      "WARNING:__main__:Error fetching URL: https://catalog.belden.com/techdata/EN/9222_techdata.pdf Exception: Cannot connect to host catalog.belden.com:443 ssl:default [Connection reset by peer]\n",
      "WARNING:__main__:Error fetching URL: https://catalog.belden.com/techdata/EN/1694A_techdata.pdf Exception: Cannot connect to host catalog.belden.com:443 ssl:default [Connection reset by peer]\n",
      "WARNING:__main__:Error fetching URL: https://catalog.belden.com/techdata/EN/7806A_techdata.pdf Exception: Cannot connect to host catalog.belden.com:443 ssl:default [Connection reset by peer]\n",
      "WARNING:__main__:Error fetching URL: https://www.fairviewmicrowave.com/images/productPDF/RG316-DS.pdf Exception: Server disconnected\n"
     ]
    },
    {
     "name": "stdout",
     "output_type": "stream",
     "text": [
      "The content is a PDF. for urlhttps://www.te.com/commerce/DocumentDelivery/DDEController?Action=srchrtrv&DocNm=10613&DocType=Customer+Drawing&DocLang=English\n",
      "The content is a PDF. for urlhttps://brand.hubersuhner.com/api/asset/eyJjbGllbnRJZCI6bnVsbCwiaWQiOjExNjQ2OSwidGltZXN0YW1wIjoxNjk4NTk5ODA4LCJ2ZXJzaW9uIjoxNjk4NTA5NjU4fQ:huber-suhnerag:zALYZ2Nbeq5Lrioa2m7UOjyQksKmtn4W208nIRxPDws/download\n",
      "The content is a PDF. for urlhttps://brand.hubersuhner.com/api/asset/eyJjbGllbnRJZCI6bnVsbCwiaWQiOjc2NTU1LCJ0aW1lc3RhbXAiOjE2OTg1OTk4MTMsInZlcnNpb24iOjE2OTg1MDkyMjh9:huber-suhnerag:badcyVPknkquFohlZpyAvoeeZ4kNEXoqKnHl3y_gQmk/download\n",
      "The content is a PDF. for urlhttps://www.ebmpapst.com/content/dam/ebm-papst/loc/americas/accessories/Capacitors.pdf\n",
      "The content is a PDF. for urlhttps://www.ebmpapst.com/content/dam/ebm-papst/loc/americas/accessories/Capacitors.pdf\n",
      "The content is a PDF. for urlhttps://source.z2data.com/2023/9/4/2/45/59/497548/6177000/HUBERSUHNERG02232DDataSheet.pdf\n"
     ]
    },
    {
     "name": "stderr",
     "output_type": "stream",
     "text": [
      "WARNING:__main__:Fetched URL: https://www.belfuse.com/resources/datasheets/circuitprotection/ds-cp-c1t-series.pdf\n",
      "WARNING:__main__:Fetched URL: https://www.mechatronics.com/pdf/IR-220.pdf\n"
     ]
    },
    {
     "name": "stdout",
     "output_type": "stream",
     "text": [
      ">>>>>>>>>>>> invalid status found:503 for url:https://www.essentracomponents.com.sg/images-line/pdfs/FMPT-92.pdf\n",
      "The content is a PDF. for urlhttps://www.cooledgelighting.com/storage/resources/Cooledge%20TILE%20Exterior%20R2%20-%20Tunable%20White%20Specifications%20(Imperial-Ltr)R02.pdf\n"
     ]
    },
    {
     "name": "stderr",
     "output_type": "stream",
     "text": [
      "WARNING:__main__:Error fetching URL: https://timesmicrowave.com/wp-content/uploads/2022/03/lmr-400-uf-coax-cables-datasheet.pdf Exception: [Errno 32] Broken pipe\n",
      "WARNING:__main__:Error fetching URL: https://wilcoxon.com/wp-content/uploads/2018/11/A-full-spectrum-of-custom-cables_2018.pdf Exception: [Errno 32] Broken pipe\n",
      "WARNING:__main__:Error fetching URL: https://www.timesmicrowave.com/DataSheets/CableProducts/LMR-240-UF.pdf Exception: [Errno 32] Broken pipe\n",
      "WARNING:__main__:Error fetching URL: https://cdn.amphenol-cs.com/media/wysiwyg/files/documentation/datasheet/inputoutput/io_ctw_fan_module.pdf Exception: [Errno 32] Broken pipe\n",
      "WARNING:__main__:Error fetching URL: https://prysmian-group.dcatalog.com/v/Electronics/#page=162 Exception: [Errno 32] Broken pipe\n",
      "WARNING:__main__:Error fetching URL: https://html5.dcatalog.com/?docid=8e9daddd-82b0-4ed4-a656-a8aa011ea6d3#page=148 Exception: [Errno 32] Broken pipe\n",
      "WARNING:__main__:Error fetching URL: https://catalog.belden.com/techdata/EN/8262_techdata.pdf Exception: Cannot connect to host catalog.belden.com:443 ssl:default [Connection reset by peer]\n",
      "WARNING:__main__:Fetched URL: https://www.schurter.com/en/datasheet/typ_FST_5x20.pdf\n",
      "WARNING:__main__:Fetched URL: https://www.te.com/commerce/DocumentDelivery/DDEController?Action=srchrtrv&DocNm=2022E0421&DocType=Customer+Drawing&DocLang=English\n",
      "WARNING:__main__:Fetched URL: https://timesmicrowave.com/wp-content/uploads/2022/06/lmr-240-datasheet.pdf\n",
      "WARNING:__main__:Fetched URL: https://publish.sanyodenki.com/San_Ace_PWM_Controller_E/book/\n",
      "/tmp/ipykernel_137286/599240133.py:17: FutureWarning: The behavior of this method will change in future versions. Use specific 'len(elem)' or 'elem is not None' test instead.\n",
      "  if tree:\n",
      "WARNING:__main__:Fetched URL: https://datasheets.kyocera-avx.com/AccuGuardLC_0402.pdf\n",
      "WARNING:__main__:Fetched URL: https://www.alphawire.com/disteAPI/SpecPDF/DownloadProductSpecPdf?productPartNumber=9434\n",
      "WARNING:__main__:Fetched URL: https://www.te.com/commerce/DocumentDelivery/DDEController?Action=srchrtrv&DocNm=SPEC1200&DocType=SS&DocLang=EN\n",
      "WARNING:__main__:Fetched URL: https://timesmicrowave.com/wp-content/uploads/2022/06/lmr-400-datasheet.pdf\n"
     ]
    },
    {
     "name": "stdout",
     "output_type": "stream",
     "text": [
      ">>>>>>>>>>>> invalid status found:500 for url:https://www.te.com/commerce/DocumentDelivery/DDEController?Action=srchrtrv&DocNm=7528A1317&DocType=Customer+Drawing&DocLang=English&PartCntxt=440063-007\n",
      "The content is HTML. for urlhttps://publish.sanyodenki.com/San_Ace_PWM_Controller_E/book/\n",
      ">>>>>>>>>>>> invalid status found:403 for url:https://cdn.amphenol-cs.com/media/wysiwyg/files/documentation/datasheet/inputoutput/io_ctw_fan_module.pdf\n",
      "The content is a PDF. for urlhttps://www.ebmpapst.com/content/dam/ebm-papst/loc/americas/accessories/Capacitors.pdf\n",
      "The content is a PDF. for urlhttps://www.ebmpapst.com/content/dam/ebm-papst/loc/americas/accessories/Capacitors.pdf\n",
      "The content is a PDF. for urlhttps://www.ebmpapst.com/content/dam/ebm-papst/loc/americas/accessories/Capacitors.pdf\n"
     ]
    },
    {
     "name": "stderr",
     "output_type": "stream",
     "text": [
      "WARNING:__main__:Fetched URL: https://html5.dcatalog.com/?docid=8e9daddd-82b0-4ed4-a656-a8aa011ea6d3#page=148\n",
      "/tmp/ipykernel_137286/599240133.py:17: FutureWarning: The behavior of this method will change in future versions. Use specific 'len(elem)' or 'elem is not None' test instead.\n",
      "  if tree:\n",
      "WARNING:__main__:Fetched URL: https://www.ebmpapst.com/content/dam/ebm-papst/media/catalogs/products/Catalog_Compactfans_US_en.pdf\n",
      "WARNING:__main__:Fetched URL: https://www.ebmpapst.com/content/dam/ebm-papst/media/catalogs/products/Catalog_Axialfans_2007_EN.pdf\n",
      "WARNING:__main__:Fetched URL: https://www.molex.com/pdm_docs/sd/1000680108_sd.pdf\n",
      "WARNING:__main__:Error fetching URL: https://timesmicrowave.com/wp-content/uploads/2022/06/lmr-600-uf-datasheet.pdf Exception: Cannot connect to host timesmicrowave.com:443 ssl:default [Connect call failed ('2606:4700::6812:1de7', 443, 0, 0)]\n"
     ]
    },
    {
     "name": "stdout",
     "output_type": "stream",
     "text": [
      "The content is HTML. for urlhttps://html5.dcatalog.com/?docid=8e9daddd-82b0-4ed4-a656-a8aa011ea6d3\n",
      "The content is a PDF. for urlhttps://www.te.com/commerce/DocumentDelivery/DDEController?Action=srchrtrv&DocNm=SPEC1200&DocType=SS&DocLang=EN\n"
     ]
    },
    {
     "name": "stderr",
     "output_type": "stream",
     "text": [
      "WARNING:__main__:Fetched URL: https://multimedia.3m.com/mws/media/1255423O/e-a-r-isodamp-versadamp-material-summary-sheet.pdf\n"
     ]
    },
    {
     "name": "stdout",
     "output_type": "stream",
     "text": [
      "The content is a PDF. for urlhttps://www.te.com/commerce/DocumentDelivery/DDEController?Action=srchrtrv&DocNm=2022E0421&DocType=Customer+Drawing&DocLang=English\n",
      "The content is a PDF. for urlhttps://www.ebmpapst.com/content/dam/ebm-papst/loc/americas/accessories/Capacitors.pdf\n",
      "The content is a PDF. for urlhttps://www.ebmpapst.com/content/dam/ebm-papst/loc/americas/accessories/Capacitors.pdf\n",
      "The content is a PDF. for urlhttps://www.molex.com/content/dam/molex/molex-dot-com/products/automated/en-us/salesdrawingpdf/100/100068/1000680108_sd.pdf?inline\n"
     ]
    },
    {
     "name": "stderr",
     "output_type": "stream",
     "text": [
      "WARNING:__main__:Fetched URL: https://www.littelfuse.com/media?resourcetype=datasheets&itemid=42c9dd21-a88e-4328-8e67-2f832444faf1&filename=littelfuse_datasheet_297_mini32v.pdf\n",
      "WARNING:__main__:Fetched URL: https://www.nidec-copal-electronics.com/e/catalog/micro-blower/tf029b-1001-d.pdf\n",
      "WARNING:__main__:Fetched URL: https://www.belfuse.com/resources/datasheets/circuitprotection/ds-cp-rst-series.pdf\n",
      "WARNING:__main__:Fetched URL: https://www.littelfuse.com/~/media/automotive/datasheets/fuses/passenger-car-and-commercial-vehicle/bolt-down-fuses/littelfuse_bf1_32v_datasheet.pdf\n"
     ]
    },
    {
     "name": "stdout",
     "output_type": "stream",
     "text": [
      "The content is a PDF. for urlhttps://www.mechatronics.com/pdf/IR-220.pdf\n",
      "The content is a PDF. for urlhttps://orionfans.com/productFiles/datasheet/AFM.pdf\n"
     ]
    },
    {
     "name": "stderr",
     "output_type": "stream",
     "text": [
      "WARNING:__main__:Error fetching URL: https://cdn.amphenol-cs.com/media/wysiwyg/files/documentation/datasheet/inputoutput/io_ctw_fan_module.pdf Exception: [Errno 32] Broken pipe\n",
      "WARNING:__main__:Error fetching URL: https://www.timesmicrowave.com/DataSheets/CableProducts/LMR-240-UF.pdf Exception: [Errno 32] Broken pipe\n",
      "WARNING:__main__:Error fetching URL: https://www.cicoil.com/flat-cable/data-video-cables/flexible-coaxial-cables?task=callelement&format=raw&item_id=847&element=c024c413-b5f8-4699-9dbb-f8880ce97040&method=download Exception: Server disconnected\n"
     ]
    },
    {
     "name": "stdout",
     "output_type": "stream",
     "text": [
      "The content is a PDF. for urlhttps://www.ebmpapst.com/content/dam/ebm-papst/loc/americas/accessories/Capacitors.pdf\n",
      "The content is a PDF. for urlhttps://orionfans.com/productFiles/datasheet/AFM.pdf\n"
     ]
    },
    {
     "name": "stderr",
     "output_type": "stream",
     "text": [
      "WARNING:__main__:Fetched URL: https://www.te.com/commerce/DocumentDelivery/DDEController?Action=srchrtrv&DocNm=7824E0422&DocType=Customer+Drawing&DocLang=English\n"
     ]
    },
    {
     "name": "stdout",
     "output_type": "stream",
     "text": [
      "The content is a PDF. for urlhttps://www.te.com/commerce/DocumentDelivery/DDEController?Action=srchrtrv&DocNm=7824E0422&DocType=Customer+Drawing&DocLang=English\n",
      "The content is a PDF. for urlhttps://www.alphawire.com/disteAPI/SpecPDF/DownloadProductSpecPdf?productPartNumber=9434\n"
     ]
    },
    {
     "name": "stderr",
     "output_type": "stream",
     "text": [
      "WARNING:__main__:Error fetching URL: https://catalog.belden.com/techdata/EN/1855A_techdata.pdf Exception: Cannot connect to host catalog.belden.com:443 ssl:default [Connect call failed ('12.222.153.51', 443)]\n",
      "WARNING:__main__:Error fetching URL: https://catalog.belden.com/techdata/EN/8262_techdata.pdf Exception: Cannot connect to host catalog.belden.com:443 ssl:default [Connect call failed ('12.222.153.51', 443)]\n",
      "WARNING:__main__:Fetched URL: https://www.te.com/commerce/DocumentDelivery/DDEController?Action=srchrtrv&DocNm=0024G0024&DocType=Customer+Drawing&DocLang=English\n"
     ]
    },
    {
     "name": "stdout",
     "output_type": "stream",
     "text": [
      "The content is a PDF. for urlhttps://www.schurter.com/en/datasheet/typ_FST_5x20.pdf\n",
      "The content is a PDF. for urlhttps://www.belfuse.com/resources/datasheets/circuitprotection/ds-cp-c1t-series.pdf\n"
     ]
    },
    {
     "name": "stderr",
     "output_type": "stream",
     "text": [
      "WARNING:__main__:Fetched URL: https://www.belfuse.com/resources/datasheets/circuitprotection/ds-cp-c1t-series.pdf\n",
      "WARNING:__main__:Error fetching URL: https://catalog.belden.com/techdata/EN/9223_techdata.pdf Exception: Cannot connect to host catalog.belden.com:443 ssl:default [Connection reset by peer]\n",
      "WARNING:__main__:Error fetching URL: https://catalog.belden.com/techdata/EN/8262_techdata.pdf Exception: Cannot connect to host catalog.belden.com:443 ssl:default [Connection reset by peer]\n",
      "WARNING:__main__:Error fetching URL: https://www.timesmicrowave.com/DataSheets/CableProducts/LMR-500.pdf Exception: Server disconnected\n",
      "WARNING:__main__:Error fetching URL: https://cdn.amphenol-cs.com/media/wysiwyg/files/documentation/datasheet/inputoutput/io_ctw_fan_module.pdf Exception: Server disconnected\n",
      "WARNING:__main__:Error fetching URL: https://timesmicrowave.com/wp-content/uploads/2022/03/lmr-600-coax-cables-datasheet.pdf Exception: Server disconnected\n",
      "WARNING:__main__:Error fetching URL: https://www.littelfuse.com/media?resourcetype=datasheets&itemid=42c9dd21-a88e-4328-8e67-2f832444faf1&filename=littelfuse_datasheet_297_mini32v.pdf Exception: Cannot connect to host www.littelfuse.com:443 ssl:default [None]\n",
      "WARNING:__main__:Error fetching URL: https://www.littelfuse.com/media?resourcetype=datasheets&itemid=63f61b85-5fc5-4f00-9ca9-8d59a6252d71&filename=littelfuse_fuse_154_154t_154l_154tl_datasheet.pdf Exception: Cannot connect to host www.littelfuse.com:443 ssl:default [None]\n",
      "WARNING:__main__:Error fetching URL: https://www.te.com/commerce/DocumentDelivery/DDEController?Action=srchrtrv&DocNm=2019D0309&DocType=Customer+Drawing&DocLang=English Exception: Cannot connect to host www.te.com:443 ssl:default [None]\n",
      "WARNING:__main__:Error fetching URL: https://www.te.com/commerce/DocumentDelivery/DDEController?Action=srchrtrv&DocNm=2024J2424&DocType=Customer+Drawing&DocLang=English Exception: Cannot connect to host www.te.com:443 ssl:default [None]\n",
      "WARNING:__main__:Error fetching URL: https://www.schurter.com/en/datasheet/typ_FST_5x20.pdf Exception: Server disconnected\n",
      "WARNING:__main__:Error fetching URL: https://multimedia.3m.com/mws/media/1252182O/e-a-r-f-345-fan-mount-print.pdf Exception: Server disconnected\n",
      "WARNING:__main__:Error fetching URL: https://www.molex.com/pdm_docs/sd/1001935086_sd.pdf Exception: Server disconnected\n",
      "WARNING:__main__:Error fetching URL: https://orionfans.com/productFiles/datasheet/AFM.pdf Exception: Server disconnected\n",
      "WARNING:__main__:Error fetching URL: https://cdn.amphenol-cs.com/media/wysiwyg/files/documentation/datasheet/inputoutput/io_ctw_fan_module.pdf Exception: Server disconnected\n",
      "WARNING:__main__:Error fetching URL: https://www.littelfuse.com/media?resourcetype=datasheets&itemid=63f61b85-5fc5-4f00-9ca9-8d59a6252d71&filename=littelfuse_fuse_154_154t_154l_154tl_datasheet.pdf Exception: Server disconnected\n",
      "WARNING:__main__:Error fetching URL: https://orionfans.com/productFiles/datasheet/AFM.pdf Exception: Server disconnected\n",
      "WARNING:__main__:Error fetching URL: https://www.ebmpapst.com/content/dam/ebm-papst/loc/americas/accessories/Capacitors.pdf Exception: Server disconnected\n"
     ]
    },
    {
     "name": "stdout",
     "output_type": "stream",
     "text": [
      "The content is a PDF. for urlhttps://timesmicrowave.com/wp-content/uploads/2022/06/lmr-400-datasheet.pdf\n",
      "The content is a PDF. for urlhttps://timesmicrowave.com/wp-content/uploads/2022/06/lmr-240-datasheet.pdf\n",
      "The content is a PDF. for urlhttps://multimedia.3m.com/mws/media/1255423O/e-a-r-isodamp-versadamp-material-summary-sheet.pdf\n",
      "The content is a PDF. for urlhttps://www.te.com/commerce/DocumentDelivery/DDEController?Action=srchrtrv&DocNm=0024G0024&DocType=Customer+Drawing&DocLang=English\n"
     ]
    },
    {
     "name": "stderr",
     "output_type": "stream",
     "text": [
      "WARNING:__main__:Fetched URL: https://www.ebmpapst.com/content/dam/ebm-papst/loc/americas/accessories/Capacitors.pdf\n",
      "WARNING:__main__:Fetched URL: https://www.alphawire.com/disteAPI/SpecPDF/DownloadProductSpecPdf?productPartNumber=9442\n",
      "WARNING:__main__:Fetched URL: https://www.belfuse.com/resources/datasheets/circuitprotection/ds-cp-c1t-series.pdf\n",
      "WARNING:__main__:Fetched URL: https://www.molex.com/pdm_docs/sd/1000680107_sd.pdf\n",
      "WARNING:__main__:Fetched URL: https://www.molex.com/pdm_docs/sd/1001935047_sd.pdf\n",
      "WARNING:__main__:Error fetching URL: https://prysmian-group.dcatalog.com/v/Electronics/#page=162 Exception: [Errno 32] Broken pipe\n",
      "WARNING:__main__:Error fetching URL: https://www.essentracomponents.com/en-gb/component/skuAsset?mediaId=109259 Exception: [Errno 32] Broken pipe\n",
      "WARNING:__main__:Error fetching URL: https://mm.digikey.com/Volume0/opasdata/d220001/medias/docus/657/Accessories%2CFinger%2CFilterGuards.pdf Exception: [Errno 32] Broken pipe\n",
      "WARNING:__main__:Error fetching URL: https://www.essentracomponents.com/en-us/component/skuAsset?mediaId=117459 Exception: [Errno 32] Broken pipe\n",
      "WARNING:__main__:Error fetching URL: https://timesmicrowave.com/wp-content/uploads/2022/06/lmr-195-datasheet.pdf Exception: [Errno 32] Broken pipe\n",
      "WARNING:__main__:Error fetching URL: https://www.timesmicrowave.com/DataSheets/CableProducts/LMR-240-UF.pdf Exception: [Errno 32] Broken pipe\n",
      "WARNING:__main__:Error fetching URL: https://www.te.com/commerce/DocumentDelivery/DDEController?Action=srchrtrv&DocNm=2524E0114&DocType=Customer+Drawing&DocLang=English Exception: [Errno 32] Broken pipe\n",
      "WARNING:__main__:Error fetching URL: https://multimedia.3m.com/mws/media/1426847O/isodamp-c-8000-mss51.pdf Exception: [Errno 32] Broken pipe\n",
      "WARNING:__main__:Error fetching URL: https://html5.dcatalog.com/?docid=8e9daddd-82b0-4ed4-a656-a8aa011ea6d3#page=148 Exception: [Errno 32] Broken pipe\n",
      "WARNING:__main__:Error fetching URL: https://html5.dcatalog.com/?docid=8e9daddd-82b0-4ed4-a656-a8aa011ea6d3#page=154 Exception: [Errno 32] Broken pipe\n",
      "WARNING:__main__:Error fetching URL: https://www.littelfuse.com/~/media/automotive/datasheets/fuses/passenger-car-and-commercial-vehicle/blade-fuses/littelfuse_fks_ato_80v_blade_fuses.pdf Exception: Cannot connect to host www.littelfuse.com:443 ssl:default [None]\n",
      "WARNING:__main__:Error fetching URL: https://www.littelfuse.com/media?resourcetype=datasheets&itemid=43dcdce8-8ca2-426f-8998-7e566f048d40&filename=littelfuse_datasheet_287_atof_r2.7.pdf Exception: Cannot connect to host www.littelfuse.com:443 ssl:default [None]\n",
      "WARNING:__main__:Error fetching URL: https://mm.digikey.com/Volume0/opasdata/d220001/medias/docus/4843/DS_381_Accessories.pdf Exception: Cannot connect to host mm.digikey.com:443 ssl:default [None]\n",
      "WARNING:__main__:Error fetching URL: https://multimedia.3m.com/mws/media/1278448O/e-a-r-isodamp-c-6000-materials-product-bulletin.pdf Exception: Cannot connect to host multimedia.3m.com:443 ssl:default [Connect call failed ('2600:140f:b:193::1e28', 443, 0, 0)]\n",
      "WARNING:__main__:Error fetching URL: https://www.ebmpapst.com/content/dam/ebm-papst/loc/americas/accessories/Capacitors.pdf Exception: Server disconnected\n"
     ]
    },
    {
     "name": "stdout",
     "output_type": "stream",
     "text": [
      "The content is a PDF. for urlhttps://www.molex.com/content/dam/molex/molex-dot-com/products/automated/en-us/salesdrawingpdf/100/100068/1000680107_sd.pdf?inline\n",
      "The content is a PDF. for urlhttps://www.molex.com/content/dam/molex/molex-dot-com/products/automated/en-us/salesdrawingpdf/100/100193/1001935047_sd.pdf?inline\n"
     ]
    },
    {
     "name": "stderr",
     "output_type": "stream",
     "text": [
      "WARNING:__main__:Fetched URL: https://timesmicrowave.com/wp-content/uploads/2022/03/lmr-1200-coax-cables-datasheet.pdf\n",
      "WARNING:__main__:Fetched URL: https://timesmicrowave.com/wp-content/uploads/2022/06/lmr-200-datasheet.pdf\n"
     ]
    },
    {
     "name": "stdout",
     "output_type": "stream",
     "text": [
      "The content is a PDF. for urlhttps://timesmicrowave.com/wp-content/uploads/2022/06/lmr-200-datasheet.pdf\n",
      "The content is a PDF. for urlhttps://www.littelfuse.com/~/media/automotive/datasheets/fuses/passenger-car-and-commercial-vehicle/bolt-down-fuses/littelfuse_bf1_32v_datasheet.pdf\n",
      "The content is a PDF. for urlhttps://www.belfuse.com/resources/datasheets/circuitprotection/ds-cp-rst-series.pdf\n",
      "The content is a PDF. for urlhttps://www.alphawire.com/disteAPI/SpecPDF/DownloadProductSpecPdf?productPartNumber=9442\n"
     ]
    },
    {
     "name": "stderr",
     "output_type": "stream",
     "text": [
      "WARNING:__main__:Error fetching URL: https://www.mcgillmicrowave.com/product/lmr-195-fr/?attachment_id=1378&download_file=i6c8nj2p1oul9 Exception: [Errno 32] Broken pipe\n",
      "WARNING:__main__:Error fetching URL: https://www.mcgillmicrowave.com/product/lmr-240-fr/?attachment_id=1385&download_file=ez9z7pnayjj4o Exception: [Errno 32] Broken pipe\n",
      "WARNING:__main__:Error fetching URL: https://multimedia.3m.com/mws/media/1426847O/isodamp-c-8000-mss51.pdf Exception: Cannot connect to host multimedia.3m.com:443 ssl:default [Connect call failed ('2600:140f:b:193::1e28', 443, 0, 0)]\n",
      "WARNING:__main__:Error fetching URL: https://mm.digikey.com/Volume0/opasdata/d220001/medias/docus/1818/Accessories_Inlet_Rings.pdf Exception: Cannot connect to host mm.digikey.com:443 ssl:default [Connect call failed ('2600:140f:b:194::2d6c', 443, 0, 0)]\n",
      "WARNING:__main__:Fetched URL: https://multimedia.3m.com/mws/media/1426847O/isodamp-c-8000-mss51.pdf\n",
      "WARNING:__main__:Fetched URL: https://multimedia.3m.com/mws/media/1255423O/e-a-r-isodamp-versadamp-material-summary-sheet.pdf\n",
      "WARNING:__main__:Fetched URL: https://www.alphawire.com/disteAPI/SpecPDF/DownloadProductSpecPdf?productPartNumber=9438\n",
      "WARNING:__main__:Fetched URL: https://www.alphawire.com/disteAPI/SpecPDF/DownloadProductSpecPdf?productPartNumber=9436\n",
      "WARNING:__main__:Fetched URL: https://www.te.com/commerce/DocumentDelivery/DDEController?Action=srchrtrv&DocNm=SPEC1200&DocType=SS&DocLang=EN\n"
     ]
    },
    {
     "name": "stdout",
     "output_type": "stream",
     "text": [
      "The content is a PDF. for urlhttps://timesmicrowave.com/wp-content/uploads/2022/03/lmr-1200-coax-cables-datasheet.pdf\n"
     ]
    },
    {
     "name": "stderr",
     "output_type": "stream",
     "text": [
      "WARNING:__main__:Fetched URL: https://multimedia.3m.com/mws/media/1278448O/e-a-r-isodamp-c-6000-materials-product-bulletin.pdf\n",
      "WARNING:__main__:Error fetching URL: https://multimedia.3m.com/mws/media/1426847O/isodamp-c-8000-mss51.pdf Exception: Cannot connect to host multimedia.3m.com:443 ssl:default [Connect call failed ('2600:140f:b:186::1e28', 443, 0, 0)]\n"
     ]
    },
    {
     "name": "stdout",
     "output_type": "stream",
     "text": [
      "The content is a PDF. for urlhttps://www.nidec-components.com/e/catalog/micro-blower/tf029b-1001-d.pdf\n"
     ]
    },
    {
     "name": "stderr",
     "output_type": "stream",
     "text": [
      "WARNING:__main__:Fetched URL: https://www.littelfuse.com/media?resourcetype=datasheets&itemid=79b16c87-8337-4c9c-96d1-6ac09ce4e440&filename=littelfuse_fuse_235_datasheet.pdf\n"
     ]
    },
    {
     "name": "stdout",
     "output_type": "stream",
     "text": [
      "The content is a PDF. for urlhttps://www.belfuse.com/resources/datasheets/circuitprotection/ds-cp-c1t-series.pdf\n"
     ]
    },
    {
     "name": "stderr",
     "output_type": "stream",
     "text": [
      "WARNING:__main__:Error fetching URL: https://www.mcgillmicrowave.com/product/rg400/?attachment_id=18339&download_file=8jef9ckuwt9c5 Exception: [Errno 32] Broken pipe\n",
      "WARNING:__main__:Error fetching URL: https://www.mcgillmicrowave.com/product/lmr-600-75/?attachment_id=2242&download_file=otci43pi6t90o Exception: [Errno 32] Broken pipe\n",
      "WARNING:__main__:Error fetching URL: https://www.mcgillmicrowave.com/product/rg405-hand-formable-coaxial-cable/?attachment_id=20609&download_file=kkit2gkok23if Exception: [Errno 32] Broken pipe\n",
      "WARNING:__main__:Error fetching URL: https://catalog.belden.com/techdata/EN/8262_techdata.pdf Exception: Cannot connect to host catalog.belden.com:443 ssl:default [Connection reset by peer]\n",
      "WARNING:__main__:Error fetching URL: https://catalog.belden.com/techdata/EN/9239_techdata.pdf Exception: Cannot connect to host catalog.belden.com:443 ssl:default [Connection reset by peer]\n",
      "WARNING:__main__:Error fetching URL: https://catalog.belden.com/techdata/EN/8216_techdata.pdf Exception: Cannot connect to host catalog.belden.com:443 ssl:default [Connection reset by peer]\n",
      "WARNING:__main__:Error fetching URL: https://multimedia.3m.com/mws/media/1255423O/e-a-r-isodamp-versadamp-material-summary-sheet.pdf Exception: Cannot connect to host multimedia.3m.com:443 ssl:default [Connect call failed ('2600:140f:b:186::1e28', 443, 0, 0)]\n",
      "WARNING:__main__:Error fetching URL: https://www.molex.com/pdm_docs/sd/1000680071_sd.pdf Exception: Cannot connect to host www.molex.com:443 ssl:default [Connect call failed ('2600:140f:b:18d::134e', 443, 0, 0)]\n"
     ]
    },
    {
     "name": "stdout",
     "output_type": "stream",
     "text": [
      "The content is a PDF. for urlhttps://multimedia.3m.com/mws/media/1255423O/e-a-r-isodamp-versadamp-material-summary-sheet.pdf\n",
      ">>>>>>>>>>>> invalid status found:403 for url:https://mm.digikey.com/Volume0/opasdata/d220001/medias/docus/1818/Accessories_Inlet_Rings.pdf\n",
      "The content is a PDF. for urlhttps://www.te.com/commerce/DocumentDelivery/DDEController?Action=srchrtrv&DocNm=SPEC1200&DocType=SS&DocLang=EN\n"
     ]
    },
    {
     "name": "stderr",
     "output_type": "stream",
     "text": [
      "WARNING:__main__:Fetched URL: https://multimedia.3m.com/mws/media/1278448O/e-a-r-isodamp-c-6000-materials-product-bulletin.pdf\n"
     ]
    },
    {
     "name": "stdout",
     "output_type": "stream",
     "text": [
      ">>>>>>> page not found for url https://www.essentracomponents.com/en-us/component/skuAsset?mediaId=109260\n",
      "The content is a PDF. for urlhttps://www.belfuse.com/resources/datasheets/circuitprotection/ds-cp-c1t-series.pdf\n",
      "The content is a PDF. for urlhttps://www.littelfuse.com/media?resourcetype=datasheets&itemid=42c9dd21-a88e-4328-8e67-2f832444faf1&filename=littelfuse_datasheet_297_mini32v.pdf\n",
      "The content is a PDF. for urlhttps://www.ebmpapst.pt/media/content/products/downloads_1/centrifugal_fans/Centrifugal_fans_DC.pdf\n"
     ]
    },
    {
     "name": "stderr",
     "output_type": "stream",
     "text": [
      "WARNING:__main__:Error fetching URL: https://catalog.belden.com/techdata/EN/8262_techdata.pdf Exception: Cannot connect to host catalog.belden.com:443 ssl:default [Connection reset by peer]\n",
      "WARNING:__main__:Error fetching URL: https://catalog.belden.com/techdata/EN/9463_techdata.pdf Exception: Cannot connect to host catalog.belden.com:443 ssl:default [Connection reset by peer]\n",
      "WARNING:__main__:Error fetching URL: https://catalog.belden.com/techdata/EN/1525A_techdata.pdf Exception: Cannot connect to host catalog.belden.com:443 ssl:default [Connection reset by peer]\n",
      "WARNING:__main__:Error fetching URL: https://catalog.belden.com/techdata/EN/8262_techdata.pdf Exception: Cannot connect to host catalog.belden.com:443 ssl:default [Connection reset by peer]\n",
      "WARNING:__main__:Error fetching URL: https://timesmicrowave.com/wp-content/uploads/2022/06/lmr-200-datasheet.pdf Exception: Server disconnected\n",
      "WARNING:__main__:Fetched URL: https://multimedia.3m.com/mws/media/1278448O/e-a-r-isodamp-c-6000-materials-product-bulletin.pdf\n",
      "WARNING:__main__:Fetched URL: https://www.alphawire.com/disteAPI/SpecPDF/DownloadProductSpecPdf?productPartNumber=9442\n",
      "WARNING:__main__:Fetched URL: https://www.alphawire.com/products/cable/alpha-essentials/coaxial-cable/9058ac/\n",
      "/tmp/ipykernel_137286/599240133.py:17: FutureWarning: The behavior of this method will change in future versions. Use specific 'len(elem)' or 'elem is not None' test instead.\n",
      "  if tree:\n"
     ]
    },
    {
     "name": "stdout",
     "output_type": "stream",
     "text": [
      ">>>>>>> page not found for url https://www.essentracomponents.com/en-gb/component/skuAsset?mediaId=109259\n",
      "The content is HTML. for urlhttps://www.alphawire.com/products/cable/alpha-essentials/coaxial-cable/9058ac\n",
      "The content is a PDF. for urlhttps://www.ebmpapst.com/content/dam/ebm-papst/loc/americas/accessories/Capacitors.pdf\n",
      "The content is a PDF. for urlhttps://www.alphawire.com/disteAPI/SpecPDF/DownloadProductSpecPdf?productPartNumber=9436\n",
      "The content is a PDF. for urlhttps://www.alphawire.com/disteAPI/SpecPDF/DownloadProductSpecPdf?productPartNumber=9438\n"
     ]
    },
    {
     "name": "stderr",
     "output_type": "stream",
     "text": [
      "WARNING:__main__:Fetched URL: https://www.belfuse.com/resources/datasheets/circuitprotection/ds-cp-c1t-series.pdf\n",
      "WARNING:__main__:Fetched URL: https://www.littelfuse.com/media?resourcetype=datasheets&itemid=af55be94-c42e-41b1-ad43-e070e09443fe&filename=littelfuse-fuse-217-datasheet\n",
      "WARNING:__main__:Error fetching URL: https://timesmicrowave.com/wp-content/uploads/2022/03/lmr-100a-coax-cables-datasheet.pdf Exception: [Errno 32] Broken pipe\n",
      "WARNING:__main__:Error fetching URL: https://catalog.belden.com/techdata/EN/7806A_techdata.pdf Exception: Cannot connect to host catalog.belden.com:443 ssl:default [Connection reset by peer]\n",
      "WARNING:__main__:Error fetching URL: https://catalog.belden.com/techdata/EN/8259_techdata.pdf Exception: Cannot connect to host catalog.belden.com:443 ssl:default [Connection reset by peer]\n",
      "WARNING:__main__:Error fetching URL: https://catalog.belden.com/techdata/EN/1855A_techdata.pdf Exception: Cannot connect to host catalog.belden.com:443 ssl:default [Connection reset by peer]\n",
      "WARNING:__main__:Error fetching URL: https://mm.digikey.com/Volume0/opasdata/d220001/medias/docus/657/Accessories%2CFinger%2CFilterGuards.pdf Exception: Cannot connect to host mm.digikey.com:443 ssl:default [None]\n",
      "WARNING:__main__:Error fetching URL: https://timesmicrowave.com/wp-content/uploads/2022/06/lmr-400-datasheet.pdf Exception: Cannot connect to host timesmicrowave.com:443 ssl:default [None]\n"
     ]
    },
    {
     "name": "stdout",
     "output_type": "stream",
     "text": [
      ">>>>>>> page not found for url https://www.crystek.com/microwave/spec-sheets/bulkcable/CC-SS402.pdf\n",
      "The content is a PDF. for urlhttps://multimedia.3m.com/mws/media/1426847O/isodamp-c-8000-mss51.pdf\n"
     ]
    },
    {
     "name": "stderr",
     "output_type": "stream",
     "text": [
      "WARNING:__main__:Error fetching URL: https://mm.digikey.com/Volume0/opasdata/d220001/medias/docus/5443/9PC8666X-S001_revC.pdf Exception: Server disconnected\n",
      "WARNING:__main__:Error fetching URL: https://www.nidec-copal-electronics.com/e/catalog/micro-blower/tf037-1001-d.pdf Exception: Server disconnected\n",
      "WARNING:__main__:Error fetching URL: https://www.mcgillmicrowave.com/product/rg58-coaxial-cable-premium/?attachment_id=18480&download_file=gse435q9uzecv Exception: Server disconnected\n",
      "WARNING:__main__:Error fetching URL: https://timesmicrowave.com/wp-content/uploads/2022/03/lmr-900-coax-cables-datasheet.pdf Exception: Cannot connect to host timesmicrowave.com:443 ssl:default [None]\n"
     ]
    },
    {
     "name": "stdout",
     "output_type": "stream",
     "text": [
      "The content is a PDF. for urlhttps://multimedia.3m.com/mws/media/1278448O/e-a-r-isodamp-c-6000-materials-product-bulletin.pdf\n",
      "The content is a PDF. for urlhttps://multimedia.3m.com/mws/media/1278448O/e-a-r-isodamp-c-6000-materials-product-bulletin.pdf\n",
      "The content is a PDF. for urlhttps://www.alphawire.com/disteAPI/SpecPDF/DownloadProductSpecPdf?productPartNumber=9442\n"
     ]
    },
    {
     "name": "stderr",
     "output_type": "stream",
     "text": [
      "WARNING:__main__:Fetched URL: https://www.alphawire.com/disteAPI/SpecPDF/DownloadProductSpecPdf?productPartNumber=9440\n",
      "WARNING:__main__:Fetched URL: https://www.belfuse.com:443/resources/drawings/cinchconnectivitysolutions/trompeter/dr-ccs-trom-twc-124-2.pdf\n"
     ]
    },
    {
     "name": "stdout",
     "output_type": "stream",
     "text": [
      "The content is a PDF. for urlhttps://www.belfuse.com:443/resources/drawings/cinchconnectivitysolutions/trompeter/dr-ccs-trom-twc-124-2.pdf\n"
     ]
    },
    {
     "name": "stderr",
     "output_type": "stream",
     "text": [
      "WARNING:__main__:Fetched URL: https://www.belfuse.com:443/resources/drawings/cinchconnectivitysolutions/trompeter/dr-ccs-trom-trc-75-2.pdf\n",
      "WARNING:__main__:Fetched URL: https://www.belfuse.com/resources/datasheets/circuitprotection/ds-cp-0adkx-series.pdf\n"
     ]
    },
    {
     "name": "stdout",
     "output_type": "stream",
     "text": [
      ">>>>>>> page not found for url https://www.crystek.com/microwave/spec-sheets/bulkcable/CC-SS402.pdf\n",
      ">>>>>>> page not found for url https://www.crystek.com/microwave/spec-sheets/bulkcable/CC-SS402.pdf\n",
      ">>>>>>> page not found for url https://www.crystek.com/microwave/spec-sheets/bulkcable/CC-SS402.pdf\n",
      "The content is a PDF. for urlhttps://www.littelfuse.com/media?resourcetype=datasheets&itemid=79b16c87-8337-4c9c-96d1-6ac09ce4e440&filename=littelfuse_fuse_235_datasheet.pdf\n",
      "The content is a PDF. for urlhttps://datasheets.kyocera-avx.com/AccuGuardLC_0402.pdf\n"
     ]
    },
    {
     "name": "stderr",
     "output_type": "stream",
     "text": [
      "WARNING:__main__:Error fetching URL: https://multimedia.3m.com/mws/media/1278448O/e-a-r-isodamp-c-6000-materials-product-bulletin.pdf Exception: [Errno 32] Broken pipe\n",
      "WARNING:__main__:Error fetching URL: https://multimedia.3m.com/mws/media/1278448O/e-a-r-isodamp-c-6000-materials-product-bulletin.pdf Exception: [Errno 32] Broken pipe\n",
      "WARNING:__main__:Error fetching URL: https://www.essentracomponents.com/en-gb/component/skuAsset?mediaId=109259 Exception: Server disconnected\n",
      "WARNING:__main__:Error fetching URL: https://multimedia.3m.com/mws/media/1255423O/e-a-r-isodamp-versadamp-material-summary-sheet.pdf Exception: Cannot connect to host multimedia.3m.com:443 ssl:default [None]\n",
      "WARNING:__main__:Error fetching URL: https://www.littelfuse.com/media?resourcetype=datasheets&itemid=43dcdce8-8ca2-426f-8998-7e566f048d40&filename=littelfuse_datasheet_287_atof_r2.7.pdf Exception: Cannot connect to host www.littelfuse.com:443 ssl:default [None]\n",
      "WARNING:__main__:Error fetching URL: https://www.littelfuse.com/media?resourcetype=datasheets&itemid=43dcdce8-8ca2-426f-8998-7e566f048d40&filename=littelfuse_datasheet_287_atof_r2.7.pdf Exception: Cannot connect to host www.littelfuse.com:443 ssl:default [None]\n",
      "WARNING:__main__:Error fetching URL: https://www.littelfuse.com/media?resourcetype=datasheets&itemid=3d41d6b7-af0b-41bc-bce0-d5b1432b6058&filename=littelfuse-fuse-392-datasheet Exception: Cannot connect to host www.littelfuse.com:443 ssl:default [None]\n"
     ]
    },
    {
     "name": "stdout",
     "output_type": "stream",
     "text": [
      "The content is a PDF. for urlhttps://multimedia.3m.com/mws/media/1278448O/e-a-r-isodamp-c-6000-materials-product-bulletin.pdf\n"
     ]
    },
    {
     "name": "stderr",
     "output_type": "stream",
     "text": [
      "WARNING:__main__:Error fetching URL: https://catalog.belden.com/techdata/EN/9221_techdata.pdf Exception: Cannot connect to host catalog.belden.com:443 ssl:default [Connect call failed ('12.222.153.51', 443)]\n",
      "WARNING:__main__:Error fetching URL: https://catalog.belden.com/techdata/EN/9259_techdata.pdf Exception: Cannot connect to host catalog.belden.com:443 ssl:default [Connect call failed ('12.222.153.51', 443)]\n",
      "WARNING:__main__:Error fetching URL: https://multimedia.3m.com/mws/media/1255423O/e-a-r-isodamp-versadamp-material-summary-sheet.pdf Exception: Cannot connect to host multimedia.3m.com:443 ssl:default [Connect call failed ('2600:140f:b:186::1e28', 443, 0, 0)]\n",
      "WARNING:__main__:Error fetching URL: https://multimedia.3m.com/mws/media/1426847O/isodamp-c-8000-mss51.pdf Exception: Cannot connect to host multimedia.3m.com:443 ssl:default [Connect call failed ('2600:140f:b:193::1e28', 443, 0, 0)]\n",
      "WARNING:__main__:Error fetching URL: https://mm.digikey.com/Volume0/opasdata/d220001/medias/docus/657/Accessories%2CFinger%2CFilterGuards.pdf Exception: Cannot connect to host mm.digikey.com:443 ssl:default [Connect call failed ('2600:140f:b:194::2d6c', 443, 0, 0)]\n",
      "WARNING:__main__:Error fetching URL: https://www.mcgillmicrowave.com/product/lmr-100a-uf/?attachment_id=20308&download_file=5zez7pwr5f4jr Exception: Cannot connect to host www.mcgillmicrowave.com:443 ssl:default [None]\n",
      "WARNING:__main__:Fetched URL: https://www.alphawire.com/disteAPI/SpecPDF/DownloadProductSpecPdf?productPartNumber=9440\n",
      "WARNING:__main__:Error fetching URL: https://catalog.belden.com/techdata/EN/1855A_techdata.pdf Exception: Cannot connect to host catalog.belden.com:443 ssl:default [Connect call failed ('12.222.153.51', 443)]\n",
      "WARNING:__main__:Fetched URL: https://www.alphawire.com/disteAPI/SpecPDF/DownloadProductSpecPdf?productPartNumber=9448\n",
      "WARNING:__main__:Fetched URL: https://multimedia.3m.com/mws/media/1426847O/isodamp-c-8000-mss51.pdf\n",
      "WARNING:__main__:Fetched URL: https://multimedia.3m.com/mws/media/1255423O/e-a-r-isodamp-versadamp-material-summary-sheet.pdf\n",
      "WARNING:__main__:Fetched URL: https://www.belfuse.com/resources/datasheets/circuitprotection/ds-cp-c1f-series.pdf\n",
      "WARNING:__main__:Fetched URL: https://www.belfuse.com:443/resources/drawings/cinchconnectivitysolutions/trompeter/dr-ccs-trom-trc-75-1.pdf\n",
      "WARNING:__main__:Fetched URL: https://www.littelfuse.com/media?resourcetype=datasheets&itemid=63f61b85-5fc5-4f00-9ca9-8d59a6252d71&filename=littelfuse_fuse_154_154t_154l_154tl_datasheet.pdf\n",
      "WARNING:__main__:Fetched URL: https://www.alphawire.com/products/cable/alpha-essentials/coaxial-cable/9217/\n",
      "/tmp/ipykernel_137286/599240133.py:17: FutureWarning: The behavior of this method will change in future versions. Use specific 'len(elem)' or 'elem is not None' test instead.\n",
      "  if tree:\n",
      "WARNING:__main__:Error fetching URL: https://catalog.belden.com/techdata/EN/9223_techdata.pdf Exception: Cannot connect to host catalog.belden.com:443 ssl:default [Connection reset by peer]\n",
      "WARNING:__main__:Error fetching URL: https://catalog.belden.com/techdata/EN/1505A_techdata.pdf Exception: Cannot connect to host catalog.belden.com:443 ssl:default [Connection reset by peer]\n",
      "WARNING:__main__:Error fetching URL: https://mm.digikey.com/Volume0/opasdata/d220001/medias/docus/1021/FEA-001.pdf Exception: Cannot connect to host mm.digikey.com:443 ssl:default [Connect call failed ('2600:140f:b:194::2d6c', 443, 0, 0)]\n",
      "WARNING:__main__:Fetched URL: https://multimedia.3m.com/mws/media/1426847O/isodamp-c-8000-mss51.pdf\n",
      "WARNING:__main__:Fetched URL: https://multimedia.3m.com/mws/media/1252182O/e-a-r-f-345-fan-mount-print.pdf\n"
     ]
    },
    {
     "name": "stdout",
     "output_type": "stream",
     "text": [
      "The content is HTML. for urlhttps://www.alphawire.com/products/cable/alpha-essentials/coaxial-cable/9217\n",
      "The content is a PDF. for urlhttps://multimedia.3m.com/mws/media/1252182O/e-a-r-f-345-fan-mount-print.pdf\n"
     ]
    },
    {
     "name": "stderr",
     "output_type": "stream",
     "text": [
      "WARNING:__main__:Error fetching URL: https://multimedia.3m.com/mws/media/1426847O/isodamp-c-8000-mss51.pdf Exception: Cannot connect to host multimedia.3m.com:443 ssl:default [Connect call failed ('2600:140f:b:193::1e28', 443, 0, 0)]\n",
      "WARNING:__main__:Error fetching URL: https://mm.digikey.com/Volume0/opasdata/d220001/medias/docus/5972/10313251.pdf Exception: Cannot connect to host mm.digikey.com:443 ssl:default [Connect call failed ('2600:140f:b:1b3::2d6c', 443, 0, 0)]\n",
      "WARNING:__main__:Error fetching URL: https://www.fairviewmicrowave.com/images/productPDF/LMR-400.pdf Exception: Server disconnected\n"
     ]
    },
    {
     "name": "stdout",
     "output_type": "stream",
     "text": [
      "The content is a PDF. for urlhttps://multimedia.3m.com/mws/media/1426847O/isodamp-c-8000-mss51.pdf\n",
      "The content is a PDF. for urlhttps://multimedia.3m.com/mws/media/1255423O/e-a-r-isodamp-versadamp-material-summary-sheet.pdf\n",
      "The content is a PDF. for urlhttps://www.littelfuse.com/media?resourcetype=datasheets&itemid=af55be94-c42e-41b1-ad43-e070e09443fe&filename=littelfuse-fuse-217-datasheet\n",
      "The content is a PDF. for urlhttps://www.littelfuse.com/media?resourcetype=datasheets&itemid=63f61b85-5fc5-4f00-9ca9-8d59a6252d71&filename=littelfuse_fuse_154_154t_154l_154tl_datasheet.pdf\n"
     ]
    },
    {
     "name": "stderr",
     "output_type": "stream",
     "text": [
      "WARNING:__main__:Error fetching URL: https://multimedia.3m.com/mws/media/1278448O/e-a-r-isodamp-c-6000-materials-product-bulletin.pdf Exception: Server disconnected\n"
     ]
    },
    {
     "name": "stdout",
     "output_type": "stream",
     "text": [
      ">>>>>>> page not found for url https://www.essentracomponents.com/en-gb/component/skuAsset?mediaId=109259\n",
      "The content is a PDF. for urlhttps://multimedia.3m.com/mws/media/1426847O/isodamp-c-8000-mss51.pdf\n",
      ">>>>>>> page not found for url https://www.essentracomponents.com/en-gb/component/skuAsset?mediaId=109259\n",
      ">>>>>>> page not found for url https://www.essentracomponents.com/en-us/component/skuAsset?mediaId=117459\n",
      ">>>>>>> page not found for url https://www.essentracomponents.com/en-us/component/skuAsset?mediaId=117459\n",
      ">>>>>>>>>>>> invalid status found:403 for url:https://mm.digikey.com/Volume0/opasdata/d220001/medias/docus/1818/Accessories_Inlet_Rings.pdf\n",
      ">>>>>>>>>>>> invalid status found:403 for url:https://mm.digikey.com/Volume0/opasdata/d220001/medias/docus/209/EDG_vs_(003)_2009.pdf\n",
      ">>>>>>> page not found for url https://www.essentracomponents.com/en-us/component/skuAsset?mediaId=117459\n",
      "The content is a PDF. for urlhttps://www.alphawire.com/disteAPI/SpecPDF/DownloadProductSpecPdf?productPartNumber=9440\n",
      "The content is a PDF. for urlhttps://www.belfuse.com:443/resources/drawings/cinchconnectivitysolutions/trompeter/dr-ccs-trom-trc-75-2.pdf\n"
     ]
    },
    {
     "name": "stderr",
     "output_type": "stream",
     "text": [
      "WARNING:__main__:Fetched URL: https://www.belfuse.com:443/resources/drawings/cinchconnectivitysolutions/trompeter/dr-ccs-trom-twc-124-1a.pdf\n"
     ]
    },
    {
     "name": "stdout",
     "output_type": "stream",
     "text": [
      "The content is a PDF. for urlhttps://www.belfuse.com:443/resources/drawings/cinchconnectivitysolutions/trompeter/dr-ccs-trom-twc-124-1a.pdf\n",
      "The content is a PDF. for urlhttps://www.belfuse.com/resources/datasheets/circuitprotection/ds-cp-c1t-series.pdf\n"
     ]
    },
    {
     "name": "stderr",
     "output_type": "stream",
     "text": [
      "WARNING:__main__:Fetched URL: https://multimedia.3m.com/mws/media/1278448O/e-a-r-isodamp-c-6000-materials-product-bulletin.pdf\n",
      "WARNING:__main__:Fetched URL: https://www.alphawire.com/products/cable/alpha-essentials/coaxial-cable/9213/\n",
      "/tmp/ipykernel_137286/599240133.py:17: FutureWarning: The behavior of this method will change in future versions. Use specific 'len(elem)' or 'elem is not None' test instead.\n",
      "  if tree:\n",
      "WARNING:__main__:Fetched URL: https://multimedia.3m.com/mws/media/1426851O/isoloss-sl-mss52.pdf\n",
      "WARNING:__main__:Error fetching URL: https://catalog.belden.com/techdata/EN/3092A_techdata.pdf Exception: Cannot connect to host catalog.belden.com:443 ssl:default [Connect call failed ('12.222.153.51', 443)]\n",
      "WARNING:__main__:Error fetching URL: https://catalog.belden.com/techdata/EN/8219_techdata.pdf Exception: Cannot connect to host catalog.belden.com:443 ssl:default [Connect call failed ('12.222.153.51', 443)]\n",
      "WARNING:__main__:Fetched URL: https://multimedia.3m.com/mws/media/1252172O/e-a-r-f-344-fan-mount-print.pdf\n"
     ]
    },
    {
     "name": "stdout",
     "output_type": "stream",
     "text": [
      "The content is HTML. for urlhttps://www.alphawire.com/products/cable/alpha-essentials/coaxial-cable/9213\n",
      ">>>>>>> page not found for url https://www.crystek.com/microwave/spec-sheets/bulkcable/CC-SS402.pdf\n",
      "The content is a PDF. for urlhttps://multimedia.3m.com/mws/media/1252172O/e-a-r-f-344-fan-mount-print.pdf\n"
     ]
    },
    {
     "name": "stderr",
     "output_type": "stream",
     "text": [
      "WARNING:__main__:Fetched URL: https://www.littelfuse.com/media?resourcetype=datasheets&itemid=42c9dd21-a88e-4328-8e67-2f832444faf1&filename=littelfuse_datasheet_297_mini32v.pdf\n",
      "WARNING:__main__:Fetched URL: https://www.littelfuse.com/media?resourcetype=datasheets&itemid=545bf502-c624-4172-b0a0-3a8c5f3d65be&filename=littelfuse-fuse-215sp-datasheet\n",
      "WARNING:__main__:Error fetching URL: https://catalog.belden.com/techdata/EN/1671A_techdata.pdf Exception: Cannot connect to host catalog.belden.com:443 ssl:default [Connection reset by peer]\n",
      "WARNING:__main__:Fetched URL: https://www.littelfuse.com/media?resourcetype=datasheets&itemid=533cd5cc-956c-4243-867f-6ab5a62f6ba1&filename=littelfuse_fuse_451_453_datasheet.pdf\n",
      "WARNING:__main__:Fetched URL: https://multimedia.3m.com/mws/media/1255423O/e-a-r-isodamp-versadamp-material-summary-sheet.pdf\n",
      "WARNING:__main__:Fetched URL: https://www.mcgillmicrowave.com/product/rg214-lszh-cable-assembly/?attachment_id=20128&download_file=e70rthl42eo3c\n",
      "WARNING:__main__:Fetched URL: https://www.mcgillmicrowave.com/product/rg316/?attachment_id=18354&download_file=9qt55qkpgkohx\n",
      "WARNING:__main__:Fetched URL: https://www.mcgillmicrowave.com/product/rg179/?attachment_id=18369&download_file=dix7ul2vun7uw\n"
     ]
    },
    {
     "name": "stdout",
     "output_type": "stream",
     "text": [
      ">>>>>>>>>>>> invalid status found:403 for url:https://mm.digikey.com/Volume0/opasdata/d220001/medias/docus/209/EDG_vs_(003)_2009.pdf\n",
      ">>>>>>>>>>>> invalid status found:403 for url:https://mm.digikey.com/Volume0/opasdata/d220001/medias/docus/209/EDG_vs_(003)_2009.pdf\n",
      ">>>>>>>>>>>> invalid status found:403 for url:https://mm.digikey.com/Volume0/opasdata/d220001/medias/docus/5854/EBM-Papst-31570-2-4013-datasheet.pdf\n",
      "The content is a PDF. for urlhttps://www.alphawire.com/disteAPI/SpecPDF/DownloadProductSpecPdf?productPartNumber=9440\n",
      "The content is a PDF. for urlhttps://www.alphawire.com/disteAPI/SpecPDF/DownloadProductSpecPdf?productPartNumber=9448\n",
      "The content is a PDF. for urlhttps://www.belfuse.com/resources/datasheets/circuitprotection/ds-cp-0adkx-series.pdf\n",
      "The content is a PDF. for urlhttps://www.belfuse.com:443/resources/drawings/cinchconnectivitysolutions/trompeter/dr-ccs-trom-trc-75-1.pdf\n"
     ]
    },
    {
     "name": "stderr",
     "output_type": "stream",
     "text": [
      "WARNING:__main__:Error fetching URL: https://timesmicrowave.com/wp-content/uploads/2022/06/lmr-240-datasheet.pdf Exception: [Errno 32] Broken pipe\n",
      "WARNING:__main__:Error fetching URL: https://timesmicrowave.com/wp-content/uploads/2022/06/lmr-600-uf-datasheet.pdf Exception: [Errno 32] Broken pipe\n",
      "WARNING:__main__:Error fetching URL: https://timesmicrowave.com/wp-content/uploads/2022/06/lmr-400-datasheet.pdf Exception: [Errno 32] Broken pipe\n",
      "WARNING:__main__:Error fetching URL: https://catalog.belden.com/techdata/EN/83265_techdata.pdf Exception: Cannot connect to host catalog.belden.com:443 ssl:default [Connection reset by peer]\n",
      "WARNING:__main__:Error fetching URL: https://catalog.belden.com/techdata/EN/83284_techdata.pdf Exception: Cannot connect to host catalog.belden.com:443 ssl:default [Connection reset by peer]\n",
      "WARNING:__main__:Fetched URL: https://multimedia.3m.com/mws/media/1426851O/isoloss-sl-mss52.pdf\n",
      "WARNING:__main__:Fetched URL: https://www.alphawire.com/products/cable/alpha-essentials/coaxial-cable/9316/\n",
      "/tmp/ipykernel_137286/599240133.py:17: FutureWarning: The behavior of this method will change in future versions. Use specific 'len(elem)' or 'elem is not None' test instead.\n",
      "  if tree:\n"
     ]
    },
    {
     "name": "stdout",
     "output_type": "stream",
     "text": [
      ">>>>>>> page not found for url https://www.essentracomponents.com/en-us/component/skuAsset?mediaId=117459\n",
      ">>>>>>>>>>>> invalid status found:403 for url:https://mm.digikey.com/Volume0/opasdata/d220001/medias/docus/657/Accessories,Finger,FilterGuards.pdf\n",
      "The content is HTML. for urlhttps://www.alphawire.com/products/cable/alpha-essentials/coaxial-cable/9316\n",
      "The content is a PDF. for urlhttps://multimedia.3m.com/mws/media/1278448O/e-a-r-isodamp-c-6000-materials-product-bulletin.pdf\n",
      "The content is a PDF. for urlhttps://multimedia.3m.com/mws/media/1426851O/isoloss-sl-mss52.pdf\n"
     ]
    },
    {
     "name": "stderr",
     "output_type": "stream",
     "text": [
      "WARNING:__main__:Error fetching URL: https://timesmicrowave.com/wp-content/uploads/2022/03/lmr-400-llpx-coax-cables-datasheet.pdf Exception: Cannot connect to host timesmicrowave.com:443 ssl:default [None]\n"
     ]
    },
    {
     "name": "stdout",
     "output_type": "stream",
     "text": [
      "The content is a PDF. for urlhttps://multimedia.3m.com/mws/media/1255423O/e-a-r-isodamp-versadamp-material-summary-sheet.pdf\n"
     ]
    },
    {
     "name": "stderr",
     "output_type": "stream",
     "text": [
      "WARNING:__main__:Fetched URL: https://multimedia.3m.com/mws/media/1426847O/isodamp-c-8000-mss51.pdf\n",
      "WARNING:__main__:Fetched URL: https://www.littelfuse.com/media?resourcetype=datasheets&itemid=63f61b85-5fc5-4f00-9ca9-8d59a6252d71&filename=littelfuse_fuse_154_154t_154l_154tl_datasheet.pdf\n",
      "WARNING:__main__:Fetched URL: https://www.littelfuse.com/media?resourcetype=datasheets&itemid=63f61b85-5fc5-4f00-9ca9-8d59a6252d71&filename=littelfuse_fuse_154_154t_154l_154tl_datasheet.pdf\n",
      "WARNING:__main__:Fetched URL: https://www.littelfuse.com/media?resourcetype=datasheets&itemid=42c9dd21-a88e-4328-8e67-2f832444faf1&filename=littelfuse_datasheet_297_mini32v.pdf\n",
      "WARNING:__main__:Error fetching URL: https://www.littelfuse.com/media?resourcetype=datasheets&itemid=5688ddaa-f0db-4dd2-936d-4e678e1f8f31&filename=littelfuse_fuse_505_datasheet.pdf Exception: Server disconnected\n",
      "WARNING:__main__:Error fetching URL: https://www.littelfuse.com/media?resourcetype=datasheets&itemid=990f7193-d9a2-48e4-b760-2b43514249cf&filename=littelfuse-fuse-215-datasheet Exception: Server disconnected\n",
      "WARNING:__main__:Error fetching URL: https://www.littelfuse.com/media?resourcetype=datasheets&itemid=545bf502-c624-4172-b0a0-3a8c5f3d65be&filename=littelfuse-fuse-215sp-datasheet Exception: Server disconnected\n",
      "WARNING:__main__:Error fetching URL: https://www.littelfuse.com/media?resourcetype=datasheets&itemid=af55be94-c42e-41b1-ad43-e070e09443fe&filename=littelfuse-fuse-217-datasheet Exception: Server disconnected\n",
      "WARNING:__main__:Error fetching URL: https://www.littelfuse.com/media?resourcetype=datasheets&itemid=533cd5cc-956c-4243-867f-6ab5a62f6ba1&filename=littelfuse_fuse_451_453_datasheet.pdf Exception: Server disconnected\n",
      "WARNING:__main__:Error fetching URL: https://html5.dcatalog.com/?docid=8e9daddd-82b0-4ed4-a656-a8aa011ea6d3#page=148 Exception: Server disconnected\n",
      "WARNING:__main__:Fetched URL: https://multimedia.3m.com/mws/media/1255423O/e-a-r-isodamp-versadamp-material-summary-sheet.pdf\n",
      "WARNING:__main__:Fetched URL: https://www.alphawire.com/products/cable/alpha-essentials/coaxial-cable/9213/\n",
      "/tmp/ipykernel_137286/599240133.py:17: FutureWarning: The behavior of this method will change in future versions. Use specific 'len(elem)' or 'elem is not None' test instead.\n",
      "  if tree:\n",
      "WARNING:__main__:Error fetching URL: https://www.littelfuse.com/media?resourcetype=datasheets&itemid=43dcdce8-8ca2-426f-8998-7e566f048d40&filename=littelfuse_datasheet_287_atof_r2.7.pdf Exception: Server disconnected\n"
     ]
    },
    {
     "name": "stdout",
     "output_type": "stream",
     "text": [
      ">>>>>>>>>>>> invalid status found:403 for url:https://mm.digikey.com/Volume0/opasdata/d220001/medias/docus/404/Accessories,Capacitors.pdf\n",
      ">>>>>>>>>>>> invalid status found:403 for url:https://mm.digikey.com/Volume0/opasdata/d220001/medias/docus/2153/9272_Series(in).pdf\n",
      ">>>>>>>>>>>> invalid status found:403 for url:https://mm.digikey.com/Volume0/opasdata/d220001/medias/docus/3995/A28RFJ.pdf\n",
      ">>>>>>>>>>>> invalid status found:403 for url:https://mm.digikey.com/Volume0/opasdata/d220001/medias/docus/209/EDG_vs_(003)_2009.pdf\n",
      ">>>>>>>>>>>> invalid status found:403 for url:https://mm.digikey.com/Volume0/opasdata/d220001/medias/docus/209/EDG_vs_(003)_2009.pdf\n",
      ">>>>>>>>>>>> invalid status found:403 for url:https://mm.digikey.com/Volume0/opasdata/d220001/medias/docus/13/50CX-41.pdf\n",
      ">>>>>>>>>>>> invalid status found:403 for url:https://mm.digikey.com/Volume0/opasdata/d220001/medias/docus/1818/Accessories_Inlet_Rings.pdf\n",
      "The content is HTML. for urlhttps://www.alphawire.com/products/cable/alpha-essentials/coaxial-cable/9213\n",
      ">>>>>>>>>>>> invalid status found:403 for url:https://mm.digikey.com/Volume0/opasdata/d220001/medias/docus/404/Capacitors.pdf\n",
      ">>>>>>>>>>>> invalid status found:403 for url:https://mm.digikey.com/Volume0/opasdata/d220001/medias/docus/533/047SC-2901.pdf\n",
      "The content is a PDF. for urlhttps://www.mcgillmicrowave.com/product/rg214-lszh-cable-assembly/?attachment_id=20128&download_file=e70rthl42eo3c\n",
      "The content is a PDF. for urlhttps://www.mcgillmicrowave.com/product/rg316/?attachment_id=18354&download_file=9qt55qkpgkohx\n",
      "The content is a PDF. for urlhttps://www.mcgillmicrowave.com/product/rg179/?attachment_id=18369&download_file=dix7ul2vun7uw\n",
      "The content is a PDF. for urlhttps://www.belfuse.com/resources/datasheets/circuitprotection/ds-cp-c1f-series.pdf\n"
     ]
    },
    {
     "name": "stderr",
     "output_type": "stream",
     "text": [
      "WARNING:__main__:Fetched URL: https://www.littelfuse.com/media?resourcetype=datasheets&itemid=63f61b85-5fc5-4f00-9ca9-8d59a6252d71&filename=littelfuse_fuse_154_154t_154l_154tl_datasheet.pdf\n",
      "WARNING:__main__:Fetched URL: https://www.littelfuse.com/media?resourcetype=datasheets&itemid=533cd5cc-956c-4243-867f-6ab5a62f6ba1&filename=littelfuse_fuse_451_453_datasheet.pdf\n"
     ]
    },
    {
     "name": "stdout",
     "output_type": "stream",
     "text": [
      ">>>>>>>>>>>> invalid status found:403 for url:https://mm.digikey.com/Volume0/opasdata/d220001/medias/docus/6155/TCOM-600.pdf\n",
      ">>>>>>>>>>>> invalid status found:403 for url:https://mm.digikey.com/Volume0/opasdata/d220001/medias/docus/598/M4Q.pdf\n",
      "The content is a PDF. for urlhttps://www.littelfuse.com/media?resourcetype=datasheets&itemid=545bf502-c624-4172-b0a0-3a8c5f3d65be&filename=littelfuse-fuse-215sp-datasheet\n"
     ]
    },
    {
     "name": "stderr",
     "output_type": "stream",
     "text": [
      "WARNING:__main__:Fetched URL: https://www.littelfuse.com/media?resourcetype=datasheets&itemid=42c9dd21-a88e-4328-8e67-2f832444faf1&filename=littelfuse_datasheet_297_mini32v.pdf\n",
      "WARNING:__main__:Fetched URL: https://www.littelfuse.com/media?resourcetype=datasheets&itemid=63f61b85-5fc5-4f00-9ca9-8d59a6252d71&filename=littelfuse_fuse_154_154t_154l_154tl_datasheet.pdf\n",
      "WARNING:__main__:Fetched URL: https://www.littelfuse.com/media?resourcetype=datasheets&itemid=8c87aa93-80a7-4ea8-8749-a19ba03901c2&filename=littelfuse-fuse-452-454-datasheet\n"
     ]
    },
    {
     "name": "stdout",
     "output_type": "stream",
     "text": [
      "The content is a PDF. for urlhttps://www.littelfuse.com/media?resourcetype=datasheets&itemid=63f61b85-5fc5-4f00-9ca9-8d59a6252d71&filename=littelfuse_fuse_154_154t_154l_154tl_datasheet.pdf\n",
      "The content is a PDF. for urlhttps://www.littelfuse.com/media?resourcetype=datasheets&itemid=63f61b85-5fc5-4f00-9ca9-8d59a6252d71&filename=littelfuse_fuse_154_154t_154l_154tl_datasheet.pdf\n"
     ]
    },
    {
     "name": "stderr",
     "output_type": "stream",
     "text": [
      "WARNING:__main__:Fetched URL: https://multimedia.3m.com/mws/media/1255423O/e-a-r-isodamp-versadamp-material-summary-sheet.pdf\n",
      "WARNING:__main__:Fetched URL: https://multimedia.3m.com/mws/media/1278448O/e-a-r-isodamp-c-6000-materials-product-bulletin.pdf\n",
      "WARNING:__main__:Fetched URL: https://multimedia.3m.com/mws/media/1278448O/e-a-r-isodamp-c-6000-materials-product-bulletin.pdf\n",
      "WARNING:__main__:Fetched URL: https://www.alphawire.com/products/cable/alpha-essentials/coaxial-cable/9213/\n",
      "/tmp/ipykernel_137286/599240133.py:17: FutureWarning: The behavior of this method will change in future versions. Use specific 'len(elem)' or 'elem is not None' test instead.\n",
      "  if tree:\n",
      "WARNING:__main__:Fetched URL: https://www.littelfuse.com/media?resourcetype=datasheets&itemid=d46c4a3b-863a-447f-80d6-ed897bba3f7c&filename=littelfuse_fuse_232_datasheet.pdf\n"
     ]
    },
    {
     "name": "stdout",
     "output_type": "stream",
     "text": [
      ">>>>>>>>>>>> invalid status found:403 for url:https://mm.digikey.com/Volume0/opasdata/d220001/medias/docus/2250/1000671047_Ds.pdf\n",
      ">>>>>>>>>>>> invalid status found:403 for url:https://mm.digikey.com/Volume0/opasdata/d220001/medias/docus/6155/LMR-400-LLPX.pdf\n",
      ">>>>>>>>>>>> invalid status found:403 for url:https://mm.digikey.com/Volume0/opasdata/d220001/medias/docus/1818/Accessories_Inlet_Rings.pdf\n",
      "The content is HTML. for urlhttps://www.alphawire.com/products/cable/alpha-essentials/coaxial-cable/9213\n",
      ">>>>>>>>>>>> invalid status found:403 for url:https://mm.digikey.com/Volume0/opasdata/d220001/medias/docus/657/Accessories,Finger,FilterGuards.pdf\n",
      "The content is a PDF. for urlhttps://www.littelfuse.com/media?resourcetype=datasheets&itemid=533cd5cc-956c-4243-867f-6ab5a62f6ba1&filename=littelfuse_fuse_451_453_datasheet.pdf\n",
      "The content is a PDF. for urlhttps://multimedia.3m.com/mws/media/1426851O/isoloss-sl-mss52.pdf\n",
      "The content is a PDF. for urlhttps://www.littelfuse.com/media?resourcetype=datasheets&itemid=42c9dd21-a88e-4328-8e67-2f832444faf1&filename=littelfuse_datasheet_297_mini32v.pdf\n",
      "The content is a PDF. for urlhttps://multimedia.3m.com/mws/media/1255423O/e-a-r-isodamp-versadamp-material-summary-sheet.pdf\n"
     ]
    },
    {
     "name": "stderr",
     "output_type": "stream",
     "text": [
      "WARNING:__main__:Fetched URL: https://multimedia.3m.com/mws/media/1426847O/isodamp-c-8000-mss51.pdf\n",
      "WARNING:__main__:Fetched URL: https://multimedia.3m.com/mws/media/1255423O/e-a-r-isodamp-versadamp-material-summary-sheet.pdf\n",
      "WARNING:__main__:Fetched URL: https://multimedia.3m.com/mws/media/1278448O/e-a-r-isodamp-c-6000-materials-product-bulletin.pdf\n",
      "WARNING:__main__:Fetched URL: https://www.littelfuse.com/media?resourcetype=datasheets&itemid=43dcdce8-8ca2-426f-8998-7e566f048d40&filename=littelfuse_datasheet_287_atof_r2.7.pdf\n"
     ]
    },
    {
     "name": "stdout",
     "output_type": "stream",
     "text": [
      ">>>>>>>>>>>> invalid status found:403 for url:https://mm.digikey.com/Volume0/opasdata/d220001/medias/docus/1062/C1178.21.01.pdf\n",
      ">>>>>>>>>>>> invalid status found:403 for url:https://mm.digikey.com/Volume0/opasdata/d220001/medias/docus/404/Capacitors.pdf\n",
      "The content is a PDF. for urlhttps://multimedia.3m.com/mws/media/1426847O/isodamp-c-8000-mss51.pdf\n"
     ]
    },
    {
     "name": "stderr",
     "output_type": "stream",
     "text": [
      "WARNING:__main__:Error fetching URL: https://multimedia.3m.com/mws/media/1278448O/e-a-r-isodamp-c-6000-materials-product-bulletin.pdf Exception: \n",
      "WARNING:__main__:Error fetching URL: https://mm.digikey.com/Volume0/opasdata/d220001/medias/docus/4810/C1156.pdf Exception: \n",
      "WARNING:__main__:Error fetching URL: https://multimedia.3m.com/mws/media/1255423O/e-a-r-isodamp-versadamp-material-summary-sheet.pdf Exception: \n",
      "WARNING:__main__:Error fetching URL: https://www.littelfuse.com/media?resourcetype=datasheets&itemid=d46c4a3b-863a-447f-80d6-ed897bba3f7c&filename=littelfuse_fuse_232_datasheet.pdf Exception: \n",
      "WARNING:__main__:Error fetching URL: https://mm.digikey.com/Volume0/opasdata/d220001/medias/docus/657/Accessories%2CFinger%2CFilterGuards.pdf Exception: \n",
      "WARNING:__main__:Error fetching URL: https://multimedia.3m.com/mws/media/1278448O/e-a-r-isodamp-c-6000-materials-product-bulletin.pdf Exception: \n",
      "WARNING:__main__:Error fetching URL: https://mm.digikey.com/Volume0/opasdata/d220001/medias/docus/5049/AA-12121.pdf Exception: \n",
      "WARNING:__main__:Error fetching URL: https://mm.digikey.com/Volume0/opasdata/d220001/medias/docus/598/M4Q.pdf Exception: \n",
      "WARNING:__main__:Error fetching URL: https://www.littelfuse.com/media?resourcetype=datasheets&itemid=42c9dd21-a88e-4328-8e67-2f832444faf1&filename=littelfuse_datasheet_297_mini32v.pdf Exception: \n",
      "WARNING:__main__:Error fetching URL: https://www.littelfuse.com/media?resourcetype=datasheets&itemid=533cd5cc-956c-4243-867f-6ab5a62f6ba1&filename=littelfuse_fuse_451_453_datasheet.pdf Exception: \n",
      "WARNING:__main__:Error fetching URL: https://www.littelfuse.com/media?resourcetype=datasheets&itemid=63f61b85-5fc5-4f00-9ca9-8d59a6252d71&filename=littelfuse_fuse_154_154t_154l_154tl_datasheet.pdf Exception: \n",
      "WARNING:__main__:Error fetching URL: https://ebmpapst.se/sv/dat/media_manager/news/145/news-files/Compactfans2011.pdf Exception: \n",
      "WARNING:__main__:Error fetching URL: https://multimedia.3m.com/mws/media/1278448O/e-a-r-isodamp-c-6000-materials-product-bulletin.pdf Exception: \n",
      "WARNING:__main__:Error fetching URL: https://multimedia.3m.com/mws/media/1255423O/e-a-r-isodamp-versadamp-material-summary-sheet.pdf Exception: \n",
      "WARNING:__main__:Error fetching URL: https://multimedia.3m.com/mws/media/1255423O/e-a-r-isodamp-versadamp-material-summary-sheet.pdf Exception: \n",
      "WARNING:__main__:Error fetching URL: https://multimedia.3m.com/mws/media/1255423O/e-a-r-isodamp-versadamp-material-summary-sheet.pdf Exception: \n",
      "WARNING:__main__:Error fetching URL: https://mm.digikey.com/Volume0/opasdata/d220001/medias/docus/598/M4Q.pdf Exception: \n",
      "WARNING:__main__:Error fetching URL: https://www.luminii.com/wp-content/uploads/z_special_catalog_products/products/runda-closet-rod-static-white/specsheets/Runda-Closet-Rod-Static-White-Spec.pdf Exception: \n",
      "WARNING:__main__:Error fetching URL: https://mm.digikey.com/Volume0/opasdata/d220001/medias/docus/3569/A29SS.pdf Exception: \n",
      "WARNING:__main__:Error fetching URL: https://mm.digikey.com/Volume0/opasdata/d220001/medias/docus/695/086SC-2401_Ds.pdf Exception: \n",
      "WARNING:__main__:Error fetching URL: https://www.ebmpapst.com/content/dam/ebm-papst/media/catalogs/products/Catalog_Axialfans_2007_EN.pdf Exception: \n",
      "WARNING:__main__:Error fetching URL: https://www.ebmpapst.com/content/dam/ebm-papst/media/catalogs/products/Catalog_Compactfans_US_en.pdf Exception: \n",
      "WARNING:__main__:Error fetching URL: https://multimedia.3m.com/mws/media/1426847O/isodamp-c-8000-mss51.pdf Exception: \n",
      "WARNING:__main__:Error fetching URL: https://multimedia.3m.com/mws/media/1255423O/e-a-r-isodamp-versadamp-material-summary-sheet.pdf Exception: \n",
      "WARNING:__main__:Error fetching URL: https://www.littelfuse.com/media?resourcetype=datasheets&itemid=8c87aa93-80a7-4ea8-8749-a19ba03901c2&filename=littelfuse-fuse-452-454-datasheet Exception: \n",
      "WARNING:__main__:Error fetching URL: https://www.littelfuse.com/media?resourcetype=datasheets&itemid=63f61b85-5fc5-4f00-9ca9-8d59a6252d71&filename=littelfuse_fuse_154_154t_154l_154tl_datasheet.pdf Exception: \n",
      "WARNING:__main__:Error fetching URL: https://www.littelfuse.com/media?resourcetype=datasheets&itemid=43dcdce8-8ca2-426f-8998-7e566f048d40&filename=littelfuse_datasheet_287_atof_r2.7.pdf Exception: \n",
      "WARNING:__main__:Error fetching URL: https://www.littelfuse.com/media?resourcetype=datasheets&itemid=533cd5cc-956c-4243-867f-6ab5a62f6ba1&filename=littelfuse_fuse_451_453_datasheet.pdf Exception: \n",
      "WARNING:__main__:Error fetching URL: https://www.littelfuse.com/media?resourcetype=datasheets&itemid=533cd5cc-956c-4243-867f-6ab5a62f6ba1&filename=littelfuse_fuse_451_453_datasheet.pdf Exception: \n",
      "WARNING:__main__:Error fetching URL: https://www.littelfuse.com/~/media/automotive/datasheets/fuses/passenger-car-and-commercial-vehicle/cartridge-fuses/littelfuse_mcase_plus_datasheet.pdf Exception: \n",
      "WARNING:__main__:Error fetching URL: https://www.littelfuse.com/media?resourcetype=datasheets&itemid=43dcdce8-8ca2-426f-8998-7e566f048d40&filename=littelfuse_datasheet_287_atof_r2.7.pdf Exception: \n",
      "WARNING:__main__:Error fetching URL: https://www.littelfuse.com/media?resourcetype=datasheets&itemid=42c9dd21-a88e-4328-8e67-2f832444faf1&filename=littelfuse_datasheet_297_mini32v.pdf Exception: \n",
      "WARNING:__main__:Error fetching URL: https://www.littelfuse.com/media?resourcetype=datasheets&itemid=8c87aa93-80a7-4ea8-8749-a19ba03901c2&filename=littelfuse-fuse-452-454-datasheet Exception: \n",
      "WARNING:__main__:Error fetching URL: https://www.littelfuse.com/media?resourcetype=datasheets&itemid=63f61b85-5fc5-4f00-9ca9-8d59a6252d71&filename=littelfuse_fuse_154_154t_154l_154tl_datasheet.pdf Exception: \n"
     ]
    }
   ],
   "source": [
    "results = scrape_urls_from_dataframe(test_df, 'datasheet_link')\n"
   ]
  },
  {
   "cell_type": "code",
   "execution_count": 146,
   "metadata": {},
   "outputs": [],
   "source": [
    "test_results_df = pd.DataFrame(results, columns=['url', 'content'])\n",
    "\n",
    "# Display the results DataFrame\n",
    "# results_df.head()\n",
    "test_results_df.to_csv('test_results_df.csv',index=False)"
   ]
  },
  {
   "cell_type": "code",
   "execution_count": 147,
   "metadata": {},
   "outputs": [],
   "source": [
    "test_df = pd.merge(test_df, test_results_df, left_on='datasheet_link', right_on='url', how='left')\n",
    "test_df.to_csv('test_df.csv',index=False)\n"
   ]
  },
  {
   "cell_type": "code",
   "execution_count": 162,
   "metadata": {},
   "outputs": [],
   "source": [
    "test_df = pd.read_csv('test_df.csv')"
   ]
  },
  {
   "cell_type": "code",
   "execution_count": 164,
   "metadata": {},
   "outputs": [],
   "source": [
    "test_df.drop_duplicates(subset=['datasheet_link'],inplace=True)\n",
    "# test_df.to_csv('test_df.csv')"
   ]
  },
  {
   "cell_type": "code",
   "execution_count": 165,
   "metadata": {},
   "outputs": [],
   "source": [
    "test_df.to_csv('test_df.csv')"
   ]
  },
  {
   "cell_type": "code",
   "execution_count": null,
   "metadata": {},
   "outputs": [],
   "source": []
  }
 ],
 "metadata": {
  "kernelspec": {
   "display_name": "base",
   "language": "python",
   "name": "python3"
  },
  "language_info": {
   "codemirror_mode": {
    "name": "ipython",
    "version": 3
   },
   "file_extension": ".py",
   "mimetype": "text/x-python",
   "name": "python",
   "nbconvert_exporter": "python",
   "pygments_lexer": "ipython3",
   "version": "3.10.9"
  }
 },
 "nbformat": 4,
 "nbformat_minor": 2
}
