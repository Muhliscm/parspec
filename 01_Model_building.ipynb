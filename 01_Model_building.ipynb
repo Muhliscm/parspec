{
 "cells": [
  {
   "attachments": {},
   "cell_type": "markdown",
   "metadata": {},
   "source": [
    "# Importing Necessary Libraries\n"
   ]
  },
  {
   "cell_type": "code",
   "execution_count": 2,
   "metadata": {},
   "outputs": [],
   "source": [
    "import pandas as pd\n",
    "import numpy as np\n",
    "import matplotlib.pyplot as plt\n",
    "import seaborn as sns\n",
    "from collections import defaultdict\n",
    "# Libraries to suppress warnings\n",
    "import warnings\n",
    "warnings.filterwarnings(\"ignore\")"
   ]
  },
  {
   "cell_type": "code",
   "execution_count": 3,
   "metadata": {},
   "outputs": [],
   "source": [
    "from sklearn.model_selection import train_test_split\n",
    "# Libraries for model evaluation\n",
    "from sklearn.metrics import accuracy_score, precision_score, recall_score, f1_score, confusion_matrix, classification_report"
   ]
  },
  {
   "cell_type": "code",
   "execution_count": 4,
   "metadata": {},
   "outputs": [],
   "source": [
    "pd.set_option('display.max_columns', None)"
   ]
  },
  {
   "attachments": {},
   "cell_type": "markdown",
   "metadata": {},
   "source": [
    "# Loading The Data\n"
   ]
  },
  {
   "cell_type": "code",
   "execution_count": 5,
   "metadata": {},
   "outputs": [
    {
     "name": "stdout",
     "output_type": "stream",
     "text": [
      " 01_Model_building.ipynb               \u001b[0m\u001b[01;35m'others link Word Cloud.png'\u001b[0m\n",
      "\u001b[01;35m'cableWord Cloud.png'\u001b[0m                  \u001b[01;35m'others Word Cloud.png'\u001b[0m\n",
      "\u001b[01;35m'cableWord links Cloud.png'\u001b[0m             scraping.ipynb\n",
      " data_cleaning.ipynb                    test_df.csv\n",
      " EDA.ipynb                              test_df_full.csv\n",
      "\u001b[01;35m'fuses links Word Cloud.png'\u001b[0m            train_df.csv\n",
      "\u001b[01;35m'fuses Word Cloud.png'\u001b[0m                  train_df_for_model_v1.csv\n",
      "\u001b[01;35m'Lighting Word Cloud links.png'\u001b[0m         train_df_full.csv\n",
      "\u001b[01;35m'Lighting Word Cloud.png'\u001b[0m               Unscrapped_test_df.csv\n",
      " main.py                                Unscrapped_train_df.csv\n",
      " mle-1-assign-dataset.xlsx              updated_test_data.csv\n",
      "\u001b[01;35m'Number of Characters In content.png'\u001b[0m   updated_train_data.csv\n",
      "\u001b[01;35m'Number of Words In content.png'\u001b[0m\n"
     ]
    }
   ],
   "source": [
    "ls"
   ]
  },
  {
   "cell_type": "code",
   "execution_count": 4,
   "metadata": {},
   "outputs": [],
   "source": [
    "# using data set without dropping dummies and duplicates\n",
    "original_df = pd.read_csv(\"train_df_for_model_v1.csv\")"
   ]
  },
  {
   "cell_type": "code",
   "execution_count": 5,
   "metadata": {},
   "outputs": [],
   "source": [
    "df = original_df.copy()"
   ]
  },
  {
   "attachments": {},
   "cell_type": "markdown",
   "metadata": {},
   "source": [
    "# Preprocessing\n"
   ]
  },
  {
   "cell_type": "code",
   "execution_count": 53,
   "metadata": {},
   "outputs": [
    {
     "data": {
      "text/html": [
       "<div>\n",
       "<style scoped>\n",
       "    .dataframe tbody tr th:only-of-type {\n",
       "        vertical-align: middle;\n",
       "    }\n",
       "\n",
       "    .dataframe tbody tr th {\n",
       "        vertical-align: top;\n",
       "    }\n",
       "\n",
       "    .dataframe thead th {\n",
       "        text-align: right;\n",
       "    }\n",
       "</style>\n",
       "<table border=\"1\" class=\"dataframe\">\n",
       "  <thead>\n",
       "    <tr style=\"text-align: right;\">\n",
       "      <th></th>\n",
       "      <th>datasheet_link</th>\n",
       "      <th>target_col</th>\n",
       "      <th>content</th>\n",
       "      <th>datasheet_link_processed</th>\n",
       "      <th>link_num_char</th>\n",
       "      <th>num_link_words</th>\n",
       "      <th>num_link_sent</th>\n",
       "      <th>content_num_char</th>\n",
       "      <th>num_content_words</th>\n",
       "      <th>num_content_sent</th>\n",
       "      <th>transformed_text</th>\n",
       "      <th>transformed_link</th>\n",
       "    </tr>\n",
       "  </thead>\n",
       "  <tbody>\n",
       "    <tr>\n",
       "      <th>0</th>\n",
       "      <td>https://lfillumination.com/files/specsheets/EF...</td>\n",
       "      <td>lighting</td>\n",
       "      <td>| ILLUMINATION     Magnate Moun               ...</td>\n",
       "      <td>lfillumination.com files specsheets EF408B-Lig...</td>\n",
       "      <td>65</td>\n",
       "      <td>3</td>\n",
       "      <td>1</td>\n",
       "      <td>350</td>\n",
       "      <td>53</td>\n",
       "      <td>2</td>\n",
       "      <td>illumin magnat moun freten tock 2804 ey 75109 ...</td>\n",
       "      <td>file specsheet</td>\n",
       "    </tr>\n",
       "    <tr>\n",
       "      <th>1</th>\n",
       "      <td>https://lfillumination.com/files/specsheets/EF...</td>\n",
       "      <td>lighting</td>\n",
       "      <td>| EF400 System # EF407B . DIE CAST CYLINDRICAL...</td>\n",
       "      <td>lfillumination.com files specsheets EF407B-Lig...</td>\n",
       "      <td>65</td>\n",
       "      <td>3</td>\n",
       "      <td>1</td>\n",
       "      <td>475</td>\n",
       "      <td>82</td>\n",
       "      <td>3</td>\n",
       "      <td>ef400 system ef407b die cast cylindr light uni...</td>\n",
       "      <td>file specsheet</td>\n",
       "    </tr>\n",
       "    <tr>\n",
       "      <th>2</th>\n",
       "      <td>https://www.waclighting.com/storage/waclightin...</td>\n",
       "      <td>lighting</td>\n",
       "      <td>ADJUSTABLE BEAM WALL WASH 12V 5221 vba alight ...</td>\n",
       "      <td>storage waclighting-images specsheet_pdf 5221_...</td>\n",
       "      <td>83</td>\n",
       "      <td>3</td>\n",
       "      <td>1</td>\n",
       "      <td>935</td>\n",
       "      <td>153</td>\n",
       "      <td>3</td>\n",
       "      <td>adjust beam wall wash 12v 5221 vba alight ns s...</td>\n",
       "      <td>storag</td>\n",
       "    </tr>\n",
       "    <tr>\n",
       "      <th>3</th>\n",
       "      <td>https://www.acuitybrands.com/api/products/geta...</td>\n",
       "      <td>lighting</td>\n",
       "      <td>HEALTHCARE mons Wa LIGHTING. | HDMC Surface Mo...</td>\n",
       "      <td>api products getasset healthcare-lighting 1626...</td>\n",
       "      <td>184</td>\n",
       "      <td>15</td>\n",
       "      <td>1</td>\n",
       "      <td>5106</td>\n",
       "      <td>973</td>\n",
       "      <td>14</td>\n",
       "      <td>healthcar mon wa light hdmc surfac mount filte...</td>\n",
       "      <td>api product getasset 1626980 2f23 3a13 3a41</td>\n",
       "    </tr>\n",
       "    <tr>\n",
       "      <th>4</th>\n",
       "      <td>https://lfillumination.com/files/specsheets/KA...</td>\n",
       "      <td>lighting</td>\n",
       "      <td>iF KATRPB CYLINDER PENDANT MOUNT ILLUMINATION ...</td>\n",
       "      <td>lfillumination.com files specsheets KATRPB-Pen...</td>\n",
       "      <td>62</td>\n",
       "      <td>3</td>\n",
       "      <td>1</td>\n",
       "      <td>379</td>\n",
       "      <td>77</td>\n",
       "      <td>2</td>\n",
       "      <td>katrpb cylind pendant mount illumin integr dri...</td>\n",
       "      <td>file specsheet</td>\n",
       "    </tr>\n",
       "  </tbody>\n",
       "</table>\n",
       "</div>"
      ],
      "text/plain": [
       "                                      datasheet_link target_col  \\\n",
       "0  https://lfillumination.com/files/specsheets/EF...   lighting   \n",
       "1  https://lfillumination.com/files/specsheets/EF...   lighting   \n",
       "2  https://www.waclighting.com/storage/waclightin...   lighting   \n",
       "3  https://www.acuitybrands.com/api/products/geta...   lighting   \n",
       "4  https://lfillumination.com/files/specsheets/KA...   lighting   \n",
       "\n",
       "                                             content  \\\n",
       "0  | ILLUMINATION     Magnate Moun               ...   \n",
       "1  | EF400 System # EF407B . DIE CAST CYLINDRICAL...   \n",
       "2  ADJUSTABLE BEAM WALL WASH 12V 5221 vba alight ...   \n",
       "3  HEALTHCARE mons Wa LIGHTING. | HDMC Surface Mo...   \n",
       "4  iF KATRPB CYLINDER PENDANT MOUNT ILLUMINATION ...   \n",
       "\n",
       "                            datasheet_link_processed  link_num_char  \\\n",
       "0  lfillumination.com files specsheets EF408B-Lig...             65   \n",
       "1  lfillumination.com files specsheets EF407B-Lig...             65   \n",
       "2  storage waclighting-images specsheet_pdf 5221_...             83   \n",
       "3  api products getasset healthcare-lighting 1626...            184   \n",
       "4  lfillumination.com files specsheets KATRPB-Pen...             62   \n",
       "\n",
       "   num_link_words  num_link_sent  content_num_char  num_content_words  \\\n",
       "0               3              1               350                 53   \n",
       "1               3              1               475                 82   \n",
       "2               3              1               935                153   \n",
       "3              15              1              5106                973   \n",
       "4               3              1               379                 77   \n",
       "\n",
       "   num_content_sent                                   transformed_text  \\\n",
       "0                 2  illumin magnat moun freten tock 2804 ey 75109 ...   \n",
       "1                 3  ef400 system ef407b die cast cylindr light uni...   \n",
       "2                 3  adjust beam wall wash 12v 5221 vba alight ns s...   \n",
       "3                14  healthcar mon wa light hdmc surfac mount filte...   \n",
       "4                 2  katrpb cylind pendant mount illumin integr dri...   \n",
       "\n",
       "                              transformed_link  \n",
       "0                               file specsheet  \n",
       "1                               file specsheet  \n",
       "2                                       storag  \n",
       "3  api product getasset 1626980 2f23 3a13 3a41  \n",
       "4                               file specsheet  "
      ]
     },
     "execution_count": 53,
     "metadata": {},
     "output_type": "execute_result"
    }
   ],
   "source": [
    "# checking first 5 rows\n",
    "df.head()"
   ]
  },
  {
   "cell_type": "code",
   "execution_count": 54,
   "metadata": {},
   "outputs": [
    {
     "name": "stdout",
     "output_type": "stream",
     "text": [
      "Number of Rows in data:  952\n",
      "Number of columns in data:  12\n"
     ]
    }
   ],
   "source": [
    "# total size of the data set\n",
    "print(\"Number of Rows in data: \", df.shape[0])\n",
    "print(\"Number of columns in data: \", df.shape[1])"
   ]
  },
  {
   "cell_type": "code",
   "execution_count": 55,
   "metadata": {},
   "outputs": [
    {
     "data": {
      "text/plain": [
       "Index(['datasheet_link', 'target_col', 'content', 'datasheet_link_processed',\n",
       "       'link_num_char', 'num_link_words', 'num_link_sent', 'content_num_char',\n",
       "       'num_content_words', 'num_content_sent', 'transformed_text',\n",
       "       'transformed_link'],\n",
       "      dtype='object')"
      ]
     },
     "execution_count": 55,
     "metadata": {},
     "output_type": "execute_result"
    }
   ],
   "source": [
    "df.columns"
   ]
  },
  {
   "cell_type": "code",
   "execution_count": 56,
   "metadata": {},
   "outputs": [],
   "source": [
    "df = df[['target_col', 'num_link_words', 'num_content_words',\n",
    "         'transformed_text', 'transformed_link']]"
   ]
  },
  {
   "cell_type": "code",
   "execution_count": 16,
   "metadata": {},
   "outputs": [
    {
     "data": {
      "text/html": [
       "<div>\n",
       "<style scoped>\n",
       "    .dataframe tbody tr th:only-of-type {\n",
       "        vertical-align: middle;\n",
       "    }\n",
       "\n",
       "    .dataframe tbody tr th {\n",
       "        vertical-align: top;\n",
       "    }\n",
       "\n",
       "    .dataframe thead th {\n",
       "        text-align: right;\n",
       "    }\n",
       "</style>\n",
       "<table border=\"1\" class=\"dataframe\">\n",
       "  <thead>\n",
       "    <tr style=\"text-align: right;\">\n",
       "      <th></th>\n",
       "      <th>target_col</th>\n",
       "      <th>num_link_words</th>\n",
       "      <th>num_content_words</th>\n",
       "      <th>transformed_text</th>\n",
       "      <th>transformed_link</th>\n",
       "    </tr>\n",
       "  </thead>\n",
       "  <tbody>\n",
       "    <tr>\n",
       "      <th>0</th>\n",
       "      <td>lighting</td>\n",
       "      <td>3</td>\n",
       "      <td>53</td>\n",
       "      <td>illumin magnat moun freten tock 2804 ey 75109 ...</td>\n",
       "      <td>file specsheet</td>\n",
       "    </tr>\n",
       "    <tr>\n",
       "      <th>1</th>\n",
       "      <td>lighting</td>\n",
       "      <td>3</td>\n",
       "      <td>82</td>\n",
       "      <td>ef400 system ef407b die cast cylindr light uni...</td>\n",
       "      <td>file specsheet</td>\n",
       "    </tr>\n",
       "    <tr>\n",
       "      <th>2</th>\n",
       "      <td>lighting</td>\n",
       "      <td>3</td>\n",
       "      <td>153</td>\n",
       "      <td>adjust beam wall wash 12v 5221 vba alight ns s...</td>\n",
       "      <td>storag</td>\n",
       "    </tr>\n",
       "    <tr>\n",
       "      <th>3</th>\n",
       "      <td>lighting</td>\n",
       "      <td>15</td>\n",
       "      <td>973</td>\n",
       "      <td>healthcar mon wa light hdmc surfac mount filte...</td>\n",
       "      <td>api product getasset 1626980 2f23 3a13 3a41</td>\n",
       "    </tr>\n",
       "    <tr>\n",
       "      <th>4</th>\n",
       "      <td>lighting</td>\n",
       "      <td>3</td>\n",
       "      <td>77</td>\n",
       "      <td>katrpb cylind pendant mount illumin integr dri...</td>\n",
       "      <td>file specsheet</td>\n",
       "    </tr>\n",
       "  </tbody>\n",
       "</table>\n",
       "</div>"
      ],
      "text/plain": [
       "  target_col  num_link_words  num_content_words  \\\n",
       "0   lighting               3                 53   \n",
       "1   lighting               3                 82   \n",
       "2   lighting               3                153   \n",
       "3   lighting              15                973   \n",
       "4   lighting               3                 77   \n",
       "\n",
       "                                    transformed_text  \\\n",
       "0  illumin magnat moun freten tock 2804 ey 75109 ...   \n",
       "1  ef400 system ef407b die cast cylindr light uni...   \n",
       "2  adjust beam wall wash 12v 5221 vba alight ns s...   \n",
       "3  healthcar mon wa light hdmc surfac mount filte...   \n",
       "4  katrpb cylind pendant mount illumin integr dri...   \n",
       "\n",
       "                              transformed_link  \n",
       "0                               file specsheet  \n",
       "1                               file specsheet  \n",
       "2                                       storag  \n",
       "3  api product getasset 1626980 2f23 3a13 3a41  \n",
       "4                               file specsheet  "
      ]
     },
     "execution_count": 16,
     "metadata": {},
     "output_type": "execute_result"
    }
   ],
   "source": [
    "df.head()"
   ]
  },
  {
   "cell_type": "code",
   "execution_count": 59,
   "metadata": {},
   "outputs": [
    {
     "data": {
      "text/plain": [
       "(952, 5)"
      ]
     },
     "execution_count": 59,
     "metadata": {},
     "output_type": "execute_result"
    }
   ],
   "source": [
    "df.shape"
   ]
  },
  {
   "cell_type": "code",
   "execution_count": 60,
   "metadata": {},
   "outputs": [
    {
     "data": {
      "text/plain": [
       "transformed_text      1\n",
       "transformed_link    118\n",
       "dtype: int64"
      ]
     },
     "execution_count": 60,
     "metadata": {},
     "output_type": "execute_result"
    }
   ],
   "source": [
    "df.isnull().sum()[df.isnull().sum() > 0]"
   ]
  },
  {
   "cell_type": "code",
   "execution_count": 61,
   "metadata": {},
   "outputs": [],
   "source": [
    "df.dropna(subset=['transformed_text'], inplace=True)"
   ]
  },
  {
   "cell_type": "code",
   "execution_count": 70,
   "metadata": {},
   "outputs": [
    {
     "data": {
      "text/plain": [
       "0    storag\n",
       "Name: transformed_link, dtype: object"
      ]
     },
     "execution_count": 70,
     "metadata": {},
     "output_type": "execute_result"
    }
   ],
   "source": [
    "df['transformed_link'].mode()"
   ]
  },
  {
   "cell_type": "code",
   "execution_count": 71,
   "metadata": {},
   "outputs": [
    {
     "data": {
      "text/plain": [
       "'storag'"
      ]
     },
     "execution_count": 71,
     "metadata": {},
     "output_type": "execute_result"
    }
   ],
   "source": [
    "mode_value = df['transformed_link'].mode()[0]\n",
    "mode_value"
   ]
  },
  {
   "cell_type": "code",
   "execution_count": 72,
   "metadata": {},
   "outputs": [
    {
     "name": "stdout",
     "output_type": "stream",
     "text": [
      "Distribution Before Imputation:\n",
      "transformed_link\n",
      "storag                                 199\n",
      "product                                 78\n",
      "commerc documentdeliveri ddecontrol     61\n",
      "specsheet2                              50\n",
      "media                                   47\n",
      "                                      ... \n",
      "product 1676596004                       1\n",
      "product 1676588058                       1\n",
      "product 1676619669                       1\n",
      "product 1676619652                       1\n",
      "product 1676608268                       1\n",
      "Name: count, Length: 286, dtype: int64\n"
     ]
    }
   ],
   "source": [
    "distribution_before = df['transformed_link'].value_counts(dropna=False)\n",
    "print(\"Distribution Before Imputation:\")\n",
    "print(distribution_before)"
   ]
  },
  {
   "cell_type": "code",
   "execution_count": 73,
   "metadata": {},
   "outputs": [
    {
     "name": "stdout",
     "output_type": "stream",
     "text": [
      "\n",
      "Distribution After Imputation:\n",
      "transformed_link\n",
      "storag                                 199\n",
      "product                                 78\n",
      "commerc documentdeliveri ddecontrol     61\n",
      "specsheet2                              50\n",
      "media                                   47\n",
      "                                      ... \n",
      "product 1676596004                       1\n",
      "product 1676588058                       1\n",
      "product 1676619669                       1\n",
      "product 1676619652                       1\n",
      "product 1676608268                       1\n",
      "Name: count, Length: 286, dtype: int64\n"
     ]
    }
   ],
   "source": [
    "mode_value = df['transformed_link'].mode()[0]\n",
    "\n",
    "# Fill missing values with the mode\n",
    "distribution_after = df['transformed_link'].fillna(\n",
    "    mode_value).value_counts(dropna=False)\n",
    "\n",
    "# Calculate the distribution after imputation\n",
    "print(\"\\nDistribution After Imputation:\")\n",
    "print(distribution_after)"
   ]
  },
  {
   "cell_type": "code",
   "execution_count": 74,
   "metadata": {},
   "outputs": [
    {
     "data": {
      "image/png": "[encoded data removed]",
      "text/plain": [
       "<Figure size 2000x1000 with 2 Axes>"
      ]
     },
     "metadata": {},
     "output_type": "display_data"
    }
   ],
   "source": [
    "\n",
    "fig, axes = plt.subplots(1, 2, figsize=(20, 10))\n",
    "\n",
    "# Before Imputation\n",
    "axes[0].bar(distribution_before.index.astype(str),\n",
    "            distribution_before.values, color='skyblue')\n",
    "axes[0].set_title('Before Imputation')\n",
    "axes[0].set_xlabel('')  # Remove x-axis label\n",
    "axes[0].set_ylabel('Frequency')\n",
    "\n",
    "# After Imputation\n",
    "axes[1].bar(distribution_after.index.astype(str),\n",
    "            distribution_after.values, color='salmon')\n",
    "axes[1].set_title('After Imputation')\n",
    "axes[1].set_xlabel('')  # Remove x-axis label\n",
    "axes[1].set_ylabel('Frequency')\n",
    "\n",
    "# Hide x-axis labels\n",
    "axes[0].set_xticklabels([])\n",
    "axes[1].set_xticklabels([])\n",
    "\n",
    "plt.tight_layout()\n",
    "plt.show()"
   ]
  },
  {
   "cell_type": "code",
   "execution_count": 75,
   "metadata": {},
   "outputs": [],
   "source": [
    "df['transformed_link'] = df['transformed_link'].fillna(mode_value)"
   ]
  },
  {
   "cell_type": "code",
   "execution_count": 76,
   "metadata": {},
   "outputs": [
    {
     "data": {
      "text/plain": [
       "target_col           0\n",
       "num_link_words       0\n",
       "num_content_words    0\n",
       "transformed_text     0\n",
       "transformed_link     0\n",
       "dtype: int64"
      ]
     },
     "execution_count": 76,
     "metadata": {},
     "output_type": "execute_result"
    }
   ],
   "source": [
    "df.isnull().sum()"
   ]
  },
  {
   "cell_type": "code",
   "execution_count": 187,
   "metadata": {},
   "outputs": [
    {
     "name": "stdout",
     "output_type": "stream",
     "text": [
      "<class 'pandas.core.frame.DataFrame'>\n",
      "Index: 951 entries, 0 to 951\n",
      "Data columns (total 5 columns):\n",
      " #   Column             Non-Null Count  Dtype  \n",
      "---  ------             --------------  -----  \n",
      " 0   target_col         951 non-null    int64  \n",
      " 1   num_link_words     951 non-null    int64  \n",
      " 2   num_content_words  951 non-null    int64  \n",
      " 3   transformed_text   951 non-null    float64\n",
      " 4   transformed_link   951 non-null    float64\n",
      "dtypes: float64(2), int64(3)\n",
      "memory usage: 44.6 KB\n"
     ]
    }
   ],
   "source": [
    "df.info()"
   ]
  },
  {
   "cell_type": "code",
   "execution_count": 77,
   "metadata": {},
   "outputs": [],
   "source": [
    "from sklearn.feature_extraction.text import TfidfVectorizer\n",
    "from sklearn.compose import ColumnTransformer"
   ]
  },
  {
   "cell_type": "code",
   "execution_count": 78,
   "metadata": {},
   "outputs": [],
   "source": [
    "tfidf_vectorizer1 = TfidfVectorizer()\n",
    "tfidf_vectorizer2 = TfidfVectorizer()"
   ]
  },
  {
   "cell_type": "code",
   "execution_count": null,
   "metadata": {},
   "outputs": [],
   "source": []
  },
  {
   "cell_type": "code",
   "execution_count": 79,
   "metadata": {},
   "outputs": [],
   "source": [
    "df['transformed_link'] = tfidf_vectorizer1.fit_transform(\n",
    "    df['transformed_link']).toarray()"
   ]
  },
  {
   "cell_type": "code",
   "execution_count": 80,
   "metadata": {},
   "outputs": [],
   "source": [
    "df['transformed_text'] = tfidf_vectorizer2.fit_transform(\n",
    "    df['transformed_text']).toarray()"
   ]
  },
  {
   "cell_type": "code",
   "execution_count": 81,
   "metadata": {},
   "outputs": [
    {
     "data": {
      "text/html": [
       "<div>\n",
       "<style scoped>\n",
       "    .dataframe tbody tr th:only-of-type {\n",
       "        vertical-align: middle;\n",
       "    }\n",
       "\n",
       "    .dataframe tbody tr th {\n",
       "        vertical-align: top;\n",
       "    }\n",
       "\n",
       "    .dataframe thead th {\n",
       "        text-align: right;\n",
       "    }\n",
       "</style>\n",
       "<table border=\"1\" class=\"dataframe\">\n",
       "  <thead>\n",
       "    <tr style=\"text-align: right;\">\n",
       "      <th></th>\n",
       "      <th>target_col</th>\n",
       "      <th>num_link_words</th>\n",
       "      <th>num_content_words</th>\n",
       "      <th>transformed_text</th>\n",
       "      <th>transformed_link</th>\n",
       "    </tr>\n",
       "  </thead>\n",
       "  <tbody>\n",
       "    <tr>\n",
       "      <th>0</th>\n",
       "      <td>lighting</td>\n",
       "      <td>3</td>\n",
       "      <td>53</td>\n",
       "      <td>0.0</td>\n",
       "      <td>0.0</td>\n",
       "    </tr>\n",
       "    <tr>\n",
       "      <th>1</th>\n",
       "      <td>lighting</td>\n",
       "      <td>3</td>\n",
       "      <td>82</td>\n",
       "      <td>0.0</td>\n",
       "      <td>0.0</td>\n",
       "    </tr>\n",
       "    <tr>\n",
       "      <th>2</th>\n",
       "      <td>lighting</td>\n",
       "      <td>3</td>\n",
       "      <td>153</td>\n",
       "      <td>0.0</td>\n",
       "      <td>0.0</td>\n",
       "    </tr>\n",
       "    <tr>\n",
       "      <th>3</th>\n",
       "      <td>lighting</td>\n",
       "      <td>15</td>\n",
       "      <td>973</td>\n",
       "      <td>0.0</td>\n",
       "      <td>0.0</td>\n",
       "    </tr>\n",
       "    <tr>\n",
       "      <th>4</th>\n",
       "      <td>lighting</td>\n",
       "      <td>3</td>\n",
       "      <td>77</td>\n",
       "      <td>0.0</td>\n",
       "      <td>0.0</td>\n",
       "    </tr>\n",
       "  </tbody>\n",
       "</table>\n",
       "</div>"
      ],
      "text/plain": [
       "  target_col  num_link_words  num_content_words  transformed_text  \\\n",
       "0   lighting               3                 53               0.0   \n",
       "1   lighting               3                 82               0.0   \n",
       "2   lighting               3                153               0.0   \n",
       "3   lighting              15                973               0.0   \n",
       "4   lighting               3                 77               0.0   \n",
       "\n",
       "   transformed_link  \n",
       "0               0.0  \n",
       "1               0.0  \n",
       "2               0.0  \n",
       "3               0.0  \n",
       "4               0.0  "
      ]
     },
     "execution_count": 81,
     "metadata": {},
     "output_type": "execute_result"
    }
   ],
   "source": [
    "df.head()"
   ]
  },
  {
   "cell_type": "code",
   "execution_count": 85,
   "metadata": {},
   "outputs": [],
   "source": [
    "from sklearn.preprocessing import LabelEncoder"
   ]
  },
  {
   "cell_type": "code",
   "execution_count": 86,
   "metadata": {},
   "outputs": [],
   "source": [
    "enc = LabelEncoder()"
   ]
  },
  {
   "cell_type": "code",
   "execution_count": 88,
   "metadata": {},
   "outputs": [],
   "source": [
    "df['target_col'] = enc.fit_transform(df['target_col'])"
   ]
  },
  {
   "cell_type": "code",
   "execution_count": 89,
   "metadata": {},
   "outputs": [
    {
     "data": {
      "text/html": [
       "<div>\n",
       "<style scoped>\n",
       "    .dataframe tbody tr th:only-of-type {\n",
       "        vertical-align: middle;\n",
       "    }\n",
       "\n",
       "    .dataframe tbody tr th {\n",
       "        vertical-align: top;\n",
       "    }\n",
       "\n",
       "    .dataframe thead th {\n",
       "        text-align: right;\n",
       "    }\n",
       "</style>\n",
       "<table border=\"1\" class=\"dataframe\">\n",
       "  <thead>\n",
       "    <tr style=\"text-align: right;\">\n",
       "      <th></th>\n",
       "      <th>target_col</th>\n",
       "      <th>num_link_words</th>\n",
       "      <th>num_content_words</th>\n",
       "      <th>transformed_text</th>\n",
       "      <th>transformed_link</th>\n",
       "    </tr>\n",
       "  </thead>\n",
       "  <tbody>\n",
       "    <tr>\n",
       "      <th>0</th>\n",
       "      <td>2</td>\n",
       "      <td>3</td>\n",
       "      <td>53</td>\n",
       "      <td>0.0</td>\n",
       "      <td>0.0</td>\n",
       "    </tr>\n",
       "    <tr>\n",
       "      <th>1</th>\n",
       "      <td>2</td>\n",
       "      <td>3</td>\n",
       "      <td>82</td>\n",
       "      <td>0.0</td>\n",
       "      <td>0.0</td>\n",
       "    </tr>\n",
       "    <tr>\n",
       "      <th>2</th>\n",
       "      <td>2</td>\n",
       "      <td>3</td>\n",
       "      <td>153</td>\n",
       "      <td>0.0</td>\n",
       "      <td>0.0</td>\n",
       "    </tr>\n",
       "    <tr>\n",
       "      <th>3</th>\n",
       "      <td>2</td>\n",
       "      <td>15</td>\n",
       "      <td>973</td>\n",
       "      <td>0.0</td>\n",
       "      <td>0.0</td>\n",
       "    </tr>\n",
       "    <tr>\n",
       "      <th>4</th>\n",
       "      <td>2</td>\n",
       "      <td>3</td>\n",
       "      <td>77</td>\n",
       "      <td>0.0</td>\n",
       "      <td>0.0</td>\n",
       "    </tr>\n",
       "  </tbody>\n",
       "</table>\n",
       "</div>"
      ],
      "text/plain": [
       "   target_col  num_link_words  num_content_words  transformed_text  \\\n",
       "0           2               3                 53               0.0   \n",
       "1           2               3                 82               0.0   \n",
       "2           2               3                153               0.0   \n",
       "3           2              15                973               0.0   \n",
       "4           2               3                 77               0.0   \n",
       "\n",
       "   transformed_link  \n",
       "0               0.0  \n",
       "1               0.0  \n",
       "2               0.0  \n",
       "3               0.0  \n",
       "4               0.0  "
      ]
     },
     "execution_count": 89,
     "metadata": {},
     "output_type": "execute_result"
    }
   ],
   "source": [
    "df.head()"
   ]
  },
  {
   "cell_type": "code",
   "execution_count": 92,
   "metadata": {},
   "outputs": [],
   "source": [
    "# creating dependent and independent variables sets\n",
    "X = df.drop(columns='target_col')\n",
    "y = df[\"target_col\"]"
   ]
  },
  {
   "cell_type": "code",
   "execution_count": 93,
   "metadata": {},
   "outputs": [
    {
     "name": "stdout",
     "output_type": "stream",
     "text": [
      "shape of x (951, 4)\n",
      "Shape of y (951,)\n"
     ]
    }
   ],
   "source": [
    "print(\"shape of x\", X.shape)\n",
    "print(\"Shape of y\", y.shape)"
   ]
  },
  {
   "cell_type": "code",
   "execution_count": 94,
   "metadata": {},
   "outputs": [
    {
     "data": {
      "text/plain": [
       "0      2\n",
       "1      2\n",
       "2      2\n",
       "3      2\n",
       "4      2\n",
       "      ..\n",
       "947    3\n",
       "948    3\n",
       "949    3\n",
       "950    3\n",
       "951    3\n",
       "Name: target_col, Length: 951, dtype: int64"
      ]
     },
     "execution_count": 94,
     "metadata": {},
     "output_type": "execute_result"
    }
   ],
   "source": [
    "y"
   ]
  },
  {
   "cell_type": "code",
   "execution_count": 95,
   "metadata": {},
   "outputs": [],
   "source": [
    "# Creating train set and test s\n",
    "X_train, X_test, y_train, y_test = train_test_split(\n",
    "    X, y, test_size=0.2, random_state=42)"
   ]
  },
  {
   "cell_type": "code",
   "execution_count": 96,
   "metadata": {},
   "outputs": [
    {
     "name": "stdout",
     "output_type": "stream",
     "text": [
      "Shape of X_train (760, 4)\n",
      "Shape of X_test (191, 4)\n"
     ]
    }
   ],
   "source": [
    "print(\"Shape of X_train\", X_train.shape)\n",
    "print(\"Shape of X_test\",  X_test.shape)"
   ]
  },
  {
   "cell_type": "code",
   "execution_count": 97,
   "metadata": {},
   "outputs": [
    {
     "name": "stdout",
     "output_type": "stream",
     "text": [
      "Shape of y_train (760,)\n",
      "Shape of y_test (191,)\n"
     ]
    }
   ],
   "source": [
    "print(\"Shape of y_train\", y_train.shape)\n",
    "print(\"Shape of y_test\",  y_test.shape)"
   ]
  },
  {
   "attachments": {},
   "cell_type": "markdown",
   "metadata": {},
   "source": [
    "# Building Machine Learning Models\n"
   ]
  },
  {
   "cell_type": "code",
   "execution_count": 146,
   "metadata": {},
   "outputs": [],
   "source": [
    "from sklearn.preprocessing import StandardScaler"
   ]
  },
  {
   "cell_type": "code",
   "execution_count": 147,
   "metadata": {},
   "outputs": [],
   "source": [
    "sc = StandardScaler()"
   ]
  },
  {
   "cell_type": "code",
   "execution_count": 148,
   "metadata": {},
   "outputs": [
    {
     "data": {
      "text/html": [
       "<style>#sk-container-id-12 {color: black;background-color: white;}#sk-container-id-12 pre{padding: 0;}#sk-container-id-12 div.sk-toggleable {background-color: white;}#sk-container-id-12 label.sk-toggleable__label {cursor: pointer;display: block;width: 100%;margin-bottom: 0;padding: 0.3em;box-sizing: border-box;text-align: center;}#sk-container-id-12 label.sk-toggleable__label-arrow:before {content: \"▸\";float: left;margin-right: 0.25em;color: #696969;}#sk-container-id-12 label.sk-toggleable__label-arrow:hover:before {color: black;}#sk-container-id-12 div.sk-estimator:hover label.sk-toggleable__label-arrow:before {color: black;}#sk-container-id-12 div.sk-toggleable__content {max-height: 0;max-width: 0;overflow: hidden;text-align: left;background-color: #f0f8ff;}#sk-container-id-12 div.sk-toggleable__content pre {margin: 0.2em;color: black;border-radius: 0.25em;background-color: #f0f8ff;}#sk-container-id-12 input.sk-toggleable__control:checked~div.sk-toggleable__content {max-height: 200px;max-width: 100%;overflow: auto;}#sk-container-id-12 input.sk-toggleable__control:checked~label.sk-toggleable__label-arrow:before {content: \"▾\";}#sk-container-id-12 div.sk-estimator input.sk-toggleable__control:checked~label.sk-toggleable__label {background-color: #d4ebff;}#sk-container-id-12 div.sk-label input.sk-toggleable__control:checked~label.sk-toggleable__label {background-color: #d4ebff;}#sk-container-id-12 input.sk-hidden--visually {border: 0;clip: rect(1px 1px 1px 1px);clip: rect(1px, 1px, 1px, 1px);height: 1px;margin: -1px;overflow: hidden;padding: 0;position: absolute;width: 1px;}#sk-container-id-12 div.sk-estimator {font-family: monospace;background-color: #f0f8ff;border: 1px dotted black;border-radius: 0.25em;box-sizing: border-box;margin-bottom: 0.5em;}#sk-container-id-12 div.sk-estimator:hover {background-color: #d4ebff;}#sk-container-id-12 div.sk-parallel-item::after {content: \"\";width: 100%;border-bottom: 1px solid gray;flex-grow: 1;}#sk-container-id-12 div.sk-label:hover label.sk-toggleable__label {background-color: #d4ebff;}#sk-container-id-12 div.sk-serial::before {content: \"\";position: absolute;border-left: 1px solid gray;box-sizing: border-box;top: 0;bottom: 0;left: 50%;z-index: 0;}#sk-container-id-12 div.sk-serial {display: flex;flex-direction: column;align-items: center;background-color: white;padding-right: 0.2em;padding-left: 0.2em;position: relative;}#sk-container-id-12 div.sk-item {position: relative;z-index: 1;}#sk-container-id-12 div.sk-parallel {display: flex;align-items: stretch;justify-content: center;background-color: white;position: relative;}#sk-container-id-12 div.sk-item::before, #sk-container-id-12 div.sk-parallel-item::before {content: \"\";position: absolute;border-left: 1px solid gray;box-sizing: border-box;top: 0;bottom: 0;left: 50%;z-index: -1;}#sk-container-id-12 div.sk-parallel-item {display: flex;flex-direction: column;z-index: 1;position: relative;background-color: white;}#sk-container-id-12 div.sk-parallel-item:first-child::after {align-self: flex-end;width: 50%;}#sk-container-id-12 div.sk-parallel-item:last-child::after {align-self: flex-start;width: 50%;}#sk-container-id-12 div.sk-parallel-item:only-child::after {width: 0;}#sk-container-id-12 div.sk-dashed-wrapped {border: 1px dashed gray;margin: 0 0.4em 0.5em 0.4em;box-sizing: border-box;padding-bottom: 0.4em;background-color: white;}#sk-container-id-12 div.sk-label label {font-family: monospace;font-weight: bold;display: inline-block;line-height: 1.2em;}#sk-container-id-12 div.sk-label-container {text-align: center;}#sk-container-id-12 div.sk-container {/* jupyter's `normalize.less` sets `[hidden] { display: none; }` but bootstrap.min.css set `[hidden] { display: none !important; }` so we also need the `!important` here to be able to override the default hidden behavior on the sphinx rendered scikit-learn.org. See: https://github.com/scikit-learn/scikit-learn/issues/21755 */display: inline-block !important;position: relative;}#sk-container-id-12 div.sk-text-repr-fallback {display: none;}</style><div id=\"sk-container-id-12\" class=\"sk-top-container\"><div class=\"sk-text-repr-fallback\"><pre>StandardScaler()</pre><b>In a Jupyter environment, please rerun this cell to show the HTML representation or trust the notebook. <br />On GitHub, the HTML representation is unable to render, please try loading this page with nbviewer.org.</b></div><div class=\"sk-container\" hidden><div class=\"sk-item\"><div class=\"sk-estimator sk-toggleable\"><input class=\"sk-toggleable__control sk-hidden--visually\" id=\"sk-estimator-id-12\" type=\"checkbox\" checked><label for=\"sk-estimator-id-12\" class=\"sk-toggleable__label sk-toggleable__label-arrow\">StandardScaler</label><div class=\"sk-toggleable__content\"><pre>StandardScaler()</pre></div></div></div></div></div>"
      ],
      "text/plain": [
       "StandardScaler()"
      ]
     },
     "execution_count": 148,
     "metadata": {},
     "output_type": "execute_result"
    }
   ],
   "source": [
    "sc.fit(X_train)"
   ]
  },
  {
   "cell_type": "code",
   "execution_count": 153,
   "metadata": {},
   "outputs": [],
   "source": [
    "X_train_scaled = sc.fit_transform(X_train)"
   ]
  },
  {
   "cell_type": "code",
   "execution_count": 152,
   "metadata": {},
   "outputs": [],
   "source": [
    "X_test_scaled = sc.transform(X_test)"
   ]
  },
  {
   "cell_type": "code",
   "execution_count": 155,
   "metadata": {},
   "outputs": [
    {
     "data": {
      "text/plain": [
       "array([[-0.66495477, -0.34452652, -0.30082688, -0.0362977 ],\n",
       "       [-0.66495477, -0.33464389, -0.30082688, -0.0362977 ],\n",
       "       [-0.66495477,  0.01248332,  1.37508154, -0.0362977 ],\n",
       "       ...,\n",
       "       [-0.66495477, -0.09622556, -0.30082688, -0.0362977 ],\n",
       "       [-0.66495477, -0.12463811, -0.30082688, -0.0362977 ],\n",
       "       [-0.66495477, -0.32476127, -0.30082688, -0.0362977 ]])"
      ]
     },
     "execution_count": 155,
     "metadata": {},
     "output_type": "execute_result"
    }
   ],
   "source": [
    "X_train_scaled"
   ]
  },
  {
   "cell_type": "code",
   "execution_count": 156,
   "metadata": {},
   "outputs": [
    {
     "data": {
      "text/plain": [
       "array([[-0.66541829,  0.16580807, -0.3360804 , -0.07254763],\n",
       "       [-0.66541829, -0.6086182 , -0.3360804 , -0.07254763],\n",
       "       [-0.66541829, -0.74003599, -0.3360804 , -0.07254763],\n",
       "       [ 0.46935755, -0.31762166, -0.3360804 , -0.07254763],\n",
       "       [ 1.03674546, -0.30588793, -0.3360804 , -0.07254763],\n",
       "       [-0.66541829, -0.22375181, -0.3360804 , -0.07254763],\n",
       "       [-0.66541829,  1.48233273, -0.3360804 , -0.07254763],\n",
       "       [-0.66541829, -0.39741104, -0.3360804 , -0.07254763],\n",
       "       [-0.66541829,  1.23123088, -0.3360804 , -0.07254763],\n",
       "       [-0.66541829, -0.28946071, -0.3360804 , 13.78404875],\n",
       "       [-0.66541829, -0.80809164, -0.3360804 , -0.07254763],\n",
       "       [-0.66541829, -0.37863707, -0.3360804 , -0.07254763],\n",
       "       [-0.66541829, -0.08764053, -0.3360804 , -0.07254763],\n",
       "       [ 0.46935755,  0.15642108, -0.3360804 , -0.07254763],\n",
       "       [-0.66541829,  1.01533022, -0.3360804 , -0.07254763],\n",
       "       [-0.66541829, -0.39975778, -0.3360804 , -0.07254763],\n",
       "       [-0.66541829, -0.71422178, -0.3360804 , -0.07254763],\n",
       "       [ 0.46935755, -0.8010514 , -0.3360804 , -0.07254763],\n",
       "       [-0.66541829, -0.90196149, -0.3360804 , -0.07254763],\n",
       "       [ 2.73890922,  0.53894073, -0.3360804 , -0.07254763],\n",
       "       [-0.66541829,  0.56475493, -0.3360804 , -0.07254763],\n",
       "       [-0.66541829,  0.07897846, -0.3360804 , -0.07254763],\n",
       "       [-0.66541829,  0.40517619,  1.72707033, -0.07254763],\n",
       "       [-0.66541829,  0.16346132, -0.3360804 , -0.07254763],\n",
       "       [-0.66541829, -0.48893414, -0.3360804 , -0.07254763],\n",
       "       [-0.66541829, -0.69779456, -0.3360804 , -0.07254763],\n",
       "       [ 1.03674546, -0.44199922, -0.3360804 , -0.07254763],\n",
       "       [-0.66541829,  1.23123088, -0.3360804 , -0.07254763],\n",
       "       [ 0.46935755, -0.44903946, -0.3360804 , -0.07254763],\n",
       "       [ 2.73890922, -0.76819695, -0.3360804 , -0.07254763],\n",
       "       [ 0.46935755, -0.50770811,  3.53862532, -0.07254763],\n",
       "       [-0.09803037,  1.27581906, -0.3360804 , -0.07254763],\n",
       "       [-0.66541829, -0.78931767, -0.3360804 , -0.07254763],\n",
       "       [-0.66541829,  0.37701523, -0.3360804 , -0.07254763],\n",
       "       [-0.66541829, -0.49832113, -0.3360804 , -0.07254763],\n",
       "       [-0.66541829, -0.87614728, -0.3360804 , -0.07254763],\n",
       "       [-0.66541829,  1.03645094, -0.3360804 , -0.07254763],\n",
       "       [ 2.73890922,  4.33362945, -0.3360804 , -0.07254763],\n",
       "       [-0.66541829,  1.08338586, -0.3360804 , -0.07254763],\n",
       "       [ 0.46935755, -0.03601211, -0.3360804 , -0.07254763],\n",
       "       [-0.66541829, -0.86676029, -0.3360804 , -0.07254763],\n",
       "       [-0.66541829, -0.55698978, -0.3360804 , -0.07254763],\n",
       "       [-0.09803037,  1.30632676,  0.95637797, -0.07254763],\n",
       "       [-0.66541829, -0.61800519, -0.3360804 , -0.07254763],\n",
       "       [-0.66541829, -0.61096495, -0.3360804 , -0.07254763],\n",
       "       [ 2.73890922,  0.45915135, -0.3360804 , -0.07254763],\n",
       "       [-0.66541829,  0.8064698 , -0.3360804 , -0.07254763],\n",
       "       [-0.66541829, -0.78697092, -0.3360804 , -0.07254763],\n",
       "       [-0.66541829, -0.6391259 , -0.3360804 , -0.07254763],\n",
       "       [-0.09803037, -0.77523719,  6.17623169, -0.07254763],\n",
       "       [ 0.46935755, -0.56168328, -0.3360804 , -0.07254763],\n",
       "       [-0.66541829, -0.68136734, -0.3360804 , -0.07254763],\n",
       "       [ 0.46935755, -0.82921235, -0.3360804 , -0.07254763],\n",
       "       [ 2.73890922,  5.09866873, -0.3360804 , -0.07254763],\n",
       "       [-0.66541829, -0.4208785 , -0.3360804 , -0.07254763],\n",
       "       [ 1.03674546, -0.43965247, -0.3360804 , -0.07254763],\n",
       "       [-0.66541829, -0.73299575, -0.3360804 , -0.07254763],\n",
       "       [-0.66541829,  0.54363422, -0.3360804 , -0.07254763],\n",
       "       [-0.66541829,  1.47294574, -0.3360804 , -0.07254763],\n",
       "       [ 0.46935755, -0.52178859, -0.3360804 , -0.07254763],\n",
       "       [ 1.60413338,  0.04612401, -0.3360804 , -0.07254763],\n",
       "       [ 2.73890922,  4.15292999, -0.3360804 , -0.07254763],\n",
       "       [-0.66541829,  1.29693977,  1.09991282, -0.07254763],\n",
       "       [-0.66541829, -0.61331169, -0.3360804 , -0.07254763],\n",
       "       [-0.66541829, -0.37629032, -0.3360804 , -0.07254763],\n",
       "       [-0.66541829, -0.23548554, -0.3360804 , -0.07254763],\n",
       "       [ 0.46935755,  0.04847075, -0.3360804 , -0.07254763],\n",
       "       [-0.66541829, -0.71187504, -0.3360804 , -0.07254763],\n",
       "       [-0.66541829, -0.90196149, -0.3360804 , -0.07254763],\n",
       "       [ 0.46935755, -0.48424065, -0.3360804 , -0.07254763],\n",
       "       [-0.66541829, -0.75176973, -0.3360804 , -0.07254763],\n",
       "       [ 1.03674546, -0.39975778, -0.3360804 , -0.07254763],\n",
       "       [-0.66541829, -0.50770811, -0.3360804 , -0.07254763],\n",
       "       [ 0.46935755,  0.61403661, -0.3360804 , -0.07254763],\n",
       "       [-0.66541829, -0.03131862, -0.3360804 , -0.07254763],\n",
       "       [-0.66541829,  1.23123088, -0.3360804 , -0.07254763],\n",
       "       [-0.66541829,  1.03175744, -0.3360804 , -0.07254763],\n",
       "       [ 1.60413338, -0.71891528, -0.3360804 , -0.07254763],\n",
       "       [ 0.46935755,  0.49904604,  1.85456754, -0.07254763],\n",
       "       [-0.66541829,  1.02237046, -0.3360804 , -0.07254763],\n",
       "       [-0.66541829, -0.80339814, -0.3360804 , -0.07254763],\n",
       "       [ 1.03674546, -0.27772698,  2.61619047, -0.07254763],\n",
       "       [-0.66541829, -0.57576375,  3.95190469, -0.07254763],\n",
       "       [-0.66541829,  1.4659055 , -0.3360804 , -0.07254763],\n",
       "       [-0.66541829,  1.33683446, -0.3360804 , -0.07254763],\n",
       "       [-0.66541829,  0.03204353, -0.3360804 , -0.07254763],\n",
       "       [ 2.73890922,  1.8155707 ,  0.84391346, -0.07254763],\n",
       "       [-0.66541829,  0.47557858, -0.3360804 , -0.07254763],\n",
       "       [-0.66541829, -0.7705437 , -0.3360804 , -0.07254763],\n",
       "       [ 1.03674546, -0.19089737, -0.3360804 , -0.07254763],\n",
       "       [-0.66541829,  1.01533022, -0.3360804 , -0.07254763],\n",
       "       [-0.66541829,  0.41925667,  1.80092988, -0.07254763],\n",
       "       [ 1.03674546, -0.22844531,  2.36418726, -0.07254763],\n",
       "       [-0.66541829,  0.17284831, -0.3360804 , -0.07254763],\n",
       "       [-0.66541829, -0.68606083, -0.3360804 , -0.07254763],\n",
       "       [ 1.60413338, -0.62739217,  3.95896661, -0.07254763],\n",
       "       [-0.66541829, -0.14865593, -0.3360804 , -0.07254763],\n",
       "       [ 1.03674546, -0.40679802, -0.3360804 , -0.07254763],\n",
       "       [-0.66541829, -0.59923122, -0.3360804 , -0.07254763],\n",
       "       [-0.66541829,  1.23123088, -0.3360804 , -0.07254763],\n",
       "       [-0.66541829, -0.35751635, -0.3360804 , -0.07254763],\n",
       "       [ 1.60413338, -0.57107026, -0.3360804 , -0.07254763],\n",
       "       [ 2.73890922,  4.15292999, -0.3360804 , -0.07254763],\n",
       "       [ 0.46935755, -0.55464304, -0.3360804 , -0.07254763],\n",
       "       [ 0.46935755, -0.49128089, -0.3360804 , -0.07254763],\n",
       "       [-0.66541829,  1.23123088, -0.3360804 , -0.07254763],\n",
       "       [ 2.73890922,  0.94258108, -0.3360804 , -0.07254763],\n",
       "       [-0.66541829, -0.37394358, -0.3360804 , -0.07254763],\n",
       "       [-0.66541829, -0.6743271 , -0.3360804 , -0.07254763],\n",
       "       [ 0.46935755, -0.61331169, -0.3360804 , -0.07254763],\n",
       "       [-0.66541829, -0.1064145 , -0.3360804 , -0.07254763],\n",
       "       [-0.66541829, -0.81513187, -0.3360804 , -0.07254763],\n",
       "       [-0.09803037, -0.61800519, -0.3360804 , -0.07254763],\n",
       "       [ 0.46935755, -0.94185617, -0.3360804 , -0.07254763],\n",
       "       [ 1.03674546, -0.54056256, -0.3360804 , -0.07254763],\n",
       "       [-0.66541829, -0.69075432, -0.3360804 , -0.07254763],\n",
       "       [-0.66541829,  0.05785774, -0.3360804 , -0.07254763],\n",
       "       [-0.66541829,  0.7759621 , -0.3360804 , -0.07254763],\n",
       "       [ 0.46935755, -0.40210453, -0.3360804 , -0.07254763],\n",
       "       [-0.66541829, -0.07825354, -0.3360804 , -0.07254763],\n",
       "       [ 2.73890922,  0.7454544 ,  3.01624632, -0.07254763],\n",
       "       [ 1.03674546, -0.63443241, -0.3360804 , -0.07254763],\n",
       "       [-0.66541829,  0.37936198,  1.26115201, -0.07254763],\n",
       "       [-0.66541829, -0.78931767, -0.3360804 , -0.07254763],\n",
       "       [ 0.46935755, -0.82686561, -0.3360804 , -0.07254763],\n",
       "       [ 0.46935755,  0.0813252 ,  2.45353868, -0.07254763],\n",
       "       [-0.66541829,  1.04114443, -0.3360804 , -0.07254763],\n",
       "       [-0.66541829, -0.76115671, -0.3360804 , -0.07254763],\n",
       "       [-0.66541829,  0.8674852 ,  2.80302299, -0.07254763],\n",
       "       [-0.66541829,  0.92850061, -0.3360804 , -0.07254763],\n",
       "       [-0.66541829, -0.88788101, -0.3360804 , -0.07254763],\n",
       "       [-0.66541829,  0.86983195,  3.22275128, -0.07254763],\n",
       "       [-0.66541829,  0.12356663, -0.3360804 , -0.07254763],\n",
       "       [-0.66541829, -0.81747862, -0.3360804 , -0.07254763],\n",
       "       [-0.66541829, -0.4513862 , -0.3360804 , -0.07254763],\n",
       "       [-0.66541829,  1.02002371, -0.3360804 , -0.07254763],\n",
       "       [ 1.03674546, -0.38333056,  2.84774263, -0.07254763],\n",
       "       [ 0.46935755,  0.07428496, -0.3360804 , -0.07254763],\n",
       "       [-0.09803037,  1.97514944,  0.93398779, -0.07254763],\n",
       "       [-0.66541829, -0.68136734, -0.3360804 , -0.07254763],\n",
       "       [-0.66541829,  1.19133619, -0.3360804 , -0.07254763],\n",
       "       [ 0.46935755, -0.93716268, -0.3360804 , -0.07254763],\n",
       "       [-0.66541829, -0.75646322, -0.3360804 , -0.07254763],\n",
       "       [ 1.60413338, -0.6086182 , -0.3360804 , -0.07254763],\n",
       "       [-0.66541829, -0.80339814, -0.3360804 , -0.07254763],\n",
       "       [ 1.60413338, -0.43026549, -0.3360804 , -0.07254763],\n",
       "       [-0.66541829, -0.92073546, -0.3360804 , -0.07254763],\n",
       "       [-0.66541829, -0.47016017,  2.67002472, -0.07254763],\n",
       "       [-0.66541829, -0.75880996, -0.3360804 , -0.07254763],\n",
       "       [ 0.46935755, -0.85737331, -0.3360804 , -0.07254763],\n",
       "       [ 1.60413338, -0.69310107, -0.3360804 , -0.07254763],\n",
       "       [-0.66541829, -0.40210453, -0.3360804 , -0.07254763],\n",
       "       [ 1.03674546, -0.30823468, -0.3360804 , -0.07254763],\n",
       "       [ 2.73890922, -0.51005486, -0.3360804 , -0.07254763],\n",
       "       [-0.66541829,  3.40666467,  2.06562495, -0.07254763],\n",
       "       [ 0.46935755, -0.82686561, -0.3360804 , -0.07254763],\n",
       "       [ 0.46935755, -0.40679802, -0.3360804 , -0.07254763],\n",
       "       [-0.66541829,  0.04143052, -0.3360804 , -0.07254763],\n",
       "       [ 1.03674546, -0.67902059, -0.3360804 , -0.07254763],\n",
       "       [-0.66541829, -0.83390584, -0.3360804 , -0.07254763],\n",
       "       [-0.66541829, -0.30354119, -0.3360804 , -0.07254763],\n",
       "       [-0.66541829, -0.56637677, -0.3360804 , -0.07254763],\n",
       "       [-0.66541829,  0.4262969 , -0.3360804 , -0.07254763],\n",
       "       [ 1.03674546, -0.24487253, -0.3360804 , -0.07254763],\n",
       "       [-0.66541829,  1.16786873, -0.3360804 , -0.07254763],\n",
       "       [-0.66541829,  0.29487911,  1.61917327, -0.07254763],\n",
       "       [ 0.46935755, -0.79166441, -0.3360804 , -0.07254763],\n",
       "       [-0.66541829,  1.13032079, -0.3360804 , -0.07254763],\n",
       "       [ 1.60413338, -0.61800519, -0.3360804 , -0.07254763],\n",
       "       [-0.66541829, -0.70014131, -0.3360804 , -0.07254763],\n",
       "       [-0.66541829, -0.85737331, -0.3360804 , -0.07254763],\n",
       "       [-0.66541829, -0.75646322, -0.3360804 , -0.07254763],\n",
       "       [ 0.46935755, -0.03601211, -0.3360804 , -0.07254763],\n",
       "       [-0.66541829,  1.01063673, -0.3360804 , -0.07254763],\n",
       "       [-0.66541829, -0.47485366, -0.3360804 , -0.07254763],\n",
       "       [ 2.73890922, -0.0148914 , -0.3360804 , -0.07254763],\n",
       "       [-0.66541829, -0.96767038, -0.3360804 , -0.07254763],\n",
       "       [ 1.60413338, -0.30823468,  2.67936447, -0.07254763],\n",
       "       [-0.66541829,  1.02237046, -0.3360804 , -0.07254763],\n",
       "       [ 0.46935755, -0.66494011, -0.3360804 , -0.07254763],\n",
       "       [-0.66541829,  1.14674801, -0.3360804 , -0.07254763],\n",
       "       [ 0.46935755, -0.03601211, -0.3360804 , -0.07254763],\n",
       "       [ 0.46935755, -0.40210453, -0.3360804 , -0.07254763],\n",
       "       [-0.66541829,  1.23123088, -0.3360804 , -0.07254763],\n",
       "       [ 0.46935755, -0.44903946, -0.3360804 , -0.07254763],\n",
       "       [ 1.03674546, -0.47250692, -0.3360804 , -0.07254763],\n",
       "       [-0.66541829, -0.51474835, -0.3360804 , -0.07254763],\n",
       "       [-0.66541829, -0.96767038, -0.3360804 , -0.07254763],\n",
       "       [ 1.60413338, -0.57107026, -0.3360804 , -0.07254763],\n",
       "       [-0.66541829, -0.70014131, -0.3360804 , -0.07254763],\n",
       "       [-0.66541829, -0.7705437 , -0.3360804 , -0.07254763]])"
      ]
     },
     "execution_count": 156,
     "metadata": {},
     "output_type": "execute_result"
    }
   ],
   "source": [
    "X_test_scaled"
   ]
  },
  {
   "attachments": {},
   "cell_type": "markdown",
   "metadata": {},
   "source": [
    "## Logistic Regression\n"
   ]
  },
  {
   "cell_type": "code",
   "execution_count": 157,
   "metadata": {},
   "outputs": [
    {
     "data": {
      "text/html": [
       "<style>#sk-container-id-13 {color: black;background-color: white;}#sk-container-id-13 pre{padding: 0;}#sk-container-id-13 div.sk-toggleable {background-color: white;}#sk-container-id-13 label.sk-toggleable__label {cursor: pointer;display: block;width: 100%;margin-bottom: 0;padding: 0.3em;box-sizing: border-box;text-align: center;}#sk-container-id-13 label.sk-toggleable__label-arrow:before {content: \"▸\";float: left;margin-right: 0.25em;color: #696969;}#sk-container-id-13 label.sk-toggleable__label-arrow:hover:before {color: black;}#sk-container-id-13 div.sk-estimator:hover label.sk-toggleable__label-arrow:before {color: black;}#sk-container-id-13 div.sk-toggleable__content {max-height: 0;max-width: 0;overflow: hidden;text-align: left;background-color: #f0f8ff;}#sk-container-id-13 div.sk-toggleable__content pre {margin: 0.2em;color: black;border-radius: 0.25em;background-color: #f0f8ff;}#sk-container-id-13 input.sk-toggleable__control:checked~div.sk-toggleable__content {max-height: 200px;max-width: 100%;overflow: auto;}#sk-container-id-13 input.sk-toggleable__control:checked~label.sk-toggleable__label-arrow:before {content: \"▾\";}#sk-container-id-13 div.sk-estimator input.sk-toggleable__control:checked~label.sk-toggleable__label {background-color: #d4ebff;}#sk-container-id-13 div.sk-label input.sk-toggleable__control:checked~label.sk-toggleable__label {background-color: #d4ebff;}#sk-container-id-13 input.sk-hidden--visually {border: 0;clip: rect(1px 1px 1px 1px);clip: rect(1px, 1px, 1px, 1px);height: 1px;margin: -1px;overflow: hidden;padding: 0;position: absolute;width: 1px;}#sk-container-id-13 div.sk-estimator {font-family: monospace;background-color: #f0f8ff;border: 1px dotted black;border-radius: 0.25em;box-sizing: border-box;margin-bottom: 0.5em;}#sk-container-id-13 div.sk-estimator:hover {background-color: #d4ebff;}#sk-container-id-13 div.sk-parallel-item::after {content: \"\";width: 100%;border-bottom: 1px solid gray;flex-grow: 1;}#sk-container-id-13 div.sk-label:hover label.sk-toggleable__label {background-color: #d4ebff;}#sk-container-id-13 div.sk-serial::before {content: \"\";position: absolute;border-left: 1px solid gray;box-sizing: border-box;top: 0;bottom: 0;left: 50%;z-index: 0;}#sk-container-id-13 div.sk-serial {display: flex;flex-direction: column;align-items: center;background-color: white;padding-right: 0.2em;padding-left: 0.2em;position: relative;}#sk-container-id-13 div.sk-item {position: relative;z-index: 1;}#sk-container-id-13 div.sk-parallel {display: flex;align-items: stretch;justify-content: center;background-color: white;position: relative;}#sk-container-id-13 div.sk-item::before, #sk-container-id-13 div.sk-parallel-item::before {content: \"\";position: absolute;border-left: 1px solid gray;box-sizing: border-box;top: 0;bottom: 0;left: 50%;z-index: -1;}#sk-container-id-13 div.sk-parallel-item {display: flex;flex-direction: column;z-index: 1;position: relative;background-color: white;}#sk-container-id-13 div.sk-parallel-item:first-child::after {align-self: flex-end;width: 50%;}#sk-container-id-13 div.sk-parallel-item:last-child::after {align-self: flex-start;width: 50%;}#sk-container-id-13 div.sk-parallel-item:only-child::after {width: 0;}#sk-container-id-13 div.sk-dashed-wrapped {border: 1px dashed gray;margin: 0 0.4em 0.5em 0.4em;box-sizing: border-box;padding-bottom: 0.4em;background-color: white;}#sk-container-id-13 div.sk-label label {font-family: monospace;font-weight: bold;display: inline-block;line-height: 1.2em;}#sk-container-id-13 div.sk-label-container {text-align: center;}#sk-container-id-13 div.sk-container {/* jupyter's `normalize.less` sets `[hidden] { display: none; }` but bootstrap.min.css set `[hidden] { display: none !important; }` so we also need the `!important` here to be able to override the default hidden behavior on the sphinx rendered scikit-learn.org. See: https://github.com/scikit-learn/scikit-learn/issues/21755 */display: inline-block !important;position: relative;}#sk-container-id-13 div.sk-text-repr-fallback {display: none;}</style><div id=\"sk-container-id-13\" class=\"sk-top-container\"><div class=\"sk-text-repr-fallback\"><pre>LogisticRegression(random_state=0)</pre><b>In a Jupyter environment, please rerun this cell to show the HTML representation or trust the notebook. <br />On GitHub, the HTML representation is unable to render, please try loading this page with nbviewer.org.</b></div><div class=\"sk-container\" hidden><div class=\"sk-item\"><div class=\"sk-estimator sk-toggleable\"><input class=\"sk-toggleable__control sk-hidden--visually\" id=\"sk-estimator-id-13\" type=\"checkbox\" checked><label for=\"sk-estimator-id-13\" class=\"sk-toggleable__label sk-toggleable__label-arrow\">LogisticRegression</label><div class=\"sk-toggleable__content\"><pre>LogisticRegression(random_state=0)</pre></div></div></div></div></div>"
      ],
      "text/plain": [
       "LogisticRegression(random_state=0)"
      ]
     },
     "execution_count": 157,
     "metadata": {},
     "output_type": "execute_result"
    }
   ],
   "source": [
    "# training the model\n",
    "from sklearn.linear_model import LogisticRegression\n",
    "log_reg_classifier = LogisticRegression(random_state=0)\n",
    "log_reg_classifier.fit(X_train_scaled, y_train)"
   ]
  },
  {
   "cell_type": "code",
   "execution_count": 158,
   "metadata": {},
   "outputs": [],
   "source": [
    "# Making prediction on our train and test dataset\n",
    "log_reg_pred_train = log_reg_classifier.predict(X_train_scaled)\n",
    "log_reg_pred_test = log_reg_classifier.predict(X_test_scaled)"
   ]
  },
  {
   "cell_type": "code",
   "execution_count": 159,
   "metadata": {},
   "outputs": [
    {
     "name": "stdout",
     "output_type": "stream",
     "text": [
      "Training accuracy Score    :  0.5723684210526315\n",
      "Test accuracy Score :  0.5549738219895288\n",
      "\n",
      " Logistic Regression Classification Report for train dataset \n",
      "\n",
      "              precision    recall  f1-score   support\n",
      "\n",
      "           0       0.34      0.17      0.23       182\n",
      "           1       0.00      0.00      0.00        94\n",
      "           2       0.58      0.92      0.71       364\n",
      "           3       0.78      0.57      0.66       120\n",
      "\n",
      "    accuracy                           0.57       760\n",
      "   macro avg       0.42      0.42      0.40       760\n",
      "weighted avg       0.48      0.57      0.50       760\n",
      "\n",
      "Logistic Regression Classification Report for test dataset \n",
      "\n",
      "              precision    recall  f1-score   support\n",
      "\n",
      "           0       0.32      0.16      0.21        44\n",
      "           1       0.00      0.00      0.00        31\n",
      "           2       0.55      0.89      0.68        81\n",
      "           3       0.73      0.77      0.75        35\n",
      "\n",
      "    accuracy                           0.55       191\n",
      "   macro avg       0.40      0.45      0.41       191\n",
      "weighted avg       0.44      0.55      0.47       191\n",
      "\n"
     ]
    }
   ],
   "source": [
    "# Storing train and test accuracy scores\n",
    "log_reg_train_accuracy = accuracy_score(y_train, log_reg_pred_train)\n",
    "log_reg_test_accuracy = accuracy_score(y_test, log_reg_pred_test)\n",
    "\n",
    "# printing train and test accuracy scores\n",
    "print(\"Training accuracy Score    : \", log_reg_train_accuracy)\n",
    "print(\"Test accuracy Score : \", log_reg_test_accuracy)\n",
    "\n",
    "# printing classification report for the performance of train and test set\n",
    "print(\"\\n\", \"Logistic Regression Classification Report for train dataset\", \"\\n\")\n",
    "print(classification_report(y_train, log_reg_pred_train))\n",
    "print(\"Logistic Regression Classification Report for test dataset\", \"\\n\")\n",
    "print(classification_report(y_test, log_reg_pred_test))"
   ]
  },
  {
   "attachments": {},
   "cell_type": "markdown",
   "metadata": {},
   "source": [
    "## K-NN Classifier\n"
   ]
  },
  {
   "cell_type": "code",
   "execution_count": 161,
   "metadata": {},
   "outputs": [
    {
     "data": {
      "text/html": [
       "<style>#sk-container-id-15 {color: black;background-color: white;}#sk-container-id-15 pre{padding: 0;}#sk-container-id-15 div.sk-toggleable {background-color: white;}#sk-container-id-15 label.sk-toggleable__label {cursor: pointer;display: block;width: 100%;margin-bottom: 0;padding: 0.3em;box-sizing: border-box;text-align: center;}#sk-container-id-15 label.sk-toggleable__label-arrow:before {content: \"▸\";float: left;margin-right: 0.25em;color: #696969;}#sk-container-id-15 label.sk-toggleable__label-arrow:hover:before {color: black;}#sk-container-id-15 div.sk-estimator:hover label.sk-toggleable__label-arrow:before {color: black;}#sk-container-id-15 div.sk-toggleable__content {max-height: 0;max-width: 0;overflow: hidden;text-align: left;background-color: #f0f8ff;}#sk-container-id-15 div.sk-toggleable__content pre {margin: 0.2em;color: black;border-radius: 0.25em;background-color: #f0f8ff;}#sk-container-id-15 input.sk-toggleable__control:checked~div.sk-toggleable__content {max-height: 200px;max-width: 100%;overflow: auto;}#sk-container-id-15 input.sk-toggleable__control:checked~label.sk-toggleable__label-arrow:before {content: \"▾\";}#sk-container-id-15 div.sk-estimator input.sk-toggleable__control:checked~label.sk-toggleable__label {background-color: #d4ebff;}#sk-container-id-15 div.sk-label input.sk-toggleable__control:checked~label.sk-toggleable__label {background-color: #d4ebff;}#sk-container-id-15 input.sk-hidden--visually {border: 0;clip: rect(1px 1px 1px 1px);clip: rect(1px, 1px, 1px, 1px);height: 1px;margin: -1px;overflow: hidden;padding: 0;position: absolute;width: 1px;}#sk-container-id-15 div.sk-estimator {font-family: monospace;background-color: #f0f8ff;border: 1px dotted black;border-radius: 0.25em;box-sizing: border-box;margin-bottom: 0.5em;}#sk-container-id-15 div.sk-estimator:hover {background-color: #d4ebff;}#sk-container-id-15 div.sk-parallel-item::after {content: \"\";width: 100%;border-bottom: 1px solid gray;flex-grow: 1;}#sk-container-id-15 div.sk-label:hover label.sk-toggleable__label {background-color: #d4ebff;}#sk-container-id-15 div.sk-serial::before {content: \"\";position: absolute;border-left: 1px solid gray;box-sizing: border-box;top: 0;bottom: 0;left: 50%;z-index: 0;}#sk-container-id-15 div.sk-serial {display: flex;flex-direction: column;align-items: center;background-color: white;padding-right: 0.2em;padding-left: 0.2em;position: relative;}#sk-container-id-15 div.sk-item {position: relative;z-index: 1;}#sk-container-id-15 div.sk-parallel {display: flex;align-items: stretch;justify-content: center;background-color: white;position: relative;}#sk-container-id-15 div.sk-item::before, #sk-container-id-15 div.sk-parallel-item::before {content: \"\";position: absolute;border-left: 1px solid gray;box-sizing: border-box;top: 0;bottom: 0;left: 50%;z-index: -1;}#sk-container-id-15 div.sk-parallel-item {display: flex;flex-direction: column;z-index: 1;position: relative;background-color: white;}#sk-container-id-15 div.sk-parallel-item:first-child::after {align-self: flex-end;width: 50%;}#sk-container-id-15 div.sk-parallel-item:last-child::after {align-self: flex-start;width: 50%;}#sk-container-id-15 div.sk-parallel-item:only-child::after {width: 0;}#sk-container-id-15 div.sk-dashed-wrapped {border: 1px dashed gray;margin: 0 0.4em 0.5em 0.4em;box-sizing: border-box;padding-bottom: 0.4em;background-color: white;}#sk-container-id-15 div.sk-label label {font-family: monospace;font-weight: bold;display: inline-block;line-height: 1.2em;}#sk-container-id-15 div.sk-label-container {text-align: center;}#sk-container-id-15 div.sk-container {/* jupyter's `normalize.less` sets `[hidden] { display: none; }` but bootstrap.min.css set `[hidden] { display: none !important; }` so we also need the `!important` here to be able to override the default hidden behavior on the sphinx rendered scikit-learn.org. See: https://github.com/scikit-learn/scikit-learn/issues/21755 */display: inline-block !important;position: relative;}#sk-container-id-15 div.sk-text-repr-fallback {display: none;}</style><div id=\"sk-container-id-15\" class=\"sk-top-container\"><div class=\"sk-text-repr-fallback\"><pre>KNeighborsClassifier()</pre><b>In a Jupyter environment, please rerun this cell to show the HTML representation or trust the notebook. <br />On GitHub, the HTML representation is unable to render, please try loading this page with nbviewer.org.</b></div><div class=\"sk-container\" hidden><div class=\"sk-item\"><div class=\"sk-estimator sk-toggleable\"><input class=\"sk-toggleable__control sk-hidden--visually\" id=\"sk-estimator-id-15\" type=\"checkbox\" checked><label for=\"sk-estimator-id-15\" class=\"sk-toggleable__label sk-toggleable__label-arrow\">KNeighborsClassifier</label><div class=\"sk-toggleable__content\"><pre>KNeighborsClassifier()</pre></div></div></div></div></div>"
      ],
      "text/plain": [
       "KNeighborsClassifier()"
      ]
     },
     "execution_count": 161,
     "metadata": {},
     "output_type": "execute_result"
    }
   ],
   "source": [
    "from sklearn.neighbors import KNeighborsClassifier\n",
    "knn_classifier = KNeighborsClassifier(\n",
    "    n_neighbors=5, metric='minkowski', p=2)\n",
    "knn_classifier.fit(X_train_scaled, y_train)"
   ]
  },
  {
   "cell_type": "code",
   "execution_count": 162,
   "metadata": {},
   "outputs": [],
   "source": [
    "# Making prediction on our train and test dataset\n",
    "knn_pred_train = knn_classifier.predict(X_train_scaled)\n",
    "knn_pred_test = knn_classifier.predict(X_test_scaled)"
   ]
  },
  {
   "cell_type": "code",
   "execution_count": 163,
   "metadata": {},
   "outputs": [
    {
     "name": "stdout",
     "output_type": "stream",
     "text": [
      "Training accuracy Score    :  0.7868421052631579\n",
      "Test accuracy Score :  0.612565445026178\n",
      "\n",
      " KNN Classification Report for train dataset \n",
      "\n",
      "              precision    recall  f1-score   support\n",
      "\n",
      "           0       0.72      0.73      0.72       182\n",
      "           1       0.68      0.74      0.71        94\n",
      "           2       0.83      0.86      0.85       364\n",
      "           3       0.85      0.68      0.76       120\n",
      "\n",
      "    accuracy                           0.79       760\n",
      "   macro avg       0.77      0.75      0.76       760\n",
      "weighted avg       0.79      0.79      0.79       760\n",
      "\n",
      "KNN Classification Report for test dataset \n",
      "\n",
      "              precision    recall  f1-score   support\n",
      "\n",
      "           0       0.63      0.43      0.51        44\n",
      "           1       0.41      0.61      0.49        31\n",
      "           2       0.69      0.84      0.76        81\n",
      "           3       0.65      0.31      0.42        35\n",
      "\n",
      "    accuracy                           0.61       191\n",
      "   macro avg       0.60      0.55      0.55       191\n",
      "weighted avg       0.63      0.61      0.60       191\n",
      "\n"
     ]
    }
   ],
   "source": [
    "\n",
    "\n",
    "# Storing train and test accuracy scores\n",
    "train_accuracy = accuracy_score(y_train, knn_pred_train)\n",
    "test_accuracy = accuracy_score(y_test, knn_pred_test)\n",
    "\n",
    "# printing train and test accuracy scores\n",
    "print(\"Training accuracy Score    : \", train_accuracy)\n",
    "print(\"Test accuracy Score : \", test_accuracy)\n",
    "\n",
    "# printing classification report for the performance of train and test set\n",
    "print(\"\\n\", \"KNN Classification Report for train dataset\", \"\\n\")\n",
    "print(classification_report(y_train, knn_pred_train))\n",
    "print(\"KNN Classification Report for test dataset\", \"\\n\")\n",
    "print(classification_report(y_test, knn_pred_test))"
   ]
  },
  {
   "attachments": {},
   "cell_type": "markdown",
   "metadata": {},
   "source": [
    "## Support Vector Machine (SVM)\n"
   ]
  },
  {
   "cell_type": "code",
   "execution_count": 167,
   "metadata": {},
   "outputs": [
    {
     "data": {
      "text/html": [
       "<style>#sk-container-id-17 {color: black;background-color: white;}#sk-container-id-17 pre{padding: 0;}#sk-container-id-17 div.sk-toggleable {background-color: white;}#sk-container-id-17 label.sk-toggleable__label {cursor: pointer;display: block;width: 100%;margin-bottom: 0;padding: 0.3em;box-sizing: border-box;text-align: center;}#sk-container-id-17 label.sk-toggleable__label-arrow:before {content: \"▸\";float: left;margin-right: 0.25em;color: #696969;}#sk-container-id-17 label.sk-toggleable__label-arrow:hover:before {color: black;}#sk-container-id-17 div.sk-estimator:hover label.sk-toggleable__label-arrow:before {color: black;}#sk-container-id-17 div.sk-toggleable__content {max-height: 0;max-width: 0;overflow: hidden;text-align: left;background-color: #f0f8ff;}#sk-container-id-17 div.sk-toggleable__content pre {margin: 0.2em;color: black;border-radius: 0.25em;background-color: #f0f8ff;}#sk-container-id-17 input.sk-toggleable__control:checked~div.sk-toggleable__content {max-height: 200px;max-width: 100%;overflow: auto;}#sk-container-id-17 input.sk-toggleable__control:checked~label.sk-toggleable__label-arrow:before {content: \"▾\";}#sk-container-id-17 div.sk-estimator input.sk-toggleable__control:checked~label.sk-toggleable__label {background-color: #d4ebff;}#sk-container-id-17 div.sk-label input.sk-toggleable__control:checked~label.sk-toggleable__label {background-color: #d4ebff;}#sk-container-id-17 input.sk-hidden--visually {border: 0;clip: rect(1px 1px 1px 1px);clip: rect(1px, 1px, 1px, 1px);height: 1px;margin: -1px;overflow: hidden;padding: 0;position: absolute;width: 1px;}#sk-container-id-17 div.sk-estimator {font-family: monospace;background-color: #f0f8ff;border: 1px dotted black;border-radius: 0.25em;box-sizing: border-box;margin-bottom: 0.5em;}#sk-container-id-17 div.sk-estimator:hover {background-color: #d4ebff;}#sk-container-id-17 div.sk-parallel-item::after {content: \"\";width: 100%;border-bottom: 1px solid gray;flex-grow: 1;}#sk-container-id-17 div.sk-label:hover label.sk-toggleable__label {background-color: #d4ebff;}#sk-container-id-17 div.sk-serial::before {content: \"\";position: absolute;border-left: 1px solid gray;box-sizing: border-box;top: 0;bottom: 0;left: 50%;z-index: 0;}#sk-container-id-17 div.sk-serial {display: flex;flex-direction: column;align-items: center;background-color: white;padding-right: 0.2em;padding-left: 0.2em;position: relative;}#sk-container-id-17 div.sk-item {position: relative;z-index: 1;}#sk-container-id-17 div.sk-parallel {display: flex;align-items: stretch;justify-content: center;background-color: white;position: relative;}#sk-container-id-17 div.sk-item::before, #sk-container-id-17 div.sk-parallel-item::before {content: \"\";position: absolute;border-left: 1px solid gray;box-sizing: border-box;top: 0;bottom: 0;left: 50%;z-index: -1;}#sk-container-id-17 div.sk-parallel-item {display: flex;flex-direction: column;z-index: 1;position: relative;background-color: white;}#sk-container-id-17 div.sk-parallel-item:first-child::after {align-self: flex-end;width: 50%;}#sk-container-id-17 div.sk-parallel-item:last-child::after {align-self: flex-start;width: 50%;}#sk-container-id-17 div.sk-parallel-item:only-child::after {width: 0;}#sk-container-id-17 div.sk-dashed-wrapped {border: 1px dashed gray;margin: 0 0.4em 0.5em 0.4em;box-sizing: border-box;padding-bottom: 0.4em;background-color: white;}#sk-container-id-17 div.sk-label label {font-family: monospace;font-weight: bold;display: inline-block;line-height: 1.2em;}#sk-container-id-17 div.sk-label-container {text-align: center;}#sk-container-id-17 div.sk-container {/* jupyter's `normalize.less` sets `[hidden] { display: none; }` but bootstrap.min.css set `[hidden] { display: none !important; }` so we also need the `!important` here to be able to override the default hidden behavior on the sphinx rendered scikit-learn.org. See: https://github.com/scikit-learn/scikit-learn/issues/21755 */display: inline-block !important;position: relative;}#sk-container-id-17 div.sk-text-repr-fallback {display: none;}</style><div id=\"sk-container-id-17\" class=\"sk-top-container\"><div class=\"sk-text-repr-fallback\"><pre>SVC(kernel=&#x27;linear&#x27;, random_state=0)</pre><b>In a Jupyter environment, please rerun this cell to show the HTML representation or trust the notebook. <br />On GitHub, the HTML representation is unable to render, please try loading this page with nbviewer.org.</b></div><div class=\"sk-container\" hidden><div class=\"sk-item\"><div class=\"sk-estimator sk-toggleable\"><input class=\"sk-toggleable__control sk-hidden--visually\" id=\"sk-estimator-id-17\" type=\"checkbox\" checked><label for=\"sk-estimator-id-17\" class=\"sk-toggleable__label sk-toggleable__label-arrow\">SVC</label><div class=\"sk-toggleable__content\"><pre>SVC(kernel=&#x27;linear&#x27;, random_state=0)</pre></div></div></div></div></div>"
      ],
      "text/plain": [
       "SVC(kernel='linear', random_state=0)"
      ]
     },
     "execution_count": 167,
     "metadata": {},
     "output_type": "execute_result"
    }
   ],
   "source": [
    "from sklearn.svm import SVC\n",
    "svm_classifier = SVC(kernel='linear', random_state=0)\n",
    "svm_classifier.fit(X_train_scaled, y_train)"
   ]
  },
  {
   "cell_type": "code",
   "execution_count": 168,
   "metadata": {},
   "outputs": [],
   "source": [
    "# Making prediction on our train and test dataset\n",
    "svm_pred_train = svm_classifier.predict(X_train_scaled)\n",
    "svm_pred_test = svm_classifier.predict(X_test_scaled)"
   ]
  },
  {
   "cell_type": "code",
   "execution_count": 169,
   "metadata": {},
   "outputs": [
    {
     "name": "stdout",
     "output_type": "stream",
     "text": [
      "Training accuracy Score    :  0.5789473684210527\n",
      "Test accuracy Score :  0.5549738219895288\n",
      "\n",
      " SVM Classification Report for train dataset \n",
      "\n",
      "              precision    recall  f1-score   support\n",
      "\n",
      "           0       0.45      0.16      0.24       182\n",
      "           1       0.00      0.00      0.00        94\n",
      "           2       0.59      0.91      0.72       364\n",
      "           3       0.60      0.64      0.62       120\n",
      "\n",
      "    accuracy                           0.58       760\n",
      "   macro avg       0.41      0.43      0.39       760\n",
      "weighted avg       0.49      0.58      0.50       760\n",
      "\n",
      "SVM Classification Report for test dataset \n",
      "\n",
      "              precision    recall  f1-score   support\n",
      "\n",
      "           0       0.33      0.14      0.19        44\n",
      "           1       0.00      0.00      0.00        31\n",
      "           2       0.55      0.89      0.68        81\n",
      "           3       0.65      0.80      0.72        35\n",
      "\n",
      "    accuracy                           0.55       191\n",
      "   macro avg       0.38      0.46      0.40       191\n",
      "weighted avg       0.43      0.55      0.47       191\n",
      "\n"
     ]
    }
   ],
   "source": [
    "\n",
    "# Storing train and test accuracy scores\n",
    "train_accuracy = accuracy_score(y_train, svm_pred_train)\n",
    "test_accuracy = accuracy_score(y_test, svm_pred_test)\n",
    "\n",
    "# printing train and test accuracy scores\n",
    "print(\"Training accuracy Score    : \", train_accuracy)\n",
    "print(\"Test accuracy Score : \", test_accuracy)\n",
    "\n",
    "# printing classification report for the performance of train and test set\n",
    "print(\"\\n\", \"SVM Classification Report for train dataset\", \"\\n\")\n",
    "print(classification_report(y_train, svm_pred_train))\n",
    "print(\"SVM Classification Report for test dataset\", \"\\n\")\n",
    "print(classification_report(y_test, svm_pred_test))"
   ]
  },
  {
   "attachments": {},
   "cell_type": "markdown",
   "metadata": {},
   "source": [
    "## Kernal Support Vector Machine (K-SVM)\n"
   ]
  },
  {
   "cell_type": "code",
   "execution_count": 170,
   "metadata": {},
   "outputs": [
    {
     "data": {
      "text/html": [
       "<style>#sk-container-id-18 {color: black;background-color: white;}#sk-container-id-18 pre{padding: 0;}#sk-container-id-18 div.sk-toggleable {background-color: white;}#sk-container-id-18 label.sk-toggleable__label {cursor: pointer;display: block;width: 100%;margin-bottom: 0;padding: 0.3em;box-sizing: border-box;text-align: center;}#sk-container-id-18 label.sk-toggleable__label-arrow:before {content: \"▸\";float: left;margin-right: 0.25em;color: #696969;}#sk-container-id-18 label.sk-toggleable__label-arrow:hover:before {color: black;}#sk-container-id-18 div.sk-estimator:hover label.sk-toggleable__label-arrow:before {color: black;}#sk-container-id-18 div.sk-toggleable__content {max-height: 0;max-width: 0;overflow: hidden;text-align: left;background-color: #f0f8ff;}#sk-container-id-18 div.sk-toggleable__content pre {margin: 0.2em;color: black;border-radius: 0.25em;background-color: #f0f8ff;}#sk-container-id-18 input.sk-toggleable__control:checked~div.sk-toggleable__content {max-height: 200px;max-width: 100%;overflow: auto;}#sk-container-id-18 input.sk-toggleable__control:checked~label.sk-toggleable__label-arrow:before {content: \"▾\";}#sk-container-id-18 div.sk-estimator input.sk-toggleable__control:checked~label.sk-toggleable__label {background-color: #d4ebff;}#sk-container-id-18 div.sk-label input.sk-toggleable__control:checked~label.sk-toggleable__label {background-color: #d4ebff;}#sk-container-id-18 input.sk-hidden--visually {border: 0;clip: rect(1px 1px 1px 1px);clip: rect(1px, 1px, 1px, 1px);height: 1px;margin: -1px;overflow: hidden;padding: 0;position: absolute;width: 1px;}#sk-container-id-18 div.sk-estimator {font-family: monospace;background-color: #f0f8ff;border: 1px dotted black;border-radius: 0.25em;box-sizing: border-box;margin-bottom: 0.5em;}#sk-container-id-18 div.sk-estimator:hover {background-color: #d4ebff;}#sk-container-id-18 div.sk-parallel-item::after {content: \"\";width: 100%;border-bottom: 1px solid gray;flex-grow: 1;}#sk-container-id-18 div.sk-label:hover label.sk-toggleable__label {background-color: #d4ebff;}#sk-container-id-18 div.sk-serial::before {content: \"\";position: absolute;border-left: 1px solid gray;box-sizing: border-box;top: 0;bottom: 0;left: 50%;z-index: 0;}#sk-container-id-18 div.sk-serial {display: flex;flex-direction: column;align-items: center;background-color: white;padding-right: 0.2em;padding-left: 0.2em;position: relative;}#sk-container-id-18 div.sk-item {position: relative;z-index: 1;}#sk-container-id-18 div.sk-parallel {display: flex;align-items: stretch;justify-content: center;background-color: white;position: relative;}#sk-container-id-18 div.sk-item::before, #sk-container-id-18 div.sk-parallel-item::before {content: \"\";position: absolute;border-left: 1px solid gray;box-sizing: border-box;top: 0;bottom: 0;left: 50%;z-index: -1;}#sk-container-id-18 div.sk-parallel-item {display: flex;flex-direction: column;z-index: 1;position: relative;background-color: white;}#sk-container-id-18 div.sk-parallel-item:first-child::after {align-self: flex-end;width: 50%;}#sk-container-id-18 div.sk-parallel-item:last-child::after {align-self: flex-start;width: 50%;}#sk-container-id-18 div.sk-parallel-item:only-child::after {width: 0;}#sk-container-id-18 div.sk-dashed-wrapped {border: 1px dashed gray;margin: 0 0.4em 0.5em 0.4em;box-sizing: border-box;padding-bottom: 0.4em;background-color: white;}#sk-container-id-18 div.sk-label label {font-family: monospace;font-weight: bold;display: inline-block;line-height: 1.2em;}#sk-container-id-18 div.sk-label-container {text-align: center;}#sk-container-id-18 div.sk-container {/* jupyter's `normalize.less` sets `[hidden] { display: none; }` but bootstrap.min.css set `[hidden] { display: none !important; }` so we also need the `!important` here to be able to override the default hidden behavior on the sphinx rendered scikit-learn.org. See: https://github.com/scikit-learn/scikit-learn/issues/21755 */display: inline-block !important;position: relative;}#sk-container-id-18 div.sk-text-repr-fallback {display: none;}</style><div id=\"sk-container-id-18\" class=\"sk-top-container\"><div class=\"sk-text-repr-fallback\"><pre>SVC(random_state=0)</pre><b>In a Jupyter environment, please rerun this cell to show the HTML representation or trust the notebook. <br />On GitHub, the HTML representation is unable to render, please try loading this page with nbviewer.org.</b></div><div class=\"sk-container\" hidden><div class=\"sk-item\"><div class=\"sk-estimator sk-toggleable\"><input class=\"sk-toggleable__control sk-hidden--visually\" id=\"sk-estimator-id-18\" type=\"checkbox\" checked><label for=\"sk-estimator-id-18\" class=\"sk-toggleable__label sk-toggleable__label-arrow\">SVC</label><div class=\"sk-toggleable__content\"><pre>SVC(random_state=0)</pre></div></div></div></div></div>"
      ],
      "text/plain": [
       "SVC(random_state=0)"
      ]
     },
     "execution_count": 170,
     "metadata": {},
     "output_type": "execute_result"
    }
   ],
   "source": [
    "from sklearn.svm import SVC\n",
    "k_svm_classifier = SVC(kernel='rbf', random_state=0)\n",
    "k_svm_classifier.fit(X_train_scaled, y_train)"
   ]
  },
  {
   "cell_type": "code",
   "execution_count": 171,
   "metadata": {},
   "outputs": [],
   "source": [
    "# Making prediction on our train and test dataset\n",
    "k_svm_pred_train = k_svm_classifier.predict(X_train_scaled)\n",
    "k_svm_pred_test = k_svm_classifier.predict(X_test_scaled)"
   ]
  },
  {
   "cell_type": "code",
   "execution_count": 172,
   "metadata": {},
   "outputs": [
    {
     "name": "stdout",
     "output_type": "stream",
     "text": [
      "Training accuracy Score    :  0.5789473684210527\n",
      "Test accuracy Score :  0.5549738219895288\n",
      "\n",
      " Kernal-SVM Classification Report for train dataset \n",
      "\n",
      "              precision    recall  f1-score   support\n",
      "\n",
      "           0       0.59      0.40      0.48       182\n",
      "           1       0.59      0.11      0.18        94\n",
      "           2       0.69      0.97      0.80       364\n",
      "           3       0.70      0.62      0.65       120\n",
      "\n",
      "    accuracy                           0.67       760\n",
      "   macro avg       0.64      0.52      0.53       760\n",
      "weighted avg       0.65      0.67      0.63       760\n",
      "\n",
      "Kernal-SVM Classification Report for test dataset \n",
      "\n",
      "              precision    recall  f1-score   support\n",
      "\n",
      "           0       0.52      0.39      0.44        44\n",
      "           1       0.38      0.10      0.15        31\n",
      "           2       0.65      0.95      0.77        81\n",
      "           3       0.78      0.71      0.75        35\n",
      "\n",
      "    accuracy                           0.64       191\n",
      "   macro avg       0.58      0.54      0.53       191\n",
      "weighted avg       0.60      0.64      0.59       191\n",
      "\n"
     ]
    }
   ],
   "source": [
    "\n",
    "# Storing train and test accuracy scores\n",
    "k_svm_train_accuracy = accuracy_score(y_train, k_svm_pred_train)\n",
    "k_svm_test_accuracy = accuracy_score(y_test, k_svm_pred_test)\n",
    "\n",
    "# printing train and test accuracy scores\n",
    "print(\"Training accuracy Score    : \", train_accuracy)\n",
    "print(\"Test accuracy Score : \", test_accuracy)\n",
    "\n",
    "# printing classification report for the performance of train and test set\n",
    "print(\"\\n\", \"Kernal-SVM Classification Report for train dataset\", \"\\n\")\n",
    "print(classification_report(y_train, k_svm_pred_train))\n",
    "print(\"Kernal-SVM Classification Report for test dataset\", \"\\n\")\n",
    "print(classification_report(y_test, k_svm_pred_test))"
   ]
  },
  {
   "attachments": {},
   "cell_type": "markdown",
   "metadata": {},
   "source": [
    "## NAIVE BAYES\n"
   ]
  },
  {
   "cell_type": "code",
   "execution_count": 174,
   "metadata": {},
   "outputs": [
    {
     "data": {
      "text/html": [
       "<style>#sk-container-id-19 {color: black;background-color: white;}#sk-container-id-19 pre{padding: 0;}#sk-container-id-19 div.sk-toggleable {background-color: white;}#sk-container-id-19 label.sk-toggleable__label {cursor: pointer;display: block;width: 100%;margin-bottom: 0;padding: 0.3em;box-sizing: border-box;text-align: center;}#sk-container-id-19 label.sk-toggleable__label-arrow:before {content: \"▸\";float: left;margin-right: 0.25em;color: #696969;}#sk-container-id-19 label.sk-toggleable__label-arrow:hover:before {color: black;}#sk-container-id-19 div.sk-estimator:hover label.sk-toggleable__label-arrow:before {color: black;}#sk-container-id-19 div.sk-toggleable__content {max-height: 0;max-width: 0;overflow: hidden;text-align: left;background-color: #f0f8ff;}#sk-container-id-19 div.sk-toggleable__content pre {margin: 0.2em;color: black;border-radius: 0.25em;background-color: #f0f8ff;}#sk-container-id-19 input.sk-toggleable__control:checked~div.sk-toggleable__content {max-height: 200px;max-width: 100%;overflow: auto;}#sk-container-id-19 input.sk-toggleable__control:checked~label.sk-toggleable__label-arrow:before {content: \"▾\";}#sk-container-id-19 div.sk-estimator input.sk-toggleable__control:checked~label.sk-toggleable__label {background-color: #d4ebff;}#sk-container-id-19 div.sk-label input.sk-toggleable__control:checked~label.sk-toggleable__label {background-color: #d4ebff;}#sk-container-id-19 input.sk-hidden--visually {border: 0;clip: rect(1px 1px 1px 1px);clip: rect(1px, 1px, 1px, 1px);height: 1px;margin: -1px;overflow: hidden;padding: 0;position: absolute;width: 1px;}#sk-container-id-19 div.sk-estimator {font-family: monospace;background-color: #f0f8ff;border: 1px dotted black;border-radius: 0.25em;box-sizing: border-box;margin-bottom: 0.5em;}#sk-container-id-19 div.sk-estimator:hover {background-color: #d4ebff;}#sk-container-id-19 div.sk-parallel-item::after {content: \"\";width: 100%;border-bottom: 1px solid gray;flex-grow: 1;}#sk-container-id-19 div.sk-label:hover label.sk-toggleable__label {background-color: #d4ebff;}#sk-container-id-19 div.sk-serial::before {content: \"\";position: absolute;border-left: 1px solid gray;box-sizing: border-box;top: 0;bottom: 0;left: 50%;z-index: 0;}#sk-container-id-19 div.sk-serial {display: flex;flex-direction: column;align-items: center;background-color: white;padding-right: 0.2em;padding-left: 0.2em;position: relative;}#sk-container-id-19 div.sk-item {position: relative;z-index: 1;}#sk-container-id-19 div.sk-parallel {display: flex;align-items: stretch;justify-content: center;background-color: white;position: relative;}#sk-container-id-19 div.sk-item::before, #sk-container-id-19 div.sk-parallel-item::before {content: \"\";position: absolute;border-left: 1px solid gray;box-sizing: border-box;top: 0;bottom: 0;left: 50%;z-index: -1;}#sk-container-id-19 div.sk-parallel-item {display: flex;flex-direction: column;z-index: 1;position: relative;background-color: white;}#sk-container-id-19 div.sk-parallel-item:first-child::after {align-self: flex-end;width: 50%;}#sk-container-id-19 div.sk-parallel-item:last-child::after {align-self: flex-start;width: 50%;}#sk-container-id-19 div.sk-parallel-item:only-child::after {width: 0;}#sk-container-id-19 div.sk-dashed-wrapped {border: 1px dashed gray;margin: 0 0.4em 0.5em 0.4em;box-sizing: border-box;padding-bottom: 0.4em;background-color: white;}#sk-container-id-19 div.sk-label label {font-family: monospace;font-weight: bold;display: inline-block;line-height: 1.2em;}#sk-container-id-19 div.sk-label-container {text-align: center;}#sk-container-id-19 div.sk-container {/* jupyter's `normalize.less` sets `[hidden] { display: none; }` but bootstrap.min.css set `[hidden] { display: none !important; }` so we also need the `!important` here to be able to override the default hidden behavior on the sphinx rendered scikit-learn.org. See: https://github.com/scikit-learn/scikit-learn/issues/21755 */display: inline-block !important;position: relative;}#sk-container-id-19 div.sk-text-repr-fallback {display: none;}</style><div id=\"sk-container-id-19\" class=\"sk-top-container\"><div class=\"sk-text-repr-fallback\"><pre>MultinomialNB()</pre><b>In a Jupyter environment, please rerun this cell to show the HTML representation or trust the notebook. <br />On GitHub, the HTML representation is unable to render, please try loading this page with nbviewer.org.</b></div><div class=\"sk-container\" hidden><div class=\"sk-item\"><div class=\"sk-estimator sk-toggleable\"><input class=\"sk-toggleable__control sk-hidden--visually\" id=\"sk-estimator-id-19\" type=\"checkbox\" checked><label for=\"sk-estimator-id-19\" class=\"sk-toggleable__label sk-toggleable__label-arrow\">MultinomialNB</label><div class=\"sk-toggleable__content\"><pre>MultinomialNB()</pre></div></div></div></div></div>"
      ],
      "text/plain": [
       "MultinomialNB()"
      ]
     },
     "execution_count": 174,
     "metadata": {},
     "output_type": "execute_result"
    }
   ],
   "source": [
    "from sklearn.naive_bayes import MultinomialNB\n",
    "# building pipe line for naive bayes\n",
    "\n",
    "nb_classifier = MultinomialNB()\n",
    "nb_classifier.fit(X_train, y_train)"
   ]
  },
  {
   "cell_type": "code",
   "execution_count": 175,
   "metadata": {},
   "outputs": [],
   "source": [
    "# Making prediction on our train and test dataset\n",
    "nb_pred_train = nb_classifier.predict(X_train)\n",
    "nb_test_pred = nb_classifier.predict(X_test)"
   ]
  },
  {
   "cell_type": "code",
   "execution_count": 177,
   "metadata": {},
   "outputs": [
    {
     "name": "stdout",
     "output_type": "stream",
     "text": [
      "Training accuracy Score    :  0.5421052631578948\n",
      "Test accuracy Score :  0.5235602094240838\n",
      "\n",
      " Naive Bayes Classification Report for train dataset \n",
      "\n",
      "              precision    recall  f1-score   support\n",
      "\n",
      "           0       0.34      0.14      0.20       182\n",
      "           1       0.00      0.00      0.00        94\n",
      "           2       0.60      0.83      0.70       364\n",
      "           3       0.47      0.70      0.56       120\n",
      "\n",
      "    accuracy                           0.54       760\n",
      "   macro avg       0.35      0.42      0.36       760\n",
      "weighted avg       0.44      0.54      0.47       760\n",
      "\n",
      "Naive Bayes Classification Report for test dataset \n",
      "\n",
      "              precision    recall  f1-score   support\n",
      "\n",
      "           0       0.29      0.11      0.16        44\n",
      "           1       0.00      0.00      0.00        31\n",
      "           2       0.55      0.80      0.65        81\n",
      "           3       0.54      0.86      0.66        35\n",
      "\n",
      "    accuracy                           0.52       191\n",
      "   macro avg       0.35      0.44      0.37       191\n",
      "weighted avg       0.40      0.52      0.44       191\n",
      "\n"
     ]
    }
   ],
   "source": [
    "\n",
    "# Storing train and test accuracy scores\n",
    "train_accuracy = accuracy_score(y_train, nb_pred_train)\n",
    "test_accuracy = accuracy_score(y_test, nb_test_pred)\n",
    "\n",
    "# printing train and test accuracy scores\n",
    "print(\"Training accuracy Score    : \", train_accuracy)\n",
    "print(\"Test accuracy Score : \", test_accuracy)\n",
    "\n",
    "# printing classification report for the performance of train and test set\n",
    "print(\"\\n\", \"Naive Bayes Classification Report for train dataset\", \"\\n\")\n",
    "print(classification_report(y_train, nb_pred_train))\n",
    "print(\"Naive Bayes Classification Report for test dataset\", \"\\n\")\n",
    "print(classification_report(y_test, nb_test_pred))"
   ]
  },
  {
   "attachments": {},
   "cell_type": "markdown",
   "metadata": {},
   "source": [
    "## DECISION Trees\n"
   ]
  },
  {
   "cell_type": "code",
   "execution_count": 178,
   "metadata": {},
   "outputs": [
    {
     "data": {
      "text/html": [
       "<style>#sk-container-id-20 {color: black;background-color: white;}#sk-container-id-20 pre{padding: 0;}#sk-container-id-20 div.sk-toggleable {background-color: white;}#sk-container-id-20 label.sk-toggleable__label {cursor: pointer;display: block;width: 100%;margin-bottom: 0;padding: 0.3em;box-sizing: border-box;text-align: center;}#sk-container-id-20 label.sk-toggleable__label-arrow:before {content: \"▸\";float: left;margin-right: 0.25em;color: #696969;}#sk-container-id-20 label.sk-toggleable__label-arrow:hover:before {color: black;}#sk-container-id-20 div.sk-estimator:hover label.sk-toggleable__label-arrow:before {color: black;}#sk-container-id-20 div.sk-toggleable__content {max-height: 0;max-width: 0;overflow: hidden;text-align: left;background-color: #f0f8ff;}#sk-container-id-20 div.sk-toggleable__content pre {margin: 0.2em;color: black;border-radius: 0.25em;background-color: #f0f8ff;}#sk-container-id-20 input.sk-toggleable__control:checked~div.sk-toggleable__content {max-height: 200px;max-width: 100%;overflow: auto;}#sk-container-id-20 input.sk-toggleable__control:checked~label.sk-toggleable__label-arrow:before {content: \"▾\";}#sk-container-id-20 div.sk-estimator input.sk-toggleable__control:checked~label.sk-toggleable__label {background-color: #d4ebff;}#sk-container-id-20 div.sk-label input.sk-toggleable__control:checked~label.sk-toggleable__label {background-color: #d4ebff;}#sk-container-id-20 input.sk-hidden--visually {border: 0;clip: rect(1px 1px 1px 1px);clip: rect(1px, 1px, 1px, 1px);height: 1px;margin: -1px;overflow: hidden;padding: 0;position: absolute;width: 1px;}#sk-container-id-20 div.sk-estimator {font-family: monospace;background-color: #f0f8ff;border: 1px dotted black;border-radius: 0.25em;box-sizing: border-box;margin-bottom: 0.5em;}#sk-container-id-20 div.sk-estimator:hover {background-color: #d4ebff;}#sk-container-id-20 div.sk-parallel-item::after {content: \"\";width: 100%;border-bottom: 1px solid gray;flex-grow: 1;}#sk-container-id-20 div.sk-label:hover label.sk-toggleable__label {background-color: #d4ebff;}#sk-container-id-20 div.sk-serial::before {content: \"\";position: absolute;border-left: 1px solid gray;box-sizing: border-box;top: 0;bottom: 0;left: 50%;z-index: 0;}#sk-container-id-20 div.sk-serial {display: flex;flex-direction: column;align-items: center;background-color: white;padding-right: 0.2em;padding-left: 0.2em;position: relative;}#sk-container-id-20 div.sk-item {position: relative;z-index: 1;}#sk-container-id-20 div.sk-parallel {display: flex;align-items: stretch;justify-content: center;background-color: white;position: relative;}#sk-container-id-20 div.sk-item::before, #sk-container-id-20 div.sk-parallel-item::before {content: \"\";position: absolute;border-left: 1px solid gray;box-sizing: border-box;top: 0;bottom: 0;left: 50%;z-index: -1;}#sk-container-id-20 div.sk-parallel-item {display: flex;flex-direction: column;z-index: 1;position: relative;background-color: white;}#sk-container-id-20 div.sk-parallel-item:first-child::after {align-self: flex-end;width: 50%;}#sk-container-id-20 div.sk-parallel-item:last-child::after {align-self: flex-start;width: 50%;}#sk-container-id-20 div.sk-parallel-item:only-child::after {width: 0;}#sk-container-id-20 div.sk-dashed-wrapped {border: 1px dashed gray;margin: 0 0.4em 0.5em 0.4em;box-sizing: border-box;padding-bottom: 0.4em;background-color: white;}#sk-container-id-20 div.sk-label label {font-family: monospace;font-weight: bold;display: inline-block;line-height: 1.2em;}#sk-container-id-20 div.sk-label-container {text-align: center;}#sk-container-id-20 div.sk-container {/* jupyter's `normalize.less` sets `[hidden] { display: none; }` but bootstrap.min.css set `[hidden] { display: none !important; }` so we also need the `!important` here to be able to override the default hidden behavior on the sphinx rendered scikit-learn.org. See: https://github.com/scikit-learn/scikit-learn/issues/21755 */display: inline-block !important;position: relative;}#sk-container-id-20 div.sk-text-repr-fallback {display: none;}</style><div id=\"sk-container-id-20\" class=\"sk-top-container\"><div class=\"sk-text-repr-fallback\"><pre>DecisionTreeClassifier(random_state=0)</pre><b>In a Jupyter environment, please rerun this cell to show the HTML representation or trust the notebook. <br />On GitHub, the HTML representation is unable to render, please try loading this page with nbviewer.org.</b></div><div class=\"sk-container\" hidden><div class=\"sk-item\"><div class=\"sk-estimator sk-toggleable\"><input class=\"sk-toggleable__control sk-hidden--visually\" id=\"sk-estimator-id-20\" type=\"checkbox\" checked><label for=\"sk-estimator-id-20\" class=\"sk-toggleable__label sk-toggleable__label-arrow\">DecisionTreeClassifier</label><div class=\"sk-toggleable__content\"><pre>DecisionTreeClassifier(random_state=0)</pre></div></div></div></div></div>"
      ],
      "text/plain": [
       "DecisionTreeClassifier(random_state=0)"
      ]
     },
     "execution_count": 178,
     "metadata": {},
     "output_type": "execute_result"
    }
   ],
   "source": [
    "from sklearn.tree import DecisionTreeClassifier\n",
    "dt_classifier = DecisionTreeClassifier(\n",
    "    criterion='gini', random_state=0)\n",
    "dt_classifier.fit(X_train, y_train)"
   ]
  },
  {
   "cell_type": "code",
   "execution_count": 179,
   "metadata": {},
   "outputs": [],
   "source": [
    "# Making prediction on our train and test dataset\n",
    "dt_pred_train = dt_classifier.predict(X_train)\n",
    "dt_test_pred = dt_classifier.predict(X_test)"
   ]
  },
  {
   "cell_type": "code",
   "execution_count": 180,
   "metadata": {},
   "outputs": [
    {
     "name": "stdout",
     "output_type": "stream",
     "text": [
      "Training accuracy Score    :  0.9394736842105263\n",
      "Test accuracy Score :  0.6335078534031413\n",
      "\n",
      " Decision Tree Classification Report for train dataset \n",
      "\n",
      "              precision    recall  f1-score   support\n",
      "\n",
      "           0       0.89      0.95      0.92       182\n",
      "           1       0.90      0.98      0.94        94\n",
      "           2       0.96      0.93      0.95       364\n",
      "           3       0.98      0.93      0.95       120\n",
      "\n",
      "    accuracy                           0.94       760\n",
      "   macro avg       0.93      0.95      0.94       760\n",
      "weighted avg       0.94      0.94      0.94       760\n",
      "\n",
      "Decision Tree Classification Report for test dataset \n",
      "\n",
      "              precision    recall  f1-score   support\n",
      "\n",
      "           0       0.44      0.55      0.48        44\n",
      "           1       0.69      0.65      0.67        31\n",
      "           2       0.72      0.65      0.68        81\n",
      "           3       0.73      0.69      0.71        35\n",
      "\n",
      "    accuracy                           0.63       191\n",
      "   macro avg       0.64      0.63      0.64       191\n",
      "weighted avg       0.65      0.63      0.64       191\n",
      "\n"
     ]
    }
   ],
   "source": [
    "\n",
    "\n",
    "# Storing train and test accuracy scores\n",
    "train_accuracy = accuracy_score(y_train, dt_pred_train)\n",
    "test_accuracy = accuracy_score(y_test, dt_test_pred)\n",
    "\n",
    "# printing train and test accuracy scores\n",
    "print(\"Training accuracy Score    : \", train_accuracy)\n",
    "print(\"Test accuracy Score : \", test_accuracy)\n",
    "\n",
    "# printing classification report for the performance of train and test set\n",
    "print(\"\\n\", \"Decision Tree Classification Report for train dataset\", \"\\n\")\n",
    "print(classification_report(y_train, dt_pred_train))\n",
    "print(\"Decision Tree Classification Report for test dataset\", \"\\n\")\n",
    "print(classification_report(y_test, dt_test_pred))"
   ]
  },
  {
   "attachments": {},
   "cell_type": "markdown",
   "metadata": {},
   "source": [
    "## Random Forest\n"
   ]
  },
  {
   "cell_type": "code",
   "execution_count": 181,
   "metadata": {},
   "outputs": [
    {
     "data": {
      "text/html": [
       "<style>#sk-container-id-21 {color: black;background-color: white;}#sk-container-id-21 pre{padding: 0;}#sk-container-id-21 div.sk-toggleable {background-color: white;}#sk-container-id-21 label.sk-toggleable__label {cursor: pointer;display: block;width: 100%;margin-bottom: 0;padding: 0.3em;box-sizing: border-box;text-align: center;}#sk-container-id-21 label.sk-toggleable__label-arrow:before {content: \"▸\";float: left;margin-right: 0.25em;color: #696969;}#sk-container-id-21 label.sk-toggleable__label-arrow:hover:before {color: black;}#sk-container-id-21 div.sk-estimator:hover label.sk-toggleable__label-arrow:before {color: black;}#sk-container-id-21 div.sk-toggleable__content {max-height: 0;max-width: 0;overflow: hidden;text-align: left;background-color: #f0f8ff;}#sk-container-id-21 div.sk-toggleable__content pre {margin: 0.2em;color: black;border-radius: 0.25em;background-color: #f0f8ff;}#sk-container-id-21 input.sk-toggleable__control:checked~div.sk-toggleable__content {max-height: 200px;max-width: 100%;overflow: auto;}#sk-container-id-21 input.sk-toggleable__control:checked~label.sk-toggleable__label-arrow:before {content: \"▾\";}#sk-container-id-21 div.sk-estimator input.sk-toggleable__control:checked~label.sk-toggleable__label {background-color: #d4ebff;}#sk-container-id-21 div.sk-label input.sk-toggleable__control:checked~label.sk-toggleable__label {background-color: #d4ebff;}#sk-container-id-21 input.sk-hidden--visually {border: 0;clip: rect(1px 1px 1px 1px);clip: rect(1px, 1px, 1px, 1px);height: 1px;margin: -1px;overflow: hidden;padding: 0;position: absolute;width: 1px;}#sk-container-id-21 div.sk-estimator {font-family: monospace;background-color: #f0f8ff;border: 1px dotted black;border-radius: 0.25em;box-sizing: border-box;margin-bottom: 0.5em;}#sk-container-id-21 div.sk-estimator:hover {background-color: #d4ebff;}#sk-container-id-21 div.sk-parallel-item::after {content: \"\";width: 100%;border-bottom: 1px solid gray;flex-grow: 1;}#sk-container-id-21 div.sk-label:hover label.sk-toggleable__label {background-color: #d4ebff;}#sk-container-id-21 div.sk-serial::before {content: \"\";position: absolute;border-left: 1px solid gray;box-sizing: border-box;top: 0;bottom: 0;left: 50%;z-index: 0;}#sk-container-id-21 div.sk-serial {display: flex;flex-direction: column;align-items: center;background-color: white;padding-right: 0.2em;padding-left: 0.2em;position: relative;}#sk-container-id-21 div.sk-item {position: relative;z-index: 1;}#sk-container-id-21 div.sk-parallel {display: flex;align-items: stretch;justify-content: center;background-color: white;position: relative;}#sk-container-id-21 div.sk-item::before, #sk-container-id-21 div.sk-parallel-item::before {content: \"\";position: absolute;border-left: 1px solid gray;box-sizing: border-box;top: 0;bottom: 0;left: 50%;z-index: -1;}#sk-container-id-21 div.sk-parallel-item {display: flex;flex-direction: column;z-index: 1;position: relative;background-color: white;}#sk-container-id-21 div.sk-parallel-item:first-child::after {align-self: flex-end;width: 50%;}#sk-container-id-21 div.sk-parallel-item:last-child::after {align-self: flex-start;width: 50%;}#sk-container-id-21 div.sk-parallel-item:only-child::after {width: 0;}#sk-container-id-21 div.sk-dashed-wrapped {border: 1px dashed gray;margin: 0 0.4em 0.5em 0.4em;box-sizing: border-box;padding-bottom: 0.4em;background-color: white;}#sk-container-id-21 div.sk-label label {font-family: monospace;font-weight: bold;display: inline-block;line-height: 1.2em;}#sk-container-id-21 div.sk-label-container {text-align: center;}#sk-container-id-21 div.sk-container {/* jupyter's `normalize.less` sets `[hidden] { display: none; }` but bootstrap.min.css set `[hidden] { display: none !important; }` so we also need the `!important` here to be able to override the default hidden behavior on the sphinx rendered scikit-learn.org. See: https://github.com/scikit-learn/scikit-learn/issues/21755 */display: inline-block !important;position: relative;}#sk-container-id-21 div.sk-text-repr-fallback {display: none;}</style><div id=\"sk-container-id-21\" class=\"sk-top-container\"><div class=\"sk-text-repr-fallback\"><pre>RandomForestClassifier(n_estimators=10, random_state=0)</pre><b>In a Jupyter environment, please rerun this cell to show the HTML representation or trust the notebook. <br />On GitHub, the HTML representation is unable to render, please try loading this page with nbviewer.org.</b></div><div class=\"sk-container\" hidden><div class=\"sk-item\"><div class=\"sk-estimator sk-toggleable\"><input class=\"sk-toggleable__control sk-hidden--visually\" id=\"sk-estimator-id-21\" type=\"checkbox\" checked><label for=\"sk-estimator-id-21\" class=\"sk-toggleable__label sk-toggleable__label-arrow\">RandomForestClassifier</label><div class=\"sk-toggleable__content\"><pre>RandomForestClassifier(n_estimators=10, random_state=0)</pre></div></div></div></div></div>"
      ],
      "text/plain": [
       "RandomForestClassifier(n_estimators=10, random_state=0)"
      ]
     },
     "execution_count": 181,
     "metadata": {},
     "output_type": "execute_result"
    }
   ],
   "source": [
    "from sklearn.ensemble import RandomForestClassifier\n",
    "rf_classifier = RandomForestClassifier(\n",
    "    n_estimators=10, criterion='gini', random_state=0)\n",
    "rf_classifier.fit(X_train, y_train)"
   ]
  },
  {
   "cell_type": "code",
   "execution_count": 182,
   "metadata": {},
   "outputs": [],
   "source": [
    "# Making prediction on our train and test dataset\n",
    "rf_pred_train = rf_classifier.predict(X_train)\n",
    "rf_pred_test = rf_classifier.predict(X_test)"
   ]
  },
  {
   "cell_type": "code",
   "execution_count": 183,
   "metadata": {},
   "outputs": [
    {
     "name": "stdout",
     "output_type": "stream",
     "text": [
      "Training accuracy Score    :  0.9131578947368421\n",
      "Test accuracy Score :  0.6910994764397905\n",
      "\n",
      " Random Forest Classification Report for train dataset \n",
      "\n",
      "              precision    recall  f1-score   support\n",
      "\n",
      "           0       0.87      0.92      0.89       182\n",
      "           1       0.91      0.86      0.89        94\n",
      "           2       0.93      0.93      0.93       364\n",
      "           3       0.93      0.90      0.92       120\n",
      "\n",
      "    accuracy                           0.91       760\n",
      "   macro avg       0.91      0.90      0.91       760\n",
      "weighted avg       0.91      0.91      0.91       760\n",
      "\n",
      "Random Classification Report for test dataset \n",
      "\n",
      "              precision    recall  f1-score   support\n",
      "\n",
      "           0       0.49      0.64      0.55        44\n",
      "           1       0.79      0.71      0.75        31\n",
      "           2       0.74      0.72      0.73        81\n",
      "           3       0.86      0.69      0.76        35\n",
      "\n",
      "    accuracy                           0.69       191\n",
      "   macro avg       0.72      0.69      0.70       191\n",
      "weighted avg       0.71      0.69      0.70       191\n",
      "\n"
     ]
    }
   ],
   "source": [
    "\n",
    "\n",
    "# Storing train and test accuracy scores\n",
    "train_accuracy = accuracy_score(y_train, rf_pred_train)\n",
    "test_accuracy = accuracy_score(y_test, rf_pred_test)\n",
    "\n",
    "# printing train and test accuracy scores\n",
    "print(\"Training accuracy Score    : \", train_accuracy)\n",
    "print(\"Test accuracy Score : \", test_accuracy)\n",
    "\n",
    "# printing classification report for the performance of train and test set\n",
    "print(\"\\n\", \"Random Forest Classification Report for train dataset\", \"\\n\")\n",
    "print(classification_report(y_train, rf_pred_train))\n",
    "print(\"Random Classification Report for test dataset\", \"\\n\")\n",
    "print(classification_report(y_test, rf_pred_test))"
   ]
  },
  {
   "cell_type": "markdown",
   "metadata": {},
   "source": [
    "Random Forest Has Better Accuracy so we are selecting random forest as final model\n"
   ]
  },
  {
   "cell_type": "markdown",
   "metadata": {},
   "source": [
    "# Cross Validation And Hyper Parameter Tuning\n"
   ]
  },
  {
   "cell_type": "markdown",
   "metadata": {},
   "source": [
    "## Applying k-Fold Cross Validation\n"
   ]
  },
  {
   "cell_type": "code",
   "execution_count": 186,
   "metadata": {},
   "outputs": [
    {
     "name": "stdout",
     "output_type": "stream",
     "text": [
      "Accuracy: 67.24 %\n",
      "Standard Deviation: 4.61 %\n"
     ]
    }
   ],
   "source": [
    "from sklearn.model_selection import cross_val_score\n",
    "score = cross_val_score(\n",
    "    estimator=rf_classifier, X=X_train, y=y_train, cv=10, scoring='accuracy')\n",
    "print(\"Accuracy: {:.2f} %\".format(score.mean()*100))\n",
    "print(\"Standard Deviation: {:.2f} %\".format(score.std()*100))"
   ]
  },
  {
   "cell_type": "markdown",
   "metadata": {},
   "source": [
    "## Applying Grid Search to find the best model and the best parameters\n"
   ]
  },
  {
   "cell_type": "code",
   "execution_count": 12,
   "metadata": {},
   "outputs": [],
   "source": [
    "from sklearn.ensemble import RandomForestClassifier"
   ]
  },
  {
   "cell_type": "code",
   "execution_count": 10,
   "metadata": {},
   "outputs": [],
   "source": [
    "from sklearn.pipeline import Pipeline\n",
    "from sklearn.feature_extraction.text import TfidfVectorizer\n",
    "from sklearn.compose import ColumnTransformer"
   ]
  },
  {
   "cell_type": "code",
   "execution_count": 13,
   "metadata": {},
   "outputs": [],
   "source": [
    "\n",
    "text_preprocessor = ColumnTransformer(\n",
    "    transformers=[\n",
    "        ('text', TfidfVectorizer(), 'transformed_text'),\n",
    "        ('link', TfidfVectorizer(), 'transformed_link')\n",
    "    ],\n",
    "    sparse_threshold=0  # Ensure the output is a sparse matrix\n",
    ")\n",
    "\n",
    "# Define the full preprocessing and modeling pipeline\n",
    "pipeline = Pipeline(steps=[\n",
    "    ('preprocessor', ColumnTransformer(\n",
    "        transformers=[\n",
    "            ('text', text_preprocessor, [\n",
    "             'transformed_text', 'transformed_link'])\n",
    "        ]\n",
    "    )),\n",
    "    ('classifier', RandomForestClassifier())\n",
    "])"
   ]
  },
  {
   "cell_type": "code",
   "execution_count": 14,
   "metadata": {},
   "outputs": [],
   "source": [
    "df = df[['target_col', 'num_link_words', 'num_content_words',\n",
    "         'transformed_text', 'transformed_link']]"
   ]
  },
  {
   "cell_type": "code",
   "execution_count": 15,
   "metadata": {},
   "outputs": [],
   "source": [
    "df.dropna(subset=['transformed_text'], inplace=True)"
   ]
  },
  {
   "cell_type": "code",
   "execution_count": 16,
   "metadata": {},
   "outputs": [],
   "source": [
    "mode_value = df['transformed_link'].mode()[0]"
   ]
  },
  {
   "cell_type": "code",
   "execution_count": 17,
   "metadata": {},
   "outputs": [],
   "source": [
    "df['transformed_link'] = df['transformed_link'].fillna(mode_value)"
   ]
  },
  {
   "cell_type": "code",
   "execution_count": 18,
   "metadata": {},
   "outputs": [],
   "source": [
    "from sklearn.preprocessing import LabelEncoder\n",
    "enc = LabelEncoder()\n",
    "df['target_col'] = enc.fit_transform(df['target_col'])"
   ]
  },
  {
   "cell_type": "code",
   "execution_count": 19,
   "metadata": {},
   "outputs": [],
   "source": [
    "X = df.drop('target_col', axis=1)\n",
    "y = df['target_col']"
   ]
  },
  {
   "cell_type": "code",
   "execution_count": 20,
   "metadata": {},
   "outputs": [
    {
     "data": {
      "text/plain": [
       "0      2\n",
       "1      2\n",
       "2      2\n",
       "3      2\n",
       "4      2\n",
       "      ..\n",
       "947    3\n",
       "948    3\n",
       "949    3\n",
       "950    3\n",
       "951    3\n",
       "Name: target_col, Length: 951, dtype: int64"
      ]
     },
     "execution_count": 20,
     "metadata": {},
     "output_type": "execute_result"
    }
   ],
   "source": [
    "y"
   ]
  },
  {
   "cell_type": "code",
   "execution_count": 21,
   "metadata": {},
   "outputs": [
    {
     "data": {
      "text/html": [
       "<div>\n",
       "<style scoped>\n",
       "    .dataframe tbody tr th:only-of-type {\n",
       "        vertical-align: middle;\n",
       "    }\n",
       "\n",
       "    .dataframe tbody tr th {\n",
       "        vertical-align: top;\n",
       "    }\n",
       "\n",
       "    .dataframe thead th {\n",
       "        text-align: right;\n",
       "    }\n",
       "</style>\n",
       "<table border=\"1\" class=\"dataframe\">\n",
       "  <thead>\n",
       "    <tr style=\"text-align: right;\">\n",
       "      <th></th>\n",
       "      <th>num_link_words</th>\n",
       "      <th>num_content_words</th>\n",
       "      <th>transformed_text</th>\n",
       "      <th>transformed_link</th>\n",
       "    </tr>\n",
       "  </thead>\n",
       "  <tbody>\n",
       "    <tr>\n",
       "      <th>0</th>\n",
       "      <td>3</td>\n",
       "      <td>53</td>\n",
       "      <td>illumin magnat moun freten tock 2804 ey 75109 ...</td>\n",
       "      <td>file specsheet</td>\n",
       "    </tr>\n",
       "    <tr>\n",
       "      <th>1</th>\n",
       "      <td>3</td>\n",
       "      <td>82</td>\n",
       "      <td>ef400 system ef407b die cast cylindr light uni...</td>\n",
       "      <td>file specsheet</td>\n",
       "    </tr>\n",
       "    <tr>\n",
       "      <th>2</th>\n",
       "      <td>3</td>\n",
       "      <td>153</td>\n",
       "      <td>adjust beam wall wash 12v 5221 vba alight ns s...</td>\n",
       "      <td>storag</td>\n",
       "    </tr>\n",
       "    <tr>\n",
       "      <th>3</th>\n",
       "      <td>15</td>\n",
       "      <td>973</td>\n",
       "      <td>healthcar mon wa light hdmc surfac mount filte...</td>\n",
       "      <td>api product getasset 1626980 2f23 3a13 3a41</td>\n",
       "    </tr>\n",
       "    <tr>\n",
       "      <th>4</th>\n",
       "      <td>3</td>\n",
       "      <td>77</td>\n",
       "      <td>katrpb cylind pendant mount illumin integr dri...</td>\n",
       "      <td>file specsheet</td>\n",
       "    </tr>\n",
       "    <tr>\n",
       "      <th>...</th>\n",
       "      <td>...</td>\n",
       "      <td>...</td>\n",
       "      <td>...</td>\n",
       "      <td>...</td>\n",
       "    </tr>\n",
       "    <tr>\n",
       "      <th>947</th>\n",
       "      <td>3</td>\n",
       "      <td>948</td>\n",
       "      <td>microsemi qualiti investor sale contact parame...</td>\n",
       "      <td>storag</td>\n",
       "    </tr>\n",
       "    <tr>\n",
       "      <th>948</th>\n",
       "      <td>3</td>\n",
       "      <td>948</td>\n",
       "      <td>microsemi qualiti investor sale contact parame...</td>\n",
       "      <td>storag</td>\n",
       "    </tr>\n",
       "    <tr>\n",
       "      <th>949</th>\n",
       "      <td>3</td>\n",
       "      <td>948</td>\n",
       "      <td>microsemi qualiti investor sale contact parame...</td>\n",
       "      <td>storag</td>\n",
       "    </tr>\n",
       "    <tr>\n",
       "      <th>950</th>\n",
       "      <td>3</td>\n",
       "      <td>948</td>\n",
       "      <td>microsemi qualiti investor sale contact parame...</td>\n",
       "      <td>storag</td>\n",
       "    </tr>\n",
       "    <tr>\n",
       "      <th>951</th>\n",
       "      <td>3</td>\n",
       "      <td>948</td>\n",
       "      <td>microsemi qualiti investor sale contact parame...</td>\n",
       "      <td>storag</td>\n",
       "    </tr>\n",
       "  </tbody>\n",
       "</table>\n",
       "<p>951 rows × 4 columns</p>\n",
       "</div>"
      ],
      "text/plain": [
       "     num_link_words  num_content_words  \\\n",
       "0                 3                 53   \n",
       "1                 3                 82   \n",
       "2                 3                153   \n",
       "3                15                973   \n",
       "4                 3                 77   \n",
       "..              ...                ...   \n",
       "947               3                948   \n",
       "948               3                948   \n",
       "949               3                948   \n",
       "950               3                948   \n",
       "951               3                948   \n",
       "\n",
       "                                      transformed_text  \\\n",
       "0    illumin magnat moun freten tock 2804 ey 75109 ...   \n",
       "1    ef400 system ef407b die cast cylindr light uni...   \n",
       "2    adjust beam wall wash 12v 5221 vba alight ns s...   \n",
       "3    healthcar mon wa light hdmc surfac mount filte...   \n",
       "4    katrpb cylind pendant mount illumin integr dri...   \n",
       "..                                                 ...   \n",
       "947  microsemi qualiti investor sale contact parame...   \n",
       "948  microsemi qualiti investor sale contact parame...   \n",
       "949  microsemi qualiti investor sale contact parame...   \n",
       "950  microsemi qualiti investor sale contact parame...   \n",
       "951  microsemi qualiti investor sale contact parame...   \n",
       "\n",
       "                                transformed_link  \n",
       "0                                 file specsheet  \n",
       "1                                 file specsheet  \n",
       "2                                         storag  \n",
       "3    api product getasset 1626980 2f23 3a13 3a41  \n",
       "4                                 file specsheet  \n",
       "..                                           ...  \n",
       "947                                       storag  \n",
       "948                                       storag  \n",
       "949                                       storag  \n",
       "950                                       storag  \n",
       "951                                       storag  \n",
       "\n",
       "[951 rows x 4 columns]"
      ]
     },
     "execution_count": 21,
     "metadata": {},
     "output_type": "execute_result"
    }
   ],
   "source": [
    "X"
   ]
  },
  {
   "cell_type": "code",
   "execution_count": 22,
   "metadata": {},
   "outputs": [],
   "source": [
    "X_train, X_test, y_train, y_test = train_test_split(\n",
    "    X, y, test_size=0.2, random_state=42)"
   ]
  },
  {
   "cell_type": "code",
   "execution_count": 23,
   "metadata": {},
   "outputs": [
    {
     "data": {
      "text/html": [
       "<style>#sk-container-id-1 {color: black;background-color: white;}#sk-container-id-1 pre{padding: 0;}#sk-container-id-1 div.sk-toggleable {background-color: white;}#sk-container-id-1 label.sk-toggleable__label {cursor: pointer;display: block;width: 100%;margin-bottom: 0;padding: 0.3em;box-sizing: border-box;text-align: center;}#sk-container-id-1 label.sk-toggleable__label-arrow:before {content: \"▸\";float: left;margin-right: 0.25em;color: #696969;}#sk-container-id-1 label.sk-toggleable__label-arrow:hover:before {color: black;}#sk-container-id-1 div.sk-estimator:hover label.sk-toggleable__label-arrow:before {color: black;}#sk-container-id-1 div.sk-toggleable__content {max-height: 0;max-width: 0;overflow: hidden;text-align: left;background-color: #f0f8ff;}#sk-container-id-1 div.sk-toggleable__content pre {margin: 0.2em;color: black;border-radius: 0.25em;background-color: #f0f8ff;}#sk-container-id-1 input.sk-toggleable__control:checked~div.sk-toggleable__content {max-height: 200px;max-width: 100%;overflow: auto;}#sk-container-id-1 input.sk-toggleable__control:checked~label.sk-toggleable__label-arrow:before {content: \"▾\";}#sk-container-id-1 div.sk-estimator input.sk-toggleable__control:checked~label.sk-toggleable__label {background-color: #d4ebff;}#sk-container-id-1 div.sk-label input.sk-toggleable__control:checked~label.sk-toggleable__label {background-color: #d4ebff;}#sk-container-id-1 input.sk-hidden--visually {border: 0;clip: rect(1px 1px 1px 1px);clip: rect(1px, 1px, 1px, 1px);height: 1px;margin: -1px;overflow: hidden;padding: 0;position: absolute;width: 1px;}#sk-container-id-1 div.sk-estimator {font-family: monospace;background-color: #f0f8ff;border: 1px dotted black;border-radius: 0.25em;box-sizing: border-box;margin-bottom: 0.5em;}#sk-container-id-1 div.sk-estimator:hover {background-color: #d4ebff;}#sk-container-id-1 div.sk-parallel-item::after {content: \"\";width: 100%;border-bottom: 1px solid gray;flex-grow: 1;}#sk-container-id-1 div.sk-label:hover label.sk-toggleable__label {background-color: #d4ebff;}#sk-container-id-1 div.sk-serial::before {content: \"\";position: absolute;border-left: 1px solid gray;box-sizing: border-box;top: 0;bottom: 0;left: 50%;z-index: 0;}#sk-container-id-1 div.sk-serial {display: flex;flex-direction: column;align-items: center;background-color: white;padding-right: 0.2em;padding-left: 0.2em;position: relative;}#sk-container-id-1 div.sk-item {position: relative;z-index: 1;}#sk-container-id-1 div.sk-parallel {display: flex;align-items: stretch;justify-content: center;background-color: white;position: relative;}#sk-container-id-1 div.sk-item::before, #sk-container-id-1 div.sk-parallel-item::before {content: \"\";position: absolute;border-left: 1px solid gray;box-sizing: border-box;top: 0;bottom: 0;left: 50%;z-index: -1;}#sk-container-id-1 div.sk-parallel-item {display: flex;flex-direction: column;z-index: 1;position: relative;background-color: white;}#sk-container-id-1 div.sk-parallel-item:first-child::after {align-self: flex-end;width: 50%;}#sk-container-id-1 div.sk-parallel-item:last-child::after {align-self: flex-start;width: 50%;}#sk-container-id-1 div.sk-parallel-item:only-child::after {width: 0;}#sk-container-id-1 div.sk-dashed-wrapped {border: 1px dashed gray;margin: 0 0.4em 0.5em 0.4em;box-sizing: border-box;padding-bottom: 0.4em;background-color: white;}#sk-container-id-1 div.sk-label label {font-family: monospace;font-weight: bold;display: inline-block;line-height: 1.2em;}#sk-container-id-1 div.sk-label-container {text-align: center;}#sk-container-id-1 div.sk-container {/* jupyter's `normalize.less` sets `[hidden] { display: none; }` but bootstrap.min.css set `[hidden] { display: none !important; }` so we also need the `!important` here to be able to override the default hidden behavior on the sphinx rendered scikit-learn.org. See: https://github.com/scikit-learn/scikit-learn/issues/21755 */display: inline-block !important;position: relative;}#sk-container-id-1 div.sk-text-repr-fallback {display: none;}</style><div id=\"sk-container-id-1\" class=\"sk-top-container\"><div class=\"sk-text-repr-fallback\"><pre>Pipeline(steps=[(&#x27;preprocessor&#x27;,\n",
       "                 ColumnTransformer(transformers=[(&#x27;text&#x27;,\n",
       "                                                  ColumnTransformer(sparse_threshold=0,\n",
       "                                                                    transformers=[(&#x27;text&#x27;,\n",
       "                                                                                   TfidfVectorizer(),\n",
       "                                                                                   &#x27;transformed_text&#x27;),\n",
       "                                                                                  (&#x27;link&#x27;,\n",
       "                                                                                   TfidfVectorizer(),\n",
       "                                                                                   &#x27;transformed_link&#x27;)]),\n",
       "                                                  [&#x27;transformed_text&#x27;,\n",
       "                                                   &#x27;transformed_link&#x27;])])),\n",
       "                (&#x27;classifier&#x27;, RandomForestClassifier())])</pre><b>In a Jupyter environment, please rerun this cell to show the HTML representation or trust the notebook. <br />On GitHub, the HTML representation is unable to render, please try loading this page with nbviewer.org.</b></div><div class=\"sk-container\" hidden><div class=\"sk-item sk-dashed-wrapped\"><div class=\"sk-label-container\"><div class=\"sk-label sk-toggleable\"><input class=\"sk-toggleable__control sk-hidden--visually\" id=\"sk-estimator-id-1\" type=\"checkbox\" ><label for=\"sk-estimator-id-1\" class=\"sk-toggleable__label sk-toggleable__label-arrow\">Pipeline</label><div class=\"sk-toggleable__content\"><pre>Pipeline(steps=[(&#x27;preprocessor&#x27;,\n",
       "                 ColumnTransformer(transformers=[(&#x27;text&#x27;,\n",
       "                                                  ColumnTransformer(sparse_threshold=0,\n",
       "                                                                    transformers=[(&#x27;text&#x27;,\n",
       "                                                                                   TfidfVectorizer(),\n",
       "                                                                                   &#x27;transformed_text&#x27;),\n",
       "                                                                                  (&#x27;link&#x27;,\n",
       "                                                                                   TfidfVectorizer(),\n",
       "                                                                                   &#x27;transformed_link&#x27;)]),\n",
       "                                                  [&#x27;transformed_text&#x27;,\n",
       "                                                   &#x27;transformed_link&#x27;])])),\n",
       "                (&#x27;classifier&#x27;, RandomForestClassifier())])</pre></div></div></div><div class=\"sk-serial\"><div class=\"sk-item sk-dashed-wrapped\"><div class=\"sk-label-container\"><div class=\"sk-label sk-toggleable\"><input class=\"sk-toggleable__control sk-hidden--visually\" id=\"sk-estimator-id-2\" type=\"checkbox\" ><label for=\"sk-estimator-id-2\" class=\"sk-toggleable__label sk-toggleable__label-arrow\">preprocessor: ColumnTransformer</label><div class=\"sk-toggleable__content\"><pre>ColumnTransformer(transformers=[(&#x27;text&#x27;,\n",
       "                                 ColumnTransformer(sparse_threshold=0,\n",
       "                                                   transformers=[(&#x27;text&#x27;,\n",
       "                                                                  TfidfVectorizer(),\n",
       "                                                                  &#x27;transformed_text&#x27;),\n",
       "                                                                 (&#x27;link&#x27;,\n",
       "                                                                  TfidfVectorizer(),\n",
       "                                                                  &#x27;transformed_link&#x27;)]),\n",
       "                                 [&#x27;transformed_text&#x27;, &#x27;transformed_link&#x27;])])</pre></div></div></div><div class=\"sk-parallel\"><div class=\"sk-parallel-item\"><div class=\"sk-item\"><div class=\"sk-label-container\"><div class=\"sk-label sk-toggleable\"><input class=\"sk-toggleable__control sk-hidden--visually\" id=\"sk-estimator-id-3\" type=\"checkbox\" ><label for=\"sk-estimator-id-3\" class=\"sk-toggleable__label sk-toggleable__label-arrow\">text</label><div class=\"sk-toggleable__content\"><pre>[&#x27;transformed_text&#x27;, &#x27;transformed_link&#x27;]</pre></div></div></div><div class=\"sk-serial\"><div class=\"sk-item sk-dashed-wrapped\"><div class=\"sk-parallel\"><div class=\"sk-parallel-item\"><div class=\"sk-item\"><div class=\"sk-label-container\"><div class=\"sk-label sk-toggleable\"><input class=\"sk-toggleable__control sk-hidden--visually\" id=\"sk-estimator-id-4\" type=\"checkbox\" ><label for=\"sk-estimator-id-4\" class=\"sk-toggleable__label sk-toggleable__label-arrow\">text</label><div class=\"sk-toggleable__content\"><pre>transformed_text</pre></div></div></div><div class=\"sk-serial\"><div class=\"sk-item\"><div class=\"sk-estimator sk-toggleable\"><input class=\"sk-toggleable__control sk-hidden--visually\" id=\"sk-estimator-id-5\" type=\"checkbox\" ><label for=\"sk-estimator-id-5\" class=\"sk-toggleable__label sk-toggleable__label-arrow\">TfidfVectorizer</label><div class=\"sk-toggleable__content\"><pre>TfidfVectorizer()</pre></div></div></div></div></div></div><div class=\"sk-parallel-item\"><div class=\"sk-item\"><div class=\"sk-label-container\"><div class=\"sk-label sk-toggleable\"><input class=\"sk-toggleable__control sk-hidden--visually\" id=\"sk-estimator-id-6\" type=\"checkbox\" ><label for=\"sk-estimator-id-6\" class=\"sk-toggleable__label sk-toggleable__label-arrow\">link</label><div class=\"sk-toggleable__content\"><pre>transformed_link</pre></div></div></div><div class=\"sk-serial\"><div class=\"sk-item\"><div class=\"sk-estimator sk-toggleable\"><input class=\"sk-toggleable__control sk-hidden--visually\" id=\"sk-estimator-id-7\" type=\"checkbox\" ><label for=\"sk-estimator-id-7\" class=\"sk-toggleable__label sk-toggleable__label-arrow\">TfidfVectorizer</label><div class=\"sk-toggleable__content\"><pre>TfidfVectorizer()</pre></div></div></div></div></div></div></div></div></div></div></div></div></div><div class=\"sk-item\"><div class=\"sk-estimator sk-toggleable\"><input class=\"sk-toggleable__control sk-hidden--visually\" id=\"sk-estimator-id-8\" type=\"checkbox\" ><label for=\"sk-estimator-id-8\" class=\"sk-toggleable__label sk-toggleable__label-arrow\">RandomForestClassifier</label><div class=\"sk-toggleable__content\"><pre>RandomForestClassifier()</pre></div></div></div></div></div></div></div>"
      ],
      "text/plain": [
       "Pipeline(steps=[('preprocessor',\n",
       "                 ColumnTransformer(transformers=[('text',\n",
       "                                                  ColumnTransformer(sparse_threshold=0,\n",
       "                                                                    transformers=[('text',\n",
       "                                                                                   TfidfVectorizer(),\n",
       "                                                                                   'transformed_text'),\n",
       "                                                                                  ('link',\n",
       "                                                                                   TfidfVectorizer(),\n",
       "                                                                                   'transformed_link')]),\n",
       "                                                  ['transformed_text',\n",
       "                                                   'transformed_link'])])),\n",
       "                ('classifier', RandomForestClassifier())])"
      ]
     },
     "execution_count": 23,
     "metadata": {},
     "output_type": "execute_result"
    }
   ],
   "source": [
    "pipeline.fit(X_train, y_train)"
   ]
  },
  {
   "cell_type": "code",
   "execution_count": 24,
   "metadata": {},
   "outputs": [],
   "source": [
    "y_pred_rf_pipe = pipeline.predict(X_test)"
   ]
  },
  {
   "cell_type": "code",
   "execution_count": 25,
   "metadata": {},
   "outputs": [
    {
     "data": {
      "text/html": [
       "<style>#sk-container-id-2 {color: black;background-color: white;}#sk-container-id-2 pre{padding: 0;}#sk-container-id-2 div.sk-toggleable {background-color: white;}#sk-container-id-2 label.sk-toggleable__label {cursor: pointer;display: block;width: 100%;margin-bottom: 0;padding: 0.3em;box-sizing: border-box;text-align: center;}#sk-container-id-2 label.sk-toggleable__label-arrow:before {content: \"▸\";float: left;margin-right: 0.25em;color: #696969;}#sk-container-id-2 label.sk-toggleable__label-arrow:hover:before {color: black;}#sk-container-id-2 div.sk-estimator:hover label.sk-toggleable__label-arrow:before {color: black;}#sk-container-id-2 div.sk-toggleable__content {max-height: 0;max-width: 0;overflow: hidden;text-align: left;background-color: #f0f8ff;}#sk-container-id-2 div.sk-toggleable__content pre {margin: 0.2em;color: black;border-radius: 0.25em;background-color: #f0f8ff;}#sk-container-id-2 input.sk-toggleable__control:checked~div.sk-toggleable__content {max-height: 200px;max-width: 100%;overflow: auto;}#sk-container-id-2 input.sk-toggleable__control:checked~label.sk-toggleable__label-arrow:before {content: \"▾\";}#sk-container-id-2 div.sk-estimator input.sk-toggleable__control:checked~label.sk-toggleable__label {background-color: #d4ebff;}#sk-container-id-2 div.sk-label input.sk-toggleable__control:checked~label.sk-toggleable__label {background-color: #d4ebff;}#sk-container-id-2 input.sk-hidden--visually {border: 0;clip: rect(1px 1px 1px 1px);clip: rect(1px, 1px, 1px, 1px);height: 1px;margin: -1px;overflow: hidden;padding: 0;position: absolute;width: 1px;}#sk-container-id-2 div.sk-estimator {font-family: monospace;background-color: #f0f8ff;border: 1px dotted black;border-radius: 0.25em;box-sizing: border-box;margin-bottom: 0.5em;}#sk-container-id-2 div.sk-estimator:hover {background-color: #d4ebff;}#sk-container-id-2 div.sk-parallel-item::after {content: \"\";width: 100%;border-bottom: 1px solid gray;flex-grow: 1;}#sk-container-id-2 div.sk-label:hover label.sk-toggleable__label {background-color: #d4ebff;}#sk-container-id-2 div.sk-serial::before {content: \"\";position: absolute;border-left: 1px solid gray;box-sizing: border-box;top: 0;bottom: 0;left: 50%;z-index: 0;}#sk-container-id-2 div.sk-serial {display: flex;flex-direction: column;align-items: center;background-color: white;padding-right: 0.2em;padding-left: 0.2em;position: relative;}#sk-container-id-2 div.sk-item {position: relative;z-index: 1;}#sk-container-id-2 div.sk-parallel {display: flex;align-items: stretch;justify-content: center;background-color: white;position: relative;}#sk-container-id-2 div.sk-item::before, #sk-container-id-2 div.sk-parallel-item::before {content: \"\";position: absolute;border-left: 1px solid gray;box-sizing: border-box;top: 0;bottom: 0;left: 50%;z-index: -1;}#sk-container-id-2 div.sk-parallel-item {display: flex;flex-direction: column;z-index: 1;position: relative;background-color: white;}#sk-container-id-2 div.sk-parallel-item:first-child::after {align-self: flex-end;width: 50%;}#sk-container-id-2 div.sk-parallel-item:last-child::after {align-self: flex-start;width: 50%;}#sk-container-id-2 div.sk-parallel-item:only-child::after {width: 0;}#sk-container-id-2 div.sk-dashed-wrapped {border: 1px dashed gray;margin: 0 0.4em 0.5em 0.4em;box-sizing: border-box;padding-bottom: 0.4em;background-color: white;}#sk-container-id-2 div.sk-label label {font-family: monospace;font-weight: bold;display: inline-block;line-height: 1.2em;}#sk-container-id-2 div.sk-label-container {text-align: center;}#sk-container-id-2 div.sk-container {/* jupyter's `normalize.less` sets `[hidden] { display: none; }` but bootstrap.min.css set `[hidden] { display: none !important; }` so we also need the `!important` here to be able to override the default hidden behavior on the sphinx rendered scikit-learn.org. See: https://github.com/scikit-learn/scikit-learn/issues/21755 */display: inline-block !important;position: relative;}#sk-container-id-2 div.sk-text-repr-fallback {display: none;}</style><div id=\"sk-container-id-2\" class=\"sk-top-container\"><div class=\"sk-text-repr-fallback\"><pre>GridSearchCV(cv=10,\n",
       "             estimator=Pipeline(steps=[(&#x27;preprocessor&#x27;,\n",
       "                                        ColumnTransformer(transformers=[(&#x27;text&#x27;,\n",
       "                                                                         ColumnTransformer(sparse_threshold=0,\n",
       "                                                                                           transformers=[(&#x27;text&#x27;,\n",
       "                                                                                                          TfidfVectorizer(),\n",
       "                                                                                                          &#x27;transformed_text&#x27;),\n",
       "                                                                                                         (&#x27;link&#x27;,\n",
       "                                                                                                          TfidfVectorizer(),\n",
       "                                                                                                          &#x27;transformed_link&#x27;)]),\n",
       "                                                                         [&#x27;transformed_text&#x27;,\n",
       "                                                                          &#x27;transformed_link&#x27;])])),\n",
       "                                       (&#x27;classifier&#x27;,\n",
       "                                        RandomForestClassifier())]),\n",
       "             n_jobs=-1,\n",
       "             param_gr...r__max_depth&#x27;: [None, 10, 20],\n",
       "                         &#x27;classifier__min_samples_split&#x27;: [2, 5, 10],\n",
       "                         &#x27;classifier__n_estimators&#x27;: [50, 100, 200],\n",
       "                         &#x27;preprocessor__text__link__max_features&#x27;: [None, 500,\n",
       "                                                                    1000],\n",
       "                         &#x27;preprocessor__text__link__ngram_range&#x27;: [(1, 1),\n",
       "                                                                   (1, 2)],\n",
       "                         &#x27;preprocessor__text__text__max_features&#x27;: [None, 500,\n",
       "                                                                    1000],\n",
       "                         &#x27;preprocessor__text__text__ngram_range&#x27;: [(1, 1),\n",
       "                                                                   (1, 2)]},\n",
       "             scoring=&#x27;accuracy&#x27;)</pre><b>In a Jupyter environment, please rerun this cell to show the HTML representation or trust the notebook. <br />On GitHub, the HTML representation is unable to render, please try loading this page with nbviewer.org.</b></div><div class=\"sk-container\" hidden><div class=\"sk-item sk-dashed-wrapped\"><div class=\"sk-label-container\"><div class=\"sk-label sk-toggleable\"><input class=\"sk-toggleable__control sk-hidden--visually\" id=\"sk-estimator-id-9\" type=\"checkbox\" ><label for=\"sk-estimator-id-9\" class=\"sk-toggleable__label sk-toggleable__label-arrow\">GridSearchCV</label><div class=\"sk-toggleable__content\"><pre>GridSearchCV(cv=10,\n",
       "             estimator=Pipeline(steps=[(&#x27;preprocessor&#x27;,\n",
       "                                        ColumnTransformer(transformers=[(&#x27;text&#x27;,\n",
       "                                                                         ColumnTransformer(sparse_threshold=0,\n",
       "                                                                                           transformers=[(&#x27;text&#x27;,\n",
       "                                                                                                          TfidfVectorizer(),\n",
       "                                                                                                          &#x27;transformed_text&#x27;),\n",
       "                                                                                                         (&#x27;link&#x27;,\n",
       "                                                                                                          TfidfVectorizer(),\n",
       "                                                                                                          &#x27;transformed_link&#x27;)]),\n",
       "                                                                         [&#x27;transformed_text&#x27;,\n",
       "                                                                          &#x27;transformed_link&#x27;])])),\n",
       "                                       (&#x27;classifier&#x27;,\n",
       "                                        RandomForestClassifier())]),\n",
       "             n_jobs=-1,\n",
       "             param_gr...r__max_depth&#x27;: [None, 10, 20],\n",
       "                         &#x27;classifier__min_samples_split&#x27;: [2, 5, 10],\n",
       "                         &#x27;classifier__n_estimators&#x27;: [50, 100, 200],\n",
       "                         &#x27;preprocessor__text__link__max_features&#x27;: [None, 500,\n",
       "                                                                    1000],\n",
       "                         &#x27;preprocessor__text__link__ngram_range&#x27;: [(1, 1),\n",
       "                                                                   (1, 2)],\n",
       "                         &#x27;preprocessor__text__text__max_features&#x27;: [None, 500,\n",
       "                                                                    1000],\n",
       "                         &#x27;preprocessor__text__text__ngram_range&#x27;: [(1, 1),\n",
       "                                                                   (1, 2)]},\n",
       "             scoring=&#x27;accuracy&#x27;)</pre></div></div></div><div class=\"sk-parallel\"><div class=\"sk-parallel-item\"><div class=\"sk-item\"><div class=\"sk-label-container\"><div class=\"sk-label sk-toggleable\"><input class=\"sk-toggleable__control sk-hidden--visually\" id=\"sk-estimator-id-10\" type=\"checkbox\" ><label for=\"sk-estimator-id-10\" class=\"sk-toggleable__label sk-toggleable__label-arrow\">estimator: Pipeline</label><div class=\"sk-toggleable__content\"><pre>Pipeline(steps=[(&#x27;preprocessor&#x27;,\n",
       "                 ColumnTransformer(transformers=[(&#x27;text&#x27;,\n",
       "                                                  ColumnTransformer(sparse_threshold=0,\n",
       "                                                                    transformers=[(&#x27;text&#x27;,\n",
       "                                                                                   TfidfVectorizer(),\n",
       "                                                                                   &#x27;transformed_text&#x27;),\n",
       "                                                                                  (&#x27;link&#x27;,\n",
       "                                                                                   TfidfVectorizer(),\n",
       "                                                                                   &#x27;transformed_link&#x27;)]),\n",
       "                                                  [&#x27;transformed_text&#x27;,\n",
       "                                                   &#x27;transformed_link&#x27;])])),\n",
       "                (&#x27;classifier&#x27;, RandomForestClassifier())])</pre></div></div></div><div class=\"sk-serial\"><div class=\"sk-item\"><div class=\"sk-serial\"><div class=\"sk-item sk-dashed-wrapped\"><div class=\"sk-label-container\"><div class=\"sk-label sk-toggleable\"><input class=\"sk-toggleable__control sk-hidden--visually\" id=\"sk-estimator-id-11\" type=\"checkbox\" ><label for=\"sk-estimator-id-11\" class=\"sk-toggleable__label sk-toggleable__label-arrow\">preprocessor: ColumnTransformer</label><div class=\"sk-toggleable__content\"><pre>ColumnTransformer(transformers=[(&#x27;text&#x27;,\n",
       "                                 ColumnTransformer(sparse_threshold=0,\n",
       "                                                   transformers=[(&#x27;text&#x27;,\n",
       "                                                                  TfidfVectorizer(),\n",
       "                                                                  &#x27;transformed_text&#x27;),\n",
       "                                                                 (&#x27;link&#x27;,\n",
       "                                                                  TfidfVectorizer(),\n",
       "                                                                  &#x27;transformed_link&#x27;)]),\n",
       "                                 [&#x27;transformed_text&#x27;, &#x27;transformed_link&#x27;])])</pre></div></div></div><div class=\"sk-parallel\"><div class=\"sk-parallel-item\"><div class=\"sk-item\"><div class=\"sk-label-container\"><div class=\"sk-label sk-toggleable\"><input class=\"sk-toggleable__control sk-hidden--visually\" id=\"sk-estimator-id-12\" type=\"checkbox\" ><label for=\"sk-estimator-id-12\" class=\"sk-toggleable__label sk-toggleable__label-arrow\">text</label><div class=\"sk-toggleable__content\"><pre>[&#x27;transformed_text&#x27;, &#x27;transformed_link&#x27;]</pre></div></div></div><div class=\"sk-serial\"><div class=\"sk-item sk-dashed-wrapped\"><div class=\"sk-parallel\"><div class=\"sk-parallel-item\"><div class=\"sk-item\"><div class=\"sk-label-container\"><div class=\"sk-label sk-toggleable\"><input class=\"sk-toggleable__control sk-hidden--visually\" id=\"sk-estimator-id-13\" type=\"checkbox\" ><label for=\"sk-estimator-id-13\" class=\"sk-toggleable__label sk-toggleable__label-arrow\">text</label><div class=\"sk-toggleable__content\"><pre>transformed_text</pre></div></div></div><div class=\"sk-serial\"><div class=\"sk-item\"><div class=\"sk-estimator sk-toggleable\"><input class=\"sk-toggleable__control sk-hidden--visually\" id=\"sk-estimator-id-14\" type=\"checkbox\" ><label for=\"sk-estimator-id-14\" class=\"sk-toggleable__label sk-toggleable__label-arrow\">TfidfVectorizer</label><div class=\"sk-toggleable__content\"><pre>TfidfVectorizer()</pre></div></div></div></div></div></div><div class=\"sk-parallel-item\"><div class=\"sk-item\"><div class=\"sk-label-container\"><div class=\"sk-label sk-toggleable\"><input class=\"sk-toggleable__control sk-hidden--visually\" id=\"sk-estimator-id-15\" type=\"checkbox\" ><label for=\"sk-estimator-id-15\" class=\"sk-toggleable__label sk-toggleable__label-arrow\">link</label><div class=\"sk-toggleable__content\"><pre>transformed_link</pre></div></div></div><div class=\"sk-serial\"><div class=\"sk-item\"><div class=\"sk-estimator sk-toggleable\"><input class=\"sk-toggleable__control sk-hidden--visually\" id=\"sk-estimator-id-16\" type=\"checkbox\" ><label for=\"sk-estimator-id-16\" class=\"sk-toggleable__label sk-toggleable__label-arrow\">TfidfVectorizer</label><div class=\"sk-toggleable__content\"><pre>TfidfVectorizer()</pre></div></div></div></div></div></div></div></div></div></div></div></div></div><div class=\"sk-item\"><div class=\"sk-estimator sk-toggleable\"><input class=\"sk-toggleable__control sk-hidden--visually\" id=\"sk-estimator-id-17\" type=\"checkbox\" ><label for=\"sk-estimator-id-17\" class=\"sk-toggleable__label sk-toggleable__label-arrow\">RandomForestClassifier</label><div class=\"sk-toggleable__content\"><pre>RandomForestClassifier()</pre></div></div></div></div></div></div></div></div></div></div></div></div>"
      ],
      "text/plain": [
       "GridSearchCV(cv=10,\n",
       "             estimator=Pipeline(steps=[('preprocessor',\n",
       "                                        ColumnTransformer(transformers=[('text',\n",
       "                                                                         ColumnTransformer(sparse_threshold=0,\n",
       "                                                                                           transformers=[('text',\n",
       "                                                                                                          TfidfVectorizer(),\n",
       "                                                                                                          'transformed_text'),\n",
       "                                                                                                         ('link',\n",
       "                                                                                                          TfidfVectorizer(),\n",
       "                                                                                                          'transformed_link')]),\n",
       "                                                                         ['transformed_text',\n",
       "                                                                          'transformed_link'])])),\n",
       "                                       ('classifier',\n",
       "                                        RandomForestClassifier())]),\n",
       "             n_jobs=-1,\n",
       "             param_gr...r__max_depth': [None, 10, 20],\n",
       "                         'classifier__min_samples_split': [2, 5, 10],\n",
       "                         'classifier__n_estimators': [50, 100, 200],\n",
       "                         'preprocessor__text__link__max_features': [None, 500,\n",
       "                                                                    1000],\n",
       "                         'preprocessor__text__link__ngram_range': [(1, 1),\n",
       "                                                                   (1, 2)],\n",
       "                         'preprocessor__text__text__max_features': [None, 500,\n",
       "                                                                    1000],\n",
       "                         'preprocessor__text__text__ngram_range': [(1, 1),\n",
       "                                                                   (1, 2)]},\n",
       "             scoring='accuracy')"
      ]
     },
     "execution_count": 25,
     "metadata": {},
     "output_type": "execute_result"
    }
   ],
   "source": [
    "from sklearn.model_selection import GridSearchCV\n",
    "# Creating parameter dictionary for hyperparameter tuning\n",
    "\n",
    "param_grid = {\n",
    "    # Unigrams and bigrams\n",
    "    'preprocessor__text__text__ngram_range': [(1, 1), (1, 2)],\n",
    "    'preprocessor__text__link__ngram_range': [(1, 1), (1, 2)],\n",
    "    # Maximum number of features\n",
    "    'preprocessor__text__text__max_features': [None, 500, 1000],\n",
    "    'preprocessor__text__link__max_features': [None, 500, 1000],\n",
    "    'classifier__n_estimators': [50, 100, 200],\n",
    "    'classifier__max_depth': [None, 10, 20],\n",
    "    'classifier__min_samples_split': [2, 5, 10]\n",
    "}\n",
    "\n",
    "# Performing cross validation and hyperparameter tuning\n",
    "grid_search = GridSearchCV(estimator=pipeline,\n",
    "                           param_grid=param_grid,\n",
    "                           scoring='accuracy',\n",
    "                           cv=10,\n",
    "                           n_jobs=-1)\n",
    "\n",
    "# Fitting the model on the train dataset\n",
    "grid_search.fit(X_train, y_train)"
   ]
  },
  {
   "cell_type": "code",
   "execution_count": 27,
   "metadata": {},
   "outputs": [],
   "source": [
    "# Making prediction on our train and test dataset\n",
    "rf_grid_pred_train = grid_search.predict(X_train)\n",
    "rf_grid_pred_test = grid_search.predict(X_test)"
   ]
  },
  {
   "cell_type": "code",
   "execution_count": 29,
   "metadata": {},
   "outputs": [
    {
     "name": "stdout",
     "output_type": "stream",
     "text": [
      "Best hyperparameter for the random forest Model are: {'classifier__max_depth': None, 'classifier__min_samples_split': 2, 'classifier__n_estimators': 100, 'preprocessor__text__link__max_features': 500, 'preprocessor__text__link__ngram_range': (1, 2), 'preprocessor__text__text__max_features': 500, 'preprocessor__text__text__ngram_range': (1, 2)}\n",
      "Best Accuracy: 98.42 %\n",
      "Training accuracy Score   :  1.0\n",
      "Test accuracy Score :  0.9947643979057592\n",
      "\n",
      " Naive Bayes model Grid Model-Classification Report for train dataset \n",
      "\n",
      "              precision    recall  f1-score   support\n",
      "\n",
      "           0       1.00      1.00      1.00       182\n",
      "           1       1.00      1.00      1.00        94\n",
      "           2       1.00      1.00      1.00       364\n",
      "           3       1.00      1.00      1.00       120\n",
      "\n",
      "    accuracy                           1.00       760\n",
      "   macro avg       1.00      1.00      1.00       760\n",
      "weighted avg       1.00      1.00      1.00       760\n",
      "\n",
      "Naive Bayes Grid Model-Classification Report for test dataset \n",
      "\n",
      "              precision    recall  f1-score   support\n",
      "\n",
      "           0       1.00      1.00      1.00        44\n",
      "           1       1.00      1.00      1.00        31\n",
      "           2       1.00      0.99      0.99        82\n",
      "           3       0.97      1.00      0.99        34\n",
      "\n",
      "    accuracy                           0.99       191\n",
      "   macro avg       0.99      1.00      0.99       191\n",
      "weighted avg       0.99      0.99      0.99       191\n",
      "\n"
     ]
    }
   ],
   "source": [
    "# Storing train and test accuracy scores\n",
    "rf_grid_train_accuracy = accuracy_score(y_train, rf_grid_pred_train)\n",
    "rf_grid_test_accuracy = accuracy_score(y_test, rf_grid_pred_test)\n",
    "\n",
    "\n",
    "# Obtaining best parameters\n",
    "best_parameters = grid_search.best_params_\n",
    "print(\"Best hyperparameter for the random forest Model are:\", best_parameters)\n",
    "best_accuracy = grid_search.best_score_\n",
    "print(\"Best Accuracy: {:.2f} %\".format(best_accuracy*100))\n",
    "\n",
    "\n",
    "# printing train and test accuracy scores\n",
    "print(\"Training accuracy Score   : \", grid_search.score(X_train, y_train))\n",
    "print(\"Test accuracy Score : \", nb_grid_test_accuracy)\n",
    "\n",
    "\n",
    "# printing classification report for the performance of train and test set\n",
    "print(\"\\n\", \"Naive Bayes model Grid Model-Classification Report for train dataset\", \"\\n\")\n",
    "print(classification_report(rf_grid_pred_train, y_train))\n",
    "print(\"Naive Bayes Grid Model-Classification Report for test dataset\", \"\\n\")\n",
    "print(classification_report(rf_grid_pred_test, y_test))"
   ]
  },
  {
   "cell_type": "code",
   "execution_count": 30,
   "metadata": {},
   "outputs": [],
   "source": [
    "# save model\n",
    "# Save the model to a file\n",
    "import pickle\n",
    "with open('pipeline.pkl', 'wb') as f:\n",
    "    pickle.dump(grid_search.best_estimator_, f)\n",
    "\n",
    "# Load the model from a file\n",
    "with open('pipeline.pkl', 'rb') as f:\n",
    "    model = pickle.load(f)"
   ]
  },
  {
   "cell_type": "code",
   "execution_count": 49,
   "metadata": {},
   "outputs": [],
   "source": [
    "single_record = X_test.head(1)"
   ]
  },
  {
   "cell_type": "code",
   "execution_count": 50,
   "metadata": {},
   "outputs": [
    {
     "data": {
      "text/html": [
       "<div>\n",
       "<style scoped>\n",
       "    .dataframe tbody tr th:only-of-type {\n",
       "        vertical-align: middle;\n",
       "    }\n",
       "\n",
       "    .dataframe tbody tr th {\n",
       "        vertical-align: top;\n",
       "    }\n",
       "\n",
       "    .dataframe thead th {\n",
       "        text-align: right;\n",
       "    }\n",
       "</style>\n",
       "<table border=\"1\" class=\"dataframe\">\n",
       "  <thead>\n",
       "    <tr style=\"text-align: right;\">\n",
       "      <th></th>\n",
       "      <th>num_link_words</th>\n",
       "      <th>num_content_words</th>\n",
       "      <th>transformed_text</th>\n",
       "      <th>transformed_link</th>\n",
       "    </tr>\n",
       "  </thead>\n",
       "  <tbody>\n",
       "    <tr>\n",
       "      <th>199</th>\n",
       "      <td>3</td>\n",
       "      <td>494</td>\n",
       "      <td>columbia trentin featur r8o 8 control technolo...</td>\n",
       "      <td>site specsheet</td>\n",
       "    </tr>\n",
       "  </tbody>\n",
       "</table>\n",
       "</div>"
      ],
      "text/plain": [
       "     num_link_words  num_content_words  \\\n",
       "199               3                494   \n",
       "\n",
       "                                      transformed_text transformed_link  \n",
       "199  columbia trentin featur r8o 8 control technolo...   site specsheet  "
      ]
     },
     "execution_count": 50,
     "metadata": {},
     "output_type": "execute_result"
    }
   ],
   "source": [
    "single_record"
   ]
  },
  {
   "cell_type": "code",
   "execution_count": 60,
   "metadata": {},
   "outputs": [],
   "source": [
    "single_row = model.named_steps['preprocessor'].transform(single_record)"
   ]
  },
  {
   "cell_type": "code",
   "execution_count": 61,
   "metadata": {},
   "outputs": [],
   "source": [
    "res = model.named_steps['classifier'].predict(single_row)"
   ]
  },
  {
   "cell_type": "code",
   "execution_count": 62,
   "metadata": {},
   "outputs": [
    {
     "data": {
      "text/plain": [
       "2"
      ]
     },
     "execution_count": 62,
     "metadata": {},
     "output_type": "execute_result"
    }
   ],
   "source": [
    "res[0]"
   ]
  },
  {
   "cell_type": "code",
   "execution_count": 54,
   "metadata": {},
   "outputs": [
    {
     "data": {
      "text/plain": [
       "2"
      ]
     },
     "execution_count": 54,
     "metadata": {},
     "output_type": "execute_result"
    }
   ],
   "source": [
    "y_test[199]"
   ]
  },
  {
   "cell_type": "code",
   "execution_count": 55,
   "metadata": {},
   "outputs": [
    {
     "data": {
      "text/plain": [
       "array(['lighting'], dtype=object)"
      ]
     },
     "execution_count": 55,
     "metadata": {},
     "output_type": "execute_result"
    }
   ],
   "source": [
    "enc.inverse_transform(res)"
   ]
  },
  {
   "cell_type": "code",
   "execution_count": 56,
   "metadata": {},
   "outputs": [],
   "source": [
    "with open('label_encoder.pkl', 'wb') as file:\n",
    "    pickle.dump(enc, file)"
   ]
  },
  {
   "cell_type": "code",
   "execution_count": 57,
   "metadata": {},
   "outputs": [],
   "source": [
    "with open('label_encoder.pkl', 'rb') as file:\n",
    "    label_encoder = pickle.load(file)"
   ]
  },
  {
   "cell_type": "code",
   "execution_count": 59,
   "metadata": {},
   "outputs": [
    {
     "data": {
      "text/plain": [
       "array(['cable', 'fuses', 'lighting', 'others'], dtype=object)"
      ]
     },
     "execution_count": 59,
     "metadata": {},
     "output_type": "execute_result"
    }
   ],
   "source": [
    "label_encoder.classes_"
   ]
  },
  {
   "cell_type": "code",
   "execution_count": 64,
   "metadata": {},
   "outputs": [
    {
     "data": {
      "text/plain": [
       "'lighting'"
      ]
     },
     "execution_count": 64,
     "metadata": {},
     "output_type": "execute_result"
    }
   ],
   "source": [
    "label_encoder.inverse_transform(res)[0]"
   ]
  },
  {
   "cell_type": "code",
   "execution_count": 177,
   "metadata": {},
   "outputs": [],
   "source": [
    "# import pickle\n",
    "# pickle.dump(tfidf, open('vectorizer.pkl', 'wb'))\n",
    "# pickle.dump(nb_classifier, open('model.pkl', 'wb'))"
   ]
  },
  {
   "cell_type": "code",
   "execution_count": 178,
   "metadata": {},
   "outputs": [],
   "source": [
    "# with open('model.pkl', 'rb') as file:\n",
    "#     model = pickle.load(file)"
   ]
  },
  {
   "cell_type": "code",
   "execution_count": null,
   "metadata": {},
   "outputs": [],
   "source": []
  }
 ],
 "metadata": {
  "kernelspec": {
   "display_name": "base",
   "language": "python",
   "name": "python3"
  },
  "language_info": {
   "codemirror_mode": {
    "name": "ipython",
    "version": 3
   },
   "file_extension": ".py",
   "mimetype": "text/x-python",
   "name": "python",
   "nbconvert_exporter": "python",
   "pygments_lexer": "ipython3",
   "version": "3.10.9"
  },
  "orig_nbformat": 4
 },
 "nbformat": 4,
 "nbformat_minor": 2
}
